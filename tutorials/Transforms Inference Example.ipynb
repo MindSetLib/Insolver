{
 "cells": [
  {
   "cell_type": "code",
   "execution_count": 1,
   "metadata": {},
   "outputs": [],
   "source": [
    "import pickle\n",
    "import numpy as np\n",
    "import pandas as pd"
   ]
  },
  {
   "cell_type": "code",
   "execution_count": 2,
   "metadata": {},
   "outputs": [],
   "source": [
    "from insolver import InsolverDataFrame\n",
    "from insolver.transforms import InsolverTransform, load_transforms\n",
    "from insolver.wrappers import InsolverGLMWrapper"
   ]
  },
  {
   "cell_type": "markdown",
   "metadata": {},
   "source": [
    "In this notebook we need a file that contains transformations. So that we may need to execute \"Insolver_DataFrame_&_Transforms.ipynb\" beforehand."
   ]
  },
  {
   "cell_type": "code",
   "execution_count": 3,
   "metadata": {},
   "outputs": [],
   "source": [
    "# !jupyter nbconvert --execute --clear-output \"InsolverDataFrame and InsolverTransform Example.ipynb\""
   ]
  },
  {
   "cell_type": "code",
   "execution_count": 4,
   "metadata": {},
   "outputs": [],
   "source": [
    "# Load transformations\n",
    "\n",
    "transforms = load_transforms('transforms_freMPL-R.pickle')"
   ]
  },
  {
   "cell_type": "code",
   "execution_count": 5,
   "metadata": {},
   "outputs": [],
   "source": [
    "request = {\n",
    "    'df': {\n",
    "        'Exposure': 0.666,\n",
    "        'LicAge': 284,\n",
    "        'RecordBeg': '2004-01-01',\n",
    "        'RecordEnd': '2004-09-01',\n",
    "        'VehAge': '6-7',\n",
    "        'Gender': 'Female',\n",
    "        'MariStat': 'Other',\n",
    "        'SocioCateg': 'CSP50',\n",
    "        'VehUsage': 'Private',\n",
    "        'DrivAge': 43,\n",
    "        'HasKmLimit': 0,\n",
    "        'BonusMalus': 51,\n",
    "        'VehBody': 'sedan',\n",
    "        'VehPrice': 'P ',\n",
    "        'VehEngine': 'injection overpowered',\n",
    "        'VehEnergy': 'regular',\n",
    "        'VehMaxSpeed': '200-220 km/h',\n",
    "        'VehClass': 'H',\n",
    "        'ClaimAmount': 0.0,\n",
    "        'RiskVar': 16.0,\n",
    "        'Garage': 'None',\n",
    "        'ClaimInd': 0,\n",
    "        'Dataset': 2,\n",
    "        'DeducType': None,\n",
    "        'ClaimNbResp': np.nan,\n",
    "        'ClaimNbNonResp': np.nan,\n",
    "        'ClaimNbParking': np.nan,\n",
    "        'ClaimNbFireTheft': np.nan,\n",
    "        'ClaimNbWindscreen': np.nan,\n",
    "        'OutUseNb': np.nan,\n",
    "        'RiskArea': np.nan,\n",
    "    }\n",
    "}"
   ]
  },
  {
   "cell_type": "code",
   "execution_count": 6,
   "metadata": {},
   "outputs": [],
   "source": [
    "df = pd.DataFrame(request['df'], index=[0])"
   ]
  },
  {
   "cell_type": "code",
   "execution_count": 7,
   "metadata": {},
   "outputs": [],
   "source": [
    "df_transform = InsolverTransform(df, transforms)"
   ]
  },
  {
   "cell_type": "code",
   "execution_count": 8,
   "metadata": {},
   "outputs": [
    {
     "name": "stderr",
     "output_type": "stream",
     "text": [
      "TransformsWarning: 'Check the order of transforms. Transforms with higher priority should be done first!'\n",
      "TransformsWarning: \"Output data missing columns ['SocioCateg_CSP3', 'SocioCateg_CSP4', 'SocioCateg_CSP2', 'SocioCateg_CSP9', 'SocioCateg_CSP6', 'SocioCateg_CSP8', 'SocioCateg_CSP1', 'SocioCateg_CSP7']!\"\n"
     ]
    },
    {
     "data": {
      "text/plain": [
       "{0: {'name': 'TransformPolynomizer',\n",
       "  'attributes': {'column_param': 'DrivAge', 'n': 2, 'priority': 3}},\n",
       " 1: {'name': 'TransformAge',\n",
       "  'attributes': {'age_max': 75,\n",
       "   'age_min': 18,\n",
       "   'column_driver_minage': 'DrivAge',\n",
       "   'priority': 1}},\n",
       " 2: {'name': 'TransformExp',\n",
       "  'attributes': {'column_driver_minexp': 'LicAge',\n",
       "   'exp_max': 57,\n",
       "   'priority': 1}},\n",
       " 3: {'name': 'TransformMapValues',\n",
       "  'attributes': {'column_param': 'Gender',\n",
       "   'dictionary': {'Male': 0, 'Female': 1},\n",
       "   'priority': 1}},\n",
       " 4: {'name': 'TransformMapValues',\n",
       "  'attributes': {'column_param': 'MariStat',\n",
       "   'dictionary': {'Other': 0, 'Alone': 1},\n",
       "   'priority': 1}},\n",
       " 5: {'name': 'TransformSocioCateg',\n",
       "  'attributes': {'column_socio_categ': 'SocioCateg', 'priority': 0}},\n",
       " 6: {'name': 'TransformGetDummies',\n",
       "  'attributes': {'column_param': 'SocioCateg',\n",
       "   'drop_first': False,\n",
       "   'dummy_columns': ['SocioCateg_CSP5'],\n",
       "   'inference': False,\n",
       "   'priority': 3}},\n",
       " 7: {'name': 'TransformAgeGender',\n",
       "  'attributes': {'age_default': 18,\n",
       "   'column_age': 'DrivAge',\n",
       "   'column_age_f': 'Age_f',\n",
       "   'column_age_m': 'Age_m',\n",
       "   'column_gender': 'Gender',\n",
       "   'gender_female': 1,\n",
       "   'gender_male': 0,\n",
       "   'priority': 2}},\n",
       " 8: {'name': 'TransformPolynomizer',\n",
       "  'attributes': {'column_param': 'Age_m', 'n': 2, 'priority': 3}},\n",
       " 9: {'name': 'TransformPolynomizer',\n",
       "  'attributes': {'column_param': 'Age_f', 'n': 2, 'priority': 3}}}"
      ]
     },
     "execution_count": 8,
     "metadata": {},
     "output_type": "execute_result"
    }
   ],
   "source": [
    "df_transform.ins_transform()"
   ]
  }
 ],
 "metadata": {
  "kernelspec": {
   "display_name": "Python 3 (ipykernel)",
   "language": "python",
   "name": "python3"
  },
  "language_info": {
   "codemirror_mode": {
    "name": "ipython",
    "version": 3
   },
   "file_extension": ".py",
   "mimetype": "text/x-python",
   "name": "python",
   "nbconvert_exporter": "python",
   "pygments_lexer": "ipython3",
   "version": "3.9.6"
  }
 },
 "nbformat": 4,
 "nbformat_minor": 4
}
