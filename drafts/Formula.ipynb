{
 "cells": [
  {
   "cell_type": "code",
   "execution_count": 2,
   "id": "6d2d74b1",
   "metadata": {},
   "outputs": [
    {
     "name": "stdout",
     "output_type": "stream",
     "text": [
      "Collecting Equation\n",
      "  Downloading Equation-1.2.01.zip (25 kB)\n",
      "Building wheels for collected packages: Equation\n",
      "  Building wheel for Equation (setup.py) ... \u001b[?25ldone\n",
      "\u001b[?25h  Created wheel for Equation: filename=Equation-1.2.1-py3-none-any.whl size=16242 sha256=29aa17e0c88ae4f0c2952cbcb912382cc1b5e729e58740fa39463379239cd0ac\n",
      "  Stored in directory: /home/jovyan/.cache/pip/wheels/08/80/f1/dc48b898552a43eb027de5c7fd16b81474d24452f85de4be17\n",
      "Successfully built Equation\n",
      "Installing collected packages: Equation\n",
      "Successfully installed Equation-1.2.1\n"
     ]
    }
   ],
   "source": [
    "!pip install Equation"
   ]
  },
  {
   "cell_type": "code",
   "execution_count": 74,
   "id": "65471d2e",
   "metadata": {},
   "outputs": [],
   "source": [
    "from Equation import Expression\n",
    "import re"
   ]
  },
  {
   "cell_type": "code",
   "execution_count": 90,
   "id": "98cd570d",
   "metadata": {},
   "outputs": [],
   "source": [
    "eq1 = \"cf_0_200*ac_0_200 + cf_200_400*ac_200_400 + cf_400*ac_400 + cf_court*ac_court + cf_ish * (ac_pvu_client + ac_pvu_return) + cf_bi*ac_bi\""
   ]
  },
  {
   "cell_type": "code",
   "execution_count": 91,
   "id": "7e0cbf64",
   "metadata": {},
   "outputs": [],
   "source": [
    "regex = re.split(r'[\\s*+()\\s]\\s*',eq1)\n",
    "list_of_varibles = list(filter(None, regex))"
   ]
  },
  {
   "cell_type": "code",
   "execution_count": 93,
   "id": "d892e9f1",
   "metadata": {},
   "outputs": [],
   "source": [
    "Premium = Expression(eq1,list_of_varibles)"
   ]
  },
  {
   "cell_type": "code",
   "execution_count": 94,
   "id": "fa66ce09",
   "metadata": {},
   "outputs": [
    {
     "data": {
      "text/plain": [
       "['cf_0_200',\n",
       " 'ac_0_200',\n",
       " 'cf_200_400',\n",
       " 'ac_200_400',\n",
       " 'cf_400',\n",
       " 'ac_400',\n",
       " 'cf_court',\n",
       " 'ac_court',\n",
       " 'cf_ish',\n",
       " 'ac_pvu_client',\n",
       " 'ac_pvu_return',\n",
       " 'cf_bi',\n",
       " 'ac_bi']"
      ]
     },
     "execution_count": 94,
     "metadata": {},
     "output_type": "execute_result"
    }
   ],
   "source": [
    "list_of_varibles"
   ]
  },
  {
   "cell_type": "code",
   "execution_count": 95,
   "id": "a5dbaf75",
   "metadata": {},
   "outputs": [],
   "source": [
    "cf_0_200 = 1\n",
    "ac_0_200 = 1\n",
    "cf_200_400 = 1\n",
    "ac_200_400 = 1\n",
    "cf_400 = 1\n",
    "ac_400 = 1\n",
    "cf_court = 1\n",
    "ac_court = 1\n",
    "cf_ish = 1\n",
    "ac_pvu_client = 1\n",
    "ac_pvu_return = 1\n",
    "cf_bi = 1\n",
    "ac_bi = 1"
   ]
  },
  {
   "cell_type": "code",
   "execution_count": 96,
   "id": "d3724612",
   "metadata": {},
   "outputs": [
    {
     "data": {
      "text/plain": [
       "7"
      ]
     },
     "execution_count": 96,
     "metadata": {},
     "output_type": "execute_result"
    }
   ],
   "source": [
    "Premium(cf_0_200, \n",
    " ac_0_200, \n",
    " cf_200_400, \n",
    " ac_200_400,\n",
    " cf_400,\n",
    " ac_400,\n",
    " cf_court,\n",
    " ac_court,\n",
    " cf_ish,\n",
    " ac_pvu_client,\n",
    " ac_pvu_return,\n",
    " cf_bi,\n",
    " ac_bi)"
   ]
  },
  {
   "cell_type": "code",
   "execution_count": null,
   "id": "bd921e6e",
   "metadata": {},
   "outputs": [],
   "source": []
  },
  {
   "cell_type": "code",
   "execution_count": null,
   "id": "b10752a7",
   "metadata": {},
   "outputs": [],
   "source": []
  },
  {
   "cell_type": "code",
   "execution_count": null,
   "id": "fe394efe",
   "metadata": {},
   "outputs": [],
   "source": []
  },
  {
   "cell_type": "code",
   "execution_count": 16,
   "id": "2bac3764",
   "metadata": {},
   "outputs": [
    {
     "name": "stdout",
     "output_type": "stream",
     "text": [
      "Collecting sympy\n",
      "  Downloading sympy-1.8-py3-none-any.whl (6.1 MB)\n",
      "\u001b[K     |████████████████████████████████| 6.1 MB 3.2 MB/s eta 0:00:01\n",
      "\u001b[?25hCollecting mpmath>=0.19\n",
      "  Downloading mpmath-1.2.1-py3-none-any.whl (532 kB)\n",
      "\u001b[K     |████████████████████████████████| 532 kB 11.7 MB/s eta 0:00:01\n",
      "\u001b[?25hInstalling collected packages: mpmath, sympy\n",
      "Successfully installed mpmath-1.2.1 sympy-1.8\n"
     ]
    }
   ],
   "source": [
    "!pip install sympy"
   ]
  },
  {
   "cell_type": "code",
   "execution_count": 17,
   "id": "632875e8",
   "metadata": {},
   "outputs": [
    {
     "data": {
      "text/latex": [
       "$\\displaystyle \\int e^{x} \\cos{\\left(x \\right)}\\, dx = \\frac{e^{x} \\sin{\\left(x \\right)}}{2} + \\frac{e^{x} \\cos{\\left(x \\right)}}{2}$"
      ],
      "text/plain": [
       "Eq(Integral(exp(x)*cos(x), x), exp(x)*sin(x)/2 + exp(x)*cos(x)/2)"
      ]
     },
     "execution_count": 17,
     "metadata": {},
     "output_type": "execute_result"
    }
   ],
   "source": [
    "from sympy import *\n",
    "x = symbols('x')\n",
    "a = Integral(cos(x)*exp(x), x)\n",
    "Eq(a, a.doit())\n",
    "Eq(Integral(exp(x)*cos(x), x), exp(x)*sin(x)/2 + exp(x)*cos(x)/2)"
   ]
  },
  {
   "cell_type": "code",
   "execution_count": 66,
   "id": "043cf0a1",
   "metadata": {},
   "outputs": [
    {
     "name": "stderr",
     "output_type": "stream",
     "text": [
      "/opt/conda/lib/python3.8/site-packages/sympy/core/relational.py:495: SymPyDeprecationWarning: \n",
      "\n",
      "Eq(expr) with rhs default to 0 has been deprecated since SymPy 1.5.\n",
      "Use Eq(expr, 0) instead. See\n",
      "https://github.com/sympy/sympy/issues/16587 for more info.\n",
      "\n",
      "  SymPyDeprecationWarning(\n"
     ]
    },
    {
     "data": {
      "text/latex": [
       "$\\displaystyle \\int e^{x} \\cos{\\left(x \\right)}\\, dx = 0$"
      ],
      "text/plain": [
       "Eq(Integral(exp(x)*cos(x), x), 0)"
      ]
     },
     "execution_count": 66,
     "metadata": {},
     "output_type": "execute_result"
    }
   ],
   "source": [
    "Eq(a)"
   ]
  },
  {
   "cell_type": "code",
   "execution_count": 153,
   "id": "451b9cd5",
   "metadata": {},
   "outputs": [],
   "source": [
    "from sympy import *\n",
    "x = symbols('x')\n",
    "y = symbols('y')"
   ]
  },
  {
   "cell_type": "code",
   "execution_count": 154,
   "id": "67705fe9",
   "metadata": {},
   "outputs": [],
   "source": [
    "a = Min(cos(x)*exp(x),y)"
   ]
  },
  {
   "cell_type": "code",
   "execution_count": 155,
   "id": "3e4f7ee1",
   "metadata": {},
   "outputs": [
    {
     "data": {
      "text/latex": [
       "$\\displaystyle \\min\\left(y, e^{x} \\cos{\\left(x \\right)}\\right)$"
      ],
      "text/plain": [
       "Min(y, exp(x)*cos(x))"
      ]
     },
     "execution_count": 155,
     "metadata": {},
     "output_type": "execute_result"
    }
   ],
   "source": [
    "a"
   ]
  },
  {
   "cell_type": "code",
   "execution_count": 156,
   "id": "3818836f",
   "metadata": {},
   "outputs": [],
   "source": [
    "result = a.subs({x:10, y: 20}).evalf()"
   ]
  },
  {
   "cell_type": "code",
   "execution_count": 157,
   "id": "ddf7f498",
   "metadata": {},
   "outputs": [
    {
     "data": {
      "text/plain": [
       "-18481.78033459865"
      ]
     },
     "execution_count": 157,
     "metadata": {},
     "output_type": "execute_result"
    }
   ],
   "source": [
    "float(result)"
   ]
  },
  {
   "cell_type": "code",
   "execution_count": 158,
   "id": "631d414b",
   "metadata": {},
   "outputs": [
    {
     "data": {
      "text/latex": [
       "$\\displaystyle -18481.7803345987$"
      ],
      "text/plain": [
       "-18481.7803345987"
      ]
     },
     "execution_count": 158,
     "metadata": {},
     "output_type": "execute_result"
    }
   ],
   "source": [
    "result"
   ]
  },
  {
   "cell_type": "code",
   "execution_count": 159,
   "id": "bea9d8b1",
   "metadata": {},
   "outputs": [],
   "source": [
    "import itertools"
   ]
  },
  {
   "cell_type": "code",
   "execution_count": 163,
   "id": "21350d21",
   "metadata": {},
   "outputs": [
    {
     "name": "stdout",
     "output_type": "stream",
     "text": [
      "CPU times: user 6.88 s, sys: 0 ns, total: 6.88 s\n",
      "Wall time: 6.88 s\n"
     ]
    }
   ],
   "source": [
    "%%time\n",
    "for i, j in itertools.product(range(50), range(50)):\n",
    "    #print(i,j)\n",
    "    result = a.subs({x:i, y: j}).evalf()\n",
    "    #print(float(result))"
   ]
  },
  {
   "cell_type": "code",
   "execution_count": 192,
   "id": "c7a0d56f",
   "metadata": {},
   "outputs": [],
   "source": [
    "eq1 = \"cf_0_200*ac_0_200 + cf_200_400*ac_200_400 + cf_400*ac_400 + cf_court*ac_court + cf_ish * (ac_pvu_client + ac_pvu_return) + cf_bi*ac_bi\""
   ]
  },
  {
   "cell_type": "code",
   "execution_count": 194,
   "id": "e6201f20",
   "metadata": {},
   "outputs": [
    {
     "data": {
      "text/plain": [
       "'cf_0_200*ac_0_200 + cf_200_400*ac_200_400 + cf_400*ac_400 + cf_court*ac_court + cf_ish * (ac_pvu_client + ac_pvu_return) + cf_bi*ac_bi'"
      ]
     },
     "execution_count": 194,
     "metadata": {},
     "output_type": "execute_result"
    }
   ],
   "source": [
    "eq1"
   ]
  },
  {
   "cell_type": "code",
   "execution_count": 193,
   "id": "ce147f57",
   "metadata": {},
   "outputs": [],
   "source": [
    "list_of_variables = ['cf_0_200',\n",
    " 'ac_0_200',\n",
    " 'cf_200_400',\n",
    " 'ac_200_400',\n",
    " 'cf_400',\n",
    " 'ac_400',\n",
    " 'cf_court',\n",
    " 'ac_court',\n",
    " 'cf_ish',\n",
    " 'ac_pvu_client',\n",
    " 'ac_pvu_return',\n",
    " 'cf_bi',\n",
    " 'ac_bi']"
   ]
  },
  {
   "cell_type": "code",
   "execution_count": 180,
   "id": "dd02a2dd",
   "metadata": {},
   "outputs": [
    {
     "data": {
      "text/plain": [
       "['cf_0_200',\n",
       " 'ac_0_200',\n",
       " 'cf_200_400',\n",
       " 'ac_200_400',\n",
       " 'cf_400',\n",
       " 'ac_400',\n",
       " 'cf_court',\n",
       " 'ac_court',\n",
       " 'cf_ish',\n",
       " 'ac_pvu_client',\n",
       " 'ac_pvu_return',\n",
       " 'cf_bi',\n",
       " 'ac_bi']"
      ]
     },
     "execution_count": 180,
     "metadata": {},
     "output_type": "execute_result"
    }
   ],
   "source": [
    "list_of_variables"
   ]
  },
  {
   "cell_type": "code",
   "execution_count": 198,
   "id": "39ded8e6",
   "metadata": {},
   "outputs": [],
   "source": [
    "dict_variables = {i:1 for i in list_of_variables}"
   ]
  },
  {
   "cell_type": "code",
   "execution_count": 199,
   "id": "00b95d60",
   "metadata": {},
   "outputs": [
    {
     "data": {
      "text/plain": [
       "{'cf_0_200': 1,\n",
       " 'ac_0_200': 1,\n",
       " 'cf_200_400': 1,\n",
       " 'ac_200_400': 1,\n",
       " 'cf_400': 1,\n",
       " 'ac_400': 1,\n",
       " 'cf_court': 1,\n",
       " 'ac_court': 1,\n",
       " 'cf_ish': 1,\n",
       " 'ac_pvu_client': 1,\n",
       " 'ac_pvu_return': 1,\n",
       " 'cf_bi': 1,\n",
       " 'ac_bi': 1}"
      ]
     },
     "execution_count": 199,
     "metadata": {},
     "output_type": "execute_result"
    }
   ],
   "source": [
    "dict_variables"
   ]
  },
  {
   "cell_type": "code",
   "execution_count": 191,
   "id": "1eebd34f",
   "metadata": {},
   "outputs": [
    {
     "name": "stdout",
     "output_type": "stream",
     "text": [
      "cf_0_200 \n",
      "ac_0_200 \n",
      "cf_200_400 \n",
      "ac_200_400 \n",
      "cf_400 \n",
      "ac_400 \n",
      "cf_court \n",
      "ac_court \n",
      "cf_ish \n",
      "ac_pvu_client \n",
      "ac_pvu_return \n",
      "cf_bi \n",
      "ac_bi \n"
     ]
    }
   ],
   "source": [
    "for key, value in dict_variables.items():\n",
    "    print(key,value)"
   ]
  },
  {
   "cell_type": "code",
   "execution_count": 204,
   "id": "e611605c",
   "metadata": {},
   "outputs": [],
   "source": [
    "formula = sympify(eq1)\n",
    "result = float(formula.subs(dict_variables).evalf())"
   ]
  },
  {
   "cell_type": "code",
   "execution_count": 205,
   "id": "26de2eae",
   "metadata": {},
   "outputs": [
    {
     "data": {
      "text/plain": [
       "7.0"
      ]
     },
     "execution_count": 205,
     "metadata": {},
     "output_type": "execute_result"
    }
   ],
   "source": [
    "result"
   ]
  },
  {
   "cell_type": "code",
   "execution_count": 212,
   "id": "2a98f783",
   "metadata": {},
   "outputs": [],
   "source": [
    "dict_variables['cf_0_200']=5"
   ]
  },
  {
   "cell_type": "code",
   "execution_count": 213,
   "id": "67811e0f",
   "metadata": {},
   "outputs": [
    {
     "data": {
      "text/plain": [
       "{'cf_0_200': 5,\n",
       " 'ac_0_200': 0,\n",
       " 'cf_200_400': 1,\n",
       " 'ac_200_400': 1,\n",
       " 'cf_400': 1,\n",
       " 'ac_400': 1,\n",
       " 'cf_court': 1,\n",
       " 'ac_court': 1,\n",
       " 'cf_ish': 1,\n",
       " 'ac_pvu_client': 1,\n",
       " 'ac_pvu_return': 1,\n",
       " 'cf_bi': 1,\n",
       " 'ac_bi': 1}"
      ]
     },
     "execution_count": 213,
     "metadata": {},
     "output_type": "execute_result"
    }
   ],
   "source": [
    "dict_variables"
   ]
  },
  {
   "cell_type": "code",
   "execution_count": 221,
   "id": "9d31c167",
   "metadata": {},
   "outputs": [
    {
     "name": "stdout",
     "output_type": "stream",
     "text": [
      "CPU times: user 16.6 s, sys: 0 ns, total: 16.6 s\n",
      "Wall time: 16.6 s\n"
     ]
    }
   ],
   "source": [
    "%%time\n",
    "formula = sympify(eq1)\n",
    "for i, j in itertools.product(range(50), range(50)):\n",
    "    dict_variables['cf_0_200'] = i\n",
    "    dict_variables['ac_0_200'] = j\n",
    "    result = float(formula.subs(dict_variables).evalf())\n",
    "    #print(float(result))"
   ]
  },
  {
   "cell_type": "code",
   "execution_count": 223,
   "id": "403a9423",
   "metadata": {},
   "outputs": [
    {
     "data": {
      "text/plain": [
       "0.006640000000000001"
      ]
     },
     "execution_count": 223,
     "metadata": {},
     "output_type": "execute_result"
    }
   ],
   "source": [
    "16.6/2500"
   ]
  },
  {
   "cell_type": "code",
   "execution_count": null,
   "id": "07e1b361",
   "metadata": {},
   "outputs": [],
   "source": []
  },
  {
   "cell_type": "code",
   "execution_count": null,
   "id": "a35b5b77",
   "metadata": {},
   "outputs": [],
   "source": []
  },
  {
   "cell_type": "code",
   "execution_count": null,
   "id": "b7cbc247",
   "metadata": {},
   "outputs": [],
   "source": [
    "#Parameters file \n",
    "insolver_parameters\n",
    "\n",
    "#input \n",
    "formula str\n",
    "variables str\n",
    "\n",
    "#output\n",
    "prediction float\n"
   ]
  }
 ],
 "metadata": {
  "kernelspec": {
   "display_name": "Python 3",
   "language": "python",
   "name": "python3"
  },
  "language_info": {
   "codemirror_mode": {
    "name": "ipython",
    "version": 3
   },
   "file_extension": ".py",
   "mimetype": "text/x-python",
   "name": "python",
   "nbconvert_exporter": "python",
   "pygments_lexer": "ipython3",
   "version": "3.8.10"
  }
 },
 "nbformat": 4,
 "nbformat_minor": 5
}
