{
 "cells": [
  {
   "cell_type": "code",
   "execution_count": null,
   "metadata": {},
   "outputs": [],
   "source": [
    "# Функция корректировки минимального возраста\n",
    "\n",
    "def f_DriverAge( DriverAge ):\n",
    "    if pd.isnull(DriverAge):\n",
    "        DriverAge = 18\n",
    "    elif DriverAge < 18:\n",
    "        DriverAge = 18\n",
    "    elif DriverAge > 70:\n",
    "        DriverAge = 70\n",
    "    return DriverAge"
   ]
  },
  {
   "cell_type": "code",
   "execution_count": null,
   "metadata": {},
   "outputs": [],
   "source": [
    "# Функция корректировки минимального стажа\n",
    "\n",
    "def f_DriverExp( DriverExp ):\n",
    "    if pd.isnull(DriverExp):\n",
    "        DriverExp = 0\n",
    "    elif DriverExp < 0:\n",
    "        DriverExp = 0\n",
    "    elif DriverExp > 52:\n",
    "        DriverExp = 52\n",
    "    return DriverExp"
   ]
  },
  {
   "cell_type": "code",
   "execution_count": null,
   "metadata": {},
   "outputs": [],
   "source": [
    "# Применяем функцию корректировки минимального возраста\n",
    "\n",
    "df['DriverMinAge'] = df['DriverMinAge'].apply(f_DriverAge)"
   ]
  },
  {
   "cell_type": "code",
   "execution_count": null,
   "metadata": {},
   "outputs": [],
   "source": [
    "# Применяем функцию корректировки минимального стажа\n",
    "\n",
    "df['DriverMinExp'] = df['DriverMinExp'].apply(f_DriverExp)"
   ]
  },
  {
   "cell_type": "code",
   "execution_count": null,
   "metadata": {},
   "outputs": [],
   "source": [
    "# Проверяем, есть если различие между возрастом и стажем менее 18 лет\n",
    "\n",
    "df[['DriverMinAge','DriverMinExp']].loc[(df['DriverMinAge'] - df['DriverMinExp']) < 18]"
   ]
  },
  {
   "cell_type": "code",
   "execution_count": null,
   "metadata": {},
   "outputs": [],
   "source": [
    "# Корректируем, если различие между возрастом и стажем менее 18 лет\n",
    "\n",
    "df[['DriverMinAge','DriverMinExp']].loc[(df['DriverMinAge'] - df['DriverMinExp']) < 18] = [None,None]\n",
    "#df['DriverMinExp'].loc[(df['DriverMinAge'] - df['DriverMinExp']) < 18] = df['DriverMinAge'] - 18"
   ]
  },
  {
   "cell_type": "code",
   "execution_count": null,
   "metadata": {},
   "outputs": [],
   "source": []
  },
  {
   "cell_type": "code",
   "execution_count": null,
   "metadata": {},
   "outputs": [],
   "source": []
  },
  {
   "cell_type": "code",
   "execution_count": null,
   "metadata": {},
   "outputs": [],
   "source": []
  },
  {
   "cell_type": "code",
   "execution_count": null,
   "metadata": {},
   "outputs": [],
   "source": []
  }
 ],
 "metadata": {
  "kernelspec": {
   "display_name": "Python 3",
   "language": "python",
   "name": "python3"
  },
  "language_info": {
   "codemirror_mode": {
    "name": "ipython",
    "version": 3
   },
   "file_extension": ".py",
   "mimetype": "text/x-python",
   "name": "python",
   "nbconvert_exporter": "python",
   "pygments_lexer": "ipython3",
   "version": "3.7.4"
  }
 },
 "nbformat": 4,
 "nbformat_minor": 2
}
