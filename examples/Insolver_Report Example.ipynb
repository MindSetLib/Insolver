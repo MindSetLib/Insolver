{
 "cells": [
  {
   "cell_type": "markdown",
   "id": "8838acda",
   "metadata": {},
   "source": [
    "# Report Examples"
   ]
  },
  {
   "cell_type": "markdown",
   "id": "49eb997a",
   "metadata": {},
   "source": [
    "Let's see how we can create html report with different models"
   ]
  },
  {
   "cell_type": "markdown",
   "id": "5b2971d4",
   "metadata": {},
   "source": [
    "First, we need to install Insolver library"
   ]
  },
  {
   "cell_type": "code",
   "execution_count": null,
   "id": "0a3cad66",
   "metadata": {},
   "outputs": [],
   "source": [
    "!pip install insolver"
   ]
  },
  {
   "cell_type": "markdown",
   "id": "f15f8bc9",
   "metadata": {},
   "source": [
    "## Import libraries and prepare data"
   ]
  },
  {
   "cell_type": "code",
   "execution_count": 2,
   "id": "44805c28",
   "metadata": {},
   "outputs": [],
   "source": [
    "# Import key libraries we potentially need to start this pipeline.\n",
    "\n",
    "import numpy as np\n",
    "import pandas as pd\n",
    "from hyperopt import hp\n",
    "from sklearn.metrics import mean_gamma_deviance, mean_squared_error\n",
    "\n",
    "# InsolverDataFrame is a special class based on pandas data frame with additional properties, which allow you to use additional methods for data frames. We will look at these methods later.\n",
    "from insolver import InsolverDataFrame \n",
    "\n",
    "# Insolver transformation is used for data transformation especially during inference. \n",
    "# After you experiment with dataset, you can register your own transformations and then use them anywhere. Also, it is extremely useful during model implementation.\n",
    "from insolver.transforms import (\n",
    "    InsolverTransform,\n",
    "    TransformExp,\n",
    "    TransformAge,\n",
    "    TransformMapValues,\n",
    "    TransformPolynomizer,\n",
    "    TransformAgeGender,\n",
    ")\n",
    "\n",
    "# Special wrappers allow you to create models with simple interfaces, \n",
    "# here we import special GLM models which are very often used in insurance, GBM models which became very popular last year and Trivial models to compare our model with trivial ones.\n",
    "\n",
    "from insolver.wrappers import InsolverGLMWrapper, InsolverGBMWrapper, InsolverTrivialWrapper, InsolverRFWrapper\n",
    "from insolver.model_tools import ModelMetricsCompare, deviance_gamma"
   ]
  },
  {
   "cell_type": "code",
   "execution_count": 3,
   "id": "fe3c400d",
   "metadata": {},
   "outputs": [],
   "source": [
    "# We can set up user transformations\n",
    "class TransformSocioCateg:\n",
    "    def __init__(self, column_socio_categ):\n",
    "        self.priority = 0\n",
    "        self.column_socio_categ = column_socio_categ\n",
    "\n",
    "    def __call__(self, df):\n",
    "        df[self.column_socio_categ] = df[self.column_socio_categ].str.slice(0,4)\n",
    "        return df"
   ]
  },
  {
   "cell_type": "code",
   "execution_count": 4,
   "id": "d51c1720",
   "metadata": {},
   "outputs": [],
   "source": [
    "# Add method to renew experience function\n",
    "@staticmethod\n",
    "def new_exp(exp, exp_max):\n",
    "    if pd.isnull(exp):\n",
    "        exp = None\n",
    "    elif exp < 0:\n",
    "        exp = None\n",
    "    else:\n",
    "        exp = exp * 7 // 365\n",
    "    if exp > exp_max:\n",
    "        exp = exp_max\n",
    "    return exp"
   ]
  },
  {
   "cell_type": "code",
   "execution_count": 5,
   "id": "0cac5958",
   "metadata": {},
   "outputs": [],
   "source": [
    "# put data to pandas dataframe\n",
    "pd.options.display.float_format = '{:.2f}'.format\n",
    "df = pd.read_csv('freMPL-R.csv', low_memory=False)\n",
    "df = df[df.Dataset.isin([5, 6, 7, 8, 9])]\n",
    "df.dropna(how='all', axis=1, inplace=True)\n",
    "df = df[df.ClaimAmount > 0]\n",
    "\n",
    "# Transfer our dataframe to InsolverDataFrame to get additional possibilities for analytics and dataframe transforms.\n",
    "InsDataFrame = InsolverDataFrame(df)\n",
    "\n",
    "# Add method to renew experience function\n",
    "TransformExp._exp = new_exp\n",
    "\n",
    "# After that we can combine all transformations into one one object\n",
    "InsTransforms = InsolverTransform(InsDataFrame, [\n",
    "    TransformSocioCateg('SocioCateg'),\n",
    "    TransformAge('DrivAge', 18, 75),\n",
    "    TransformExp('LicAge', 57),\n",
    "    TransformMapValues('Gender', {'Male':0, 'Female':1}),\n",
    "    TransformMapValues('MariStat', {'Other':0, 'Alone':1}),\n",
    "    TransformAgeGender('DrivAge', 'Gender', 'Age_m', 'Age_f', age_default=18, gender_male=0, gender_female=1),\n",
    "    TransformPolynomizer('Age_m'),\n",
    "    TransformPolynomizer('Age_f'),\n",
    "])\n",
    "\n",
    "# Now we are ready to implement transformations\n",
    "InsTransforms.ins_transform()\n",
    "\n",
    "# Classical train test split of transformations\n",
    "train, valid, test = InsTransforms.split_frame(val_size=0.15, test_size=0.15, random_state=0, shuffle=True)\n",
    "\n",
    "# Lets take features and target\n",
    "features = ['LicAge', 'Gender', 'MariStat', 'DrivAge', 'HasKmLimit', 'BonusMalus', 'RiskArea',\n",
    "        'Age_m', 'Age_f', 'Age_m_2', 'Age_f_2']\n",
    "target = 'ClaimAmount'\n",
    "\n",
    "# Split on train, validation and test data\n",
    "x_train, y_train = train[features], train[target]\n",
    "x_valid, y_valid = valid[features], valid[target]\n",
    "x_test, y_test = test[features], test[target]\n",
    "offset_train = train['Exposure']\n",
    "offset_valid = valid['Exposure']\n",
    "offset_test = test['Exposure']"
   ]
  },
  {
   "cell_type": "markdown",
   "id": "284572f0",
   "metadata": {},
   "source": [
    "## Report creation"
   ]
  },
  {
   "cell_type": "markdown",
   "id": "565bd45e",
   "metadata": {},
   "source": [
    "Let's train some models and see how we can create reports for them "
   ]
  },
  {
   "cell_type": "markdown",
   "id": "3f1fa5e9",
   "metadata": {},
   "source": [
    "To create a report we need `insolver.report.Report` class"
   ]
  },
  {
   "cell_type": "code",
   "execution_count": 6,
   "id": "82f20774",
   "metadata": {},
   "outputs": [],
   "source": [
    "from insolver.report import Report"
   ]
  },
  {
   "cell_type": "markdown",
   "id": "50c72d0f",
   "metadata": {},
   "source": [
    "**Random Forest**"
   ]
  },
  {
   "cell_type": "code",
   "execution_count": 7,
   "id": "b0e8c297",
   "metadata": {},
   "outputs": [
    {
     "data": {
      "application/vnd.jupyter.widget-view+json": {
       "model_id": "ad21054f57c842af9f8f51d0a6f8c72a",
       "version_major": 2,
       "version_minor": 0
      },
      "text/plain": [
       "Summarize dataset:   0%|          | 0/5 [00:00<?, ?it/s]"
      ]
     },
     "metadata": {},
     "output_type": "display_data"
    },
    {
     "data": {
      "application/vnd.jupyter.widget-view+json": {
       "model_id": "71169a60243f4bd2a1d0c5f3e2beffd2",
       "version_major": 2,
       "version_minor": 0
      },
      "text/plain": [
       "Generate report structure:   0%|          | 0/1 [00:00<?, ?it/s]"
      ]
     },
     "metadata": {},
     "output_type": "display_data"
    },
    {
     "data": {
      "application/vnd.jupyter.widget-view+json": {
       "model_id": "4e7339c03a534d1bb8677bce5ade2529",
       "version_major": 2,
       "version_minor": 0
      },
      "text/plain": [
       "Render HTML:   0%|          | 0/1 [00:00<?, ?it/s]"
      ]
     },
     "metadata": {},
     "output_type": "display_data"
    },
    {
     "data": {
      "application/vnd.jupyter.widget-view+json": {
       "model_id": "17ebb93a0056489b902ca81f03d91612",
       "version_major": 2,
       "version_minor": 0
      },
      "text/plain": [
       "Export report to file:   0%|          | 0/1 [00:00<?, ?it/s]"
      ]
     },
     "metadata": {},
     "output_type": "display_data"
    }
   ],
   "source": [
    "irf = InsolverRFWrapper(backend='sklearn', task='reg')\n",
    "irf.fit(x_train, y_train)\n",
    "predict_rf = irf.predict(x_test)\n",
    "predict_rf_train = irf.predict(x_train)\n",
    "predict_rf_test = irf.predict(x_test)\n",
    "\n",
    "# To use Report we need to pass as parameters\n",
    "# model:             model instanse\n",
    "# task:              'reg' for regression and 'class' for classification\n",
    "# X_train, y_train:  train dataset\n",
    "# predicted_train:   model predictions for train dataset\n",
    "# X_test, y_test:    test dataset\n",
    "# predicted_test:    model predictions for test dataset\n",
    "\n",
    "r = Report(model=irf,\n",
    "           task='reg',\n",
    "           X_train=x_train,\n",
    "           y_train=y_train,\n",
    "           predicted_train=pd.Series(predict_rf_train),\n",
    "           X_test=x_test,\n",
    "           y_test=y_test,\n",
    "           predicted_test=pd.Series(predict_rf_test),\n",
    "           )\n",
    "\n",
    "# To create an html file we use `Report.to_html()` method\n",
    "# Parameters are:\n",
    "# path:        existing directory to save report (default '.')\n",
    "# report_name: name of created report directory (default 'report')\n",
    "\n",
    "r.to_html(report_name='0_random_forest_report')"
   ]
  },
  {
   "cell_type": "markdown",
   "id": "51366dff",
   "metadata": {},
   "source": [
    "---"
   ]
  },
  {
   "cell_type": "markdown",
   "id": "e82c7aed",
   "metadata": {},
   "source": [
    "Let's check if the report has been created"
   ]
  },
  {
   "cell_type": "code",
   "execution_count": 8,
   "id": "1a5f897b",
   "metadata": {},
   "outputs": [
    {
     "name": "stdout",
     "output_type": "stream",
     "text": [
      "drwxr-xr-x  2 jovyan users     4096 Dec  3 11:04 0_random_forest_report\r\n"
     ]
    }
   ],
   "source": [
    "!ls -l | grep report"
   ]
  },
  {
   "cell_type": "code",
   "execution_count": 9,
   "id": "87192380",
   "metadata": {},
   "outputs": [
    {
     "name": "stdout",
     "output_type": "stream",
     "text": [
      "-rw-r--r-- 1 jovyan users 5924577 Dec  3 11:04 profiling_report.html\r\n",
      "-rw-r--r-- 1 jovyan users  220091 Dec  3 11:04 report.html\r\n"
     ]
    }
   ],
   "source": [
    "!ls -l $(ls | grep report | tail -n 1) | grep .html"
   ]
  },
  {
   "cell_type": "markdown",
   "id": "0aa215da",
   "metadata": {},
   "source": [
    "Now you can open the `report.html` from the directory where it was created"
   ]
  },
  {
   "cell_type": "markdown",
   "id": "3c303e67",
   "metadata": {},
   "source": [
    "---"
   ]
  },
  {
   "cell_type": "markdown",
   "id": "2032648c",
   "metadata": {},
   "source": [
    "Same way you can create report for other models and dataframes"
   ]
  },
  {
   "cell_type": "code",
   "execution_count": 10,
   "id": "ec823cb9",
   "metadata": {},
   "outputs": [
    {
     "name": "stdout",
     "output_type": "stream",
     "text": [
      "Checking whether there is an H2O instance running at http://localhost:54321 ..... not found.\n",
      "Attempting to start a local H2O server...\n",
      "  Java Version: openjdk version \"11.0.11\" 2021-04-20; OpenJDK Runtime Environment (build 11.0.11+9-Ubuntu-0ubuntu2.20.04); OpenJDK 64-Bit Server VM (build 11.0.11+9-Ubuntu-0ubuntu2.20.04, mixed mode, sharing)\n",
      "  Starting server from /opt/conda/lib/python3.9/site-packages/h2o/backend/bin/h2o.jar\n",
      "  Ice root: /tmp/tmp0wvsnmzi\n",
      "  JVM stdout: /tmp/tmp0wvsnmzi/h2o_jovyan_started_from_python.out\n",
      "  JVM stderr: /tmp/tmp0wvsnmzi/h2o_jovyan_started_from_python.err\n",
      "  Server is running at http://127.0.0.1:54321\n",
      "Connecting to H2O server at http://127.0.0.1:54321 ... successful.\n",
      "Warning: Your H2O cluster version is too old (11 months and 8 days)! Please download and install the latest version from http://h2o.ai/download/\n"
     ]
    },
    {
     "data": {
      "text/html": [
       "<div style=\"overflow:auto\"><table style=\"width:50%\"><tr><td>H2O_cluster_uptime:</td>\n",
       "<td>03 secs</td></tr>\n",
       "<tr><td>H2O_cluster_timezone:</td>\n",
       "<td>Etc/UTC</td></tr>\n",
       "<tr><td>H2O_data_parsing_timezone:</td>\n",
       "<td>UTC</td></tr>\n",
       "<tr><td>H2O_cluster_version:</td>\n",
       "<td>3.32.0.3</td></tr>\n",
       "<tr><td>H2O_cluster_version_age:</td>\n",
       "<td>11 months and 8 days !!!</td></tr>\n",
       "<tr><td>H2O_cluster_name:</td>\n",
       "<td>H2O_from_python_jovyan_xk67ru</td></tr>\n",
       "<tr><td>H2O_cluster_total_nodes:</td>\n",
       "<td>1</td></tr>\n",
       "<tr><td>H2O_cluster_free_memory:</td>\n",
       "<td>1.430 Gb</td></tr>\n",
       "<tr><td>H2O_cluster_total_cores:</td>\n",
       "<td>4</td></tr>\n",
       "<tr><td>H2O_cluster_allowed_cores:</td>\n",
       "<td>4</td></tr>\n",
       "<tr><td>H2O_cluster_status:</td>\n",
       "<td>accepting new members, healthy</td></tr>\n",
       "<tr><td>H2O_connection_url:</td>\n",
       "<td>http://127.0.0.1:54321</td></tr>\n",
       "<tr><td>H2O_connection_proxy:</td>\n",
       "<td>{\"http\": null, \"https\": null}</td></tr>\n",
       "<tr><td>H2O_internal_security:</td>\n",
       "<td>False</td></tr>\n",
       "<tr><td>H2O_API_Extensions:</td>\n",
       "<td>Amazon S3, XGBoost, Algos, AutoML, Core V3, TargetEncoder, Core V4</td></tr>\n",
       "<tr><td>Python_version:</td>\n",
       "<td>3.9.7 final</td></tr></table></div>"
      ],
      "text/plain": [
       "--------------------------  ------------------------------------------------------------------\n",
       "H2O_cluster_uptime:         03 secs\n",
       "H2O_cluster_timezone:       Etc/UTC\n",
       "H2O_data_parsing_timezone:  UTC\n",
       "H2O_cluster_version:        3.32.0.3\n",
       "H2O_cluster_version_age:    11 months and 8 days !!!\n",
       "H2O_cluster_name:           H2O_from_python_jovyan_xk67ru\n",
       "H2O_cluster_total_nodes:    1\n",
       "H2O_cluster_free_memory:    1.430 Gb\n",
       "H2O_cluster_total_cores:    4\n",
       "H2O_cluster_allowed_cores:  4\n",
       "H2O_cluster_status:         accepting new members, healthy\n",
       "H2O_connection_url:         http://127.0.0.1:54321\n",
       "H2O_connection_proxy:       {\"http\": null, \"https\": null}\n",
       "H2O_internal_security:      False\n",
       "H2O_API_Extensions:         Amazon S3, XGBoost, Algos, AutoML, Core V3, TargetEncoder, Core V4\n",
       "Python_version:             3.9.7 final\n",
       "--------------------------  ------------------------------------------------------------------"
      ]
     },
     "metadata": {},
     "output_type": "display_data"
    },
    {
     "name": "stdout",
     "output_type": "stream",
     "text": [
      "Model Details\n",
      "=============\n",
      "H2OGeneralizedLinearEstimator :  Generalized Linear Modeling\n",
      "Model Key:  GLM_model_python_1638529468365_1\n",
      "\n",
      "\n",
      "GLM Model: summary\n"
     ]
    },
    {
     "data": {
      "text/html": [
       "<div>\n",
       "<style scoped>\n",
       "    .dataframe tbody tr th:only-of-type {\n",
       "        vertical-align: middle;\n",
       "    }\n",
       "\n",
       "    .dataframe tbody tr th {\n",
       "        vertical-align: top;\n",
       "    }\n",
       "\n",
       "    .dataframe thead th {\n",
       "        text-align: right;\n",
       "    }\n",
       "</style>\n",
       "<table border=\"1\" class=\"dataframe\">\n",
       "  <thead>\n",
       "    <tr style=\"text-align: right;\">\n",
       "      <th></th>\n",
       "      <th></th>\n",
       "      <th>family</th>\n",
       "      <th>link</th>\n",
       "      <th>regularization</th>\n",
       "      <th>number_of_predictors_total</th>\n",
       "      <th>number_of_active_predictors</th>\n",
       "      <th>number_of_iterations</th>\n",
       "      <th>training_frame</th>\n",
       "    </tr>\n",
       "  </thead>\n",
       "  <tbody>\n",
       "    <tr>\n",
       "      <th>0</th>\n",
       "      <td></td>\n",
       "      <td>gamma</td>\n",
       "      <td>log</td>\n",
       "      <td>Elastic Net (alpha = 0.5, lambda = 0.001825 )</td>\n",
       "      <td>11</td>\n",
       "      <td>10</td>\n",
       "      <td>8</td>\n",
       "      <td>Key_Frame__upload_bed28a22283c84f2a5e80d70d1b24d4b.hex</td>\n",
       "    </tr>\n",
       "  </tbody>\n",
       "</table>\n",
       "</div>"
      ],
      "text/plain": [
       "    family link                                 regularization  \\\n",
       "0    gamma  log  Elastic Net (alpha = 0.5, lambda = 0.001825 )   \n",
       "\n",
       "   number_of_predictors_total number_of_active_predictors  \\\n",
       "0                          11                          10   \n",
       "\n",
       "   number_of_iterations  \\\n",
       "0                     8   \n",
       "\n",
       "                                           training_frame  \n",
       "0  Key_Frame__upload_bed28a22283c84f2a5e80d70d1b24d4b.hex  "
      ]
     },
     "metadata": {},
     "output_type": "display_data"
    },
    {
     "name": "stdout",
     "output_type": "stream",
     "text": [
      "\n",
      "\n",
      "ModelMetricsRegressionGLM: glm\n",
      "** Reported on train data. **\n",
      "\n",
      "MSE: 86347495.37806311\n",
      "RMSE: 9292.335302713904\n",
      "MAE: 2350.2669145955892\n",
      "RMSLE: 1.7468139514234649\n",
      "R^2: -0.011339170162486756\n",
      "Mean Residual Deviance: 2.0827971487219292\n",
      "Null degrees of freedom: 10871\n",
      "Residual degrees of freedom: 10861\n",
      "Null deviance: 56280.753410690704\n",
      "Residual deviance: 22644.170600904814\n",
      "AIC: NaN\n",
      "\n",
      "ModelMetricsRegressionGLM: glm\n",
      "** Reported on validation data. **\n",
      "\n",
      "MSE: 292795010.338008\n",
      "RMSE: 17111.25390899241\n",
      "MAE: 2565.6489323946876\n",
      "RMSLE: 1.755816358282092\n",
      "R^2: -0.003847731214389194\n",
      "Mean Residual Deviance: 2.381531192097885\n",
      "Null degrees of freedom: 2329\n",
      "Residual degrees of freedom: 2319\n",
      "Null deviance: 12098.930539986566\n",
      "Residual deviance: 5548.967677588073\n",
      "AIC: NaN\n",
      "\n",
      "Scoring History: \n"
     ]
    },
    {
     "data": {
      "text/html": [
       "<div>\n",
       "<style scoped>\n",
       "    .dataframe tbody tr th:only-of-type {\n",
       "        vertical-align: middle;\n",
       "    }\n",
       "\n",
       "    .dataframe tbody tr th {\n",
       "        vertical-align: top;\n",
       "    }\n",
       "\n",
       "    .dataframe thead th {\n",
       "        text-align: right;\n",
       "    }\n",
       "</style>\n",
       "<table border=\"1\" class=\"dataframe\">\n",
       "  <thead>\n",
       "    <tr style=\"text-align: right;\">\n",
       "      <th></th>\n",
       "      <th></th>\n",
       "      <th>timestamp</th>\n",
       "      <th>duration</th>\n",
       "      <th>iterations</th>\n",
       "      <th>negative_log_likelihood</th>\n",
       "      <th>objective</th>\n",
       "      <th>training_rmse</th>\n",
       "      <th>training_deviance</th>\n",
       "      <th>training_mae</th>\n",
       "      <th>training_r2</th>\n",
       "      <th>validation_rmse</th>\n",
       "      <th>validation_deviance</th>\n",
       "      <th>validation_mae</th>\n",
       "      <th>validation_r2</th>\n",
       "    </tr>\n",
       "  </thead>\n",
       "  <tbody>\n",
       "    <tr>\n",
       "      <th>0</th>\n",
       "      <td></td>\n",
       "      <td>2021-12-03 11:04:39</td>\n",
       "      <td>0.000 sec</td>\n",
       "      <td>0</td>\n",
       "      <td>56280.75</td>\n",
       "      <td>5.18</td>\n",
       "      <td></td>\n",
       "      <td></td>\n",
       "      <td></td>\n",
       "      <td></td>\n",
       "      <td></td>\n",
       "      <td></td>\n",
       "      <td></td>\n",
       "      <td></td>\n",
       "    </tr>\n",
       "    <tr>\n",
       "      <th>1</th>\n",
       "      <td></td>\n",
       "      <td>2021-12-03 11:04:39</td>\n",
       "      <td>0.213 sec</td>\n",
       "      <td>1</td>\n",
       "      <td>39256.22</td>\n",
       "      <td>3.61</td>\n",
       "      <td></td>\n",
       "      <td></td>\n",
       "      <td></td>\n",
       "      <td></td>\n",
       "      <td></td>\n",
       "      <td></td>\n",
       "      <td></td>\n",
       "      <td></td>\n",
       "    </tr>\n",
       "    <tr>\n",
       "      <th>2</th>\n",
       "      <td></td>\n",
       "      <td>2021-12-03 11:04:39</td>\n",
       "      <td>0.258 sec</td>\n",
       "      <td>2</td>\n",
       "      <td>27770.77</td>\n",
       "      <td>2.55</td>\n",
       "      <td></td>\n",
       "      <td></td>\n",
       "      <td></td>\n",
       "      <td></td>\n",
       "      <td></td>\n",
       "      <td></td>\n",
       "      <td></td>\n",
       "      <td></td>\n",
       "    </tr>\n",
       "    <tr>\n",
       "      <th>3</th>\n",
       "      <td></td>\n",
       "      <td>2021-12-03 11:04:39</td>\n",
       "      <td>0.292 sec</td>\n",
       "      <td>3</td>\n",
       "      <td>23284.30</td>\n",
       "      <td>2.14</td>\n",
       "      <td></td>\n",
       "      <td></td>\n",
       "      <td></td>\n",
       "      <td></td>\n",
       "      <td></td>\n",
       "      <td></td>\n",
       "      <td></td>\n",
       "      <td></td>\n",
       "    </tr>\n",
       "    <tr>\n",
       "      <th>4</th>\n",
       "      <td></td>\n",
       "      <td>2021-12-03 11:04:39</td>\n",
       "      <td>0.323 sec</td>\n",
       "      <td>4</td>\n",
       "      <td>22673.04</td>\n",
       "      <td>2.09</td>\n",
       "      <td></td>\n",
       "      <td></td>\n",
       "      <td></td>\n",
       "      <td></td>\n",
       "      <td></td>\n",
       "      <td></td>\n",
       "      <td></td>\n",
       "      <td></td>\n",
       "    </tr>\n",
       "    <tr>\n",
       "      <th>5</th>\n",
       "      <td></td>\n",
       "      <td>2021-12-03 11:04:39</td>\n",
       "      <td>0.364 sec</td>\n",
       "      <td>5</td>\n",
       "      <td>22655.78</td>\n",
       "      <td>2.08</td>\n",
       "      <td></td>\n",
       "      <td></td>\n",
       "      <td></td>\n",
       "      <td></td>\n",
       "      <td></td>\n",
       "      <td></td>\n",
       "      <td></td>\n",
       "      <td></td>\n",
       "    </tr>\n",
       "    <tr>\n",
       "      <th>6</th>\n",
       "      <td></td>\n",
       "      <td>2021-12-03 11:04:39</td>\n",
       "      <td>0.399 sec</td>\n",
       "      <td>6</td>\n",
       "      <td>22655.79</td>\n",
       "      <td>2.08</td>\n",
       "      <td></td>\n",
       "      <td></td>\n",
       "      <td></td>\n",
       "      <td></td>\n",
       "      <td></td>\n",
       "      <td></td>\n",
       "      <td></td>\n",
       "      <td></td>\n",
       "    </tr>\n",
       "    <tr>\n",
       "      <th>7</th>\n",
       "      <td></td>\n",
       "      <td>2021-12-03 11:04:40</td>\n",
       "      <td>0.500 sec</td>\n",
       "      <td>7</td>\n",
       "      <td>22644.85</td>\n",
       "      <td>2.08</td>\n",
       "      <td></td>\n",
       "      <td></td>\n",
       "      <td></td>\n",
       "      <td></td>\n",
       "      <td></td>\n",
       "      <td></td>\n",
       "      <td></td>\n",
       "      <td></td>\n",
       "    </tr>\n",
       "    <tr>\n",
       "      <th>8</th>\n",
       "      <td></td>\n",
       "      <td>2021-12-03 11:04:40</td>\n",
       "      <td>0.548 sec</td>\n",
       "      <td>8</td>\n",
       "      <td>22644.17</td>\n",
       "      <td>2.08</td>\n",
       "      <td>9292.34</td>\n",
       "      <td>2.08</td>\n",
       "      <td>2350.27</td>\n",
       "      <td>-0.01</td>\n",
       "      <td>17111.25</td>\n",
       "      <td>2.38</td>\n",
       "      <td>2565.65</td>\n",
       "      <td>-0.00</td>\n",
       "    </tr>\n",
       "  </tbody>\n",
       "</table>\n",
       "</div>"
      ],
      "text/plain": [
       "               timestamp    duration  iterations  negative_log_likelihood  \\\n",
       "0    2021-12-03 11:04:39   0.000 sec           0                 56280.75   \n",
       "1    2021-12-03 11:04:39   0.213 sec           1                 39256.22   \n",
       "2    2021-12-03 11:04:39   0.258 sec           2                 27770.77   \n",
       "3    2021-12-03 11:04:39   0.292 sec           3                 23284.30   \n",
       "4    2021-12-03 11:04:39   0.323 sec           4                 22673.04   \n",
       "5    2021-12-03 11:04:39   0.364 sec           5                 22655.78   \n",
       "6    2021-12-03 11:04:39   0.399 sec           6                 22655.79   \n",
       "7    2021-12-03 11:04:40   0.500 sec           7                 22644.85   \n",
       "8    2021-12-03 11:04:40   0.548 sec           8                 22644.17   \n",
       "\n",
       "   objective training_rmse training_deviance training_mae training_r2  \\\n",
       "0       5.18                                                            \n",
       "1       3.61                                                            \n",
       "2       2.55                                                            \n",
       "3       2.14                                                            \n",
       "4       2.09                                                            \n",
       "5       2.08                                                            \n",
       "6       2.08                                                            \n",
       "7       2.08                                                            \n",
       "8       2.08       9292.34              2.08      2350.27       -0.01   \n",
       "\n",
       "  validation_rmse validation_deviance validation_mae validation_r2  \n",
       "0                                                                   \n",
       "1                                                                   \n",
       "2                                                                   \n",
       "3                                                                   \n",
       "4                                                                   \n",
       "5                                                                   \n",
       "6                                                                   \n",
       "7                                                                   \n",
       "8        17111.25                2.38        2565.65         -0.00  "
      ]
     },
     "metadata": {},
     "output_type": "display_data"
    },
    {
     "name": "stdout",
     "output_type": "stream",
     "text": [
      "\n",
      "Variable Importances: \n"
     ]
    },
    {
     "data": {
      "text/html": [
       "<div>\n",
       "<style scoped>\n",
       "    .dataframe tbody tr th:only-of-type {\n",
       "        vertical-align: middle;\n",
       "    }\n",
       "\n",
       "    .dataframe tbody tr th {\n",
       "        vertical-align: top;\n",
       "    }\n",
       "\n",
       "    .dataframe thead th {\n",
       "        text-align: right;\n",
       "    }\n",
       "</style>\n",
       "<table border=\"1\" class=\"dataframe\">\n",
       "  <thead>\n",
       "    <tr style=\"text-align: right;\">\n",
       "      <th></th>\n",
       "      <th>variable</th>\n",
       "      <th>relative_importance</th>\n",
       "      <th>scaled_importance</th>\n",
       "      <th>percentage</th>\n",
       "    </tr>\n",
       "  </thead>\n",
       "  <tbody>\n",
       "    <tr>\n",
       "      <th>0</th>\n",
       "      <td>Age_f_2</td>\n",
       "      <td>0.35</td>\n",
       "      <td>1.00</td>\n",
       "      <td>0.25</td>\n",
       "    </tr>\n",
       "    <tr>\n",
       "      <th>1</th>\n",
       "      <td>Age_f</td>\n",
       "      <td>0.27</td>\n",
       "      <td>0.76</td>\n",
       "      <td>0.19</td>\n",
       "    </tr>\n",
       "    <tr>\n",
       "      <th>2</th>\n",
       "      <td>Age_m_2</td>\n",
       "      <td>0.20</td>\n",
       "      <td>0.57</td>\n",
       "      <td>0.15</td>\n",
       "    </tr>\n",
       "    <tr>\n",
       "      <th>3</th>\n",
       "      <td>BonusMalus</td>\n",
       "      <td>0.11</td>\n",
       "      <td>0.32</td>\n",
       "      <td>0.08</td>\n",
       "    </tr>\n",
       "    <tr>\n",
       "      <th>4</th>\n",
       "      <td>MariStat</td>\n",
       "      <td>0.11</td>\n",
       "      <td>0.31</td>\n",
       "      <td>0.08</td>\n",
       "    </tr>\n",
       "    <tr>\n",
       "      <th>5</th>\n",
       "      <td>RiskArea</td>\n",
       "      <td>0.09</td>\n",
       "      <td>0.26</td>\n",
       "      <td>0.07</td>\n",
       "    </tr>\n",
       "    <tr>\n",
       "      <th>6</th>\n",
       "      <td>DrivAge</td>\n",
       "      <td>0.09</td>\n",
       "      <td>0.26</td>\n",
       "      <td>0.06</td>\n",
       "    </tr>\n",
       "    <tr>\n",
       "      <th>7</th>\n",
       "      <td>Gender</td>\n",
       "      <td>0.08</td>\n",
       "      <td>0.23</td>\n",
       "      <td>0.06</td>\n",
       "    </tr>\n",
       "    <tr>\n",
       "      <th>8</th>\n",
       "      <td>LicAge</td>\n",
       "      <td>0.07</td>\n",
       "      <td>0.20</td>\n",
       "      <td>0.05</td>\n",
       "    </tr>\n",
       "    <tr>\n",
       "      <th>9</th>\n",
       "      <td>HasKmLimit</td>\n",
       "      <td>0.02</td>\n",
       "      <td>0.04</td>\n",
       "      <td>0.01</td>\n",
       "    </tr>\n",
       "    <tr>\n",
       "      <th>10</th>\n",
       "      <td>Age_m</td>\n",
       "      <td>0.00</td>\n",
       "      <td>0.00</td>\n",
       "      <td>0.00</td>\n",
       "    </tr>\n",
       "  </tbody>\n",
       "</table>\n",
       "</div>"
      ],
      "text/plain": [
       "      variable  relative_importance  scaled_importance  percentage\n",
       "0      Age_f_2                 0.35               1.00        0.25\n",
       "1        Age_f                 0.27               0.76        0.19\n",
       "2      Age_m_2                 0.20               0.57        0.15\n",
       "3   BonusMalus                 0.11               0.32        0.08\n",
       "4     MariStat                 0.11               0.31        0.08\n",
       "5     RiskArea                 0.09               0.26        0.07\n",
       "6      DrivAge                 0.09               0.26        0.06\n",
       "7       Gender                 0.08               0.23        0.06\n",
       "8       LicAge                 0.07               0.20        0.05\n",
       "9   HasKmLimit                 0.02               0.04        0.01\n",
       "10       Age_m                 0.00               0.00        0.00"
      ]
     },
     "metadata": {},
     "output_type": "display_data"
    },
    {
     "name": "stdout",
     "output_type": "stream",
     "text": [
      "Model Details\n",
      "=============\n",
      "H2OGeneralizedLinearEstimator :  Generalized Linear Modeling\n",
      "Model Key:  GLM_model_python_1638529468365_1\n",
      "\n",
      "\n",
      "GLM Model: summary\n"
     ]
    },
    {
     "data": {
      "text/html": [
       "<div>\n",
       "<style scoped>\n",
       "    .dataframe tbody tr th:only-of-type {\n",
       "        vertical-align: middle;\n",
       "    }\n",
       "\n",
       "    .dataframe tbody tr th {\n",
       "        vertical-align: top;\n",
       "    }\n",
       "\n",
       "    .dataframe thead th {\n",
       "        text-align: right;\n",
       "    }\n",
       "</style>\n",
       "<table border=\"1\" class=\"dataframe\">\n",
       "  <thead>\n",
       "    <tr style=\"text-align: right;\">\n",
       "      <th></th>\n",
       "      <th></th>\n",
       "      <th>family</th>\n",
       "      <th>link</th>\n",
       "      <th>regularization</th>\n",
       "      <th>number_of_predictors_total</th>\n",
       "      <th>number_of_active_predictors</th>\n",
       "      <th>number_of_iterations</th>\n",
       "      <th>training_frame</th>\n",
       "    </tr>\n",
       "  </thead>\n",
       "  <tbody>\n",
       "    <tr>\n",
       "      <th>0</th>\n",
       "      <td></td>\n",
       "      <td>gamma</td>\n",
       "      <td>log</td>\n",
       "      <td>Elastic Net (alpha = 0.5, lambda = 0.001825 )</td>\n",
       "      <td>11</td>\n",
       "      <td>10</td>\n",
       "      <td>8</td>\n",
       "      <td>Key_Frame__upload_bed28a22283c84f2a5e80d70d1b24d4b.hex</td>\n",
       "    </tr>\n",
       "  </tbody>\n",
       "</table>\n",
       "</div>"
      ],
      "text/plain": [
       "    family link                                 regularization  \\\n",
       "0    gamma  log  Elastic Net (alpha = 0.5, lambda = 0.001825 )   \n",
       "\n",
       "   number_of_predictors_total number_of_active_predictors  \\\n",
       "0                          11                          10   \n",
       "\n",
       "   number_of_iterations  \\\n",
       "0                     8   \n",
       "\n",
       "                                           training_frame  \n",
       "0  Key_Frame__upload_bed28a22283c84f2a5e80d70d1b24d4b.hex  "
      ]
     },
     "metadata": {},
     "output_type": "display_data"
    },
    {
     "name": "stdout",
     "output_type": "stream",
     "text": [
      "\n",
      "\n",
      "ModelMetricsRegressionGLM: glm\n",
      "** Reported on train data. **\n",
      "\n",
      "MSE: 86347495.37806311\n",
      "RMSE: 9292.335302713904\n",
      "MAE: 2350.2669145955892\n",
      "RMSLE: 1.7468139514234649\n",
      "R^2: -0.011339170162486756\n",
      "Mean Residual Deviance: 2.0827971487219292\n",
      "Null degrees of freedom: 10871\n",
      "Residual degrees of freedom: 10861\n",
      "Null deviance: 56280.753410690704\n",
      "Residual deviance: 22644.170600904814\n",
      "AIC: NaN\n",
      "\n",
      "ModelMetricsRegressionGLM: glm\n",
      "** Reported on validation data. **\n",
      "\n",
      "MSE: 292795010.338008\n",
      "RMSE: 17111.25390899241\n",
      "MAE: 2565.6489323946876\n",
      "RMSLE: 1.755816358282092\n",
      "R^2: -0.003847731214389194\n",
      "Mean Residual Deviance: 2.381531192097885\n",
      "Null degrees of freedom: 2329\n",
      "Residual degrees of freedom: 2319\n",
      "Null deviance: 12098.930539986566\n",
      "Residual deviance: 5548.967677588073\n",
      "AIC: NaN\n",
      "\n",
      "Scoring History: \n"
     ]
    },
    {
     "data": {
      "text/html": [
       "<div>\n",
       "<style scoped>\n",
       "    .dataframe tbody tr th:only-of-type {\n",
       "        vertical-align: middle;\n",
       "    }\n",
       "\n",
       "    .dataframe tbody tr th {\n",
       "        vertical-align: top;\n",
       "    }\n",
       "\n",
       "    .dataframe thead th {\n",
       "        text-align: right;\n",
       "    }\n",
       "</style>\n",
       "<table border=\"1\" class=\"dataframe\">\n",
       "  <thead>\n",
       "    <tr style=\"text-align: right;\">\n",
       "      <th></th>\n",
       "      <th></th>\n",
       "      <th>timestamp</th>\n",
       "      <th>duration</th>\n",
       "      <th>iterations</th>\n",
       "      <th>negative_log_likelihood</th>\n",
       "      <th>objective</th>\n",
       "      <th>training_rmse</th>\n",
       "      <th>training_deviance</th>\n",
       "      <th>training_mae</th>\n",
       "      <th>training_r2</th>\n",
       "      <th>validation_rmse</th>\n",
       "      <th>validation_deviance</th>\n",
       "      <th>validation_mae</th>\n",
       "      <th>validation_r2</th>\n",
       "    </tr>\n",
       "  </thead>\n",
       "  <tbody>\n",
       "    <tr>\n",
       "      <th>0</th>\n",
       "      <td></td>\n",
       "      <td>2021-12-03 11:04:39</td>\n",
       "      <td>0.000 sec</td>\n",
       "      <td>0</td>\n",
       "      <td>56280.75</td>\n",
       "      <td>5.18</td>\n",
       "      <td></td>\n",
       "      <td></td>\n",
       "      <td></td>\n",
       "      <td></td>\n",
       "      <td></td>\n",
       "      <td></td>\n",
       "      <td></td>\n",
       "      <td></td>\n",
       "    </tr>\n",
       "    <tr>\n",
       "      <th>1</th>\n",
       "      <td></td>\n",
       "      <td>2021-12-03 11:04:39</td>\n",
       "      <td>0.213 sec</td>\n",
       "      <td>1</td>\n",
       "      <td>39256.22</td>\n",
       "      <td>3.61</td>\n",
       "      <td></td>\n",
       "      <td></td>\n",
       "      <td></td>\n",
       "      <td></td>\n",
       "      <td></td>\n",
       "      <td></td>\n",
       "      <td></td>\n",
       "      <td></td>\n",
       "    </tr>\n",
       "    <tr>\n",
       "      <th>2</th>\n",
       "      <td></td>\n",
       "      <td>2021-12-03 11:04:39</td>\n",
       "      <td>0.258 sec</td>\n",
       "      <td>2</td>\n",
       "      <td>27770.77</td>\n",
       "      <td>2.55</td>\n",
       "      <td></td>\n",
       "      <td></td>\n",
       "      <td></td>\n",
       "      <td></td>\n",
       "      <td></td>\n",
       "      <td></td>\n",
       "      <td></td>\n",
       "      <td></td>\n",
       "    </tr>\n",
       "    <tr>\n",
       "      <th>3</th>\n",
       "      <td></td>\n",
       "      <td>2021-12-03 11:04:39</td>\n",
       "      <td>0.292 sec</td>\n",
       "      <td>3</td>\n",
       "      <td>23284.30</td>\n",
       "      <td>2.14</td>\n",
       "      <td></td>\n",
       "      <td></td>\n",
       "      <td></td>\n",
       "      <td></td>\n",
       "      <td></td>\n",
       "      <td></td>\n",
       "      <td></td>\n",
       "      <td></td>\n",
       "    </tr>\n",
       "    <tr>\n",
       "      <th>4</th>\n",
       "      <td></td>\n",
       "      <td>2021-12-03 11:04:39</td>\n",
       "      <td>0.323 sec</td>\n",
       "      <td>4</td>\n",
       "      <td>22673.04</td>\n",
       "      <td>2.09</td>\n",
       "      <td></td>\n",
       "      <td></td>\n",
       "      <td></td>\n",
       "      <td></td>\n",
       "      <td></td>\n",
       "      <td></td>\n",
       "      <td></td>\n",
       "      <td></td>\n",
       "    </tr>\n",
       "    <tr>\n",
       "      <th>5</th>\n",
       "      <td></td>\n",
       "      <td>2021-12-03 11:04:39</td>\n",
       "      <td>0.364 sec</td>\n",
       "      <td>5</td>\n",
       "      <td>22655.78</td>\n",
       "      <td>2.08</td>\n",
       "      <td></td>\n",
       "      <td></td>\n",
       "      <td></td>\n",
       "      <td></td>\n",
       "      <td></td>\n",
       "      <td></td>\n",
       "      <td></td>\n",
       "      <td></td>\n",
       "    </tr>\n",
       "    <tr>\n",
       "      <th>6</th>\n",
       "      <td></td>\n",
       "      <td>2021-12-03 11:04:39</td>\n",
       "      <td>0.399 sec</td>\n",
       "      <td>6</td>\n",
       "      <td>22655.79</td>\n",
       "      <td>2.08</td>\n",
       "      <td></td>\n",
       "      <td></td>\n",
       "      <td></td>\n",
       "      <td></td>\n",
       "      <td></td>\n",
       "      <td></td>\n",
       "      <td></td>\n",
       "      <td></td>\n",
       "    </tr>\n",
       "    <tr>\n",
       "      <th>7</th>\n",
       "      <td></td>\n",
       "      <td>2021-12-03 11:04:40</td>\n",
       "      <td>0.500 sec</td>\n",
       "      <td>7</td>\n",
       "      <td>22644.85</td>\n",
       "      <td>2.08</td>\n",
       "      <td></td>\n",
       "      <td></td>\n",
       "      <td></td>\n",
       "      <td></td>\n",
       "      <td></td>\n",
       "      <td></td>\n",
       "      <td></td>\n",
       "      <td></td>\n",
       "    </tr>\n",
       "    <tr>\n",
       "      <th>8</th>\n",
       "      <td></td>\n",
       "      <td>2021-12-03 11:04:40</td>\n",
       "      <td>0.548 sec</td>\n",
       "      <td>8</td>\n",
       "      <td>22644.17</td>\n",
       "      <td>2.08</td>\n",
       "      <td>9292.34</td>\n",
       "      <td>2.08</td>\n",
       "      <td>2350.27</td>\n",
       "      <td>-0.01</td>\n",
       "      <td>17111.25</td>\n",
       "      <td>2.38</td>\n",
       "      <td>2565.65</td>\n",
       "      <td>-0.00</td>\n",
       "    </tr>\n",
       "  </tbody>\n",
       "</table>\n",
       "</div>"
      ],
      "text/plain": [
       "               timestamp    duration  iterations  negative_log_likelihood  \\\n",
       "0    2021-12-03 11:04:39   0.000 sec           0                 56280.75   \n",
       "1    2021-12-03 11:04:39   0.213 sec           1                 39256.22   \n",
       "2    2021-12-03 11:04:39   0.258 sec           2                 27770.77   \n",
       "3    2021-12-03 11:04:39   0.292 sec           3                 23284.30   \n",
       "4    2021-12-03 11:04:39   0.323 sec           4                 22673.04   \n",
       "5    2021-12-03 11:04:39   0.364 sec           5                 22655.78   \n",
       "6    2021-12-03 11:04:39   0.399 sec           6                 22655.79   \n",
       "7    2021-12-03 11:04:40   0.500 sec           7                 22644.85   \n",
       "8    2021-12-03 11:04:40   0.548 sec           8                 22644.17   \n",
       "\n",
       "   objective training_rmse training_deviance training_mae training_r2  \\\n",
       "0       5.18                                                            \n",
       "1       3.61                                                            \n",
       "2       2.55                                                            \n",
       "3       2.14                                                            \n",
       "4       2.09                                                            \n",
       "5       2.08                                                            \n",
       "6       2.08                                                            \n",
       "7       2.08                                                            \n",
       "8       2.08       9292.34              2.08      2350.27       -0.01   \n",
       "\n",
       "  validation_rmse validation_deviance validation_mae validation_r2  \n",
       "0                                                                   \n",
       "1                                                                   \n",
       "2                                                                   \n",
       "3                                                                   \n",
       "4                                                                   \n",
       "5                                                                   \n",
       "6                                                                   \n",
       "7                                                                   \n",
       "8        17111.25                2.38        2565.65         -0.00  "
      ]
     },
     "metadata": {},
     "output_type": "display_data"
    },
    {
     "name": "stdout",
     "output_type": "stream",
     "text": [
      "\n",
      "Variable Importances: \n"
     ]
    },
    {
     "data": {
      "text/html": [
       "<div>\n",
       "<style scoped>\n",
       "    .dataframe tbody tr th:only-of-type {\n",
       "        vertical-align: middle;\n",
       "    }\n",
       "\n",
       "    .dataframe tbody tr th {\n",
       "        vertical-align: top;\n",
       "    }\n",
       "\n",
       "    .dataframe thead th {\n",
       "        text-align: right;\n",
       "    }\n",
       "</style>\n",
       "<table border=\"1\" class=\"dataframe\">\n",
       "  <thead>\n",
       "    <tr style=\"text-align: right;\">\n",
       "      <th></th>\n",
       "      <th>variable</th>\n",
       "      <th>relative_importance</th>\n",
       "      <th>scaled_importance</th>\n",
       "      <th>percentage</th>\n",
       "    </tr>\n",
       "  </thead>\n",
       "  <tbody>\n",
       "    <tr>\n",
       "      <th>0</th>\n",
       "      <td>Age_f_2</td>\n",
       "      <td>0.35</td>\n",
       "      <td>1.00</td>\n",
       "      <td>0.25</td>\n",
       "    </tr>\n",
       "    <tr>\n",
       "      <th>1</th>\n",
       "      <td>Age_f</td>\n",
       "      <td>0.27</td>\n",
       "      <td>0.76</td>\n",
       "      <td>0.19</td>\n",
       "    </tr>\n",
       "    <tr>\n",
       "      <th>2</th>\n",
       "      <td>Age_m_2</td>\n",
       "      <td>0.20</td>\n",
       "      <td>0.57</td>\n",
       "      <td>0.15</td>\n",
       "    </tr>\n",
       "    <tr>\n",
       "      <th>3</th>\n",
       "      <td>BonusMalus</td>\n",
       "      <td>0.11</td>\n",
       "      <td>0.32</td>\n",
       "      <td>0.08</td>\n",
       "    </tr>\n",
       "    <tr>\n",
       "      <th>4</th>\n",
       "      <td>MariStat</td>\n",
       "      <td>0.11</td>\n",
       "      <td>0.31</td>\n",
       "      <td>0.08</td>\n",
       "    </tr>\n",
       "    <tr>\n",
       "      <th>5</th>\n",
       "      <td>RiskArea</td>\n",
       "      <td>0.09</td>\n",
       "      <td>0.26</td>\n",
       "      <td>0.07</td>\n",
       "    </tr>\n",
       "    <tr>\n",
       "      <th>6</th>\n",
       "      <td>DrivAge</td>\n",
       "      <td>0.09</td>\n",
       "      <td>0.26</td>\n",
       "      <td>0.06</td>\n",
       "    </tr>\n",
       "    <tr>\n",
       "      <th>7</th>\n",
       "      <td>Gender</td>\n",
       "      <td>0.08</td>\n",
       "      <td>0.23</td>\n",
       "      <td>0.06</td>\n",
       "    </tr>\n",
       "    <tr>\n",
       "      <th>8</th>\n",
       "      <td>LicAge</td>\n",
       "      <td>0.07</td>\n",
       "      <td>0.20</td>\n",
       "      <td>0.05</td>\n",
       "    </tr>\n",
       "    <tr>\n",
       "      <th>9</th>\n",
       "      <td>HasKmLimit</td>\n",
       "      <td>0.02</td>\n",
       "      <td>0.04</td>\n",
       "      <td>0.01</td>\n",
       "    </tr>\n",
       "    <tr>\n",
       "      <th>10</th>\n",
       "      <td>Age_m</td>\n",
       "      <td>0.00</td>\n",
       "      <td>0.00</td>\n",
       "      <td>0.00</td>\n",
       "    </tr>\n",
       "  </tbody>\n",
       "</table>\n",
       "</div>"
      ],
      "text/plain": [
       "      variable  relative_importance  scaled_importance  percentage\n",
       "0      Age_f_2                 0.35               1.00        0.25\n",
       "1        Age_f                 0.27               0.76        0.19\n",
       "2      Age_m_2                 0.20               0.57        0.15\n",
       "3   BonusMalus                 0.11               0.32        0.08\n",
       "4     MariStat                 0.11               0.31        0.08\n",
       "5     RiskArea                 0.09               0.26        0.07\n",
       "6      DrivAge                 0.09               0.26        0.06\n",
       "7       Gender                 0.08               0.23        0.06\n",
       "8       LicAge                 0.07               0.20        0.05\n",
       "9   HasKmLimit                 0.02               0.04        0.01\n",
       "10       Age_m                 0.00               0.00        0.00"
      ]
     },
     "metadata": {},
     "output_type": "display_data"
    },
    {
     "name": "stdout",
     "output_type": "stream",
     "text": [
      "Model Details\n",
      "=============\n",
      "H2OGeneralizedLinearEstimator :  Generalized Linear Modeling\n",
      "Model Key:  GLM_model_python_1638529468365_1\n",
      "\n",
      "\n",
      "GLM Model: summary\n"
     ]
    },
    {
     "data": {
      "text/html": [
       "<div>\n",
       "<style scoped>\n",
       "    .dataframe tbody tr th:only-of-type {\n",
       "        vertical-align: middle;\n",
       "    }\n",
       "\n",
       "    .dataframe tbody tr th {\n",
       "        vertical-align: top;\n",
       "    }\n",
       "\n",
       "    .dataframe thead th {\n",
       "        text-align: right;\n",
       "    }\n",
       "</style>\n",
       "<table border=\"1\" class=\"dataframe\">\n",
       "  <thead>\n",
       "    <tr style=\"text-align: right;\">\n",
       "      <th></th>\n",
       "      <th></th>\n",
       "      <th>family</th>\n",
       "      <th>link</th>\n",
       "      <th>regularization</th>\n",
       "      <th>number_of_predictors_total</th>\n",
       "      <th>number_of_active_predictors</th>\n",
       "      <th>number_of_iterations</th>\n",
       "      <th>training_frame</th>\n",
       "    </tr>\n",
       "  </thead>\n",
       "  <tbody>\n",
       "    <tr>\n",
       "      <th>0</th>\n",
       "      <td></td>\n",
       "      <td>gamma</td>\n",
       "      <td>log</td>\n",
       "      <td>Elastic Net (alpha = 0.5, lambda = 0.001825 )</td>\n",
       "      <td>11</td>\n",
       "      <td>10</td>\n",
       "      <td>8</td>\n",
       "      <td>Key_Frame__upload_bed28a22283c84f2a5e80d70d1b24d4b.hex</td>\n",
       "    </tr>\n",
       "  </tbody>\n",
       "</table>\n",
       "</div>"
      ],
      "text/plain": [
       "    family link                                 regularization  \\\n",
       "0    gamma  log  Elastic Net (alpha = 0.5, lambda = 0.001825 )   \n",
       "\n",
       "   number_of_predictors_total number_of_active_predictors  \\\n",
       "0                          11                          10   \n",
       "\n",
       "   number_of_iterations  \\\n",
       "0                     8   \n",
       "\n",
       "                                           training_frame  \n",
       "0  Key_Frame__upload_bed28a22283c84f2a5e80d70d1b24d4b.hex  "
      ]
     },
     "metadata": {},
     "output_type": "display_data"
    },
    {
     "name": "stdout",
     "output_type": "stream",
     "text": [
      "\n",
      "\n",
      "ModelMetricsRegressionGLM: glm\n",
      "** Reported on train data. **\n",
      "\n",
      "MSE: 86347495.37806311\n",
      "RMSE: 9292.335302713904\n",
      "MAE: 2350.2669145955892\n",
      "RMSLE: 1.7468139514234649\n",
      "R^2: -0.011339170162486756\n",
      "Mean Residual Deviance: 2.0827971487219292\n",
      "Null degrees of freedom: 10871\n",
      "Residual degrees of freedom: 10861\n",
      "Null deviance: 56280.753410690704\n",
      "Residual deviance: 22644.170600904814\n",
      "AIC: NaN\n",
      "\n",
      "ModelMetricsRegressionGLM: glm\n",
      "** Reported on validation data. **\n",
      "\n",
      "MSE: 292795010.338008\n",
      "RMSE: 17111.25390899241\n",
      "MAE: 2565.6489323946876\n",
      "RMSLE: 1.755816358282092\n",
      "R^2: -0.003847731214389194\n",
      "Mean Residual Deviance: 2.381531192097885\n",
      "Null degrees of freedom: 2329\n",
      "Residual degrees of freedom: 2319\n",
      "Null deviance: 12098.930539986566\n",
      "Residual deviance: 5548.967677588073\n",
      "AIC: NaN\n",
      "\n",
      "Scoring History: \n"
     ]
    },
    {
     "data": {
      "text/html": [
       "<div>\n",
       "<style scoped>\n",
       "    .dataframe tbody tr th:only-of-type {\n",
       "        vertical-align: middle;\n",
       "    }\n",
       "\n",
       "    .dataframe tbody tr th {\n",
       "        vertical-align: top;\n",
       "    }\n",
       "\n",
       "    .dataframe thead th {\n",
       "        text-align: right;\n",
       "    }\n",
       "</style>\n",
       "<table border=\"1\" class=\"dataframe\">\n",
       "  <thead>\n",
       "    <tr style=\"text-align: right;\">\n",
       "      <th></th>\n",
       "      <th></th>\n",
       "      <th>timestamp</th>\n",
       "      <th>duration</th>\n",
       "      <th>iterations</th>\n",
       "      <th>negative_log_likelihood</th>\n",
       "      <th>objective</th>\n",
       "      <th>training_rmse</th>\n",
       "      <th>training_deviance</th>\n",
       "      <th>training_mae</th>\n",
       "      <th>training_r2</th>\n",
       "      <th>validation_rmse</th>\n",
       "      <th>validation_deviance</th>\n",
       "      <th>validation_mae</th>\n",
       "      <th>validation_r2</th>\n",
       "    </tr>\n",
       "  </thead>\n",
       "  <tbody>\n",
       "    <tr>\n",
       "      <th>0</th>\n",
       "      <td></td>\n",
       "      <td>2021-12-03 11:04:39</td>\n",
       "      <td>0.000 sec</td>\n",
       "      <td>0</td>\n",
       "      <td>56280.75</td>\n",
       "      <td>5.18</td>\n",
       "      <td></td>\n",
       "      <td></td>\n",
       "      <td></td>\n",
       "      <td></td>\n",
       "      <td></td>\n",
       "      <td></td>\n",
       "      <td></td>\n",
       "      <td></td>\n",
       "    </tr>\n",
       "    <tr>\n",
       "      <th>1</th>\n",
       "      <td></td>\n",
       "      <td>2021-12-03 11:04:39</td>\n",
       "      <td>0.213 sec</td>\n",
       "      <td>1</td>\n",
       "      <td>39256.22</td>\n",
       "      <td>3.61</td>\n",
       "      <td></td>\n",
       "      <td></td>\n",
       "      <td></td>\n",
       "      <td></td>\n",
       "      <td></td>\n",
       "      <td></td>\n",
       "      <td></td>\n",
       "      <td></td>\n",
       "    </tr>\n",
       "    <tr>\n",
       "      <th>2</th>\n",
       "      <td></td>\n",
       "      <td>2021-12-03 11:04:39</td>\n",
       "      <td>0.258 sec</td>\n",
       "      <td>2</td>\n",
       "      <td>27770.77</td>\n",
       "      <td>2.55</td>\n",
       "      <td></td>\n",
       "      <td></td>\n",
       "      <td></td>\n",
       "      <td></td>\n",
       "      <td></td>\n",
       "      <td></td>\n",
       "      <td></td>\n",
       "      <td></td>\n",
       "    </tr>\n",
       "    <tr>\n",
       "      <th>3</th>\n",
       "      <td></td>\n",
       "      <td>2021-12-03 11:04:39</td>\n",
       "      <td>0.292 sec</td>\n",
       "      <td>3</td>\n",
       "      <td>23284.30</td>\n",
       "      <td>2.14</td>\n",
       "      <td></td>\n",
       "      <td></td>\n",
       "      <td></td>\n",
       "      <td></td>\n",
       "      <td></td>\n",
       "      <td></td>\n",
       "      <td></td>\n",
       "      <td></td>\n",
       "    </tr>\n",
       "    <tr>\n",
       "      <th>4</th>\n",
       "      <td></td>\n",
       "      <td>2021-12-03 11:04:39</td>\n",
       "      <td>0.323 sec</td>\n",
       "      <td>4</td>\n",
       "      <td>22673.04</td>\n",
       "      <td>2.09</td>\n",
       "      <td></td>\n",
       "      <td></td>\n",
       "      <td></td>\n",
       "      <td></td>\n",
       "      <td></td>\n",
       "      <td></td>\n",
       "      <td></td>\n",
       "      <td></td>\n",
       "    </tr>\n",
       "    <tr>\n",
       "      <th>5</th>\n",
       "      <td></td>\n",
       "      <td>2021-12-03 11:04:39</td>\n",
       "      <td>0.364 sec</td>\n",
       "      <td>5</td>\n",
       "      <td>22655.78</td>\n",
       "      <td>2.08</td>\n",
       "      <td></td>\n",
       "      <td></td>\n",
       "      <td></td>\n",
       "      <td></td>\n",
       "      <td></td>\n",
       "      <td></td>\n",
       "      <td></td>\n",
       "      <td></td>\n",
       "    </tr>\n",
       "    <tr>\n",
       "      <th>6</th>\n",
       "      <td></td>\n",
       "      <td>2021-12-03 11:04:39</td>\n",
       "      <td>0.399 sec</td>\n",
       "      <td>6</td>\n",
       "      <td>22655.79</td>\n",
       "      <td>2.08</td>\n",
       "      <td></td>\n",
       "      <td></td>\n",
       "      <td></td>\n",
       "      <td></td>\n",
       "      <td></td>\n",
       "      <td></td>\n",
       "      <td></td>\n",
       "      <td></td>\n",
       "    </tr>\n",
       "    <tr>\n",
       "      <th>7</th>\n",
       "      <td></td>\n",
       "      <td>2021-12-03 11:04:40</td>\n",
       "      <td>0.500 sec</td>\n",
       "      <td>7</td>\n",
       "      <td>22644.85</td>\n",
       "      <td>2.08</td>\n",
       "      <td></td>\n",
       "      <td></td>\n",
       "      <td></td>\n",
       "      <td></td>\n",
       "      <td></td>\n",
       "      <td></td>\n",
       "      <td></td>\n",
       "      <td></td>\n",
       "    </tr>\n",
       "    <tr>\n",
       "      <th>8</th>\n",
       "      <td></td>\n",
       "      <td>2021-12-03 11:04:40</td>\n",
       "      <td>0.548 sec</td>\n",
       "      <td>8</td>\n",
       "      <td>22644.17</td>\n",
       "      <td>2.08</td>\n",
       "      <td>9292.34</td>\n",
       "      <td>2.08</td>\n",
       "      <td>2350.27</td>\n",
       "      <td>-0.01</td>\n",
       "      <td>17111.25</td>\n",
       "      <td>2.38</td>\n",
       "      <td>2565.65</td>\n",
       "      <td>-0.00</td>\n",
       "    </tr>\n",
       "  </tbody>\n",
       "</table>\n",
       "</div>"
      ],
      "text/plain": [
       "               timestamp    duration  iterations  negative_log_likelihood  \\\n",
       "0    2021-12-03 11:04:39   0.000 sec           0                 56280.75   \n",
       "1    2021-12-03 11:04:39   0.213 sec           1                 39256.22   \n",
       "2    2021-12-03 11:04:39   0.258 sec           2                 27770.77   \n",
       "3    2021-12-03 11:04:39   0.292 sec           3                 23284.30   \n",
       "4    2021-12-03 11:04:39   0.323 sec           4                 22673.04   \n",
       "5    2021-12-03 11:04:39   0.364 sec           5                 22655.78   \n",
       "6    2021-12-03 11:04:39   0.399 sec           6                 22655.79   \n",
       "7    2021-12-03 11:04:40   0.500 sec           7                 22644.85   \n",
       "8    2021-12-03 11:04:40   0.548 sec           8                 22644.17   \n",
       "\n",
       "   objective training_rmse training_deviance training_mae training_r2  \\\n",
       "0       5.18                                                            \n",
       "1       3.61                                                            \n",
       "2       2.55                                                            \n",
       "3       2.14                                                            \n",
       "4       2.09                                                            \n",
       "5       2.08                                                            \n",
       "6       2.08                                                            \n",
       "7       2.08                                                            \n",
       "8       2.08       9292.34              2.08      2350.27       -0.01   \n",
       "\n",
       "  validation_rmse validation_deviance validation_mae validation_r2  \n",
       "0                                                                   \n",
       "1                                                                   \n",
       "2                                                                   \n",
       "3                                                                   \n",
       "4                                                                   \n",
       "5                                                                   \n",
       "6                                                                   \n",
       "7                                                                   \n",
       "8        17111.25                2.38        2565.65         -0.00  "
      ]
     },
     "metadata": {},
     "output_type": "display_data"
    },
    {
     "name": "stdout",
     "output_type": "stream",
     "text": [
      "\n",
      "Variable Importances: \n"
     ]
    },
    {
     "data": {
      "text/html": [
       "<div>\n",
       "<style scoped>\n",
       "    .dataframe tbody tr th:only-of-type {\n",
       "        vertical-align: middle;\n",
       "    }\n",
       "\n",
       "    .dataframe tbody tr th {\n",
       "        vertical-align: top;\n",
       "    }\n",
       "\n",
       "    .dataframe thead th {\n",
       "        text-align: right;\n",
       "    }\n",
       "</style>\n",
       "<table border=\"1\" class=\"dataframe\">\n",
       "  <thead>\n",
       "    <tr style=\"text-align: right;\">\n",
       "      <th></th>\n",
       "      <th>variable</th>\n",
       "      <th>relative_importance</th>\n",
       "      <th>scaled_importance</th>\n",
       "      <th>percentage</th>\n",
       "    </tr>\n",
       "  </thead>\n",
       "  <tbody>\n",
       "    <tr>\n",
       "      <th>0</th>\n",
       "      <td>Age_f_2</td>\n",
       "      <td>0.35</td>\n",
       "      <td>1.00</td>\n",
       "      <td>0.25</td>\n",
       "    </tr>\n",
       "    <tr>\n",
       "      <th>1</th>\n",
       "      <td>Age_f</td>\n",
       "      <td>0.27</td>\n",
       "      <td>0.76</td>\n",
       "      <td>0.19</td>\n",
       "    </tr>\n",
       "    <tr>\n",
       "      <th>2</th>\n",
       "      <td>Age_m_2</td>\n",
       "      <td>0.20</td>\n",
       "      <td>0.57</td>\n",
       "      <td>0.15</td>\n",
       "    </tr>\n",
       "    <tr>\n",
       "      <th>3</th>\n",
       "      <td>BonusMalus</td>\n",
       "      <td>0.11</td>\n",
       "      <td>0.32</td>\n",
       "      <td>0.08</td>\n",
       "    </tr>\n",
       "    <tr>\n",
       "      <th>4</th>\n",
       "      <td>MariStat</td>\n",
       "      <td>0.11</td>\n",
       "      <td>0.31</td>\n",
       "      <td>0.08</td>\n",
       "    </tr>\n",
       "    <tr>\n",
       "      <th>5</th>\n",
       "      <td>RiskArea</td>\n",
       "      <td>0.09</td>\n",
       "      <td>0.26</td>\n",
       "      <td>0.07</td>\n",
       "    </tr>\n",
       "    <tr>\n",
       "      <th>6</th>\n",
       "      <td>DrivAge</td>\n",
       "      <td>0.09</td>\n",
       "      <td>0.26</td>\n",
       "      <td>0.06</td>\n",
       "    </tr>\n",
       "    <tr>\n",
       "      <th>7</th>\n",
       "      <td>Gender</td>\n",
       "      <td>0.08</td>\n",
       "      <td>0.23</td>\n",
       "      <td>0.06</td>\n",
       "    </tr>\n",
       "    <tr>\n",
       "      <th>8</th>\n",
       "      <td>LicAge</td>\n",
       "      <td>0.07</td>\n",
       "      <td>0.20</td>\n",
       "      <td>0.05</td>\n",
       "    </tr>\n",
       "    <tr>\n",
       "      <th>9</th>\n",
       "      <td>HasKmLimit</td>\n",
       "      <td>0.02</td>\n",
       "      <td>0.04</td>\n",
       "      <td>0.01</td>\n",
       "    </tr>\n",
       "    <tr>\n",
       "      <th>10</th>\n",
       "      <td>Age_m</td>\n",
       "      <td>0.00</td>\n",
       "      <td>0.00</td>\n",
       "      <td>0.00</td>\n",
       "    </tr>\n",
       "  </tbody>\n",
       "</table>\n",
       "</div>"
      ],
      "text/plain": [
       "      variable  relative_importance  scaled_importance  percentage\n",
       "0      Age_f_2                 0.35               1.00        0.25\n",
       "1        Age_f                 0.27               0.76        0.19\n",
       "2      Age_m_2                 0.20               0.57        0.15\n",
       "3   BonusMalus                 0.11               0.32        0.08\n",
       "4     MariStat                 0.11               0.31        0.08\n",
       "5     RiskArea                 0.09               0.26        0.07\n",
       "6      DrivAge                 0.09               0.26        0.06\n",
       "7       Gender                 0.08               0.23        0.06\n",
       "8       LicAge                 0.07               0.20        0.05\n",
       "9   HasKmLimit                 0.02               0.04        0.01\n",
       "10       Age_m                 0.00               0.00        0.00"
      ]
     },
     "metadata": {},
     "output_type": "display_data"
    },
    {
     "data": {
      "application/vnd.jupyter.widget-view+json": {
       "model_id": "883a7ce0984240719875065b0089ec25",
       "version_major": 2,
       "version_minor": 0
      },
      "text/plain": [
       "Summarize dataset:   0%|          | 0/5 [00:00<?, ?it/s]"
      ]
     },
     "metadata": {},
     "output_type": "display_data"
    },
    {
     "data": {
      "application/vnd.jupyter.widget-view+json": {
       "model_id": "77e7d5e847ee47839e596b8451eabdac",
       "version_major": 2,
       "version_minor": 0
      },
      "text/plain": [
       "Generate report structure:   0%|          | 0/1 [00:00<?, ?it/s]"
      ]
     },
     "metadata": {},
     "output_type": "display_data"
    },
    {
     "data": {
      "application/vnd.jupyter.widget-view+json": {
       "model_id": "12bf4cfaacda40f98a196c9d44a1b082",
       "version_major": 2,
       "version_minor": 0
      },
      "text/plain": [
       "Render HTML:   0%|          | 0/1 [00:00<?, ?it/s]"
      ]
     },
     "metadata": {},
     "output_type": "display_data"
    },
    {
     "data": {
      "application/vnd.jupyter.widget-view+json": {
       "model_id": "af81c6d42ba4422280a336d634cc0569",
       "version_major": 2,
       "version_minor": 0
      },
      "text/plain": [
       "Export report to file:   0%|          | 0/1 [00:00<?, ?it/s]"
      ]
     },
     "metadata": {},
     "output_type": "display_data"
    }
   ],
   "source": [
    "# iglm_h2o\n",
    "iglm = InsolverGLMWrapper(backend='h2o', family='gamma', link='log')\n",
    "iglm.fit(x_train, y_train, sample_weight=offset_train, X_valid=x_valid, y_valid=y_valid, sample_weight_valid=offset_valid)\n",
    "predict_glm_train = iglm.predict(x_train, sample_weight=offset_train)\n",
    "predict_glm_test = iglm.predict(x_test, sample_weight=offset_test)\n",
    "\n",
    "r = Report(model=iglm,\n",
    "           task='reg',\n",
    "           X_train=x_train,\n",
    "           y_train=y_train,\n",
    "           predicted_train=pd.Series(predict_glm_train),\n",
    "           X_test=x_test,\n",
    "           y_test=y_test,\n",
    "           predicted_test=pd.Series(predict_glm_test),\n",
    "           )\n",
    "r.to_html(report_name='1_glm_h2o_report')"
   ]
  },
  {
   "cell_type": "code",
   "execution_count": 11,
   "id": "f3a38fcd",
   "metadata": {},
   "outputs": [
    {
     "data": {
      "application/vnd.jupyter.widget-view+json": {
       "model_id": "ab3c7f9c1ba641bca7b7c0be336b06d1",
       "version_major": 2,
       "version_minor": 0
      },
      "text/plain": [
       "Summarize dataset:   0%|          | 0/5 [00:00<?, ?it/s]"
      ]
     },
     "metadata": {},
     "output_type": "display_data"
    },
    {
     "data": {
      "application/vnd.jupyter.widget-view+json": {
       "model_id": "7fe9f4d0d11f4a09bdd3fff206e2ad18",
       "version_major": 2,
       "version_minor": 0
      },
      "text/plain": [
       "Generate report structure:   0%|          | 0/1 [00:00<?, ?it/s]"
      ]
     },
     "metadata": {},
     "output_type": "display_data"
    },
    {
     "data": {
      "application/vnd.jupyter.widget-view+json": {
       "model_id": "1af37e099da7401593811f5590164903",
       "version_major": 2,
       "version_minor": 0
      },
      "text/plain": [
       "Render HTML:   0%|          | 0/1 [00:00<?, ?it/s]"
      ]
     },
     "metadata": {},
     "output_type": "display_data"
    },
    {
     "data": {
      "application/vnd.jupyter.widget-view+json": {
       "model_id": "5d6429f856a24ece9787689bc49b8c59",
       "version_major": 2,
       "version_minor": 0
      },
      "text/plain": [
       "Export report to file:   0%|          | 0/1 [00:00<?, ?it/s]"
      ]
     },
     "metadata": {},
     "output_type": "display_data"
    }
   ],
   "source": [
    "# iglm_sklearn\n",
    "iglm2 = InsolverGLMWrapper(backend='sklearn', family='gamma', link='log', standardize=True)\n",
    "iglm2.fit(x_train, y_train, sample_weight=offset_train)\n",
    "predict_glm2_train = iglm2.predict(x_train, sample_weight=offset_train)\n",
    "predict_glm2_test = iglm2.predict(x_test, sample_weight=offset_test)\n",
    "\n",
    "r = Report(model=iglm2,\n",
    "           task='reg',\n",
    "           X_train=x_train,\n",
    "           y_train=y_train,\n",
    "           predicted_train=pd.Series(predict_glm2_train),\n",
    "           X_test=x_test,\n",
    "           y_test=y_test,\n",
    "           predicted_test=pd.Series(predict_glm2_test),\n",
    "           )\n",
    "r.to_html(report_name='2_glm_sklearn_report')"
   ]
  },
  {
   "cell_type": "code",
   "execution_count": 12,
   "id": "cd89400a",
   "metadata": {},
   "outputs": [
    {
     "name": "stderr",
     "output_type": "stream",
     "text": [
      "/opt/conda/lib/python3.9/site-packages/xgboost/core.py:105: UserWarning:\n",
      "\n",
      "ntree_limit is deprecated, use `iteration_range` or model slicing instead.\n",
      "\n"
     ]
    },
    {
     "data": {
      "application/vnd.jupyter.widget-view+json": {
       "model_id": "7718a421dcf4462099b60b43c1e464b0",
       "version_major": 2,
       "version_minor": 0
      },
      "text/plain": [
       "Summarize dataset:   0%|          | 0/5 [00:00<?, ?it/s]"
      ]
     },
     "metadata": {},
     "output_type": "display_data"
    },
    {
     "data": {
      "application/vnd.jupyter.widget-view+json": {
       "model_id": "8e15975108354622a4aaad7994a59929",
       "version_major": 2,
       "version_minor": 0
      },
      "text/plain": [
       "Generate report structure:   0%|          | 0/1 [00:00<?, ?it/s]"
      ]
     },
     "metadata": {},
     "output_type": "display_data"
    },
    {
     "data": {
      "application/vnd.jupyter.widget-view+json": {
       "model_id": "7005885c6fda441f871840af60b9d137",
       "version_major": 2,
       "version_minor": 0
      },
      "text/plain": [
       "Render HTML:   0%|          | 0/1 [00:00<?, ?it/s]"
      ]
     },
     "metadata": {},
     "output_type": "display_data"
    },
    {
     "data": {
      "application/vnd.jupyter.widget-view+json": {
       "model_id": "51294fb2fb4d44dcb4bd91cceb94dcf5",
       "version_major": 2,
       "version_minor": 0
      },
      "text/plain": [
       "Export report to file:   0%|          | 0/1 [00:00<?, ?it/s]"
      ]
     },
     "metadata": {},
     "output_type": "display_data"
    }
   ],
   "source": [
    "# igbm_xgboost\n",
    "igbm = InsolverGBMWrapper(backend='xgboost', task='reg', n_estimators=100, objective='gamma', tree_method='hist')\n",
    "igbm.fit(x_train, y_train, sample_weight=offset_train)\n",
    "predict_gbm_train = igbm.predict(x_train)\n",
    "predict_gbm_test = igbm.predict(x_test)\n",
    "\n",
    "r = Report(model=igbm,\n",
    "           task='reg',\n",
    "           X_train=x_train,\n",
    "           y_train=y_train,\n",
    "           predicted_train=pd.Series(predict_gbm_train),\n",
    "           X_test=x_test,\n",
    "           y_test=y_test,\n",
    "           predicted_test=pd.Series(predict_gbm_test),\n",
    "           )\n",
    "r.to_html(report_name='3_gbm_xgboost_report')"
   ]
  },
  {
   "cell_type": "code",
   "execution_count": 13,
   "id": "afd57a37",
   "metadata": {},
   "outputs": [
    {
     "data": {
      "application/vnd.jupyter.widget-view+json": {
       "model_id": "c31ad7d88cd94a8cb8f30f425959f2a6",
       "version_major": 2,
       "version_minor": 0
      },
      "text/plain": [
       "Summarize dataset:   0%|          | 0/5 [00:00<?, ?it/s]"
      ]
     },
     "metadata": {},
     "output_type": "display_data"
    },
    {
     "data": {
      "application/vnd.jupyter.widget-view+json": {
       "model_id": "f551efcd16dd4eb6a0f9f31611f3d87a",
       "version_major": 2,
       "version_minor": 0
      },
      "text/plain": [
       "Generate report structure:   0%|          | 0/1 [00:00<?, ?it/s]"
      ]
     },
     "metadata": {},
     "output_type": "display_data"
    },
    {
     "data": {
      "application/vnd.jupyter.widget-view+json": {
       "model_id": "acc55303d51c4e6f9836aae5d90d265b",
       "version_major": 2,
       "version_minor": 0
      },
      "text/plain": [
       "Render HTML:   0%|          | 0/1 [00:00<?, ?it/s]"
      ]
     },
     "metadata": {},
     "output_type": "display_data"
    },
    {
     "data": {
      "application/vnd.jupyter.widget-view+json": {
       "model_id": "ce96c7e8ffc949eaafb6a96df972865f",
       "version_major": 2,
       "version_minor": 0
      },
      "text/plain": [
       "Export report to file:   0%|          | 0/1 [00:00<?, ?it/s]"
      ]
     },
     "metadata": {},
     "output_type": "display_data"
    }
   ],
   "source": [
    "# igbm_lightgbm\n",
    "igbm2 = InsolverGBMWrapper(backend='lightgbm', task='reg', n_estimators=100, objective='gamma', metric='gamma_deviance',\n",
    "                       boosting_type='goss')\n",
    "igbm2.fit(x_train, y_train, sample_weight=offset_train)\n",
    "predict_gbm2_train = igbm2.predict(x_train)\n",
    "predict_gbm2_test = igbm2.predict(x_test)\n",
    "\n",
    "r = Report(model=igbm2,\n",
    "           task='reg',\n",
    "           X_train=x_train,\n",
    "           y_train=y_train,\n",
    "           predicted_train=pd.Series(predict_gbm2_train),\n",
    "           X_test=x_test,\n",
    "           y_test=y_test,\n",
    "           predicted_test=pd.Series(predict_gbm2_test),\n",
    "           )\n",
    "r.to_html(report_name='4_gbm_lightgbm_report')"
   ]
  },
  {
   "cell_type": "code",
   "execution_count": 14,
   "id": "d27b641e",
   "metadata": {},
   "outputs": [
    {
     "data": {
      "application/vnd.jupyter.widget-view+json": {
       "model_id": "f776543627a64e7f893766db0e495987",
       "version_major": 2,
       "version_minor": 0
      },
      "text/plain": [
       "Summarize dataset:   0%|          | 0/5 [00:00<?, ?it/s]"
      ]
     },
     "metadata": {},
     "output_type": "display_data"
    },
    {
     "data": {
      "application/vnd.jupyter.widget-view+json": {
       "model_id": "177f04093fa242aa9293d9541469ecf6",
       "version_major": 2,
       "version_minor": 0
      },
      "text/plain": [
       "Generate report structure:   0%|          | 0/1 [00:00<?, ?it/s]"
      ]
     },
     "metadata": {},
     "output_type": "display_data"
    },
    {
     "data": {
      "application/vnd.jupyter.widget-view+json": {
       "model_id": "5966c9fbcc304f4f8b3f512dec6c3cd4",
       "version_major": 2,
       "version_minor": 0
      },
      "text/plain": [
       "Render HTML:   0%|          | 0/1 [00:00<?, ?it/s]"
      ]
     },
     "metadata": {},
     "output_type": "display_data"
    },
    {
     "data": {
      "application/vnd.jupyter.widget-view+json": {
       "model_id": "93b96378c09f42d5b9deabc5a1e11a71",
       "version_major": 2,
       "version_minor": 0
      },
      "text/plain": [
       "Export report to file:   0%|          | 0/1 [00:00<?, ?it/s]"
      ]
     },
     "metadata": {},
     "output_type": "display_data"
    }
   ],
   "source": [
    "# igbm3\n",
    "igbm3 = InsolverGBMWrapper(backend='catboost', task='reg', n_estimators=100, objective='gamma', silent=True)\n",
    "igbm3.fit(x_train, y_train, sample_weight=offset_train)\n",
    "predict_gbm3_train = igbm3.predict(x_train)\n",
    "predict_gbm3_test = igbm3.predict(x_test)\n",
    "\n",
    "r = Report(model=igbm3,\n",
    "           task='reg',\n",
    "           X_train=x_train,\n",
    "           y_train=y_train,\n",
    "           predicted_train=pd.Series(predict_gbm3_train),\n",
    "           X_test=x_test,\n",
    "           y_test=y_test,\n",
    "           predicted_test=pd.Series(predict_gbm3_test),\n",
    "           )\n",
    "r.to_html(report_name='5_gbm_catboost_report')"
   ]
  },
  {
   "cell_type": "code",
   "execution_count": 15,
   "id": "d6d77716",
   "metadata": {},
   "outputs": [
    {
     "name": "stdout",
     "output_type": "stream",
     "text": [
      "drwxr-xr-x  2 jovyan users     4096 Dec  3 11:04 0_random_forest_report\r\n",
      "drwxr-xr-x  2 jovyan users     4096 Dec  3 11:05 1_glm_h2o_report\r\n",
      "drwxr-xr-x  2 jovyan users     4096 Dec  3 11:06 2_glm_sklearn_report\r\n",
      "drwxr-xr-x  2 jovyan users     4096 Dec  3 11:08 3_gbm_xgboost_report\r\n",
      "drwxr-xr-x  2 jovyan users     4096 Dec  3 11:09 4_gbm_lightgbm_report\r\n",
      "drwxr-xr-x  2 jovyan users     4096 Dec  3 11:10 5_gbm_catboost_report\r\n"
     ]
    }
   ],
   "source": [
    "!ls -l | grep report"
   ]
  },
  {
   "cell_type": "code",
   "execution_count": 16,
   "id": "0ce26c40",
   "metadata": {},
   "outputs": [
    {
     "name": "stdout",
     "output_type": "stream",
     "text": [
      "-rw-r--r-- 1 jovyan users 5924577 Dec  3 11:10 profiling_report.html\r\n",
      "-rw-r--r-- 1 jovyan users   63150 Dec  3 11:10 report.html\r\n"
     ]
    }
   ],
   "source": [
    "!ls -l $(ls | grep report | tail -n 1) | grep .html"
   ]
  }
 ],
 "metadata": {
  "kernelspec": {
   "display_name": "Python 3 (ipykernel)",
   "language": "python",
   "name": "python3"
  },
  "language_info": {
   "codemirror_mode": {
    "name": "ipython",
    "version": 3
   },
   "file_extension": ".py",
   "mimetype": "text/x-python",
   "name": "python",
   "nbconvert_exporter": "python",
   "pygments_lexer": "ipython3",
   "version": "3.9.7"
  }
 },
 "nbformat": 4,
 "nbformat_minor": 5
}
