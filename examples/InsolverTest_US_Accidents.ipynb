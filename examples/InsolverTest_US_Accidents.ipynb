{
 "cells": [
  {
   "cell_type": "code",
   "execution_count": null,
   "metadata": {},
   "outputs": [],
   "source": [
    "file_path = '/home/andrey/PycharmProjects/MS-InsuranceScoring/US_Accidents_June20.csv'\n",
    "# https://smoosavi.org/datasets/us_accidents"
   ]
  },
  {
   "cell_type": "code",
   "execution_count": 21,
   "metadata": {},
   "outputs": [],
   "source": [
    "import pandas as pd\n",
    "import matplotlib.pyplot as plt\n",
    "from hyperopt import hp"
   ]
  },
  {
   "cell_type": "code",
   "execution_count": 3,
   "metadata": {},
   "outputs": [],
   "source": [
    "from insolver.InsolverDataFrame import InsolverDataFrame\n",
    "from insolver.InsolverTransforms import (\n",
    "    TransformExp,\n",
    "    InsolverTransformMain,\n",
    "    InsolverTransforms,\n",
    "    TransformAge,\n",
    "    TransformMapValues,\n",
    "    TransformPolynomizer,\n",
    "    TransformAgeGender,\n",
    ")\n",
    "from insolver.InsolverWrapperGBM import InsolverGradientBoostingWrapper\n",
    "from insolver.InsolverPlotsGBM import PredictionPlots, ShapPlots\n",
    "from insolver.InsolverWrapperGLM import InsolverGLMWrapper\n",
    "from insolver.InsolverUtils import train_val_test_split"
   ]
  },
  {
   "cell_type": "code",
   "execution_count": 4,
   "metadata": {},
   "outputs": [
    {
     "data": {
      "text/plain": [
       "(3513740, 49)"
      ]
     },
     "execution_count": 4,
     "metadata": {},
     "output_type": "execute_result"
    }
   ],
   "source": [
    "df = pd.read_csv(file_path, low_memory=False)\n",
    "df.shape"
   ]
  },
  {
   "cell_type": "code",
   "execution_count": 5,
   "metadata": {},
   "outputs": [],
   "source": [
    "df = df.sample(int(3513740/100))"
   ]
  },
  {
   "cell_type": "code",
   "execution_count": 6,
   "metadata": {},
   "outputs": [],
   "source": [
    "df = df.drop(columns=['ID', 'Source', 'End_Lat', 'End_Lng'])\n",
    "df.dropna(how='all', axis=1, inplace=True)"
   ]
  },
  {
   "cell_type": "code",
   "execution_count": 7,
   "metadata": {},
   "outputs": [
    {
     "data": {
      "text/html": [
       "<div>\n",
       "<style scoped>\n",
       "    .dataframe tbody tr th:only-of-type {\n",
       "        vertical-align: middle;\n",
       "    }\n",
       "\n",
       "    .dataframe tbody tr th {\n",
       "        vertical-align: top;\n",
       "    }\n",
       "\n",
       "    .dataframe thead th {\n",
       "        text-align: right;\n",
       "    }\n",
       "</style>\n",
       "<table border=\"1\" class=\"dataframe\">\n",
       "  <thead>\n",
       "    <tr style=\"text-align: right;\">\n",
       "      <th></th>\n",
       "      <th>TMC</th>\n",
       "      <th>Severity</th>\n",
       "      <th>Start_Time</th>\n",
       "      <th>End_Time</th>\n",
       "      <th>Start_Lat</th>\n",
       "      <th>Start_Lng</th>\n",
       "      <th>Distance(mi)</th>\n",
       "      <th>Description</th>\n",
       "      <th>Number</th>\n",
       "      <th>Street</th>\n",
       "      <th>...</th>\n",
       "      <th>Roundabout</th>\n",
       "      <th>Station</th>\n",
       "      <th>Stop</th>\n",
       "      <th>Traffic_Calming</th>\n",
       "      <th>Traffic_Signal</th>\n",
       "      <th>Turning_Loop</th>\n",
       "      <th>Sunrise_Sunset</th>\n",
       "      <th>Civil_Twilight</th>\n",
       "      <th>Nautical_Twilight</th>\n",
       "      <th>Astronomical_Twilight</th>\n",
       "    </tr>\n",
       "  </thead>\n",
       "  <tbody>\n",
       "    <tr>\n",
       "      <th>1211366</th>\n",
       "      <td>201.0</td>\n",
       "      <td>2</td>\n",
       "      <td>2019-04-03 07:47:08</td>\n",
       "      <td>2019-04-03 08:46:56</td>\n",
       "      <td>37.504467</td>\n",
       "      <td>-77.084549</td>\n",
       "      <td>0.00</td>\n",
       "      <td>Accident on VA-106 Emmaus Church Rd Northbound...</td>\n",
       "      <td>NaN</td>\n",
       "      <td>I-64 W</td>\n",
       "      <td>...</td>\n",
       "      <td>False</td>\n",
       "      <td>False</td>\n",
       "      <td>False</td>\n",
       "      <td>False</td>\n",
       "      <td>False</td>\n",
       "      <td>False</td>\n",
       "      <td>Day</td>\n",
       "      <td>Day</td>\n",
       "      <td>Day</td>\n",
       "      <td>Day</td>\n",
       "    </tr>\n",
       "    <tr>\n",
       "      <th>761314</th>\n",
       "      <td>201.0</td>\n",
       "      <td>3</td>\n",
       "      <td>2019-12-04 18:21:04</td>\n",
       "      <td>2019-12-04 19:20:50</td>\n",
       "      <td>37.467751</td>\n",
       "      <td>-122.291389</td>\n",
       "      <td>0.00</td>\n",
       "      <td>#1 lane blocked due to accident on I-280 North...</td>\n",
       "      <td>NaN</td>\n",
       "      <td>I-280 N</td>\n",
       "      <td>...</td>\n",
       "      <td>False</td>\n",
       "      <td>False</td>\n",
       "      <td>False</td>\n",
       "      <td>False</td>\n",
       "      <td>False</td>\n",
       "      <td>False</td>\n",
       "      <td>Night</td>\n",
       "      <td>Night</td>\n",
       "      <td>Night</td>\n",
       "      <td>Day</td>\n",
       "    </tr>\n",
       "    <tr>\n",
       "      <th>3061096</th>\n",
       "      <td>NaN</td>\n",
       "      <td>2</td>\n",
       "      <td>2019-12-20 12:05:00</td>\n",
       "      <td>2019-12-20 13:18:03</td>\n",
       "      <td>34.057322</td>\n",
       "      <td>-117.958810</td>\n",
       "      <td>0.00</td>\n",
       "      <td>At S Orange Ave - Accident.</td>\n",
       "      <td>1698.0</td>\n",
       "      <td>S Orange Ave</td>\n",
       "      <td>...</td>\n",
       "      <td>False</td>\n",
       "      <td>True</td>\n",
       "      <td>False</td>\n",
       "      <td>False</td>\n",
       "      <td>True</td>\n",
       "      <td>False</td>\n",
       "      <td>Day</td>\n",
       "      <td>Day</td>\n",
       "      <td>Day</td>\n",
       "      <td>Day</td>\n",
       "    </tr>\n",
       "    <tr>\n",
       "      <th>3168122</th>\n",
       "      <td>NaN</td>\n",
       "      <td>4</td>\n",
       "      <td>2019-03-20 00:18:56</td>\n",
       "      <td>2019-03-20 00:46:23</td>\n",
       "      <td>33.821950</td>\n",
       "      <td>-118.206850</td>\n",
       "      <td>0.08</td>\n",
       "      <td>Ramp to I-405 and Pacific Pl/Warnock Way - Acc...</td>\n",
       "      <td>NaN</td>\n",
       "      <td>Long Beach Fwy N</td>\n",
       "      <td>...</td>\n",
       "      <td>False</td>\n",
       "      <td>False</td>\n",
       "      <td>False</td>\n",
       "      <td>False</td>\n",
       "      <td>False</td>\n",
       "      <td>False</td>\n",
       "      <td>Night</td>\n",
       "      <td>Night</td>\n",
       "      <td>Night</td>\n",
       "      <td>Night</td>\n",
       "    </tr>\n",
       "    <tr>\n",
       "      <th>2079955</th>\n",
       "      <td>201.0</td>\n",
       "      <td>3</td>\n",
       "      <td>2018-02-15 05:40:18</td>\n",
       "      <td>2018-02-15 06:39:31</td>\n",
       "      <td>30.640692</td>\n",
       "      <td>-84.970779</td>\n",
       "      <td>0.00</td>\n",
       "      <td>Right hand shoulder blocked due to accident on...</td>\n",
       "      <td>NaN</td>\n",
       "      <td>FL-8 W</td>\n",
       "      <td>...</td>\n",
       "      <td>False</td>\n",
       "      <td>False</td>\n",
       "      <td>False</td>\n",
       "      <td>False</td>\n",
       "      <td>False</td>\n",
       "      <td>False</td>\n",
       "      <td>Night</td>\n",
       "      <td>Night</td>\n",
       "      <td>Day</td>\n",
       "      <td>Day</td>\n",
       "    </tr>\n",
       "  </tbody>\n",
       "</table>\n",
       "<p>5 rows × 45 columns</p>\n",
       "</div>"
      ],
      "text/plain": [
       "           TMC  Severity           Start_Time             End_Time  Start_Lat  \\\n",
       "1211366  201.0         2  2019-04-03 07:47:08  2019-04-03 08:46:56  37.504467   \n",
       "761314   201.0         3  2019-12-04 18:21:04  2019-12-04 19:20:50  37.467751   \n",
       "3061096    NaN         2  2019-12-20 12:05:00  2019-12-20 13:18:03  34.057322   \n",
       "3168122    NaN         4  2019-03-20 00:18:56  2019-03-20 00:46:23  33.821950   \n",
       "2079955  201.0         3  2018-02-15 05:40:18  2018-02-15 06:39:31  30.640692   \n",
       "\n",
       "          Start_Lng  Distance(mi)  \\\n",
       "1211366  -77.084549          0.00   \n",
       "761314  -122.291389          0.00   \n",
       "3061096 -117.958810          0.00   \n",
       "3168122 -118.206850          0.08   \n",
       "2079955  -84.970779          0.00   \n",
       "\n",
       "                                               Description  Number  \\\n",
       "1211366  Accident on VA-106 Emmaus Church Rd Northbound...     NaN   \n",
       "761314   #1 lane blocked due to accident on I-280 North...     NaN   \n",
       "3061096                        At S Orange Ave - Accident.  1698.0   \n",
       "3168122  Ramp to I-405 and Pacific Pl/Warnock Way - Acc...     NaN   \n",
       "2079955  Right hand shoulder blocked due to accident on...     NaN   \n",
       "\n",
       "                   Street  ... Roundabout Station   Stop Traffic_Calming  \\\n",
       "1211366            I-64 W  ...      False   False  False           False   \n",
       "761314            I-280 N  ...      False   False  False           False   \n",
       "3061096      S Orange Ave  ...      False    True  False           False   \n",
       "3168122  Long Beach Fwy N  ...      False   False  False           False   \n",
       "2079955            FL-8 W  ...      False   False  False           False   \n",
       "\n",
       "        Traffic_Signal Turning_Loop Sunrise_Sunset Civil_Twilight  \\\n",
       "1211366          False        False            Day            Day   \n",
       "761314           False        False          Night          Night   \n",
       "3061096           True        False            Day            Day   \n",
       "3168122          False        False          Night          Night   \n",
       "2079955          False        False          Night          Night   \n",
       "\n",
       "        Nautical_Twilight  Astronomical_Twilight  \n",
       "1211366               Day                    Day  \n",
       "761314              Night                    Day  \n",
       "3061096               Day                    Day  \n",
       "3168122             Night                  Night  \n",
       "2079955               Day                    Day  \n",
       "\n",
       "[5 rows x 45 columns]"
      ]
     },
     "execution_count": 7,
     "metadata": {},
     "output_type": "execute_result"
    }
   ],
   "source": [
    "InsDataFrame = InsolverDataFrame(df)\n",
    "InsDataFrame.head()"
   ]
  },
  {
   "cell_type": "code",
   "execution_count": 8,
   "metadata": {},
   "outputs": [
    {
     "name": "stdout",
     "output_type": "stream",
     "text": [
      "Checking whether there is an H2O instance running at http://localhost:54321 ..... not found.\n",
      "Attempting to start a local H2O server...\n",
      "  Java Version: openjdk version \"11.0.8\" 2020-07-14; OpenJDK Runtime Environment (build 11.0.8+10-post-Ubuntu-0ubuntu120.04); OpenJDK 64-Bit Server VM (build 11.0.8+10-post-Ubuntu-0ubuntu120.04, mixed mode, sharing)\n",
      "  Starting server from /home/andrey/PycharmProjects/InsolverPackageExample/venv/lib/python3.8/site-packages/h2o/backend/bin/h2o.jar\n",
      "  Ice root: /tmp/tmpxt8abal1\n",
      "  JVM stdout: /tmp/tmpxt8abal1/h2o_andrey_started_from_python.out\n",
      "  JVM stderr: /tmp/tmpxt8abal1/h2o_andrey_started_from_python.err\n",
      "  Server is running at http://127.0.0.1:54321\n",
      "Connecting to H2O server at http://127.0.0.1:54321 ... successful.\n"
     ]
    },
    {
     "data": {
      "text/html": [
       "<div style=\"overflow:auto\"><table style=\"width:50%\"><tr><td>H2O_cluster_uptime:</td>\n",
       "<td>02 secs</td></tr>\n",
       "<tr><td>H2O_cluster_timezone:</td>\n",
       "<td>Europe/Moscow</td></tr>\n",
       "<tr><td>H2O_data_parsing_timezone:</td>\n",
       "<td>UTC</td></tr>\n",
       "<tr><td>H2O_cluster_version:</td>\n",
       "<td>3.30.1.2</td></tr>\n",
       "<tr><td>H2O_cluster_version_age:</td>\n",
       "<td>12 days </td></tr>\n",
       "<tr><td>H2O_cluster_name:</td>\n",
       "<td>H2O_from_python_andrey_i0asht</td></tr>\n",
       "<tr><td>H2O_cluster_total_nodes:</td>\n",
       "<td>1</td></tr>\n",
       "<tr><td>H2O_cluster_free_memory:</td>\n",
       "<td>3.844 Gb</td></tr>\n",
       "<tr><td>H2O_cluster_total_cores:</td>\n",
       "<td>4</td></tr>\n",
       "<tr><td>H2O_cluster_allowed_cores:</td>\n",
       "<td>4</td></tr>\n",
       "<tr><td>H2O_cluster_status:</td>\n",
       "<td>accepting new members, healthy</td></tr>\n",
       "<tr><td>H2O_connection_url:</td>\n",
       "<td>http://127.0.0.1:54321</td></tr>\n",
       "<tr><td>H2O_connection_proxy:</td>\n",
       "<td>{\"http\": null, \"https\": null}</td></tr>\n",
       "<tr><td>H2O_internal_security:</td>\n",
       "<td>False</td></tr>\n",
       "<tr><td>H2O_API_Extensions:</td>\n",
       "<td>Amazon S3, XGBoost, Algos, AutoML, Core V3, TargetEncoder, Core V4</td></tr>\n",
       "<tr><td>Python_version:</td>\n",
       "<td>3.8.2 final</td></tr></table></div>"
      ],
      "text/plain": [
       "--------------------------  ------------------------------------------------------------------\n",
       "H2O_cluster_uptime:         02 secs\n",
       "H2O_cluster_timezone:       Europe/Moscow\n",
       "H2O_data_parsing_timezone:  UTC\n",
       "H2O_cluster_version:        3.30.1.2\n",
       "H2O_cluster_version_age:    12 days\n",
       "H2O_cluster_name:           H2O_from_python_andrey_i0asht\n",
       "H2O_cluster_total_nodes:    1\n",
       "H2O_cluster_free_memory:    3.844 Gb\n",
       "H2O_cluster_total_cores:    4\n",
       "H2O_cluster_allowed_cores:  4\n",
       "H2O_cluster_status:         accepting new members, healthy\n",
       "H2O_connection_url:         http://127.0.0.1:54321\n",
       "H2O_connection_proxy:       {\"http\": null, \"https\": null}\n",
       "H2O_internal_security:      False\n",
       "H2O_API_Extensions:         Amazon S3, XGBoost, Algos, AutoML, Core V3, TargetEncoder, Core V4\n",
       "Python_version:             3.8.2 final\n",
       "--------------------------  ------------------------------------------------------------------"
      ]
     },
     "metadata": {},
     "output_type": "display_data"
    }
   ],
   "source": [
    "iglm = InsolverGLMWrapper()"
   ]
  },
  {
   "cell_type": "code",
   "execution_count": 9,
   "metadata": {},
   "outputs": [
    {
     "data": {
      "text/plain": [
       "{}"
      ]
     },
     "execution_count": 9,
     "metadata": {},
     "output_type": "execute_result"
    }
   ],
   "source": [
    "InsTransforms = InsolverTransforms(InsDataFrame.get_data(), [])\n",
    "InsTransforms.transform()"
   ]
  },
  {
   "cell_type": "code",
   "execution_count": 10,
   "metadata": {},
   "outputs": [],
   "source": [
    "df = InsTransforms.get_data()"
   ]
  },
  {
   "cell_type": "code",
   "execution_count": 11,
   "metadata": {},
   "outputs": [],
   "source": [
    "train, valid, test = InsTransforms.split_frame(val_size=0.15, test_size=0.15, random_state=0, shuffle=True)"
   ]
  },
  {
   "cell_type": "code",
   "execution_count": 12,
   "metadata": {},
   "outputs": [],
   "source": [
    "features = [\n",
    "    'Start_Time',\n",
    "    'End_Time',\n",
    "    'Start_Lat',\n",
    "    'Start_Lng',\n",
    "    'Distance(mi)',\n",
    "#     'Number',\n",
    "#     'Street',\n",
    "#     'Side',\n",
    "#     'City',\n",
    "#     'County',\n",
    "#     'State',\n",
    "#     'Zipcode',\n",
    "#     'Country',\n",
    "#     'Timezone',\n",
    "#     'Airport_Code',\n",
    "    'Weather_Timestamp',\n",
    "    'Temperature(F)',\n",
    "#     'Wind_Chill(F)',\n",
    "#     'Humidity(%)',\n",
    "#     'Pressure(in)',\n",
    "#     'Visibility(mi)',\n",
    "#     'Wind_Direction',\n",
    "#     'Wind_Speed(mph)',\n",
    "#     'Precipitation(in)',\n",
    "#     'Weather_Condition',\n",
    "#     'Amenity',\n",
    "#     'Bump',\n",
    "#     'Crossing',\n",
    "#     'Give_Way',\n",
    "#     'Junction',\n",
    "#     'No_Exit',\n",
    "#     'Railway',\n",
    "#     'Roundabout',\n",
    "#     'Station',\n",
    "#     'Stop',\n",
    "#     'Traffic_Calming',\n",
    "#     'Traffic_Signal',\n",
    "#     'Turning_Loop',\n",
    "#     'Sunrise_Sunset',\n",
    "#     'Civil_Twilight',\n",
    "#     'Nautical_Twilight',\n",
    "    'Astronomical_Twilight'\n",
    "]\n",
    "target = 'Severity'"
   ]
  },
  {
   "cell_type": "code",
   "execution_count": 13,
   "metadata": {},
   "outputs": [
    {
     "name": "stdout",
     "output_type": "stream",
     "text": [
      "Parse progress: |█████████████████████████████████████████████████████████| 100%\n",
      "Parse progress: |█████████████████████████████████████████████████████████| 100%\n"
     ]
    }
   ],
   "source": [
    "iglm.model_init(train, valid, family='gamma', link='log')"
   ]
  },
  {
   "cell_type": "code",
   "execution_count": 14,
   "metadata": {},
   "outputs": [],
   "source": [
    "params = {'lambda': [1, 0.5, 0.1, 0.01, 0.001, 0.0001, 0.00001, 0],\n",
    "          'alpha': [i * 0.1 for i in range(0, 11)]}"
   ]
  },
  {
   "cell_type": "code",
   "execution_count": 15,
   "metadata": {},
   "outputs": [
    {
     "name": "stdout",
     "output_type": "stream",
     "text": [
      "glm Grid Build progress: |████████████████████████████████████████████████| 100%\n"
     ]
    }
   ],
   "source": [
    "iglm.grid_search_cv(features, target, params, search_criteria={'strategy': \"Cartesian\"})"
   ]
  },
  {
   "cell_type": "code",
   "execution_count": 16,
   "metadata": {},
   "outputs": [],
   "source": [
    "iglm.save_model('glm')"
   ]
  },
  {
   "cell_type": "code",
   "execution_count": 17,
   "metadata": {},
   "outputs": [
    {
     "name": "stdout",
     "output_type": "stream",
     "text": [
      "Parse progress: |█████████████████████████████████████████████████████████| 100%\n",
      "glm prediction progress: |████████████████████████████████████████████████| 100%\n"
     ]
    }
   ],
   "source": [
    "predict_glm = iglm.predict(test)"
   ]
  },
  {
   "cell_type": "code",
   "execution_count": 18,
   "metadata": {},
   "outputs": [
    {
     "data": {
      "text/plain": [
       "array([[2.29385169],\n",
       "       [2.19173537],\n",
       "       [2.48754102],\n",
       "       ...,\n",
       "       [2.20111302],\n",
       "       [2.3534096 ],\n",
       "       [2.33758487]])"
      ]
     },
     "execution_count": 18,
     "metadata": {},
     "output_type": "execute_result"
    }
   ],
   "source": [
    "predict_glm"
   ]
  },
  {
   "cell_type": "code",
   "execution_count": null,
   "metadata": {},
   "outputs": [],
   "source": []
  }
 ],
 "metadata": {
  "kernelspec": {
   "display_name": "Python 3",
   "language": "python",
   "name": "python3"
  },
  "language_info": {
   "codemirror_mode": {
    "name": "ipython",
    "version": 3
   },
   "file_extension": ".py",
   "mimetype": "text/x-python",
   "name": "python",
   "nbconvert_exporter": "python",
   "pygments_lexer": "ipython3",
   "version": "3.8.2"
  }
 },
 "nbformat": 4,
 "nbformat_minor": 4
}
