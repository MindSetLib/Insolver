{
 "cells": [
  {
   "cell_type": "code",
   "execution_count": 1,
   "metadata": {},
   "outputs": [
    {
     "name": "stdout",
     "output_type": "stream",
     "text": [
      "Collecting insolver\n",
      "  Cloning ssh://****@github.com/MindSetLib/MS-InsuranceScoring.git (to revision InsolverPackage) to /tmp/pip-install-pvmh_5xj/insolver\n",
      "Requirement already satisfied, skipping upgrade: wheel in ./venv/lib/python3.8/site-packages (from insolver) (0.35.1)\n",
      "Requirement already satisfied, skipping upgrade: numpy in ./venv/lib/python3.8/site-packages (from insolver) (1.19.1)\n",
      "Requirement already satisfied, skipping upgrade: pandas in ./venv/lib/python3.8/site-packages (from insolver) (1.1.2)\n",
      "Requirement already satisfied, skipping upgrade: xgboost in ./venv/lib/python3.8/site-packages (from insolver) (1.2.0)\n",
      "Requirement already satisfied, skipping upgrade: lightgbm in ./venv/lib/python3.8/site-packages (from insolver) (3.0.0)\n",
      "Requirement already satisfied, skipping upgrade: catboost in ./venv/lib/python3.8/site-packages (from insolver) (0.24.1)\n",
      "Requirement already satisfied, skipping upgrade: hyperopt in ./venv/lib/python3.8/site-packages (from insolver) (0.2.4)\n",
      "Requirement already satisfied, skipping upgrade: sklearn in ./venv/lib/python3.8/site-packages (from insolver) (0.0)\n",
      "Requirement already satisfied, skipping upgrade: pyodbc in ./venv/lib/python3.8/site-packages (from insolver) (4.0.30)\n",
      "Requirement already satisfied, skipping upgrade: requests in ./venv/lib/python3.8/site-packages (from insolver) (2.24.0)\n",
      "Requirement already satisfied, skipping upgrade: requests_cache in ./venv/lib/python3.8/site-packages (from insolver) (0.5.2)\n",
      "Requirement already satisfied, skipping upgrade: plotly in ./venv/lib/python3.8/site-packages (from insolver) (4.9.0)\n",
      "Requirement already satisfied, skipping upgrade: seaborn in ./venv/lib/python3.8/site-packages (from insolver) (0.11.0)\n",
      "Requirement already satisfied, skipping upgrade: shap in ./venv/lib/python3.8/site-packages (from insolver) (0.36.0)\n",
      "Requirement already satisfied, skipping upgrade: geocoder in ./venv/lib/python3.8/site-packages (from insolver) (1.38.1)\n",
      "Requirement already satisfied, skipping upgrade: h2o in ./venv/lib/python3.8/site-packages (from insolver) (3.30.1.2)\n",
      "Requirement already satisfied, skipping upgrade: flask in ./venv/lib/python3.8/site-packages (from insolver) (1.1.2)\n",
      "Requirement already satisfied, skipping upgrade: fastapi in ./venv/lib/python3.8/site-packages (from insolver) (0.61.1)\n",
      "Requirement already satisfied, skipping upgrade: uvicorn in ./venv/lib/python3.8/site-packages (from insolver) (0.11.8)\n",
      "Requirement already satisfied, skipping upgrade: pydantic in ./venv/lib/python3.8/site-packages (from insolver) (1.6.1)\n",
      "Requirement already satisfied, skipping upgrade: gunicorn in ./venv/lib/python3.8/site-packages (from insolver) (20.0.4)\n",
      "Requirement already satisfied, skipping upgrade: python-dateutil>=2.7.3 in ./venv/lib/python3.8/site-packages (from pandas->insolver) (2.8.1)\n",
      "Requirement already satisfied, skipping upgrade: pytz>=2017.2 in ./venv/lib/python3.8/site-packages (from pandas->insolver) (2020.1)\n",
      "Requirement already satisfied, skipping upgrade: scipy in ./venv/lib/python3.8/site-packages (from xgboost->insolver) (1.5.2)\n",
      "Requirement already satisfied, skipping upgrade: scikit-learn!=0.22.0 in ./venv/lib/python3.8/site-packages (from lightgbm->insolver) (0.23.2)\n",
      "Requirement already satisfied, skipping upgrade: matplotlib in ./venv/lib/python3.8/site-packages (from catboost->insolver) (3.3.1)\n",
      "Requirement already satisfied, skipping upgrade: six in ./venv/lib/python3.8/site-packages (from catboost->insolver) (1.15.0)\n",
      "Requirement already satisfied, skipping upgrade: graphviz in ./venv/lib/python3.8/site-packages (from catboost->insolver) (0.14.1)\n",
      "Requirement already satisfied, skipping upgrade: networkx>=2.2 in ./venv/lib/python3.8/site-packages (from hyperopt->insolver) (2.5)\n",
      "Requirement already satisfied, skipping upgrade: future in ./venv/lib/python3.8/site-packages (from hyperopt->insolver) (0.18.2)\n",
      "Requirement already satisfied, skipping upgrade: tqdm in ./venv/lib/python3.8/site-packages (from hyperopt->insolver) (4.48.2)\n",
      "Requirement already satisfied, skipping upgrade: cloudpickle in ./venv/lib/python3.8/site-packages (from hyperopt->insolver) (1.6.0)\n",
      "Requirement already satisfied, skipping upgrade: urllib3!=1.25.0,!=1.25.1,<1.26,>=1.21.1 in ./venv/lib/python3.8/site-packages (from requests->insolver) (1.25.10)\n",
      "Requirement already satisfied, skipping upgrade: chardet<4,>=3.0.2 in ./venv/lib/python3.8/site-packages (from requests->insolver) (3.0.4)\n",
      "Requirement already satisfied, skipping upgrade: idna<3,>=2.5 in ./venv/lib/python3.8/site-packages (from requests->insolver) (2.10)\n",
      "Requirement already satisfied, skipping upgrade: certifi>=2017.4.17 in ./venv/lib/python3.8/site-packages (from requests->insolver) (2020.6.20)\n",
      "Requirement already satisfied, skipping upgrade: retrying>=1.3.3 in ./venv/lib/python3.8/site-packages (from plotly->insolver) (1.3.3)\n",
      "Requirement already satisfied, skipping upgrade: numba in ./venv/lib/python3.8/site-packages (from shap->insolver) (0.51.2)\n",
      "Requirement already satisfied, skipping upgrade: slicer in ./venv/lib/python3.8/site-packages (from shap->insolver) (0.0.3)\n",
      "Requirement already satisfied, skipping upgrade: ratelim in ./venv/lib/python3.8/site-packages (from geocoder->insolver) (0.1.6)\n",
      "Requirement already satisfied, skipping upgrade: click in ./venv/lib/python3.8/site-packages (from geocoder->insolver) (7.1.2)\n",
      "Requirement already satisfied, skipping upgrade: tabulate in ./venv/lib/python3.8/site-packages (from h2o->insolver) (0.8.7)\n",
      "Requirement already satisfied, skipping upgrade: colorama>=0.3.8 in ./venv/lib/python3.8/site-packages (from h2o->insolver) (0.4.3)\n",
      "Requirement already satisfied, skipping upgrade: itsdangerous>=0.24 in ./venv/lib/python3.8/site-packages (from flask->insolver) (1.1.0)\n",
      "Requirement already satisfied, skipping upgrade: Jinja2>=2.10.1 in ./venv/lib/python3.8/site-packages (from flask->insolver) (2.11.2)\n",
      "Requirement already satisfied, skipping upgrade: Werkzeug>=0.15 in ./venv/lib/python3.8/site-packages (from flask->insolver) (1.0.1)\n",
      "Requirement already satisfied, skipping upgrade: starlette==0.13.6 in ./venv/lib/python3.8/site-packages (from fastapi->insolver) (0.13.6)\n",
      "Requirement already satisfied, skipping upgrade: websockets==8.* in ./venv/lib/python3.8/site-packages (from uvicorn->insolver) (8.1)\n",
      "Requirement already satisfied, skipping upgrade: uvloop>=0.14.0; sys_platform != \"win32\" and sys_platform != \"cygwin\" and platform_python_implementation != \"PyPy\" in ./venv/lib/python3.8/site-packages (from uvicorn->insolver) (0.14.0)\n",
      "Requirement already satisfied, skipping upgrade: httptools==0.1.*; sys_platform != \"win32\" and sys_platform != \"cygwin\" and platform_python_implementation != \"PyPy\" in ./venv/lib/python3.8/site-packages (from uvicorn->insolver) (0.1.1)\n",
      "Requirement already satisfied, skipping upgrade: h11<0.10,>=0.8 in ./venv/lib/python3.8/site-packages (from uvicorn->insolver) (0.9.0)\n",
      "Requirement already satisfied, skipping upgrade: setuptools>=3.0 in ./venv/lib/python3.8/site-packages (from gunicorn->insolver) (50.3.0)\n",
      "Requirement already satisfied, skipping upgrade: joblib>=0.11 in ./venv/lib/python3.8/site-packages (from scikit-learn!=0.22.0->lightgbm->insolver) (0.16.0)\n",
      "Requirement already satisfied, skipping upgrade: threadpoolctl>=2.0.0 in ./venv/lib/python3.8/site-packages (from scikit-learn!=0.22.0->lightgbm->insolver) (2.1.0)\n",
      "Requirement already satisfied, skipping upgrade: cycler>=0.10 in ./venv/lib/python3.8/site-packages (from matplotlib->catboost->insolver) (0.10.0)\n",
      "Requirement already satisfied, skipping upgrade: kiwisolver>=1.0.1 in ./venv/lib/python3.8/site-packages (from matplotlib->catboost->insolver) (1.2.0)\n",
      "Requirement already satisfied, skipping upgrade: pillow>=6.2.0 in ./venv/lib/python3.8/site-packages (from matplotlib->catboost->insolver) (7.2.0)\n",
      "Requirement already satisfied, skipping upgrade: pyparsing!=2.0.4,!=2.1.2,!=2.1.6,>=2.0.3 in ./venv/lib/python3.8/site-packages (from matplotlib->catboost->insolver) (2.4.7)\n",
      "Requirement already satisfied, skipping upgrade: decorator>=4.3.0 in ./venv/lib/python3.8/site-packages (from networkx>=2.2->hyperopt->insolver) (4.4.2)\n",
      "Requirement already satisfied, skipping upgrade: llvmlite<0.35,>=0.34.0.dev0 in ./venv/lib/python3.8/site-packages (from numba->shap->insolver) (0.34.0)\n",
      "Requirement already satisfied, skipping upgrade: MarkupSafe>=0.23 in ./venv/lib/python3.8/site-packages (from Jinja2>=2.10.1->flask->insolver) (1.1.1)\n",
      "Building wheels for collected packages: insolver\n",
      "  Building wheel for insolver (setup.py) ... \u001b[?25ldone\n",
      "\u001b[?25h  Created wheel for insolver: filename=insolver-0.1-py3-none-any.whl size=21262 sha256=7a21d0c1e73101ac172f847ed88a1a88e9525f11522a175b0efa30ac32d94a84\n",
      "  Stored in directory: /tmp/pip-ephem-wheel-cache-0oie37ik/wheels/83/9b/40/2a41578012948c250188e1c932f65ece7d58e4c2c67c34c86c\n",
      "Successfully built insolver\n",
      "Installing collected packages: insolver\n",
      "  Attempting uninstall: insolver\n",
      "    Found existing installation: insolver 0.1\n",
      "    Uninstalling insolver-0.1:\n",
      "      Successfully uninstalled insolver-0.1\n",
      "Successfully installed insolver-0.1\n"
     ]
    }
   ],
   "source": [
    "!pip install -U \"git+ssh://git@github.com/MindSetLib/MS-InsuranceScoring.git@InsolverPackage#egg=insolver\""
   ]
  },
  {
   "cell_type": "code",
   "execution_count": 2,
   "metadata": {},
   "outputs": [],
   "source": [
    "import pandas as pd\n",
    "import matplotlib.pyplot as plt\n",
    "from hyperopt import hp"
   ]
  },
  {
   "cell_type": "code",
   "execution_count": 3,
   "metadata": {},
   "outputs": [],
   "source": [
    "from insolver.InsolverDataFrame import InsolverDataFrame\n",
    "from insolver.InsolverTransforms import (\n",
    "    TransformExp,\n",
    "    InsolverTransformMain,\n",
    "    InsolverTransforms,\n",
    "    TransformAge,\n",
    "    TransformMapValues,\n",
    "    TransformPolynomizer,\n",
    "    TransformAgeGender,\n",
    ")\n",
    "from insolver.InsolverWrapperGBM import InsolverGradientBoostingWrapper\n",
    "from insolver.InsolverPlotsGBM import PredictionPlots, ShapPlots\n",
    "from insolver.InsolverWrapperGLM import InsolverGLMWrapper\n",
    "from insolver.InsolverUtils import train_val_test_split"
   ]
  },
  {
   "cell_type": "code",
   "execution_count": 4,
   "metadata": {},
   "outputs": [],
   "source": [
    "file_path = '/home/andrey/PycharmProjects/MS-InsuranceScoring/US_Accidents_June20.csv'\n",
    "# https://smoosavi.org/datasets/us_accidents"
   ]
  },
  {
   "cell_type": "code",
   "execution_count": 5,
   "metadata": {},
   "outputs": [
    {
     "data": {
      "text/plain": [
       "(3513740, 49)"
      ]
     },
     "execution_count": 5,
     "metadata": {},
     "output_type": "execute_result"
    }
   ],
   "source": [
    "df = pd.read_csv(file_path, low_memory=False)\n",
    "df.shape"
   ]
  },
  {
   "cell_type": "code",
   "execution_count": 6,
   "metadata": {},
   "outputs": [],
   "source": [
    "df = df.sample(int(3513740/100))"
   ]
  },
  {
   "cell_type": "code",
   "execution_count": 7,
   "metadata": {},
   "outputs": [],
   "source": [
    "df = df.drop(columns=['ID', 'Source', 'End_Lat', 'End_Lng'])\n",
    "df.dropna(how='all', axis=1, inplace=True)"
   ]
  },
  {
   "cell_type": "code",
   "execution_count": 8,
   "metadata": {},
   "outputs": [
    {
     "name": "stdout",
     "output_type": "stream",
     "text": [
      "Checking whether there is an H2O instance running at http://localhost:54321 . connected.\n"
     ]
    },
    {
     "data": {
      "text/html": [
       "<div style=\"overflow:auto\"><table style=\"width:50%\"><tr><td>H2O_cluster_uptime:</td>\n",
       "<td>16 mins 01 secs</td></tr>\n",
       "<tr><td>H2O_cluster_timezone:</td>\n",
       "<td>Europe/Moscow</td></tr>\n",
       "<tr><td>H2O_data_parsing_timezone:</td>\n",
       "<td>UTC</td></tr>\n",
       "<tr><td>H2O_cluster_version:</td>\n",
       "<td>3.30.1.2</td></tr>\n",
       "<tr><td>H2O_cluster_version_age:</td>\n",
       "<td>13 days </td></tr>\n",
       "<tr><td>H2O_cluster_name:</td>\n",
       "<td>H2O_from_python_andrey_ueby22</td></tr>\n",
       "<tr><td>H2O_cluster_total_nodes:</td>\n",
       "<td>1</td></tr>\n",
       "<tr><td>H2O_cluster_free_memory:</td>\n",
       "<td>3.836 Gb</td></tr>\n",
       "<tr><td>H2O_cluster_total_cores:</td>\n",
       "<td>4</td></tr>\n",
       "<tr><td>H2O_cluster_allowed_cores:</td>\n",
       "<td>4</td></tr>\n",
       "<tr><td>H2O_cluster_status:</td>\n",
       "<td>locked, healthy</td></tr>\n",
       "<tr><td>H2O_connection_url:</td>\n",
       "<td>http://localhost:54321</td></tr>\n",
       "<tr><td>H2O_connection_proxy:</td>\n",
       "<td>{\"http\": null, \"https\": null}</td></tr>\n",
       "<tr><td>H2O_internal_security:</td>\n",
       "<td>False</td></tr>\n",
       "<tr><td>H2O_API_Extensions:</td>\n",
       "<td>Amazon S3, XGBoost, Algos, AutoML, Core V3, TargetEncoder, Core V4</td></tr>\n",
       "<tr><td>Python_version:</td>\n",
       "<td>3.8.2 final</td></tr></table></div>"
      ],
      "text/plain": [
       "--------------------------  ------------------------------------------------------------------\n",
       "H2O_cluster_uptime:         16 mins 01 secs\n",
       "H2O_cluster_timezone:       Europe/Moscow\n",
       "H2O_data_parsing_timezone:  UTC\n",
       "H2O_cluster_version:        3.30.1.2\n",
       "H2O_cluster_version_age:    13 days\n",
       "H2O_cluster_name:           H2O_from_python_andrey_ueby22\n",
       "H2O_cluster_total_nodes:    1\n",
       "H2O_cluster_free_memory:    3.836 Gb\n",
       "H2O_cluster_total_cores:    4\n",
       "H2O_cluster_allowed_cores:  4\n",
       "H2O_cluster_status:         locked, healthy\n",
       "H2O_connection_url:         http://localhost:54321\n",
       "H2O_connection_proxy:       {\"http\": null, \"https\": null}\n",
       "H2O_internal_security:      False\n",
       "H2O_API_Extensions:         Amazon S3, XGBoost, Algos, AutoML, Core V3, TargetEncoder, Core V4\n",
       "Python_version:             3.8.2 final\n",
       "--------------------------  ------------------------------------------------------------------"
      ]
     },
     "metadata": {},
     "output_type": "display_data"
    }
   ],
   "source": [
    "iglm = InsolverGLMWrapper()"
   ]
  },
  {
   "cell_type": "code",
   "execution_count": 9,
   "metadata": {},
   "outputs": [],
   "source": [
    "InsTransforms = InsolverTransforms(df, [])\n",
    "InsTransforms.transform()\n",
    "InsTransforms.save('transforms.pkl')"
   ]
  },
  {
   "cell_type": "code",
   "execution_count": 10,
   "metadata": {},
   "outputs": [],
   "source": [
    "df = InsTransforms.get_data()"
   ]
  },
  {
   "cell_type": "code",
   "execution_count": 11,
   "metadata": {},
   "outputs": [],
   "source": [
    "train, valid, test = InsTransforms.split_frame(val_size=0.15, test_size=0.15, random_state=0, shuffle=True)"
   ]
  },
  {
   "cell_type": "code",
   "execution_count": 12,
   "metadata": {},
   "outputs": [],
   "source": [
    "features = [\n",
    "    'Start_Time',\n",
    "    'End_Time',\n",
    "    'Start_Lat',\n",
    "    'Start_Lng',\n",
    "    'Distance(mi)',\n",
    "#     'Number',\n",
    "#     'Street',\n",
    "#     'Side',\n",
    "#     'City',\n",
    "#     'County',\n",
    "#     'State',\n",
    "#     'Zipcode',\n",
    "#     'Country',\n",
    "#     'Timezone',\n",
    "#     'Airport_Code',\n",
    "    'Weather_Timestamp',\n",
    "    'Temperature(F)',\n",
    "#     'Wind_Chill(F)',\n",
    "#     'Humidity(%)',\n",
    "#     'Pressure(in)',\n",
    "#     'Visibility(mi)',\n",
    "#     'Wind_Direction',\n",
    "#     'Wind_Speed(mph)',\n",
    "#     'Precipitation(in)',\n",
    "#     'Weather_Condition',\n",
    "#     'Amenity',\n",
    "#     'Bump',\n",
    "#     'Crossing',\n",
    "#     'Give_Way',\n",
    "#     'Junction',\n",
    "#     'No_Exit',\n",
    "#     'Railway',\n",
    "#     'Roundabout',\n",
    "#     'Station',\n",
    "#     'Stop',\n",
    "#     'Traffic_Calming',\n",
    "#     'Traffic_Signal',\n",
    "#     'Turning_Loop',\n",
    "#     'Sunrise_Sunset',\n",
    "#     'Civil_Twilight',\n",
    "#     'Nautical_Twilight',\n",
    "    'Astronomical_Twilight'\n",
    "]\n",
    "target = 'Severity'"
   ]
  },
  {
   "cell_type": "code",
   "execution_count": 13,
   "metadata": {},
   "outputs": [
    {
     "name": "stdout",
     "output_type": "stream",
     "text": [
      "Parse progress: |█████████████████████████████████████████████████████████| 100%\n",
      "Parse progress: |█████████████████████████████████████████████████████████| 100%\n"
     ]
    }
   ],
   "source": [
    "iglm.model_init(train, valid, family='gamma', link='log')"
   ]
  },
  {
   "cell_type": "code",
   "execution_count": 14,
   "metadata": {},
   "outputs": [],
   "source": [
    "params = {'lambda': [1, 0.5, 0.1, 0.01, 0.001, 0.0001, 0.00001, 0],\n",
    "          'alpha': [i * 0.1 for i in range(0, 11)]}"
   ]
  },
  {
   "cell_type": "code",
   "execution_count": 15,
   "metadata": {},
   "outputs": [
    {
     "name": "stdout",
     "output_type": "stream",
     "text": [
      "glm Grid Build progress: |████████████████████████████████████████████████| 100%\n"
     ]
    }
   ],
   "source": [
    "iglm.grid_search_cv(features, target, params, search_criteria={'strategy': \"Cartesian\"})"
   ]
  },
  {
   "cell_type": "code",
   "execution_count": 16,
   "metadata": {},
   "outputs": [],
   "source": [
    "iglm.save_model('glm')"
   ]
  },
  {
   "cell_type": "code",
   "execution_count": 17,
   "metadata": {},
   "outputs": [
    {
     "name": "stdout",
     "output_type": "stream",
     "text": [
      "Parse progress: |█████████████████████████████████████████████████████████| 100%\n",
      "glm prediction progress: |████████████████████████████████████████████████| 100%\n"
     ]
    }
   ],
   "source": [
    "predict_glm = iglm.predict(test)"
   ]
  },
  {
   "cell_type": "code",
   "execution_count": 18,
   "metadata": {},
   "outputs": [
    {
     "data": {
      "text/plain": [
       "array([[2.34311124],\n",
       "       [2.38576238],\n",
       "       [2.35420108],\n",
       "       ...,\n",
       "       [2.27897115],\n",
       "       [2.26447496],\n",
       "       [2.55389683]])"
      ]
     },
     "execution_count": 18,
     "metadata": {},
     "output_type": "execute_result"
    }
   ],
   "source": [
    "predict_glm"
   ]
  },
  {
   "cell_type": "code",
   "execution_count": 19,
   "metadata": {},
   "outputs": [],
   "source": [
    "test.sample(1).to_json('request_example.json')"
   ]
  },
  {
   "cell_type": "code",
   "execution_count": null,
   "metadata": {},
   "outputs": [
    {
     "name": "stdout",
     "output_type": "stream",
     "text": [
      "[2020-09-17 17:44:25 +0300] [170209] [INFO] Starting gunicorn 20.0.4\n",
      "[2020-09-17 17:44:25 +0300] [170209] [INFO] Listening at: http://127.0.0.1:8000 (170209)\n",
      "[2020-09-17 17:44:25 +0300] [170209] [INFO] Using worker: sync\n",
      "[2020-09-17 17:44:25 +0300] [170211] [INFO] Booting worker with pid: 170211\n",
      "INFO:flask-app:[2020-Sep-17 17:44:30] request from 127.0.0.1: {'TMC': {'2584554': None}, 'Severity': {'2584554': 2}, 'Start_Time': {'2584554': '2016-04-26 19:31:05'}, 'End_Time': {'2584554': '2016-04-27 01:31:05'}, 'Start_Lat': {'2584554': 40.74006}, 'Start_Lng': {'2584554': -73.78995}, 'Distance(mi)': {'2584554': 0.62}, 'Description': {'2584554': 'At Utopia Pky/Exit 25 - Accident.'}, 'Number': {'2584554': None}, 'Street': {'2584554': 'Long Island Expy W'}, 'Side': {'2584554': 'R'}, 'City': {'2584554': 'Fresh Meadows'}, 'County': {'2584554': 'Queens'}, 'State': {'2584554': 'NY'}, 'Zipcode': {'2584554': '11365'}, 'Country': {'2584554': 'US'}, 'Timezone': {'2584554': 'US/Eastern'}, 'Airport_Code': {'2584554': 'KLGA'}, 'Weather_Timestamp': {'2584554': '2016-04-26 19:46:00'}, 'Temperature(F)': {'2584554': 50}, 'Wind_Chill(F)': {'2584554': None}, 'Humidity(%)': {'2584554': 82}, 'Pressure(in)': {'2584554': 29.77}, 'Visibility(mi)': {'2584554': 10}, 'Wind_Direction': {'2584554': 'ENE'}, 'Wind_Speed(mph)': {'2584554': 16.1}, 'Precipitation(in)': {'2584554': None}, 'Weather_Condition': {'2584554': 'Overcast'}, 'Amenity': {'2584554': False}, 'Bump': {'2584554': False}, 'Crossing': {'2584554': False}, 'Give_Way': {'2584554': False}, 'Junction': {'2584554': False}, 'No_Exit': {'2584554': False}, 'Railway': {'2584554': False}, 'Roundabout': {'2584554': False}, 'Station': {'2584554': False}, 'Stop': {'2584554': False}, 'Traffic_Calming': {'2584554': False}, 'Traffic_Signal': {'2584554': False}, 'Turning_Loop': {'2584554': False}, 'Sunrise_Sunset': {'2584554': 'Day'}, 'Civil_Twilight': {'2584554': 'Day'}, 'Nautical_Twilight': {'2584554': 'Day'}, 'Astronomical_Twilight': {'2584554': 'Day'}}\n",
      "INFO:flask-app:[2020-Sep-17 17:44:30] predicted for 0.416935 msec: [2.5322306022]\n",
      "\n"
     ]
    }
   ],
   "source": [
    "!insolver_serving -model glm/Grid_GLM_Key_Frame__upload_bba72b272657febf2d840057309e4f4e.hex_model_python_1600347516868_1_model_71 -transforms transforms.pkl -service flask"
   ]
  },
  {
   "cell_type": "code",
   "execution_count": null,
   "metadata": {},
   "outputs": [],
   "source": []
  }
 ],
 "metadata": {
  "kernelspec": {
   "display_name": "Python 3",
   "language": "python",
   "name": "python3"
  },
  "language_info": {
   "codemirror_mode": {
    "name": "ipython",
    "version": 3
   },
   "file_extension": ".py",
   "mimetype": "text/x-python",
   "name": "python",
   "nbconvert_exporter": "python",
   "pygments_lexer": "ipython3",
   "version": "3.8.2"
  }
 },
 "nbformat": 4,
 "nbformat_minor": 4
}
