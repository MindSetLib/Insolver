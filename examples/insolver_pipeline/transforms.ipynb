{
 "cells": [
  {
   "cell_type": "code",
   "execution_count": 1,
   "metadata": {
    "execution": {
     "iopub.execute_input": "2021-02-04T14:35:11.385752Z",
     "iopub.status.busy": "2021-02-04T14:35:11.384847Z",
     "iopub.status.idle": "2021-02-04T14:35:14.410852Z",
     "shell.execute_reply": "2021-02-04T14:35:14.411545Z"
    },
    "papermill": {
     "duration": 3.051096,
     "end_time": "2021-02-04T14:35:14.412004",
     "exception": false,
     "start_time": "2021-02-04T14:35:11.360908",
     "status": "completed"
    },
    "tags": []
   },
   "outputs": [],
   "source": [
    "import pandas as pd\n",
    "\n",
    "from insolver import InsolverDataFrame\n",
    "from insolver.transforms import (\n",
    "    InsolverTransform,\n",
    "    TransformExp,\n",
    "    TransformAge,\n",
    "    TransformMapValues,\n",
    "    TransformPolynomizer,\n",
    "    TransformAgeGender,\n",
    ")\n",
    "\n",
    "pd.options.display.float_format = '{:.2f}'.format"
   ]
  },
  {
   "cell_type": "code",
   "execution_count": 2,
   "metadata": {
    "execution": {
     "iopub.execute_input": "2021-02-04T14:35:14.438412Z",
     "iopub.status.busy": "2021-02-04T14:35:14.437586Z",
     "iopub.status.idle": "2021-02-04T14:35:17.557139Z",
     "shell.execute_reply": "2021-02-04T14:35:17.556363Z"
    },
    "papermill": {
     "duration": 3.134792,
     "end_time": "2021-02-04T14:35:17.557375",
     "exception": false,
     "start_time": "2021-02-04T14:35:14.422583",
     "status": "completed"
    },
    "tags": []
   },
   "outputs": [],
   "source": [
    "df = pd.read_csv('data/df.csv', low_memory=False)"
   ]
  },
  {
   "cell_type": "code",
   "execution_count": 3,
   "metadata": {
    "execution": {
     "iopub.execute_input": "2021-02-04T14:35:17.585957Z",
     "iopub.status.busy": "2021-02-04T14:35:17.585085Z",
     "iopub.status.idle": "2021-02-04T14:35:17.983096Z",
     "shell.execute_reply": "2021-02-04T14:35:17.983828Z"
    },
    "papermill": {
     "duration": 0.415524,
     "end_time": "2021-02-04T14:35:17.984152",
     "exception": false,
     "start_time": "2021-02-04T14:35:17.568628",
     "status": "completed"
    },
    "tags": []
   },
   "outputs": [],
   "source": [
    "df = df[df.Dataset.isin([5, 6, 7, 8, 9])]\n",
    "df.dropna(how='all', axis=1, inplace=True)\n",
    "df = df[df.ClaimAmount > 0]\n",
    "\n",
    "\n",
    "InsDataFrame = InsolverDataFrame(df)"
   ]
  },
  {
   "cell_type": "code",
   "execution_count": 4,
   "metadata": {
    "execution": {
     "iopub.execute_input": "2021-02-04T14:35:18.012084Z",
     "iopub.status.busy": "2021-02-04T14:35:18.011248Z",
     "iopub.status.idle": "2021-02-04T14:35:18.013885Z",
     "shell.execute_reply": "2021-02-04T14:35:18.014536Z"
    },
    "papermill": {
     "duration": 0.019522,
     "end_time": "2021-02-04T14:35:18.014737",
     "exception": false,
     "start_time": "2021-02-04T14:35:17.995215",
     "status": "completed"
    },
    "tags": []
   },
   "outputs": [],
   "source": [
    "@staticmethod\n",
    "def new_exp(exp, exp_max):\n",
    "    if pd.isnull(exp):\n",
    "        exp = None\n",
    "    elif exp < 0:\n",
    "        exp = None\n",
    "    else:\n",
    "        exp = exp // 12\n",
    "    if exp > exp_max:\n",
    "        exp = exp_max\n",
    "    return exp\n",
    "\n",
    "\n",
    "TransformExp._exp = new_exp"
   ]
  },
  {
   "cell_type": "code",
   "execution_count": 5,
   "metadata": {
    "execution": {
     "iopub.execute_input": "2021-02-04T14:35:18.040878Z",
     "iopub.status.busy": "2021-02-04T14:35:18.039900Z",
     "iopub.status.idle": "2021-02-04T14:35:18.043164Z",
     "shell.execute_reply": "2021-02-04T14:35:18.042459Z"
    },
    "papermill": {
     "duration": 0.018854,
     "end_time": "2021-02-04T14:35:18.043337",
     "exception": false,
     "start_time": "2021-02-04T14:35:18.024483",
     "status": "completed"
    },
    "tags": []
   },
   "outputs": [],
   "source": [
    "# We can set up user transformations\n",
    "class TransformSocioCateg:\n",
    "    def __init__(self, column_socio_categ):\n",
    "        self.priority = 0\n",
    "        self.column_socio_categ = column_socio_categ\n",
    "\n",
    "    def __call__(self, df):\n",
    "        df[self.column_socio_categ] = df[self.column_socio_categ].str.slice(0, 4)\n",
    "        return df"
   ]
  },
  {
   "cell_type": "code",
   "execution_count": 6,
   "metadata": {
    "execution": {
     "iopub.execute_input": "2021-02-04T14:35:18.070303Z",
     "iopub.status.busy": "2021-02-04T14:35:18.069462Z",
     "iopub.status.idle": "2021-02-04T14:35:18.072087Z",
     "shell.execute_reply": "2021-02-04T14:35:18.072738Z"
    },
    "papermill": {
     "duration": 0.019565,
     "end_time": "2021-02-04T14:35:18.072938",
     "exception": false,
     "start_time": "2021-02-04T14:35:18.053373",
     "status": "completed"
    },
    "tags": []
   },
   "outputs": [],
   "source": [
    "# After that we can combine all transformations into one one object\n",
    "InsTransforms = InsolverTransform(\n",
    "    InsDataFrame,\n",
    "    [\n",
    "        TransformAge('DrivAge', 18, 75),\n",
    "        TransformExp('LicAge', 57),\n",
    "        TransformMapValues('Gender', {'Male': 0, 'Female': 1}),\n",
    "        TransformMapValues('MariStat', {'Other': 0, 'Alone': 1}),\n",
    "        TransformSocioCateg('SocioCateg'),\n",
    "        TransformAgeGender('DrivAge', 'Gender', 'Age_m', 'Age_f', age_default=18, gender_male=0, gender_female=1),\n",
    "        TransformPolynomizer('Age_m'),\n",
    "        TransformPolynomizer('Age_f'),\n",
    "    ],\n",
    ")"
   ]
  },
  {
   "cell_type": "code",
   "execution_count": 7,
   "metadata": {
    "execution": {
     "iopub.execute_input": "2021-02-04T14:35:18.102093Z",
     "iopub.status.busy": "2021-02-04T14:35:18.101241Z",
     "iopub.status.idle": "2021-02-04T14:35:18.104963Z",
     "shell.execute_reply": "2021-02-04T14:35:18.105636Z"
    },
    "papermill": {
     "duration": 0.022664,
     "end_time": "2021-02-04T14:35:18.105840",
     "exception": false,
     "start_time": "2021-02-04T14:35:18.083176",
     "status": "completed"
    },
    "tags": []
   },
   "outputs": [
    {
     "data": {
      "text/plain": [
       "[<insolver.transforms.InsolverTransforms.TransformAge at 0x7f968816f7c0>,\n",
       " <insolver.transforms.InsolverTransforms.TransformExp at 0x7f968816fac0>,\n",
       " <insolver.transforms.InsolverTransforms.TransformMapValues at 0x7f968816f6a0>,\n",
       " <insolver.transforms.InsolverTransforms.TransformMapValues at 0x7f968816f610>,\n",
       " <__main__.TransformSocioCateg at 0x7f968816f550>,\n",
       " <insolver.transforms.InsolverTransforms.TransformAgeGender at 0x7f968816f8e0>,\n",
       " <insolver.transforms.InsolverTransforms.TransformPolynomizer at 0x7f968816fb20>,\n",
       " <insolver.transforms.InsolverTransforms.TransformPolynomizer at 0x7f968816fc10>]"
      ]
     },
     "execution_count": 7,
     "metadata": {},
     "output_type": "execute_result"
    }
   ],
   "source": [
    "InsTransforms.transforms"
   ]
  },
  {
   "cell_type": "code",
   "execution_count": 8,
   "metadata": {
    "execution": {
     "iopub.execute_input": "2021-02-04T14:35:18.132474Z",
     "iopub.status.busy": "2021-02-04T14:35:18.131632Z",
     "iopub.status.idle": "2021-02-04T14:35:18.818517Z",
     "shell.execute_reply": "2021-02-04T14:35:18.817760Z"
    },
    "papermill": {
     "duration": 0.701693,
     "end_time": "2021-02-04T14:35:18.818729",
     "exception": false,
     "start_time": "2021-02-04T14:35:18.117036",
     "status": "completed"
    },
    "tags": []
   },
   "outputs": [
    {
     "name": "stdout",
     "output_type": "stream",
     "text": [
      "!!! WARNING !!!"
     ]
    },
    {
     "name": "stdout",
     "output_type": "stream",
     "text": [
      "\n"
     ]
    },
    {
     "name": "stdout",
     "output_type": "stream",
     "text": [
      "Check the order of transforms. Transforms with higher priority should be done first."
     ]
    },
    {
     "name": "stdout",
     "output_type": "stream",
     "text": [
      "\n"
     ]
    },
    {
     "data": {
      "text/plain": [
       "{0: {'name': 'TransformAge',\n",
       "  'attributes': {'age_max': 75,\n",
       "   'age_min': 18,\n",
       "   'column_driver_minage': 'DrivAge',\n",
       "   'priority': 1}},\n",
       " 1: {'name': 'TransformExp',\n",
       "  'attributes': {'column_driver_minexp': 'LicAge',\n",
       "   'exp_max': 57,\n",
       "   'priority': 1}},\n",
       " 2: {'name': 'TransformMapValues',\n",
       "  'attributes': {'column_param': 'Gender',\n",
       "   'dictionary': {'Male': 0, 'Female': 1},\n",
       "   'priority': 1}},\n",
       " 3: {'name': 'TransformMapValues',\n",
       "  'attributes': {'column_param': 'MariStat',\n",
       "   'dictionary': {'Other': 0, 'Alone': 1},\n",
       "   'priority': 1}},\n",
       " 4: {'name': 'TransformSocioCateg',\n",
       "  'attributes': {'column_socio_categ': 'SocioCateg', 'priority': 0}},\n",
       " 5: {'name': 'TransformAgeGender',\n",
       "  'attributes': {'age_default': 18,\n",
       "   'column_age': 'DrivAge',\n",
       "   'column_age_f': 'Age_f',\n",
       "   'column_age_m': 'Age_m',\n",
       "   'column_gender': 'Gender',\n",
       "   'gender_female': 1,\n",
       "   'gender_male': 0,\n",
       "   'priority': 2}},\n",
       " 6: {'name': 'TransformPolynomizer',\n",
       "  'attributes': {'column_param': 'Age_m', 'n': 2, 'priority': 3}},\n",
       " 7: {'name': 'TransformPolynomizer',\n",
       "  'attributes': {'column_param': 'Age_f', 'n': 2, 'priority': 3}}}"
      ]
     },
     "execution_count": 8,
     "metadata": {},
     "output_type": "execute_result"
    }
   ],
   "source": [
    "InsTransforms.ins_transform()"
   ]
  },
  {
   "cell_type": "code",
   "execution_count": 9,
   "metadata": {
    "execution": {
     "iopub.execute_input": "2021-02-04T14:35:18.852692Z",
     "iopub.status.busy": "2021-02-04T14:35:18.851841Z",
     "iopub.status.idle": "2021-02-04T14:35:19.136876Z",
     "shell.execute_reply": "2021-02-04T14:35:19.136136Z"
    },
    "papermill": {
     "duration": 0.303801,
     "end_time": "2021-02-04T14:35:19.137089",
     "exception": false,
     "start_time": "2021-02-04T14:35:18.833288",
     "status": "completed"
    },
    "tags": []
   },
   "outputs": [
    {
     "name": "stdout",
     "output_type": "stream",
     "text": [
      "Transforms done"
     ]
    },
    {
     "name": "stdout",
     "output_type": "stream",
     "text": [
      "\n"
     ]
    }
   ],
   "source": [
    "InsTransforms.to_csv('data/df_transformed.csv', index=False)\n",
    "\n",
    "print('Transforms done')"
   ]
  }
 ],
 "metadata": {
  "kernelspec": {
   "display_name": "Python 3",
   "language": "python",
   "name": "python3"
  },
  "language_info": {
   "codemirror_mode": {
    "name": "ipython",
    "version": 3
   },
   "file_extension": ".py",
   "mimetype": "text/x-python",
   "name": "python",
   "nbconvert_exporter": "python",
   "pygments_lexer": "ipython3",
   "version": "3.8.6"
  },
  "papermill": {
   "default_parameters": {},
   "duration": 9.953797,
   "end_time": "2021-02-04T14:35:20.166757",
   "environment_variables": {},
   "exception": null,
   "input_path": "/home/jovyan/work/insolver_pipeline/transforms.ipynb",
   "output_path": "/home/jovyan/work/insolver_pipeline/transforms.ipynb",
   "parameters": {},
   "start_time": "2021-02-04T14:35:10.212960",
   "version": "2.2.2"
  }
 },
 "nbformat": 4,
 "nbformat_minor": 4
}
