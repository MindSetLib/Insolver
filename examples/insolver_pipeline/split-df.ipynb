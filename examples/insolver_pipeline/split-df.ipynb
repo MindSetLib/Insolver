{
 "cells": [
  {
   "cell_type": "code",
   "execution_count": 1,
   "metadata": {
    "execution": {
     "iopub.execute_input": "2021-02-04T14:35:21.181875Z",
     "iopub.status.busy": "2021-02-04T14:35:21.180995Z",
     "iopub.status.idle": "2021-02-04T14:35:24.201142Z",
     "shell.execute_reply": "2021-02-04T14:35:24.201901Z"
    },
    "papermill": {
     "duration": 3.044222,
     "end_time": "2021-02-04T14:35:24.202405",
     "exception": false,
     "start_time": "2021-02-04T14:35:21.158183",
     "status": "completed"
    },
    "tags": []
   },
   "outputs": [],
   "source": [
    "import pandas as pd\n",
    "from insolver.transforms import InsolverTransform"
   ]
  },
  {
   "cell_type": "code",
   "execution_count": 2,
   "metadata": {
    "execution": {
     "iopub.execute_input": "2021-02-04T14:35:24.227693Z",
     "iopub.status.busy": "2021-02-04T14:35:24.226865Z",
     "iopub.status.idle": "2021-02-04T14:35:24.296983Z",
     "shell.execute_reply": "2021-02-04T14:35:24.297698Z"
    },
    "papermill": {
     "duration": 0.085606,
     "end_time": "2021-02-04T14:35:24.297990",
     "exception": false,
     "start_time": "2021-02-04T14:35:24.212384",
     "status": "completed"
    },
    "tags": []
   },
   "outputs": [],
   "source": [
    "df = pd.read_csv('data/df_transformed.csv', low_memory=False)\n",
    "InsTransforms = InsolverTransform(df, [])"
   ]
  },
  {
   "cell_type": "code",
   "execution_count": 3,
   "metadata": {
    "execution": {
     "iopub.execute_input": "2021-02-04T14:35:24.320474Z",
     "iopub.status.busy": "2021-02-04T14:35:24.319644Z",
     "iopub.status.idle": "2021-02-04T14:35:24.322167Z",
     "shell.execute_reply": "2021-02-04T14:35:24.322822Z"
    },
    "papermill": {
     "duration": 0.016048,
     "end_time": "2021-02-04T14:35:24.323023",
     "exception": false,
     "start_time": "2021-02-04T14:35:24.306975",
     "status": "completed"
    },
    "tags": []
   },
   "outputs": [],
   "source": [
    "# val_size, test_size, shuffle = config['VAL_SIZE'], config['TEST_SIZE'], config['SHUFFLE']\n",
    "val_size, test_size, shuffle = 0.15, 0.15, True"
   ]
  },
  {
   "cell_type": "code",
   "execution_count": 4,
   "metadata": {
    "execution": {
     "iopub.execute_input": "2021-02-04T14:35:24.347278Z",
     "iopub.status.busy": "2021-02-04T14:35:24.346453Z",
     "iopub.status.idle": "2021-02-04T14:35:24.359694Z",
     "shell.execute_reply": "2021-02-04T14:35:24.360353Z"
    },
    "papermill": {
     "duration": 0.028867,
     "end_time": "2021-02-04T14:35:24.360581",
     "exception": false,
     "start_time": "2021-02-04T14:35:24.331714",
     "status": "completed"
    },
    "tags": []
   },
   "outputs": [],
   "source": [
    "train, valid, test = InsTransforms.split_frame(val_size=0.15, test_size=0.15, random_state=0, shuffle=True)"
   ]
  },
  {
   "cell_type": "code",
   "execution_count": 5,
   "metadata": {
    "execution": {
     "iopub.execute_input": "2021-02-04T14:35:24.383646Z",
     "iopub.status.busy": "2021-02-04T14:35:24.382819Z",
     "iopub.status.idle": "2021-02-04T14:35:24.682839Z",
     "shell.execute_reply": "2021-02-04T14:35:24.683532Z"
    },
    "papermill": {
     "duration": 0.314484,
     "end_time": "2021-02-04T14:35:24.683856",
     "exception": false,
     "start_time": "2021-02-04T14:35:24.369372",
     "status": "completed"
    },
    "tags": []
   },
   "outputs": [],
   "source": [
    "train.to_csv('data/train.csv', index=False)\n",
    "valid.to_csv('data/valid.csv', index=False)\n",
    "test.to_csv('data/test.csv', index=False)"
   ]
  },
  {
   "cell_type": "code",
   "execution_count": 6,
   "metadata": {
    "execution": {
     "iopub.execute_input": "2021-02-04T14:35:24.707065Z",
     "iopub.status.busy": "2021-02-04T14:35:24.706229Z",
     "iopub.status.idle": "2021-02-04T14:35:24.711051Z",
     "shell.execute_reply": "2021-02-04T14:35:24.711696Z"
    },
    "papermill": {
     "duration": 0.01853,
     "end_time": "2021-02-04T14:35:24.711897",
     "exception": false,
     "start_time": "2021-02-04T14:35:24.693367",
     "status": "completed"
    },
    "tags": []
   },
   "outputs": [
    {
     "name": "stdout",
     "output_type": "stream",
     "text": [
      "Split frame done"
     ]
    },
    {
     "name": "stdout",
     "output_type": "stream",
     "text": [
      "\n"
     ]
    }
   ],
   "source": [
    "print('Split frame done')"
   ]
  },
  {
   "cell_type": "code",
   "execution_count": null,
   "metadata": {
    "papermill": {
     "duration": 0.009243,
     "end_time": "2021-02-04T14:35:24.730728",
     "exception": false,
     "start_time": "2021-02-04T14:35:24.721485",
     "status": "completed"
    },
    "tags": []
   },
   "outputs": [],
   "source": []
  }
 ],
 "metadata": {
  "kernelspec": {
   "display_name": "Python 3",
   "language": "python",
   "name": "python3"
  },
  "language_info": {
   "codemirror_mode": {
    "name": "ipython",
    "version": 3
   },
   "file_extension": ".py",
   "mimetype": "text/x-python",
   "name": "python",
   "nbconvert_exporter": "python",
   "pygments_lexer": "ipython3",
   "version": "3.8.6"
  },
  "papermill": {
   "default_parameters": {},
   "duration": 6.048805,
   "end_time": "2021-02-04T14:35:26.260770",
   "environment_variables": {},
   "exception": null,
   "input_path": "/home/jovyan/work/insolver_pipeline/split-df.ipynb",
   "output_path": "/home/jovyan/work/insolver_pipeline/split-df.ipynb",
   "parameters": {},
   "start_time": "2021-02-04T14:35:20.211965",
   "version": "2.2.2"
  }
 },
 "nbformat": 4,
 "nbformat_minor": 4
}