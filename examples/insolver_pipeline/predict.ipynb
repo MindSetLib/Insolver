{
 "cells": [
  {
   "cell_type": "code",
   "execution_count": 1,
   "metadata": {
    "execution": {
     "iopub.execute_input": "2021-02-04T14:35:33.388577Z",
     "iopub.status.busy": "2021-02-04T14:35:33.387752Z",
     "iopub.status.idle": "2021-02-04T14:35:36.161257Z",
     "shell.execute_reply": "2021-02-04T14:35:36.159459Z"
    },
    "papermill": {
     "duration": 2.79361,
     "end_time": "2021-02-04T14:35:36.161915",
     "exception": false,
     "start_time": "2021-02-04T14:35:33.368305",
     "status": "completed"
    },
    "tags": []
   },
   "outputs": [],
   "source": [
    "import pandas as pd\n",
    "from insolver.wrappers import InsolverGLMWrapper"
   ]
  },
  {
   "cell_type": "code",
   "execution_count": 2,
   "metadata": {
    "execution": {
     "iopub.execute_input": "2021-02-04T14:35:36.187561Z",
     "iopub.status.busy": "2021-02-04T14:35:36.186747Z",
     "iopub.status.idle": "2021-02-04T14:35:36.213910Z",
     "shell.execute_reply": "2021-02-04T14:35:36.212430Z"
    },
    "papermill": {
     "duration": 0.041194,
     "end_time": "2021-02-04T14:35:36.214308",
     "exception": false,
     "start_time": "2021-02-04T14:35:36.173114",
     "status": "completed"
    },
    "tags": []
   },
   "outputs": [],
   "source": [
    "test = pd.read_csv('data/test.csv', low_memory=False)"
   ]
  },
  {
   "cell_type": "code",
   "execution_count": 3,
   "metadata": {
    "execution": {
     "iopub.execute_input": "2021-02-04T14:35:36.236931Z",
     "iopub.status.busy": "2021-02-04T14:35:36.236114Z",
     "iopub.status.idle": "2021-02-04T14:35:36.239843Z",
     "shell.execute_reply": "2021-02-04T14:35:36.239171Z"
    },
    "papermill": {
     "duration": 0.016645,
     "end_time": "2021-02-04T14:35:36.240018",
     "exception": false,
     "start_time": "2021-02-04T14:35:36.223373",
     "status": "completed"
    },
    "tags": []
   },
   "outputs": [],
   "source": [
    "iglm = InsolverGLMWrapper(backend='sklearn', load_path='data/GLM.model')"
   ]
  },
  {
   "cell_type": "code",
   "execution_count": 4,
   "metadata": {
    "execution": {
     "iopub.execute_input": "2021-02-04T14:35:36.287565Z",
     "iopub.status.busy": "2021-02-04T14:35:36.262199Z",
     "iopub.status.idle": "2021-02-04T14:35:36.296434Z",
     "shell.execute_reply": "2021-02-04T14:35:36.297070Z"
    },
    "papermill": {
     "duration": 0.050506,
     "end_time": "2021-02-04T14:35:36.297287",
     "exception": false,
     "start_time": "2021-02-04T14:35:36.246781",
     "status": "completed"
    },
    "tags": []
   },
   "outputs": [
    {
     "name": "stdout",
     "output_type": "stream",
     "text": [
      "[2436.79705752 2383.88496771 1960.93471514 ... 1888.28571723 2231.56034088\n",
      " 2193.73967469]"
     ]
    },
    {
     "name": "stdout",
     "output_type": "stream",
     "text": [
      "\n"
     ]
    }
   ],
   "source": [
    "predict_glm = iglm.predict(test)\n",
    "\n",
    "print(predict_glm)"
   ]
  },
  {
   "cell_type": "code",
   "execution_count": null,
   "metadata": {
    "papermill": {
     "duration": 0.006298,
     "end_time": "2021-02-04T14:35:36.310774",
     "exception": false,
     "start_time": "2021-02-04T14:35:36.304476",
     "status": "completed"
    },
    "tags": []
   },
   "outputs": [],
   "source": []
  }
 ],
 "metadata": {
  "kernelspec": {
   "display_name": "Python 3",
   "language": "python",
   "name": "python3"
  },
  "language_info": {
   "codemirror_mode": {
    "name": "ipython",
    "version": 3
   },
   "file_extension": ".py",
   "mimetype": "text/x-python",
   "name": "python",
   "nbconvert_exporter": "python",
   "pygments_lexer": "ipython3",
   "version": "3.8.6"
  },
  "papermill": {
   "default_parameters": {},
   "duration": 4.946241,
   "end_time": "2021-02-04T14:35:37.329255",
   "environment_variables": {},
   "exception": null,
   "input_path": "/home/jovyan/work/insolver_pipeline/predict.ipynb",
   "output_path": "/home/jovyan/work/insolver_pipeline/predict.ipynb",
   "parameters": {},
   "start_time": "2021-02-04T14:35:32.383014",
   "version": "2.2.2"
  }
 },
 "nbformat": 4,
 "nbformat_minor": 4
}