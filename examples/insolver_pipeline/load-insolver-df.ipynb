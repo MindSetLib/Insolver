{
 "cells": [
  {
   "cell_type": "code",
   "execution_count": 1,
   "metadata": {
    "execution": {
     "iopub.execute_input": "2021-02-04T14:34:59.959746Z",
     "iopub.status.busy": "2021-02-04T14:34:59.958899Z",
     "iopub.status.idle": "2021-02-04T14:35:00.427535Z",
     "shell.execute_reply": "2021-02-04T14:35:00.426618Z"
    },
    "papermill": {
     "duration": 0.491038,
     "end_time": "2021-02-04T14:35:00.427829",
     "exception": false,
     "start_time": "2021-02-04T14:34:59.936791",
     "status": "completed"
    },
    "tags": []
   },
   "outputs": [],
   "source": [
    "import os\n",
    "import json\n",
    "from pathlib import Path\n",
    "import pandas as pd"
   ]
  },
  {
   "cell_type": "code",
   "execution_count": 2,
   "metadata": {
    "execution": {
     "iopub.execute_input": "2021-02-04T14:35:00.449937Z",
     "iopub.status.busy": "2021-02-04T14:35:00.449027Z",
     "iopub.status.idle": "2021-02-04T14:35:00.452294Z",
     "shell.execute_reply": "2021-02-04T14:35:00.452968Z"
    },
    "papermill": {
     "duration": 0.017596,
     "end_time": "2021-02-04T14:35:00.453170",
     "exception": false,
     "start_time": "2021-02-04T14:35:00.435574",
     "status": "completed"
    },
    "tags": []
   },
   "outputs": [],
   "source": [
    "if os.environ.get('DATASET') is None:\n",
    "    raise RuntimeError('Cannot run notebook. Required parameter is missing.')\n",
    "\n",
    "data_file = os.environ['DATASET']"
   ]
  },
  {
   "cell_type": "code",
   "execution_count": 3,
   "metadata": {
    "execution": {
     "iopub.execute_input": "2021-02-04T14:35:00.472658Z",
     "iopub.status.busy": "2021-02-04T14:35:00.471830Z",
     "iopub.status.idle": "2021-02-04T14:35:03.507962Z",
     "shell.execute_reply": "2021-02-04T14:35:03.508717Z"
    },
    "papermill": {
     "duration": 3.049364,
     "end_time": "2021-02-04T14:35:03.509067",
     "exception": false,
     "start_time": "2021-02-04T14:35:00.459703",
     "status": "completed"
    },
    "tags": []
   },
   "outputs": [],
   "source": [
    "df = pd.read_csv(data_file, low_memory=False)"
   ]
  },
  {
   "cell_type": "code",
   "execution_count": 4,
   "metadata": {
    "execution": {
     "iopub.execute_input": "2021-02-04T14:35:03.535817Z",
     "iopub.status.busy": "2021-02-04T14:35:03.533119Z",
     "iopub.status.idle": "2021-02-04T14:35:09.742054Z",
     "shell.execute_reply": "2021-02-04T14:35:09.742778Z"
    },
    "papermill": {
     "duration": 6.225068,
     "end_time": "2021-02-04T14:35:09.743087",
     "exception": false,
     "start_time": "2021-02-04T14:35:03.518019",
     "status": "completed"
    },
    "tags": []
   },
   "outputs": [],
   "source": [
    "df.to_csv('data/df.csv', index=False)"
   ]
  },
  {
   "cell_type": "code",
   "execution_count": 5,
   "metadata": {
    "execution": {
     "iopub.execute_input": "2021-02-04T14:35:09.763082Z",
     "iopub.status.busy": "2021-02-04T14:35:09.762238Z",
     "iopub.status.idle": "2021-02-04T14:35:09.765972Z",
     "shell.execute_reply": "2021-02-04T14:35:09.766657Z"
    },
    "papermill": {
     "duration": 0.01597,
     "end_time": "2021-02-04T14:35:09.766862",
     "exception": false,
     "start_time": "2021-02-04T14:35:09.750892",
     "status": "completed"
    },
    "tags": []
   },
   "outputs": [
    {
     "name": "stdout",
     "output_type": "stream",
     "text": [
      "Dataset freMPL-R.csv loaded\n"
     ]
    }
   ],
   "source": [
    "print(f'Dataset {data_file} loaded')"
   ]
  }
 ],
 "metadata": {
  "kernelspec": {
   "display_name": "Python 3",
   "language": "python",
   "name": "python3"
  },
  "language_info": {
   "codemirror_mode": {
    "name": "ipython",
    "version": 3
   },
   "file_extension": ".py",
   "mimetype": "text/x-python",
   "name": "python",
   "nbconvert_exporter": "python",
   "pygments_lexer": "ipython3",
   "version": "3.8.6"
  },
  "papermill": {
   "default_parameters": {},
   "duration": 11.401683,
   "end_time": "2021-02-04T14:35:10.184043",
   "environment_variables": {},
   "exception": null,
   "input_path": "/home/jovyan/work/insolver_pipeline/load-insolver-df.ipynb",
   "output_path": "/home/jovyan/work/insolver_pipeline/load-insolver-df.ipynb",
   "parameters": {},
   "start_time": "2021-02-04T14:34:58.782360",
   "version": "2.2.2"
  }
 },
 "nbformat": 4,
 "nbformat_minor": 4
}
