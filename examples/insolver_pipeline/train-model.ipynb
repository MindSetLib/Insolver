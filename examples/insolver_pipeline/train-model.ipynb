{
 "cells": [
  {
   "cell_type": "code",
   "execution_count": 1,
   "metadata": {
    "execution": {
     "iopub.execute_input": "2021-02-04T14:35:27.519709Z",
     "iopub.status.busy": "2021-02-04T14:35:27.518835Z",
     "iopub.status.idle": "2021-02-04T14:35:30.434947Z",
     "shell.execute_reply": "2021-02-04T14:35:30.435700Z"
    },
    "papermill": {
     "duration": 2.942515,
     "end_time": "2021-02-04T14:35:30.436156",
     "exception": false,
     "start_time": "2021-02-04T14:35:27.493641",
     "status": "completed"
    },
    "tags": []
   },
   "outputs": [],
   "source": [
    "import os\n",
    "from pathlib import Path\n",
    "import pandas as pd\n",
    "\n",
    "from insolver.wrappers import InsolverGLMWrapper"
   ]
  },
  {
   "cell_type": "code",
   "execution_count": 2,
   "metadata": {
    "execution": {
     "iopub.execute_input": "2021-02-04T14:35:30.462776Z",
     "iopub.status.busy": "2021-02-04T14:35:30.461938Z",
     "iopub.status.idle": "2021-02-04T14:35:30.464459Z",
     "shell.execute_reply": "2021-02-04T14:35:30.465111Z"
    },
    "papermill": {
     "duration": 0.018685,
     "end_time": "2021-02-04T14:35:30.465313",
     "exception": false,
     "start_time": "2021-02-04T14:35:30.446628",
     "status": "completed"
    },
    "tags": []
   },
   "outputs": [],
   "source": [
    "if os.environ.get('FEATURES') is None or os.environ.get('TARGET') is None:\n",
    "    raise RuntimeError('Cannot run notebook. Required parameter is missing.')\n",
    "\n",
    "features = os.environ['FEATURES']\n",
    "target = os.environ['TARGET']"
   ]
  },
  {
   "cell_type": "code",
   "execution_count": 3,
   "metadata": {
    "execution": {
     "iopub.execute_input": "2021-02-04T14:35:30.494935Z",
     "iopub.status.busy": "2021-02-04T14:35:30.492977Z",
     "iopub.status.idle": "2021-02-04T14:35:30.497755Z",
     "shell.execute_reply": "2021-02-04T14:35:30.497007Z"
    },
    "papermill": {
     "duration": 0.023293,
     "end_time": "2021-02-04T14:35:30.497929",
     "exception": false,
     "start_time": "2021-02-04T14:35:30.474636",
     "status": "completed"
    },
    "tags": []
   },
   "outputs": [
    {
     "data": {
      "text/plain": [
       "['LicAge',\n",
       " 'Gender',\n",
       " 'MariStat',\n",
       " 'DrivAge',\n",
       " 'HasKmLimit',\n",
       " 'BonusMalus',\n",
       " 'RiskArea',\n",
       " 'Age_m',\n",
       " 'Age_f',\n",
       " 'Age_m_2',\n",
       " 'Age_f_2']"
      ]
     },
     "execution_count": 3,
     "metadata": {},
     "output_type": "execute_result"
    }
   ],
   "source": [
    "features = features.strip().split(',')\n",
    "features"
   ]
  },
  {
   "cell_type": "code",
   "execution_count": 4,
   "metadata": {
    "execution": {
     "iopub.execute_input": "2021-02-04T14:35:30.524448Z",
     "iopub.status.busy": "2021-02-04T14:35:30.523629Z",
     "iopub.status.idle": "2021-02-04T14:35:30.605965Z",
     "shell.execute_reply": "2021-02-04T14:35:30.605188Z"
    },
    "papermill": {
     "duration": 0.097908,
     "end_time": "2021-02-04T14:35:30.606170",
     "exception": false,
     "start_time": "2021-02-04T14:35:30.508262",
     "status": "completed"
    },
    "tags": []
   },
   "outputs": [],
   "source": [
    "train = pd.read_csv('data/train.csv', low_memory=False)\n",
    "valid = pd.read_csv('data/valid.csv', low_memory=False)\n",
    "test = pd.read_csv('data/test.csv', low_memory=False)"
   ]
  },
  {
   "cell_type": "code",
   "execution_count": 5,
   "metadata": {
    "execution": {
     "iopub.execute_input": "2021-02-04T14:35:30.647088Z",
     "iopub.status.busy": "2021-02-04T14:35:30.646146Z",
     "iopub.status.idle": "2021-02-04T14:35:30.648369Z",
     "shell.execute_reply": "2021-02-04T14:35:30.649091Z"
    },
    "papermill": {
     "duration": 0.028098,
     "end_time": "2021-02-04T14:35:30.649333",
     "exception": false,
     "start_time": "2021-02-04T14:35:30.621235",
     "status": "completed"
    },
    "tags": []
   },
   "outputs": [],
   "source": [
    "x_train, y_train = train[features], train[target]\n",
    "x_valid, y_valid = valid[features], valid[target]\n",
    "x_test, y_test = test[features], test[target]"
   ]
  },
  {
   "cell_type": "code",
   "execution_count": 6,
   "metadata": {
    "execution": {
     "iopub.execute_input": "2021-02-04T14:35:30.680003Z",
     "iopub.status.busy": "2021-02-04T14:35:30.678967Z",
     "iopub.status.idle": "2021-02-04T14:35:30.774130Z",
     "shell.execute_reply": "2021-02-04T14:35:30.774988Z"
    },
    "papermill": {
     "duration": 0.115016,
     "end_time": "2021-02-04T14:35:30.775259",
     "exception": false,
     "start_time": "2021-02-04T14:35:30.660243",
     "status": "completed"
    },
    "tags": []
   },
   "outputs": [],
   "source": [
    "# train our model with sklearn\n",
    "iglm = InsolverGLMWrapper(backend='sklearn', family='gamma', link='log', standardize=True)\n",
    "iglm.fit(x_train, y_train)"
   ]
  },
  {
   "cell_type": "code",
   "execution_count": 7,
   "metadata": {
    "execution": {
     "iopub.execute_input": "2021-02-04T14:35:30.806020Z",
     "iopub.status.busy": "2021-02-04T14:35:30.805149Z",
     "iopub.status.idle": "2021-02-04T14:35:30.809175Z",
     "shell.execute_reply": "2021-02-04T14:35:30.810026Z"
    },
    "papermill": {
     "duration": 0.02322,
     "end_time": "2021-02-04T14:35:30.810233",
     "exception": false,
     "start_time": "2021-02-04T14:35:30.787013",
     "status": "completed"
    },
    "tags": []
   },
   "outputs": [],
   "source": [
    "iglm.save_model('data/')"
   ]
  },
  {
   "cell_type": "code",
   "execution_count": 8,
   "metadata": {
    "execution": {
     "iopub.execute_input": "2021-02-04T14:35:30.842602Z",
     "iopub.status.busy": "2021-02-04T14:35:30.841211Z",
     "iopub.status.idle": "2021-02-04T14:35:30.850191Z",
     "shell.execute_reply": "2021-02-04T14:35:30.851296Z"
    },
    "papermill": {
     "duration": 0.030315,
     "end_time": "2021-02-04T14:35:30.851598",
     "exception": false,
     "start_time": "2021-02-04T14:35:30.821283",
     "status": "completed"
    },
    "tags": []
   },
   "outputs": [
    {
     "name": "stdout",
     "output_type": "stream",
     "text": [
      "The GLM model have been trained"
     ]
    },
    {
     "name": "stdout",
     "output_type": "stream",
     "text": [
      "\n"
     ]
    }
   ],
   "source": [
    "# rename saved model\n",
    "models_path = Path('data')\n",
    "model = list(models_path.glob('insolver_glm_*'))[0]\n",
    "model.rename(models_path.joinpath('GLM.model'))\n",
    "\n",
    "print('The GLM model have been trained')"
   ]
  },
  {
   "cell_type": "code",
   "execution_count": null,
   "metadata": {
    "papermill": {
     "duration": 0.011661,
     "end_time": "2021-02-04T14:35:30.881754",
     "exception": false,
     "start_time": "2021-02-04T14:35:30.870093",
     "status": "completed"
    },
    "tags": []
   },
   "outputs": [],
   "source": []
  }
 ],
 "metadata": {
  "kernelspec": {
   "display_name": "Python 3",
   "language": "python",
   "name": "python3"
  },
  "language_info": {
   "codemirror_mode": {
    "name": "ipython",
    "version": 3
   },
   "file_extension": ".py",
   "mimetype": "text/x-python",
   "name": "python",
   "nbconvert_exporter": "python",
   "pygments_lexer": "ipython3",
   "version": "3.8.6"
  },
  "papermill": {
   "default_parameters": {},
   "duration": 6.050596,
   "end_time": "2021-02-04T14:35:32.345052",
   "environment_variables": {},
   "exception": null,
   "input_path": "/home/jovyan/work/insolver_pipeline/train-model.ipynb",
   "output_path": "/home/jovyan/work/insolver_pipeline/train-model.ipynb",
   "parameters": {},
   "start_time": "2021-02-04T14:35:26.294456",
   "version": "2.2.2"
  }
 },
 "nbformat": 4,
 "nbformat_minor": 4
}
