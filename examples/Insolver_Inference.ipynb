{
 "cells": [
  {
   "cell_type": "code",
   "execution_count": 1,
   "metadata": {},
   "outputs": [],
   "source": [
    "import pickle\n",
    "import pandas as pd"
   ]
  },
  {
   "cell_type": "code",
   "execution_count": 2,
   "metadata": {},
   "outputs": [],
   "source": [
    "from insolver import InsolverDataFrame\n",
    "from insolver.transforms import InsolverTransform, init_transforms\n",
    "from insolver.wrappers import InsolverGLMWrapper"
   ]
  },
  {
   "cell_type": "markdown",
   "metadata": {},
   "source": [
    "In this notebook we need a file that contains transformations. So that we may need to execute \"Insolver_DataFrame_&_Transforms.ipynb\" beforehand."
   ]
  },
  {
   "cell_type": "code",
   "execution_count": 3,
   "metadata": {},
   "outputs": [
    {
     "name": "stderr",
     "output_type": "stream",
     "text": [
      "[NbConvertApp] Converting notebook Insolver_DataFrame_&_Transforms.ipynb to notebook\n",
      "[NbConvertApp] Writing 36512 bytes to Insolver_DataFrame_&_Transforms.ipynb\n"
     ]
    }
   ],
   "source": [
    "!jupyter nbconvert --execute --clear-output \"Insolver_DataFrame_&_Transforms.ipynb\""
   ]
  },
  {
   "cell_type": "code",
   "execution_count": 4,
   "metadata": {},
   "outputs": [],
   "source": [
    "# Load transformations\n",
    "\n",
    "with open('transforms_freMPL-R.pickle', 'rb') as file:\n",
    "    transforms = pickle.load(file)"
   ]
  },
  {
   "cell_type": "code",
   "execution_count": 5,
   "metadata": {},
   "outputs": [
    {
     "data": {
      "text/plain": [
       "{0: {'name': 'TransformPolynomizer',\n",
       "  'attributes': {'column_param': 'DrivAge', 'n': 2, 'priority': 3}},\n",
       " 1: {'name': 'TransformAge',\n",
       "  'attributes': {'age_max': 75,\n",
       "   'age_min': 18,\n",
       "   'column_driver_minage': 'DrivAge',\n",
       "   'priority': 1}},\n",
       " 2: {'name': 'TransformExp',\n",
       "  'attributes': {'column_driver_minexp': 'LicAge',\n",
       "   'exp_max': 57,\n",
       "   'priority': 1}},\n",
       " 3: {'name': 'TransformMapValues',\n",
       "  'attributes': {'column_param': 'Gender',\n",
       "   'dictionary': {'Male': 0, 'Female': 1},\n",
       "   'priority': 1}},\n",
       " 4: {'name': 'TransformMapValues',\n",
       "  'attributes': {'column_param': 'MariStat',\n",
       "   'dictionary': {'Other': 0, 'Alone': 1},\n",
       "   'priority': 1}},\n",
       " 5: {'name': 'TransformSocioCateg',\n",
       "  'attributes': {'column_socio_categ': 'SocioCateg', 'priority': 0}},\n",
       " 6: {'name': 'TransformGetDummies',\n",
       "  'attributes': {'column_param': 'SocioCateg',\n",
       "   'drop_first': False,\n",
       "   'dummy_columns': ['SocioCateg_CSP1',\n",
       "    'SocioCateg_CSP2',\n",
       "    'SocioCateg_CSP3',\n",
       "    'SocioCateg_CSP4',\n",
       "    'SocioCateg_CSP5',\n",
       "    'SocioCateg_CSP6',\n",
       "    'SocioCateg_CSP7',\n",
       "    'SocioCateg_CSP8',\n",
       "    'SocioCateg_CSP9'],\n",
       "   'inference': False,\n",
       "   'priority': 3}},\n",
       " 7: {'name': 'TransformAgeGender',\n",
       "  'attributes': {'age_default': 18,\n",
       "   'column_age': 'DrivAge',\n",
       "   'column_age_f': 'Age_f',\n",
       "   'column_age_m': 'Age_m',\n",
       "   'column_gender': 'Gender',\n",
       "   'gender_female': 1,\n",
       "   'gender_male': 0,\n",
       "   'priority': 2}},\n",
       " 8: {'name': 'TransformPolynomizer',\n",
       "  'attributes': {'column_param': 'Age_m', 'n': 2, 'priority': 3}},\n",
       " 9: {'name': 'TransformPolynomizer',\n",
       "  'attributes': {'column_param': 'Age_f', 'n': 2, 'priority': 3}}}"
      ]
     },
     "execution_count": 5,
     "metadata": {},
     "output_type": "execute_result"
    }
   ],
   "source": [
    "transforms"
   ]
  },
  {
   "cell_type": "code",
   "execution_count": 6,
   "metadata": {},
   "outputs": [],
   "source": [
    "# Init transformations\n",
    "\n",
    "transforms = init_transforms(transforms, inference=True)"
   ]
  },
  {
   "cell_type": "code",
   "execution_count": 7,
   "metadata": {},
   "outputs": [
    {
     "data": {
      "text/plain": [
       "[<insolver.transforms.basic.TransformPolynomizer at 0x260288ecfa0>,\n",
       " <insolver.transforms.basic.TransformMapValues at 0x260288ecca0>,\n",
       " <insolver.transforms.basic.TransformMapValues at 0x260288ecee0>,\n",
       " <insolver.transforms.basic.TransformGetDummies at 0x26040ee8910>,\n",
       " <insolver.transforms.basic.TransformPolynomizer at 0x26040ee8880>,\n",
       " <insolver.transforms.basic.TransformPolynomizer at 0x26040ee8640>]"
      ]
     },
     "execution_count": 7,
     "metadata": {},
     "output_type": "execute_result"
    }
   ],
   "source": [
    "transforms"
   ]
  }
 ],
 "metadata": {
  "kernelspec": {
   "display_name": "Python 3 (ipykernel)",
   "language": "python",
   "name": "python3"
  },
  "language_info": {
   "codemirror_mode": {
    "name": "ipython",
    "version": 3
   },
   "file_extension": ".py",
   "mimetype": "text/x-python",
   "name": "python",
   "nbconvert_exporter": "python",
   "pygments_lexer": "ipython3",
   "version": "3.9.6"
  }
 },
 "nbformat": 4,
 "nbformat_minor": 4
}
