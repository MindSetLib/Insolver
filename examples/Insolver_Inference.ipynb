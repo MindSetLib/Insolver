{
 "cells": [
  {
   "cell_type": "code",
   "execution_count": 1,
   "metadata": {},
   "outputs": [],
   "source": [
    "import pickle\n",
    "import pandas as pd"
   ]
  },
  {
   "cell_type": "code",
   "execution_count": 2,
   "metadata": {},
   "outputs": [],
   "source": [
    "from insolver.frame import InsolverDataFrame\n",
    "from insolver.transforms import InsolverTransform, init_transforms\n",
    "from insolver.wrappers import InsolverGLMWrapper"
   ]
  },
  {
   "cell_type": "code",
   "execution_count": 3,
   "metadata": {},
   "outputs": [],
   "source": [
    "# Load transformations\n",
    "\n",
    "with open('transforms_freMPL-R.pkl', 'rb') as file:\n",
    "    transforms = pickle.load(file)"
   ]
  },
  {
   "cell_type": "code",
   "execution_count": 4,
   "metadata": {},
   "outputs": [
    {
     "data": {
      "text/plain": [
       "{0: {'name': 'TransformPolynomizer',\n",
       "  'attributes': {'column_param': 'DrivAge', 'n': 2, 'priority': 3}},\n",
       " 1: {'name': 'TransformAge',\n",
       "  'attributes': {'age_max': 75,\n",
       "   'age_min': 18,\n",
       "   'column_driver_minage': 'DrivAge',\n",
       "   'priority': 1}},\n",
       " 2: {'name': 'TransformExp',\n",
       "  'attributes': {'column_driver_minexp': 'LicAge',\n",
       "   'exp_max': 57,\n",
       "   'priority': 1}},\n",
       " 3: {'name': 'TransformMapValues',\n",
       "  'attributes': {'column_param': 'Gender',\n",
       "   'dictionary': {'Male': 0, 'Female': 1},\n",
       "   'priority': 1}},\n",
       " 4: {'name': 'TransformMapValues',\n",
       "  'attributes': {'column_param': 'MariStat',\n",
       "   'dictionary': {'Other': 0, 'Alone': 1},\n",
       "   'priority': 1}},\n",
       " 5: {'name': 'TransformSocioCateg',\n",
       "  'attributes': {'column_socio_categ': 'SocioCateg', 'priority': 0}},\n",
       " 6: {'name': 'TransformGetDummies',\n",
       "  'attributes': {'column_param': 'SocioCateg',\n",
       "   'drop_first': False,\n",
       "   'dummy_columns': ['SocioCateg_CSP1',\n",
       "    'SocioCateg_CSP2',\n",
       "    'SocioCateg_CSP3',\n",
       "    'SocioCateg_CSP4',\n",
       "    'SocioCateg_CSP5',\n",
       "    'SocioCateg_CSP6',\n",
       "    'SocioCateg_CSP7',\n",
       "    'SocioCateg_CSP8',\n",
       "    'SocioCateg_CSP9'],\n",
       "   'inference': False,\n",
       "   'priority': 3}},\n",
       " 7: {'name': 'TransformAgeGender',\n",
       "  'attributes': {'age_default': 18,\n",
       "   'column_age': 'DrivAge',\n",
       "   'column_age_f': 'Age_f',\n",
       "   'column_age_m': 'Age_m',\n",
       "   'column_gender': 'Gender',\n",
       "   'gender_female': 1,\n",
       "   'gender_male': 0,\n",
       "   'priority': 2}},\n",
       " 8: {'name': 'TransformPolynomizer',\n",
       "  'attributes': {'column_param': 'Age_m', 'n': 2, 'priority': 3}},\n",
       " 9: {'name': 'TransformPolynomizer',\n",
       "  'attributes': {'column_param': 'Age_f', 'n': 2, 'priority': 3}}}"
      ]
     },
     "execution_count": 4,
     "metadata": {},
     "output_type": "execute_result"
    }
   ],
   "source": [
    "transforms"
   ]
  },
  {
   "cell_type": "code",
   "execution_count": 5,
   "metadata": {},
   "outputs": [],
   "source": [
    "# Init transformations\n",
    "\n",
    "transforms = init_transforms(transforms, inference=True)"
   ]
  },
  {
   "cell_type": "code",
   "execution_count": 6,
   "metadata": {},
   "outputs": [
    {
     "data": {
      "text/plain": [
       "[<insolver.transforms.InsolverTransforms.TransformPolynomizer at 0x1a4dfaaa788>,\n",
       " <insolver.transforms.InsolverTransforms.TransformAge at 0x1a4dfaaa8c8>,\n",
       " <insolver.transforms.InsolverTransforms.TransformExp at 0x1a4dfaaa708>,\n",
       " <insolver.transforms.InsolverTransforms.TransformMapValues at 0x1a4dfaaa848>,\n",
       " <insolver.transforms.InsolverTransforms.TransformMapValues at 0x1a4dfaaa108>,\n",
       " <insolver.transforms.InsolverTransforms.TransformGetDummies at 0x1a4dfaaa908>,\n",
       " <insolver.transforms.InsolverTransforms.TransformAgeGender at 0x1a4dfaaac48>,\n",
       " <insolver.transforms.InsolverTransforms.TransformPolynomizer at 0x1a4dfaaa308>,\n",
       " <insolver.transforms.InsolverTransforms.TransformPolynomizer at 0x1a4dfaa2188>]"
      ]
     },
     "execution_count": 6,
     "metadata": {},
     "output_type": "execute_result"
    }
   ],
   "source": [
    "transforms"
   ]
  },
  {
   "cell_type": "code",
   "execution_count": null,
   "metadata": {},
   "outputs": [],
   "source": []
  }
 ],
 "metadata": {
  "kernelspec": {
   "display_name": "Python 3",
   "language": "python",
   "name": "python3"
  },
  "language_info": {
   "codemirror_mode": {
    "name": "ipython",
    "version": 3
   },
   "file_extension": ".py",
   "mimetype": "text/x-python",
   "name": "python",
   "nbconvert_exporter": "python",
   "pygments_lexer": "ipython3",
   "version": "3.7.6"
  }
 },
 "nbformat": 4,
 "nbformat_minor": 4
}
