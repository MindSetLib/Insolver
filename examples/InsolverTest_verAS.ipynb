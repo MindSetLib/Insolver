{
 "cells": [
  {
   "cell_type": "code",
   "execution_count": 1,
   "metadata": {},
   "outputs": [],
   "source": [
    "# !pip install \"git+ssh://git@github.com/MindSetLib/MS-InsuranceScoring.git@InsolverPackage#egg=insolver\""
   ]
  },
  {
   "cell_type": "code",
   "execution_count": 2,
   "metadata": {},
   "outputs": [],
   "source": [
    "import pandas as pd\n",
    "import matplotlib.pyplot as plt\n",
    "from hyperopt import hp"
   ]
  },
  {
   "cell_type": "code",
   "execution_count": 3,
   "metadata": {},
   "outputs": [],
   "source": [
    "from insolver.InsolverDataFrame import InsolverDataFrame\n",
    "from insolver.InsolverTransforms import (\n",
    "    TransformExp,\n",
    "    InsolverTransformMain,\n",
    "    InsolverTransforms,\n",
    "    TransformAge,\n",
    "    TransformMapValues,\n",
    "    TransformPolynomizer,\n",
    "    TransformAgeGender,\n",
    ")\n",
    "from insolver.InsolverWrapperGBM import InsolverGradientBoostingWrapper\n",
    "from insolver.InsolverPlotsGBM import PredictionPlots, ShapPlots\n",
    "from insolver.InsolverWrapperGLM import InsolverGLMWrapper\n",
    "from insolver.InsolverUtils import train_val_test_split"
   ]
  },
  {
   "cell_type": "code",
   "execution_count": 4,
   "metadata": {},
   "outputs": [],
   "source": [
    "df = pd.read_csv('freMPL-R.csv', low_memory=False)"
   ]
  },
  {
   "cell_type": "code",
   "execution_count": 5,
   "metadata": {},
   "outputs": [],
   "source": [
    "InsDataFrame = InsolverDataFrame(df)"
   ]
  },
  {
   "cell_type": "code",
   "execution_count": 6,
   "metadata": {},
   "outputs": [
    {
     "data": {
      "text/html": [
       "<div>\n",
       "<style scoped>\n",
       "    .dataframe tbody tr th:only-of-type {\n",
       "        vertical-align: middle;\n",
       "    }\n",
       "\n",
       "    .dataframe tbody tr th {\n",
       "        vertical-align: top;\n",
       "    }\n",
       "\n",
       "    .dataframe thead th {\n",
       "        text-align: right;\n",
       "    }\n",
       "</style>\n",
       "<table border=\"1\" class=\"dataframe\">\n",
       "  <thead>\n",
       "    <tr style=\"text-align: right;\">\n",
       "      <th></th>\n",
       "      <th>Exposure</th>\n",
       "      <th>LicAge</th>\n",
       "      <th>RecordBeg</th>\n",
       "      <th>RecordEnd</th>\n",
       "      <th>VehAge</th>\n",
       "      <th>Gender</th>\n",
       "      <th>MariStat</th>\n",
       "      <th>SocioCateg</th>\n",
       "      <th>VehUsage</th>\n",
       "      <th>DrivAge</th>\n",
       "      <th>...</th>\n",
       "      <th>ClaimInd</th>\n",
       "      <th>Dataset</th>\n",
       "      <th>DeducType</th>\n",
       "      <th>ClaimNbResp</th>\n",
       "      <th>ClaimNbNonResp</th>\n",
       "      <th>ClaimNbParking</th>\n",
       "      <th>ClaimNbFireTheft</th>\n",
       "      <th>ClaimNbWindscreen</th>\n",
       "      <th>OutUseNb</th>\n",
       "      <th>RiskArea</th>\n",
       "    </tr>\n",
       "  </thead>\n",
       "  <tbody>\n",
       "    <tr>\n",
       "      <th>0</th>\n",
       "      <td>0.583</td>\n",
       "      <td>366</td>\n",
       "      <td>2004-06-01</td>\n",
       "      <td>NaN</td>\n",
       "      <td>2</td>\n",
       "      <td>Female</td>\n",
       "      <td>Other</td>\n",
       "      <td>CSP1</td>\n",
       "      <td>Professional</td>\n",
       "      <td>55</td>\n",
       "      <td>...</td>\n",
       "      <td>0</td>\n",
       "      <td>1</td>\n",
       "      <td>NaN</td>\n",
       "      <td>NaN</td>\n",
       "      <td>NaN</td>\n",
       "      <td>NaN</td>\n",
       "      <td>NaN</td>\n",
       "      <td>NaN</td>\n",
       "      <td>NaN</td>\n",
       "      <td>NaN</td>\n",
       "    </tr>\n",
       "    <tr>\n",
       "      <th>1</th>\n",
       "      <td>0.200</td>\n",
       "      <td>187</td>\n",
       "      <td>2004-10-19</td>\n",
       "      <td>NaN</td>\n",
       "      <td>0</td>\n",
       "      <td>Male</td>\n",
       "      <td>Alone</td>\n",
       "      <td>CSP55</td>\n",
       "      <td>Private+trip to office</td>\n",
       "      <td>34</td>\n",
       "      <td>...</td>\n",
       "      <td>0</td>\n",
       "      <td>1</td>\n",
       "      <td>NaN</td>\n",
       "      <td>NaN</td>\n",
       "      <td>NaN</td>\n",
       "      <td>NaN</td>\n",
       "      <td>NaN</td>\n",
       "      <td>NaN</td>\n",
       "      <td>NaN</td>\n",
       "      <td>NaN</td>\n",
       "    </tr>\n",
       "    <tr>\n",
       "      <th>2</th>\n",
       "      <td>0.083</td>\n",
       "      <td>169</td>\n",
       "      <td>2004-07-16</td>\n",
       "      <td>2004-08-16</td>\n",
       "      <td>1</td>\n",
       "      <td>Female</td>\n",
       "      <td>Other</td>\n",
       "      <td>CSP1</td>\n",
       "      <td>Professional</td>\n",
       "      <td>33</td>\n",
       "      <td>...</td>\n",
       "      <td>0</td>\n",
       "      <td>1</td>\n",
       "      <td>NaN</td>\n",
       "      <td>NaN</td>\n",
       "      <td>NaN</td>\n",
       "      <td>NaN</td>\n",
       "      <td>NaN</td>\n",
       "      <td>NaN</td>\n",
       "      <td>NaN</td>\n",
       "      <td>NaN</td>\n",
       "    </tr>\n",
       "    <tr>\n",
       "      <th>3</th>\n",
       "      <td>0.375</td>\n",
       "      <td>170</td>\n",
       "      <td>2004-08-16</td>\n",
       "      <td>NaN</td>\n",
       "      <td>1</td>\n",
       "      <td>Female</td>\n",
       "      <td>Other</td>\n",
       "      <td>CSP1</td>\n",
       "      <td>Professional</td>\n",
       "      <td>34</td>\n",
       "      <td>...</td>\n",
       "      <td>0</td>\n",
       "      <td>1</td>\n",
       "      <td>NaN</td>\n",
       "      <td>NaN</td>\n",
       "      <td>NaN</td>\n",
       "      <td>NaN</td>\n",
       "      <td>NaN</td>\n",
       "      <td>NaN</td>\n",
       "      <td>NaN</td>\n",
       "      <td>NaN</td>\n",
       "    </tr>\n",
       "    <tr>\n",
       "      <th>4</th>\n",
       "      <td>0.500</td>\n",
       "      <td>224</td>\n",
       "      <td>2004-01-01</td>\n",
       "      <td>2004-07-01</td>\n",
       "      <td>3</td>\n",
       "      <td>Male</td>\n",
       "      <td>Other</td>\n",
       "      <td>CSP47</td>\n",
       "      <td>Professional</td>\n",
       "      <td>53</td>\n",
       "      <td>...</td>\n",
       "      <td>1</td>\n",
       "      <td>1</td>\n",
       "      <td>NaN</td>\n",
       "      <td>NaN</td>\n",
       "      <td>NaN</td>\n",
       "      <td>NaN</td>\n",
       "      <td>NaN</td>\n",
       "      <td>NaN</td>\n",
       "      <td>NaN</td>\n",
       "      <td>NaN</td>\n",
       "    </tr>\n",
       "    <tr>\n",
       "      <th>5</th>\n",
       "      <td>0.499</td>\n",
       "      <td>230</td>\n",
       "      <td>2004-07-01</td>\n",
       "      <td>NaN</td>\n",
       "      <td>3</td>\n",
       "      <td>Male</td>\n",
       "      <td>Other</td>\n",
       "      <td>CSP47</td>\n",
       "      <td>Professional</td>\n",
       "      <td>53</td>\n",
       "      <td>...</td>\n",
       "      <td>0</td>\n",
       "      <td>1</td>\n",
       "      <td>NaN</td>\n",
       "      <td>NaN</td>\n",
       "      <td>NaN</td>\n",
       "      <td>NaN</td>\n",
       "      <td>NaN</td>\n",
       "      <td>NaN</td>\n",
       "      <td>NaN</td>\n",
       "      <td>NaN</td>\n",
       "    </tr>\n",
       "    <tr>\n",
       "      <th>6</th>\n",
       "      <td>0.218</td>\n",
       "      <td>169</td>\n",
       "      <td>2004-01-01</td>\n",
       "      <td>2004-03-20</td>\n",
       "      <td>6-7</td>\n",
       "      <td>Male</td>\n",
       "      <td>Other</td>\n",
       "      <td>CSP50</td>\n",
       "      <td>Private+trip to office</td>\n",
       "      <td>32</td>\n",
       "      <td>...</td>\n",
       "      <td>1</td>\n",
       "      <td>1</td>\n",
       "      <td>NaN</td>\n",
       "      <td>NaN</td>\n",
       "      <td>NaN</td>\n",
       "      <td>NaN</td>\n",
       "      <td>NaN</td>\n",
       "      <td>NaN</td>\n",
       "      <td>NaN</td>\n",
       "      <td>NaN</td>\n",
       "    </tr>\n",
       "  </tbody>\n",
       "</table>\n",
       "<p>7 rows × 31 columns</p>\n",
       "</div>"
      ],
      "text/plain": [
       "   Exposure  LicAge   RecordBeg   RecordEnd VehAge  Gender MariStat  \\\n",
       "0     0.583     366  2004-06-01         NaN      2  Female    Other   \n",
       "1     0.200     187  2004-10-19         NaN      0    Male    Alone   \n",
       "2     0.083     169  2004-07-16  2004-08-16      1  Female    Other   \n",
       "3     0.375     170  2004-08-16         NaN      1  Female    Other   \n",
       "4     0.500     224  2004-01-01  2004-07-01      3    Male    Other   \n",
       "5     0.499     230  2004-07-01         NaN      3    Male    Other   \n",
       "6     0.218     169  2004-01-01  2004-03-20    6-7    Male    Other   \n",
       "\n",
       "  SocioCateg                VehUsage  DrivAge  ...  ClaimInd  Dataset  \\\n",
       "0       CSP1            Professional       55  ...         0        1   \n",
       "1      CSP55  Private+trip to office       34  ...         0        1   \n",
       "2       CSP1            Professional       33  ...         0        1   \n",
       "3       CSP1            Professional       34  ...         0        1   \n",
       "4      CSP47            Professional       53  ...         1        1   \n",
       "5      CSP47            Professional       53  ...         0        1   \n",
       "6      CSP50  Private+trip to office       32  ...         1        1   \n",
       "\n",
       "  DeducType ClaimNbResp ClaimNbNonResp ClaimNbParking ClaimNbFireTheft  \\\n",
       "0       NaN         NaN            NaN            NaN              NaN   \n",
       "1       NaN         NaN            NaN            NaN              NaN   \n",
       "2       NaN         NaN            NaN            NaN              NaN   \n",
       "3       NaN         NaN            NaN            NaN              NaN   \n",
       "4       NaN         NaN            NaN            NaN              NaN   \n",
       "5       NaN         NaN            NaN            NaN              NaN   \n",
       "6       NaN         NaN            NaN            NaN              NaN   \n",
       "\n",
       "  ClaimNbWindscreen  OutUseNb  RiskArea  \n",
       "0               NaN       NaN       NaN  \n",
       "1               NaN       NaN       NaN  \n",
       "2               NaN       NaN       NaN  \n",
       "3               NaN       NaN       NaN  \n",
       "4               NaN       NaN       NaN  \n",
       "5               NaN       NaN       NaN  \n",
       "6               NaN       NaN       NaN  \n",
       "\n",
       "[7 rows x 31 columns]"
      ]
     },
     "execution_count": 6,
     "metadata": {},
     "output_type": "execute_result"
    }
   ],
   "source": [
    "InsDataFrame.head(7)"
   ]
  },
  {
   "cell_type": "code",
   "execution_count": 7,
   "metadata": {},
   "outputs": [
    {
     "name": "stdout",
     "output_type": "stream",
     "text": [
      "<class 'pandas.core.frame.DataFrame'>\n",
      "RangeIndex: 343080 entries, 0 to 343079\n",
      "Data columns (total 31 columns):\n",
      " #   Column             Non-Null Count   Dtype  \n",
      "---  ------             --------------   -----  \n",
      " 0   Exposure           343080 non-null  float64\n",
      " 1   LicAge             343080 non-null  int64  \n",
      " 2   RecordBeg          343080 non-null  object \n",
      " 3   RecordEnd          181115 non-null  object \n",
      " 4   VehAge             177880 non-null  object \n",
      " 5   Gender             343080 non-null  object \n",
      " 6   MariStat           343080 non-null  object \n",
      " 7   SocioCateg         343080 non-null  object \n",
      " 8   VehUsage           343080 non-null  object \n",
      " 9   DrivAge            343080 non-null  int64  \n",
      " 10  HasKmLimit         343080 non-null  int64  \n",
      " 11  BonusMalus         343080 non-null  int64  \n",
      " 12  VehBody            145780 non-null  object \n",
      " 13  VehPrice           145780 non-null  object \n",
      " 14  VehEngine          145780 non-null  object \n",
      " 15  VehEnergy          145780 non-null  object \n",
      " 16  VehMaxSpeed        145780 non-null  object \n",
      " 17  VehClass           145780 non-null  object \n",
      " 18  ClaimAmount        343080 non-null  float64\n",
      " 19  RiskVar            145780 non-null  float64\n",
      " 20  Garage             145780 non-null  object \n",
      " 21  ClaimInd           343080 non-null  int64  \n",
      " 22  Dataset            343080 non-null  int64  \n",
      " 23  DeducType          66890 non-null   object \n",
      " 24  ClaimNbResp        197300 non-null  float64\n",
      " 25  ClaimNbNonResp     197300 non-null  float64\n",
      " 26  ClaimNbParking     197300 non-null  float64\n",
      " 27  ClaimNbFireTheft   197300 non-null  float64\n",
      " 28  ClaimNbWindscreen  197300 non-null  float64\n",
      " 29  OutUseNb           197300 non-null  float64\n",
      " 30  RiskArea           197300 non-null  float64\n",
      "dtypes: float64(10), int64(6), object(15)\n",
      "memory usage: 81.1+ MB\n"
     ]
    }
   ],
   "source": [
    "InsDataFrame.info()"
   ]
  },
  {
   "cell_type": "code",
   "execution_count": 8,
   "metadata": {},
   "outputs": [
    {
     "data": {
      "text/plain": [
       "{'type': 'InsolverDataFrame',\n",
       " 'columns': Index(['Exposure', 'LicAge', 'RecordBeg', 'RecordEnd', 'VehAge', 'Gender',\n",
       "        'MariStat', 'SocioCateg', 'VehUsage', 'DrivAge', 'HasKmLimit',\n",
       "        'BonusMalus', 'VehBody', 'VehPrice', 'VehEngine', 'VehEnergy',\n",
       "        'VehMaxSpeed', 'VehClass', 'ClaimAmount', 'RiskVar', 'Garage',\n",
       "        'ClaimInd', 'Dataset', 'DeducType', 'ClaimNbResp', 'ClaimNbNonResp',\n",
       "        'ClaimNbParking', 'ClaimNbFireTheft', 'ClaimNbWindscreen', 'OutUseNb',\n",
       "        'RiskArea'],\n",
       "       dtype='object'),\n",
       " 'len': 343080}"
      ]
     },
     "execution_count": 8,
     "metadata": {},
     "output_type": "execute_result"
    }
   ],
   "source": [
    "InsDataFrame.get_meta_info()"
   ]
  },
  {
   "cell_type": "code",
   "execution_count": 9,
   "metadata": {},
   "outputs": [],
   "source": [
    "@staticmethod\n",
    "def exp_new(exp, exp_max):\n",
    "    if pd.isnull(exp):\n",
    "        exp = None\n",
    "    elif exp < 0:\n",
    "        exp = None\n",
    "    else:\n",
    "        exp = exp * 7 // 365\n",
    "    if exp > exp_max:\n",
    "        exp = exp_max\n",
    "    return exp\n",
    "\n",
    "TransformExp._exp = exp_new"
   ]
  },
  {
   "cell_type": "code",
   "execution_count": 10,
   "metadata": {},
   "outputs": [],
   "source": [
    "class TransformSocioCateg(InsolverTransformMain):\n",
    "    def __init__(self, column_socio_categ):\n",
    "        self.priority = 0\n",
    "        super().__init__()\n",
    "        self.column_socio_categ = column_socio_categ\n",
    "\n",
    "    def __call__(self, df):\n",
    "        df[self.column_socio_categ] = df[self.column_socio_categ].str.slice(0,4)\n",
    "        return df"
   ]
  },
  {
   "cell_type": "code",
   "execution_count": 11,
   "metadata": {},
   "outputs": [],
   "source": [
    "class TransformToNumeric(InsolverTransformMain):\n",
    "    def __init__(self, column_param, downcast='integer'):\n",
    "        self.priority = 0\n",
    "        super().__init__()\n",
    "        self.column_param = column_param\n",
    "        self.downcast = downcast\n",
    "\n",
    "    def __call__(self, df):\n",
    "        df[self.column_param] = pd.to_numeric(df[self.column_param], downcast=self.downcast)\n",
    "        return df"
   ]
  },
  {
   "cell_type": "code",
   "execution_count": 12,
   "metadata": {},
   "outputs": [],
   "source": [
    "InsTransforms = InsolverTransforms(InsDataFrame.get_data(), [\n",
    "    TransformAge('DrivAge', 18, 75),\n",
    "    TransformExp('LicAge', 57),\n",
    "    TransformMapValues('Gender', {'Male':0, 'Female':1}),\n",
    "    TransformMapValues('MariStat', {'Other':0, 'Alone':1}),\n",
    "    TransformSocioCateg('SocioCateg'),\n",
    "    TransformAgeGender('DrivAge', 'Gender', 'Age_m', 'Age_f', age_default=18, gender_male=0, gender_female=1),\n",
    "    TransformPolynomizer('Age_m'),\n",
    "    TransformPolynomizer('Age_f'),\n",
    "    # TransformToNumeric('VehAge'),\n",
    "    # T.TransformVehAge('VehAge', 20),\n",
    "    ])"
   ]
  },
  {
   "cell_type": "code",
   "execution_count": 13,
   "metadata": {},
   "outputs": [
    {
     "data": {
      "text/plain": [
       "[<insolver.InsolverTransforms.TransformAge at 0x2530103c648>,\n",
       " <insolver.InsolverTransforms.TransformExp at 0x2530103c3c8>,\n",
       " <insolver.InsolverTransforms.TransformMapValues at 0x2530103c688>,\n",
       " <insolver.InsolverTransforms.TransformMapValues at 0x2530103c848>,\n",
       " <__main__.TransformSocioCateg at 0x2530103c888>,\n",
       " <insolver.InsolverTransforms.TransformAgeGender at 0x2530103c8c8>,\n",
       " <insolver.InsolverTransforms.TransformPolynomizer at 0x2537ef1e148>,\n",
       " <insolver.InsolverTransforms.TransformPolynomizer at 0x2530103c908>]"
      ]
     },
     "execution_count": 13,
     "metadata": {},
     "output_type": "execute_result"
    }
   ],
   "source": [
    "InsTransforms.transforms"
   ]
  },
  {
   "cell_type": "code",
   "execution_count": 14,
   "metadata": {},
   "outputs": [
    {
     "data": {
      "text/plain": [
       "['TransformSocioCateg',\n",
       " 'TransformAge',\n",
       " 'TransformExp',\n",
       " 'TransformMapValues',\n",
       " 'TransformMapValues',\n",
       " 'TransformAgeGender',\n",
       " 'TransformPolynomizer',\n",
       " 'TransformPolynomizer']"
      ]
     },
     "execution_count": 14,
     "metadata": {},
     "output_type": "execute_result"
    }
   ],
   "source": [
    "InsTransforms.transform()"
   ]
  },
  {
   "cell_type": "code",
   "execution_count": 15,
   "metadata": {},
   "outputs": [
    {
     "data": {
      "text/html": [
       "<div>\n",
       "<style scoped>\n",
       "    .dataframe tbody tr th:only-of-type {\n",
       "        vertical-align: middle;\n",
       "    }\n",
       "\n",
       "    .dataframe tbody tr th {\n",
       "        vertical-align: top;\n",
       "    }\n",
       "\n",
       "    .dataframe thead th {\n",
       "        text-align: right;\n",
       "    }\n",
       "</style>\n",
       "<table border=\"1\" class=\"dataframe\">\n",
       "  <thead>\n",
       "    <tr style=\"text-align: right;\">\n",
       "      <th></th>\n",
       "      <th>Exposure</th>\n",
       "      <th>LicAge</th>\n",
       "      <th>RecordBeg</th>\n",
       "      <th>RecordEnd</th>\n",
       "      <th>VehAge</th>\n",
       "      <th>Gender</th>\n",
       "      <th>MariStat</th>\n",
       "      <th>SocioCateg</th>\n",
       "      <th>VehUsage</th>\n",
       "      <th>DrivAge</th>\n",
       "      <th>...</th>\n",
       "      <th>ClaimNbNonResp</th>\n",
       "      <th>ClaimNbParking</th>\n",
       "      <th>ClaimNbFireTheft</th>\n",
       "      <th>ClaimNbWindscreen</th>\n",
       "      <th>OutUseNb</th>\n",
       "      <th>RiskArea</th>\n",
       "      <th>Age_m</th>\n",
       "      <th>Age_f</th>\n",
       "      <th>Age_m_2</th>\n",
       "      <th>Age_f_2</th>\n",
       "    </tr>\n",
       "  </thead>\n",
       "  <tbody>\n",
       "    <tr>\n",
       "      <th>0</th>\n",
       "      <td>0.583</td>\n",
       "      <td>7</td>\n",
       "      <td>2004-06-01</td>\n",
       "      <td>NaN</td>\n",
       "      <td>2</td>\n",
       "      <td>1</td>\n",
       "      <td>0</td>\n",
       "      <td>CSP1</td>\n",
       "      <td>Professional</td>\n",
       "      <td>55</td>\n",
       "      <td>...</td>\n",
       "      <td>NaN</td>\n",
       "      <td>NaN</td>\n",
       "      <td>NaN</td>\n",
       "      <td>NaN</td>\n",
       "      <td>NaN</td>\n",
       "      <td>NaN</td>\n",
       "      <td>18</td>\n",
       "      <td>55</td>\n",
       "      <td>324</td>\n",
       "      <td>3025</td>\n",
       "    </tr>\n",
       "    <tr>\n",
       "      <th>1</th>\n",
       "      <td>0.200</td>\n",
       "      <td>3</td>\n",
       "      <td>2004-10-19</td>\n",
       "      <td>NaN</td>\n",
       "      <td>0</td>\n",
       "      <td>0</td>\n",
       "      <td>1</td>\n",
       "      <td>CSP5</td>\n",
       "      <td>Private+trip to office</td>\n",
       "      <td>34</td>\n",
       "      <td>...</td>\n",
       "      <td>NaN</td>\n",
       "      <td>NaN</td>\n",
       "      <td>NaN</td>\n",
       "      <td>NaN</td>\n",
       "      <td>NaN</td>\n",
       "      <td>NaN</td>\n",
       "      <td>34</td>\n",
       "      <td>18</td>\n",
       "      <td>1156</td>\n",
       "      <td>324</td>\n",
       "    </tr>\n",
       "    <tr>\n",
       "      <th>2</th>\n",
       "      <td>0.083</td>\n",
       "      <td>3</td>\n",
       "      <td>2004-07-16</td>\n",
       "      <td>2004-08-16</td>\n",
       "      <td>1</td>\n",
       "      <td>1</td>\n",
       "      <td>0</td>\n",
       "      <td>CSP1</td>\n",
       "      <td>Professional</td>\n",
       "      <td>33</td>\n",
       "      <td>...</td>\n",
       "      <td>NaN</td>\n",
       "      <td>NaN</td>\n",
       "      <td>NaN</td>\n",
       "      <td>NaN</td>\n",
       "      <td>NaN</td>\n",
       "      <td>NaN</td>\n",
       "      <td>18</td>\n",
       "      <td>33</td>\n",
       "      <td>324</td>\n",
       "      <td>1089</td>\n",
       "    </tr>\n",
       "    <tr>\n",
       "      <th>3</th>\n",
       "      <td>0.375</td>\n",
       "      <td>3</td>\n",
       "      <td>2004-08-16</td>\n",
       "      <td>NaN</td>\n",
       "      <td>1</td>\n",
       "      <td>1</td>\n",
       "      <td>0</td>\n",
       "      <td>CSP1</td>\n",
       "      <td>Professional</td>\n",
       "      <td>34</td>\n",
       "      <td>...</td>\n",
       "      <td>NaN</td>\n",
       "      <td>NaN</td>\n",
       "      <td>NaN</td>\n",
       "      <td>NaN</td>\n",
       "      <td>NaN</td>\n",
       "      <td>NaN</td>\n",
       "      <td>18</td>\n",
       "      <td>34</td>\n",
       "      <td>324</td>\n",
       "      <td>1156</td>\n",
       "    </tr>\n",
       "    <tr>\n",
       "      <th>4</th>\n",
       "      <td>0.500</td>\n",
       "      <td>4</td>\n",
       "      <td>2004-01-01</td>\n",
       "      <td>2004-07-01</td>\n",
       "      <td>3</td>\n",
       "      <td>0</td>\n",
       "      <td>0</td>\n",
       "      <td>CSP4</td>\n",
       "      <td>Professional</td>\n",
       "      <td>53</td>\n",
       "      <td>...</td>\n",
       "      <td>NaN</td>\n",
       "      <td>NaN</td>\n",
       "      <td>NaN</td>\n",
       "      <td>NaN</td>\n",
       "      <td>NaN</td>\n",
       "      <td>NaN</td>\n",
       "      <td>53</td>\n",
       "      <td>18</td>\n",
       "      <td>2809</td>\n",
       "      <td>324</td>\n",
       "    </tr>\n",
       "    <tr>\n",
       "      <th>5</th>\n",
       "      <td>0.499</td>\n",
       "      <td>4</td>\n",
       "      <td>2004-07-01</td>\n",
       "      <td>NaN</td>\n",
       "      <td>3</td>\n",
       "      <td>0</td>\n",
       "      <td>0</td>\n",
       "      <td>CSP4</td>\n",
       "      <td>Professional</td>\n",
       "      <td>53</td>\n",
       "      <td>...</td>\n",
       "      <td>NaN</td>\n",
       "      <td>NaN</td>\n",
       "      <td>NaN</td>\n",
       "      <td>NaN</td>\n",
       "      <td>NaN</td>\n",
       "      <td>NaN</td>\n",
       "      <td>53</td>\n",
       "      <td>18</td>\n",
       "      <td>2809</td>\n",
       "      <td>324</td>\n",
       "    </tr>\n",
       "    <tr>\n",
       "      <th>6</th>\n",
       "      <td>0.218</td>\n",
       "      <td>3</td>\n",
       "      <td>2004-01-01</td>\n",
       "      <td>2004-03-20</td>\n",
       "      <td>6-7</td>\n",
       "      <td>0</td>\n",
       "      <td>0</td>\n",
       "      <td>CSP5</td>\n",
       "      <td>Private+trip to office</td>\n",
       "      <td>32</td>\n",
       "      <td>...</td>\n",
       "      <td>NaN</td>\n",
       "      <td>NaN</td>\n",
       "      <td>NaN</td>\n",
       "      <td>NaN</td>\n",
       "      <td>NaN</td>\n",
       "      <td>NaN</td>\n",
       "      <td>32</td>\n",
       "      <td>18</td>\n",
       "      <td>1024</td>\n",
       "      <td>324</td>\n",
       "    </tr>\n",
       "  </tbody>\n",
       "</table>\n",
       "<p>7 rows × 35 columns</p>\n",
       "</div>"
      ],
      "text/plain": [
       "   Exposure  LicAge   RecordBeg   RecordEnd VehAge  Gender  MariStat  \\\n",
       "0     0.583       7  2004-06-01         NaN      2       1         0   \n",
       "1     0.200       3  2004-10-19         NaN      0       0         1   \n",
       "2     0.083       3  2004-07-16  2004-08-16      1       1         0   \n",
       "3     0.375       3  2004-08-16         NaN      1       1         0   \n",
       "4     0.500       4  2004-01-01  2004-07-01      3       0         0   \n",
       "5     0.499       4  2004-07-01         NaN      3       0         0   \n",
       "6     0.218       3  2004-01-01  2004-03-20    6-7       0         0   \n",
       "\n",
       "  SocioCateg                VehUsage  DrivAge  ...  ClaimNbNonResp  \\\n",
       "0       CSP1            Professional       55  ...             NaN   \n",
       "1       CSP5  Private+trip to office       34  ...             NaN   \n",
       "2       CSP1            Professional       33  ...             NaN   \n",
       "3       CSP1            Professional       34  ...             NaN   \n",
       "4       CSP4            Professional       53  ...             NaN   \n",
       "5       CSP4            Professional       53  ...             NaN   \n",
       "6       CSP5  Private+trip to office       32  ...             NaN   \n",
       "\n",
       "   ClaimNbParking ClaimNbFireTheft ClaimNbWindscreen OutUseNb RiskArea Age_m  \\\n",
       "0             NaN              NaN               NaN      NaN      NaN    18   \n",
       "1             NaN              NaN               NaN      NaN      NaN    34   \n",
       "2             NaN              NaN               NaN      NaN      NaN    18   \n",
       "3             NaN              NaN               NaN      NaN      NaN    18   \n",
       "4             NaN              NaN               NaN      NaN      NaN    53   \n",
       "5             NaN              NaN               NaN      NaN      NaN    53   \n",
       "6             NaN              NaN               NaN      NaN      NaN    32   \n",
       "\n",
       "  Age_f  Age_m_2  Age_f_2  \n",
       "0    55      324     3025  \n",
       "1    18     1156      324  \n",
       "2    33      324     1089  \n",
       "3    34      324     1156  \n",
       "4    18     2809      324  \n",
       "5    18     2809      324  \n",
       "6    18     1024      324  \n",
       "\n",
       "[7 rows x 35 columns]"
      ]
     },
     "execution_count": 15,
     "metadata": {},
     "output_type": "execute_result"
    }
   ],
   "source": [
    "InsTransforms.head(7)"
   ]
  },
  {
   "cell_type": "code",
   "execution_count": 16,
   "metadata": {},
   "outputs": [
    {
     "name": "stdout",
     "output_type": "stream",
     "text": [
      "<class 'pandas.core.frame.DataFrame'>\n",
      "RangeIndex: 343080 entries, 0 to 343079\n",
      "Data columns (total 35 columns):\n",
      " #   Column             Non-Null Count   Dtype  \n",
      "---  ------             --------------   -----  \n",
      " 0   Exposure           343080 non-null  float64\n",
      " 1   LicAge             343080 non-null  int64  \n",
      " 2   RecordBeg          343080 non-null  object \n",
      " 3   RecordEnd          181115 non-null  object \n",
      " 4   VehAge             177880 non-null  object \n",
      " 5   Gender             343080 non-null  int64  \n",
      " 6   MariStat           343080 non-null  int64  \n",
      " 7   SocioCateg         343080 non-null  object \n",
      " 8   VehUsage           343080 non-null  object \n",
      " 9   DrivAge            343080 non-null  int64  \n",
      " 10  HasKmLimit         343080 non-null  int64  \n",
      " 11  BonusMalus         343080 non-null  int64  \n",
      " 12  VehBody            145780 non-null  object \n",
      " 13  VehPrice           145780 non-null  object \n",
      " 14  VehEngine          145780 non-null  object \n",
      " 15  VehEnergy          145780 non-null  object \n",
      " 16  VehMaxSpeed        145780 non-null  object \n",
      " 17  VehClass           145780 non-null  object \n",
      " 18  ClaimAmount        343080 non-null  float64\n",
      " 19  RiskVar            145780 non-null  float64\n",
      " 20  Garage             145780 non-null  object \n",
      " 21  ClaimInd           343080 non-null  int64  \n",
      " 22  Dataset            343080 non-null  int64  \n",
      " 23  DeducType          66890 non-null   object \n",
      " 24  ClaimNbResp        197300 non-null  float64\n",
      " 25  ClaimNbNonResp     197300 non-null  float64\n",
      " 26  ClaimNbParking     197300 non-null  float64\n",
      " 27  ClaimNbFireTheft   197300 non-null  float64\n",
      " 28  ClaimNbWindscreen  197300 non-null  float64\n",
      " 29  OutUseNb           197300 non-null  float64\n",
      " 30  RiskArea           197300 non-null  float64\n",
      " 31  Age_m              343080 non-null  int64  \n",
      " 32  Age_f              343080 non-null  int64  \n",
      " 33  Age_m_2            343080 non-null  int64  \n",
      " 34  Age_f_2            343080 non-null  int64  \n",
      "dtypes: float64(10), int64(12), object(13)\n",
      "memory usage: 91.6+ MB\n"
     ]
    }
   ],
   "source": [
    "InsTransforms.info()"
   ]
  },
  {
   "cell_type": "code",
   "execution_count": 17,
   "metadata": {},
   "outputs": [
    {
     "data": {
      "text/plain": [
       "{'type': 'InsolverDataFrame',\n",
       " 'columns': Index(['Exposure', 'LicAge', 'RecordBeg', 'RecordEnd', 'VehAge', 'Gender',\n",
       "        'MariStat', 'SocioCateg', 'VehUsage', 'DrivAge', 'HasKmLimit',\n",
       "        'BonusMalus', 'VehBody', 'VehPrice', 'VehEngine', 'VehEnergy',\n",
       "        'VehMaxSpeed', 'VehClass', 'ClaimAmount', 'RiskVar', 'Garage',\n",
       "        'ClaimInd', 'Dataset', 'DeducType', 'ClaimNbResp', 'ClaimNbNonResp',\n",
       "        'ClaimNbParking', 'ClaimNbFireTheft', 'ClaimNbWindscreen', 'OutUseNb',\n",
       "        'RiskArea', 'Age_m', 'Age_f', 'Age_m_2', 'Age_f_2'],\n",
       "       dtype='object'),\n",
       " 'len': 343080}"
      ]
     },
     "execution_count": 17,
     "metadata": {},
     "output_type": "execute_result"
    }
   ],
   "source": [
    "InsTransforms.get_meta_info()"
   ]
  },
  {
   "cell_type": "code",
   "execution_count": 18,
   "metadata": {},
   "outputs": [],
   "source": [
    "df = InsTransforms.get_data()"
   ]
  },
  {
   "cell_type": "code",
   "execution_count": 19,
   "metadata": {},
   "outputs": [],
   "source": [
    "df = df[df.Dataset.isin([5,6,7,8,9])]\n",
    "df.dropna(how='all', axis=1, inplace=True)\n",
    "df = df[df.ClaimAmount > 0]"
   ]
  },
  {
   "cell_type": "code",
   "execution_count": 20,
   "metadata": {},
   "outputs": [
    {
     "name": "stdout",
     "output_type": "stream",
     "text": [
      "Checking whether there is an H2O instance running at http://localhost:54321 ..... not found.\n",
      "Attempting to start a local H2O server...\n",
      "; Java HotSpot(TM) Client VM (build 25.251-b08, mixed mode)\n"
     ]
    },
    {
     "name": "stderr",
     "output_type": "stream",
     "text": [
      "  You have a 32-bit version of Java. H2O works best with 64-bit Java.\n",
      "  Please download the latest 64-bit Java SE JDK from Oracle.\n",
      "\n"
     ]
    },
    {
     "name": "stdout",
     "output_type": "stream",
     "text": [
      "  Starting server from c:\\users\\thinkpad\\pycharmprojects\\ms-insurancescoring\\venv\\lib\\site-packages\\h2o\\backend\\bin\\h2o.jar\n",
      "  Ice root: C:\\Users\\Thinkpad\\AppData\\Local\\Temp\\tmpvakbbul7\n",
      "  JVM stdout: C:\\Users\\Thinkpad\\AppData\\Local\\Temp\\tmpvakbbul7\\h2o_Thinkpad_started_from_python.out\n",
      "  JVM stderr: C:\\Users\\Thinkpad\\AppData\\Local\\Temp\\tmpvakbbul7\\h2o_Thinkpad_started_from_python.err\n",
      "  Server is running at http://127.0.0.1:54321\n",
      "Connecting to H2O server at http://127.0.0.1:54321 ... successful.\n"
     ]
    },
    {
     "data": {
      "text/html": [
       "<div style=\"overflow:auto\"><table style=\"width:50%\"><tr><td>H2O_cluster_uptime:</td>\n",
       "<td>04 secs</td></tr>\n",
       "<tr><td>H2O_cluster_timezone:</td>\n",
       "<td>Europe/Moscow</td></tr>\n",
       "<tr><td>H2O_data_parsing_timezone:</td>\n",
       "<td>UTC</td></tr>\n",
       "<tr><td>H2O_cluster_version:</td>\n",
       "<td>3.30.1.2</td></tr>\n",
       "<tr><td>H2O_cluster_version_age:</td>\n",
       "<td>7 days, 13 hours and 54 minutes </td></tr>\n",
       "<tr><td>H2O_cluster_name:</td>\n",
       "<td>H2O_from_python_Thinkpad_39qo2b</td></tr>\n",
       "<tr><td>H2O_cluster_total_nodes:</td>\n",
       "<td>1</td></tr>\n",
       "<tr><td>H2O_cluster_free_memory:</td>\n",
       "<td>247.5 Mb</td></tr>\n",
       "<tr><td>H2O_cluster_total_cores:</td>\n",
       "<td>4</td></tr>\n",
       "<tr><td>H2O_cluster_allowed_cores:</td>\n",
       "<td>4</td></tr>\n",
       "<tr><td>H2O_cluster_status:</td>\n",
       "<td>accepting new members, healthy</td></tr>\n",
       "<tr><td>H2O_connection_url:</td>\n",
       "<td>http://127.0.0.1:54321</td></tr>\n",
       "<tr><td>H2O_connection_proxy:</td>\n",
       "<td>{\"http\": null, \"https\": null}</td></tr>\n",
       "<tr><td>H2O_internal_security:</td>\n",
       "<td>False</td></tr>\n",
       "<tr><td>H2O_API_Extensions:</td>\n",
       "<td>Amazon S3, Algos, AutoML, Core V3, TargetEncoder, Core V4</td></tr>\n",
       "<tr><td>Python_version:</td>\n",
       "<td>3.7.6 final</td></tr></table></div>"
      ],
      "text/plain": [
       "--------------------------  ---------------------------------------------------------\n",
       "H2O_cluster_uptime:         04 secs\n",
       "H2O_cluster_timezone:       Europe/Moscow\n",
       "H2O_data_parsing_timezone:  UTC\n",
       "H2O_cluster_version:        3.30.1.2\n",
       "H2O_cluster_version_age:    7 days, 13 hours and 54 minutes\n",
       "H2O_cluster_name:           H2O_from_python_Thinkpad_39qo2b\n",
       "H2O_cluster_total_nodes:    1\n",
       "H2O_cluster_free_memory:    247.5 Mb\n",
       "H2O_cluster_total_cores:    4\n",
       "H2O_cluster_allowed_cores:  4\n",
       "H2O_cluster_status:         accepting new members, healthy\n",
       "H2O_connection_url:         http://127.0.0.1:54321\n",
       "H2O_connection_proxy:       {\"http\": null, \"https\": null}\n",
       "H2O_internal_security:      False\n",
       "H2O_API_Extensions:         Amazon S3, Algos, AutoML, Core V3, TargetEncoder, Core V4\n",
       "Python_version:             3.7.6 final\n",
       "--------------------------  ---------------------------------------------------------"
      ]
     },
     "metadata": {},
     "output_type": "display_data"
    }
   ],
   "source": [
    "iglm = InsolverGLMWrapper()"
   ]
  },
  {
   "cell_type": "code",
   "execution_count": 21,
   "metadata": {},
   "outputs": [
    {
     "name": "stdout",
     "output_type": "stream",
     "text": [
      "Parse progress: |█████████████████████████████████████████████████████████| 100%\n"
     ]
    }
   ],
   "source": [
    "train, valid, test = iglm.model_init(df, ratios=[0.7, 0.15], family='gamma', link='log')"
   ]
  },
  {
   "cell_type": "code",
   "execution_count": 22,
   "metadata": {},
   "outputs": [],
   "source": [
    "params = {'lambda': [1, 0.5, 0.1, 0.01, 0.001, 0.0001, 0.00001, 0],\n",
    "          'alpha': [i * 0.1 for i in range(0, 11)]}"
   ]
  },
  {
   "cell_type": "code",
   "execution_count": 23,
   "metadata": {},
   "outputs": [],
   "source": [
    "features = ['LicAge', 'Gender', 'MariStat', 'DrivAge', 'HasKmLimit', 'BonusMalus', 'RiskArea',\n",
    "            'Age_m', 'Age_f', 'Age_m_2', 'Age_f_2']\n",
    "target = 'ClaimAmount'"
   ]
  },
  {
   "cell_type": "code",
   "execution_count": 24,
   "metadata": {},
   "outputs": [
    {
     "name": "stdout",
     "output_type": "stream",
     "text": [
      "glm Grid Build progress: |████████████████████████████████████████████████| 100%\n"
     ]
    }
   ],
   "source": [
    "iglm.grid_search_cv(features, target, train, valid, params, search_criteria={'strategy': \"Cartesian\"})"
   ]
  },
  {
   "cell_type": "code",
   "execution_count": 25,
   "metadata": {},
   "outputs": [
    {
     "name": "stdout",
     "output_type": "stream",
     "text": [
      "glm prediction progress: |████████████████████████████████████████████████| 100%\n"
     ]
    }
   ],
   "source": [
    "predict_glm = iglm.predict(test)"
   ]
  },
  {
   "cell_type": "code",
   "execution_count": 26,
   "metadata": {},
   "outputs": [],
   "source": [
    "igbm = InsolverGradientBoostingWrapper(algorithm='xgboost', task='regression')"
   ]
  },
  {
   "cell_type": "code",
   "execution_count": 27,
   "metadata": {},
   "outputs": [],
   "source": [
    "space_xgboost = {\"objective\": 'reg:gamma',\n",
    "                 \"max_depth\": hp.choice('max_depth', [5, 8, 10, 12, 15]),\n",
    "                 \"min_child_weight\": hp.uniform('min_child_weight', 0, 50),\n",
    "                 \"subsample\": hp.uniform('subsample', 0.5, 1),\n",
    "                 \"colsample_bytree\": hp.uniform('colsample_bytree', 0.5, 1),\n",
    "                 \"alpha\": hp.uniform('alpha', 0, 1),\n",
    "                 \"lambda\": hp.uniform('lambda', 0, 1),\n",
    "                 \"eta\": hp.uniform('eta', 0.01, 1),\n",
    "                 \"gamma\": hp.uniform('gamma', 0.01, 1000),\n",
    "                 \"tree_method\": 'hist'}"
   ]
  },
  {
   "cell_type": "code",
   "execution_count": 28,
   "metadata": {},
   "outputs": [],
   "source": [
    "cv_par = {'num_boost_round': 250,\n",
    "          'nfold': 3,\n",
    "          'early_stopping_rounds': 20,\n",
    "          'seed': 0,\n",
    "          'shuffle': True,\n",
    "          'stratified': False}"
   ]
  },
  {
   "cell_type": "code",
   "execution_count": 29,
   "metadata": {},
   "outputs": [],
   "source": [
    "x_train, x_valid, x_test, \\\n",
    "y_train, y_valid, y_test = train_val_test_split(df[features], df[target], val_size=0.7, test_size=0.15)"
   ]
  },
  {
   "cell_type": "code",
   "execution_count": 30,
   "metadata": {},
   "outputs": [
    {
     "name": "stdout",
     "output_type": "stream",
     "text": [
      "100%|█████████████████████████████████████████████████████████████████████████████████████████████████████████| 250/250 [01:36<00:00,  2.58trial/s, best loss: 8.538624666666667]\n"
     ]
    }
   ],
   "source": [
    "igbm.hyperopt_cv(x_train, y_train, space_xgboost, cv_par, max_evals=250)"
   ]
  },
  {
   "cell_type": "code",
   "execution_count": 31,
   "metadata": {},
   "outputs": [],
   "source": [
    "igbm.model_init()"
   ]
  },
  {
   "cell_type": "code",
   "execution_count": 32,
   "metadata": {},
   "outputs": [
    {
     "name": "stdout",
     "output_type": "stream",
     "text": [
      "[08:47:14] WARNING: C:\\Users\\Administrator\\workspace\\xgboost-win64_release_1.2.0\\src\\learner.cc:516: \n",
      "Parameters: { early_stopping_rounds } might not be used.\n",
      "\n",
      "  This may not be accurate due to some parameters are only used in language bindings but\n",
      "  passed down to XGBoost core.  Or some parameters are not used but slip through this\n",
      "  verification. Please open an issue if you find above cases.\n",
      "\n",
      "\n"
     ]
    }
   ],
   "source": [
    "igbm.fit(x_train, y_train)"
   ]
  },
  {
   "cell_type": "code",
   "execution_count": 33,
   "metadata": {},
   "outputs": [],
   "source": [
    "predict_gbm1 = igbm.predict(x_test)"
   ]
  },
  {
   "cell_type": "code",
   "execution_count": 34,
   "metadata": {},
   "outputs": [],
   "source": [
    "igbm.fit_booster(x_train, y_train, core_params={'evals': [((x_train, y_train), 'train'),\n",
    "                                                          ((x_valid, y_valid), 'valid')],\n",
    "                                                'verbose_eval': False})"
   ]
  },
  {
   "cell_type": "code",
   "execution_count": 35,
   "metadata": {},
   "outputs": [],
   "source": [
    "predict_gbm2 = igbm.predict_booster(x_test)"
   ]
  },
  {
   "cell_type": "code",
   "execution_count": 36,
   "metadata": {},
   "outputs": [
    {
     "data": {
      "image/png": "[encoded data removed]",
      "text/plain": [
       "<Figure size 432x288 with 1 Axes>"
      ]
     },
     "metadata": {
      "needs_background": "light"
     },
     "output_type": "display_data"
    }
   ],
   "source": [
    "plt.plot(predict_glm.as_data_frame())\n",
    "plt.plot(predict_gbm1)\n",
    "plt.plot(predict_gbm2)\n",
    "plt.show()"
   ]
  },
  {
   "cell_type": "code",
   "execution_count": null,
   "metadata": {},
   "outputs": [],
   "source": []
  }
 ],
 "metadata": {
  "kernelspec": {
   "display_name": "Python 3",
   "language": "python",
   "name": "python3"
  },
  "language_info": {
   "codemirror_mode": {
    "name": "ipython",
    "version": 3
   },
   "file_extension": ".py",
   "mimetype": "text/x-python",
   "name": "python",
   "nbconvert_exporter": "python",
   "pygments_lexer": "ipython3",
   "version": "3.7.6"
  }
 },
 "nbformat": 4,
 "nbformat_minor": 4
}
