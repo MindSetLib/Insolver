{
 "cells": [
  {
   "cell_type": "code",
   "execution_count": 1,
   "metadata": {},
   "outputs": [],
   "source": [
    "# !pip install \"git+ssh://git@github.com/MindSetLib/MS-InsuranceScoring.git@InsolverPackage#egg=insolver\""
   ]
  },
  {
   "cell_type": "code",
   "execution_count": 2,
   "metadata": {},
   "outputs": [],
   "source": [
    "import pandas as pd\n",
    "import matplotlib.pyplot as plt\n",
    "from hyperopt import hp"
   ]
  },
  {
   "cell_type": "code",
   "execution_count": 3,
   "metadata": {},
   "outputs": [],
   "source": [
    "from insolver.InsolverDataFrame import InsolverDataFrame\n",
    "from insolver.InsolverTransforms import (\n",
    "    TransformExp,\n",
    "    InsolverTransformMain,\n",
    "    InsolverTransforms,\n",
    "    TransformAge,\n",
    "    TransformMapValues,\n",
    "    TransformPolynomizer,\n",
    "    TransformAgeGender,\n",
    ")\n",
    "from insolver.InsolverWrapperGBM import InsolverGradientBoostingWrapper\n",
    "from insolver.InsolverPlotsGBM import PredictionPlots, ShapPlots\n",
    "from insolver.InsolverWrapperGLM import InsolverGLMWrapper\n",
    "from insolver.InsolverUtils import train_val_test_split"
   ]
  },
  {
   "cell_type": "code",
   "execution_count": 4,
   "metadata": {},
   "outputs": [],
   "source": [
    "df = pd.read_csv('freMPL-R.csv', low_memory=False)"
   ]
  },
  {
   "cell_type": "code",
   "execution_count": 5,
   "metadata": {},
   "outputs": [],
   "source": [
    "df = df[df.Dataset.isin([5,6,7,8,9])]\n",
    "df.dropna(how='all', axis=1, inplace=True)\n",
    "df = df[df.ClaimAmount > 0]"
   ]
  },
  {
   "cell_type": "code",
   "execution_count": 6,
   "metadata": {},
   "outputs": [],
   "source": [
    "InsDataFrame = InsolverDataFrame(df)"
   ]
  },
  {
   "cell_type": "code",
   "execution_count": 7,
   "metadata": {},
   "outputs": [
    {
     "data": {
      "text/html": [
       "<div>\n",
       "<style scoped>\n",
       "    .dataframe tbody tr th:only-of-type {\n",
       "        vertical-align: middle;\n",
       "    }\n",
       "\n",
       "    .dataframe tbody tr th {\n",
       "        vertical-align: top;\n",
       "    }\n",
       "\n",
       "    .dataframe thead th {\n",
       "        text-align: right;\n",
       "    }\n",
       "</style>\n",
       "<table border=\"1\" class=\"dataframe\">\n",
       "  <thead>\n",
       "    <tr style=\"text-align: right;\">\n",
       "      <th></th>\n",
       "      <th>Exposure</th>\n",
       "      <th>LicAge</th>\n",
       "      <th>RecordBeg</th>\n",
       "      <th>RecordEnd</th>\n",
       "      <th>Gender</th>\n",
       "      <th>MariStat</th>\n",
       "      <th>SocioCateg</th>\n",
       "      <th>VehUsage</th>\n",
       "      <th>DrivAge</th>\n",
       "      <th>HasKmLimit</th>\n",
       "      <th>...</th>\n",
       "      <th>ClaimAmount</th>\n",
       "      <th>ClaimInd</th>\n",
       "      <th>Dataset</th>\n",
       "      <th>ClaimNbResp</th>\n",
       "      <th>ClaimNbNonResp</th>\n",
       "      <th>ClaimNbParking</th>\n",
       "      <th>ClaimNbFireTheft</th>\n",
       "      <th>ClaimNbWindscreen</th>\n",
       "      <th>OutUseNb</th>\n",
       "      <th>RiskArea</th>\n",
       "    </tr>\n",
       "  </thead>\n",
       "  <tbody>\n",
       "    <tr>\n",
       "      <th>145813</th>\n",
       "      <td>0.617</td>\n",
       "      <td>602</td>\n",
       "      <td>2004-05-19</td>\n",
       "      <td>NaN</td>\n",
       "      <td>Male</td>\n",
       "      <td>Other</td>\n",
       "      <td>CSP60</td>\n",
       "      <td>Private</td>\n",
       "      <td>68</td>\n",
       "      <td>0</td>\n",
       "      <td>...</td>\n",
       "      <td>5377.204532</td>\n",
       "      <td>1</td>\n",
       "      <td>5</td>\n",
       "      <td>1.0</td>\n",
       "      <td>0.0</td>\n",
       "      <td>1.0</td>\n",
       "      <td>0.0</td>\n",
       "      <td>1.0</td>\n",
       "      <td>0.0</td>\n",
       "      <td>4.0</td>\n",
       "    </tr>\n",
       "    <tr>\n",
       "      <th>145814</th>\n",
       "      <td>0.761</td>\n",
       "      <td>357</td>\n",
       "      <td>2004-01-01</td>\n",
       "      <td>2004-10-05</td>\n",
       "      <td>Female</td>\n",
       "      <td>Alone</td>\n",
       "      <td>CSP55</td>\n",
       "      <td>Private+trip to office</td>\n",
       "      <td>47</td>\n",
       "      <td>0</td>\n",
       "      <td>...</td>\n",
       "      <td>2017.843505</td>\n",
       "      <td>1</td>\n",
       "      <td>5</td>\n",
       "      <td>0.0</td>\n",
       "      <td>1.0</td>\n",
       "      <td>0.0</td>\n",
       "      <td>0.0</td>\n",
       "      <td>0.0</td>\n",
       "      <td>0.0</td>\n",
       "      <td>6.0</td>\n",
       "    </tr>\n",
       "    <tr>\n",
       "      <th>145833</th>\n",
       "      <td>0.023</td>\n",
       "      <td>271</td>\n",
       "      <td>2004-10-23</td>\n",
       "      <td>2004-11-01</td>\n",
       "      <td>Male</td>\n",
       "      <td>Other</td>\n",
       "      <td>CSP50</td>\n",
       "      <td>Private+trip to office</td>\n",
       "      <td>49</td>\n",
       "      <td>0</td>\n",
       "      <td>...</td>\n",
       "      <td>356.773414</td>\n",
       "      <td>1</td>\n",
       "      <td>5</td>\n",
       "      <td>0.0</td>\n",
       "      <td>1.0</td>\n",
       "      <td>0.0</td>\n",
       "      <td>0.0</td>\n",
       "      <td>0.0</td>\n",
       "      <td>2.0</td>\n",
       "      <td>8.0</td>\n",
       "    </tr>\n",
       "    <tr>\n",
       "      <th>145845</th>\n",
       "      <td>0.833</td>\n",
       "      <td>539</td>\n",
       "      <td>2004-01-01</td>\n",
       "      <td>2004-11-01</td>\n",
       "      <td>Male</td>\n",
       "      <td>Other</td>\n",
       "      <td>CSP60</td>\n",
       "      <td>Private</td>\n",
       "      <td>75</td>\n",
       "      <td>0</td>\n",
       "      <td>...</td>\n",
       "      <td>645.125982</td>\n",
       "      <td>1</td>\n",
       "      <td>5</td>\n",
       "      <td>0.0</td>\n",
       "      <td>0.0</td>\n",
       "      <td>0.0</td>\n",
       "      <td>0.0</td>\n",
       "      <td>0.0</td>\n",
       "      <td>0.0</td>\n",
       "      <td>9.0</td>\n",
       "    </tr>\n",
       "    <tr>\n",
       "      <th>145846</th>\n",
       "      <td>0.957</td>\n",
       "      <td>302</td>\n",
       "      <td>2004-01-01</td>\n",
       "      <td>2004-12-16</td>\n",
       "      <td>Female</td>\n",
       "      <td>Other</td>\n",
       "      <td>CSP55</td>\n",
       "      <td>Private+trip to office</td>\n",
       "      <td>49</td>\n",
       "      <td>0</td>\n",
       "      <td>...</td>\n",
       "      <td>1200.422356</td>\n",
       "      <td>1</td>\n",
       "      <td>5</td>\n",
       "      <td>0.0</td>\n",
       "      <td>0.0</td>\n",
       "      <td>0.0</td>\n",
       "      <td>0.0</td>\n",
       "      <td>1.0</td>\n",
       "      <td>0.0</td>\n",
       "      <td>8.0</td>\n",
       "    </tr>\n",
       "    <tr>\n",
       "      <th>145850</th>\n",
       "      <td>0.611</td>\n",
       "      <td>525</td>\n",
       "      <td>2004-05-21</td>\n",
       "      <td>NaN</td>\n",
       "      <td>Male</td>\n",
       "      <td>Other</td>\n",
       "      <td>CSP60</td>\n",
       "      <td>Private</td>\n",
       "      <td>68</td>\n",
       "      <td>1</td>\n",
       "      <td>...</td>\n",
       "      <td>4326.525680</td>\n",
       "      <td>1</td>\n",
       "      <td>5</td>\n",
       "      <td>0.0</td>\n",
       "      <td>0.0</td>\n",
       "      <td>0.0</td>\n",
       "      <td>0.0</td>\n",
       "      <td>0.0</td>\n",
       "      <td>0.0</td>\n",
       "      <td>10.0</td>\n",
       "    </tr>\n",
       "    <tr>\n",
       "      <th>145863</th>\n",
       "      <td>0.482</td>\n",
       "      <td>343</td>\n",
       "      <td>2004-01-01</td>\n",
       "      <td>2004-06-25</td>\n",
       "      <td>Female</td>\n",
       "      <td>Other</td>\n",
       "      <td>CSP1</td>\n",
       "      <td>Professional</td>\n",
       "      <td>48</td>\n",
       "      <td>0</td>\n",
       "      <td>...</td>\n",
       "      <td>2667.093353</td>\n",
       "      <td>1</td>\n",
       "      <td>5</td>\n",
       "      <td>0.0</td>\n",
       "      <td>0.0</td>\n",
       "      <td>1.0</td>\n",
       "      <td>0.0</td>\n",
       "      <td>1.0</td>\n",
       "      <td>0.0</td>\n",
       "      <td>9.0</td>\n",
       "    </tr>\n",
       "  </tbody>\n",
       "</table>\n",
       "<p>7 rows × 21 columns</p>\n",
       "</div>"
      ],
      "text/plain": [
       "        Exposure  LicAge   RecordBeg   RecordEnd  Gender MariStat SocioCateg  \\\n",
       "145813     0.617     602  2004-05-19         NaN    Male    Other      CSP60   \n",
       "145814     0.761     357  2004-01-01  2004-10-05  Female    Alone      CSP55   \n",
       "145833     0.023     271  2004-10-23  2004-11-01    Male    Other      CSP50   \n",
       "145845     0.833     539  2004-01-01  2004-11-01    Male    Other      CSP60   \n",
       "145846     0.957     302  2004-01-01  2004-12-16  Female    Other      CSP55   \n",
       "145850     0.611     525  2004-05-21         NaN    Male    Other      CSP60   \n",
       "145863     0.482     343  2004-01-01  2004-06-25  Female    Other       CSP1   \n",
       "\n",
       "                      VehUsage  DrivAge  HasKmLimit  ...  ClaimAmount  \\\n",
       "145813                 Private       68           0  ...  5377.204532   \n",
       "145814  Private+trip to office       47           0  ...  2017.843505   \n",
       "145833  Private+trip to office       49           0  ...   356.773414   \n",
       "145845                 Private       75           0  ...   645.125982   \n",
       "145846  Private+trip to office       49           0  ...  1200.422356   \n",
       "145850                 Private       68           1  ...  4326.525680   \n",
       "145863            Professional       48           0  ...  2667.093353   \n",
       "\n",
       "        ClaimInd  Dataset  ClaimNbResp  ClaimNbNonResp  ClaimNbParking  \\\n",
       "145813         1        5          1.0             0.0             1.0   \n",
       "145814         1        5          0.0             1.0             0.0   \n",
       "145833         1        5          0.0             1.0             0.0   \n",
       "145845         1        5          0.0             0.0             0.0   \n",
       "145846         1        5          0.0             0.0             0.0   \n",
       "145850         1        5          0.0             0.0             0.0   \n",
       "145863         1        5          0.0             0.0             1.0   \n",
       "\n",
       "        ClaimNbFireTheft  ClaimNbWindscreen  OutUseNb  RiskArea  \n",
       "145813               0.0                1.0       0.0       4.0  \n",
       "145814               0.0                0.0       0.0       6.0  \n",
       "145833               0.0                0.0       2.0       8.0  \n",
       "145845               0.0                0.0       0.0       9.0  \n",
       "145846               0.0                1.0       0.0       8.0  \n",
       "145850               0.0                0.0       0.0      10.0  \n",
       "145863               0.0                1.0       0.0       9.0  \n",
       "\n",
       "[7 rows x 21 columns]"
      ]
     },
     "execution_count": 7,
     "metadata": {},
     "output_type": "execute_result"
    }
   ],
   "source": [
    "InsDataFrame.head(7)"
   ]
  },
  {
   "cell_type": "code",
   "execution_count": 8,
   "metadata": {},
   "outputs": [
    {
     "name": "stdout",
     "output_type": "stream",
     "text": [
      "<class 'pandas.core.frame.DataFrame'>\n",
      "Int64Index: 15532 entries, 145813 to 310976\n",
      "Data columns (total 21 columns):\n",
      " #   Column             Non-Null Count  Dtype  \n",
      "---  ------             --------------  -----  \n",
      " 0   Exposure           15532 non-null  float64\n",
      " 1   LicAge             15532 non-null  int64  \n",
      " 2   RecordBeg          15532 non-null  object \n",
      " 3   RecordEnd          8168 non-null   object \n",
      " 4   Gender             15532 non-null  object \n",
      " 5   MariStat           15532 non-null  object \n",
      " 6   SocioCateg         15532 non-null  object \n",
      " 7   VehUsage           15532 non-null  object \n",
      " 8   DrivAge            15532 non-null  int64  \n",
      " 9   HasKmLimit         15532 non-null  int64  \n",
      " 10  BonusMalus         15532 non-null  int64  \n",
      " 11  ClaimAmount        15532 non-null  float64\n",
      " 12  ClaimInd           15532 non-null  int64  \n",
      " 13  Dataset            15532 non-null  int64  \n",
      " 14  ClaimNbResp        15532 non-null  float64\n",
      " 15  ClaimNbNonResp     15532 non-null  float64\n",
      " 16  ClaimNbParking     15532 non-null  float64\n",
      " 17  ClaimNbFireTheft   15532 non-null  float64\n",
      " 18  ClaimNbWindscreen  15532 non-null  float64\n",
      " 19  OutUseNb           15532 non-null  float64\n",
      " 20  RiskArea           15532 non-null  float64\n",
      "dtypes: float64(9), int64(6), object(6)\n",
      "memory usage: 2.6+ MB\n"
     ]
    }
   ],
   "source": [
    "InsDataFrame.info()"
   ]
  },
  {
   "cell_type": "code",
   "execution_count": 9,
   "metadata": {},
   "outputs": [
    {
     "data": {
      "text/plain": [
       "{'type': 'InsolverDataFrame',\n",
       " 'len': 15532,\n",
       " 'columns': [{'name': 'Exposure', 'dtype': dtype('float64'), 'use': 'unknown'},\n",
       "  {'name': 'LicAge', 'dtype': dtype('int64'), 'use': 'unknown'},\n",
       "  {'name': 'RecordBeg', 'dtype': dtype('O'), 'use': 'unknown'},\n",
       "  {'name': 'RecordEnd', 'dtype': dtype('O'), 'use': 'unknown'},\n",
       "  {'name': 'Gender', 'dtype': dtype('O'), 'use': 'unknown'},\n",
       "  {'name': 'MariStat', 'dtype': dtype('O'), 'use': 'unknown'},\n",
       "  {'name': 'SocioCateg', 'dtype': dtype('O'), 'use': 'unknown'},\n",
       "  {'name': 'VehUsage', 'dtype': dtype('O'), 'use': 'unknown'},\n",
       "  {'name': 'DrivAge', 'dtype': dtype('int64'), 'use': 'unknown'},\n",
       "  {'name': 'HasKmLimit', 'dtype': dtype('int64'), 'use': 'unknown'},\n",
       "  {'name': 'BonusMalus', 'dtype': dtype('int64'), 'use': 'unknown'},\n",
       "  {'name': 'ClaimAmount', 'dtype': dtype('float64'), 'use': 'unknown'},\n",
       "  {'name': 'ClaimInd', 'dtype': dtype('int64'), 'use': 'unknown'},\n",
       "  {'name': 'Dataset', 'dtype': dtype('int64'), 'use': 'unknown'},\n",
       "  {'name': 'ClaimNbResp', 'dtype': dtype('float64'), 'use': 'unknown'},\n",
       "  {'name': 'ClaimNbNonResp', 'dtype': dtype('float64'), 'use': 'unknown'},\n",
       "  {'name': 'ClaimNbParking', 'dtype': dtype('float64'), 'use': 'unknown'},\n",
       "  {'name': 'ClaimNbFireTheft', 'dtype': dtype('float64'), 'use': 'unknown'},\n",
       "  {'name': 'ClaimNbWindscreen', 'dtype': dtype('float64'), 'use': 'unknown'},\n",
       "  {'name': 'OutUseNb', 'dtype': dtype('float64'), 'use': 'unknown'},\n",
       "  {'name': 'RiskArea', 'dtype': dtype('float64'), 'use': 'unknown'}]}"
      ]
     },
     "execution_count": 9,
     "metadata": {},
     "output_type": "execute_result"
    }
   ],
   "source": [
    "InsDataFrame.get_meta_info()"
   ]
  },
  {
   "cell_type": "code",
   "execution_count": 10,
   "metadata": {},
   "outputs": [],
   "source": [
    "@staticmethod\n",
    "def exp_new(exp, exp_max):\n",
    "    if pd.isnull(exp):\n",
    "        exp = None\n",
    "    elif exp < 0:\n",
    "        exp = None\n",
    "    else:\n",
    "        exp = exp * 7 // 365\n",
    "    if exp > exp_max:\n",
    "        exp = exp_max\n",
    "    return exp\n",
    "\n",
    "TransformExp._exp = exp_new"
   ]
  },
  {
   "cell_type": "code",
   "execution_count": 11,
   "metadata": {},
   "outputs": [],
   "source": [
    "class TransformSocioCateg(InsolverTransformMain):\n",
    "    def __init__(self, column_socio_categ):\n",
    "        self.priority = 0\n",
    "        super().__init__()\n",
    "        self.column_socio_categ = column_socio_categ\n",
    "\n",
    "    def __call__(self, df):\n",
    "        df[self.column_socio_categ] = df[self.column_socio_categ].str.slice(0,4)\n",
    "        return df"
   ]
  },
  {
   "cell_type": "code",
   "execution_count": 12,
   "metadata": {},
   "outputs": [],
   "source": [
    "class TransformToNumeric(InsolverTransformMain):\n",
    "    def __init__(self, column_param, downcast='integer'):\n",
    "        self.priority = 0\n",
    "        super().__init__()\n",
    "        self.column_param = column_param\n",
    "        self.downcast = downcast\n",
    "\n",
    "    def __call__(self, df):\n",
    "        df[self.column_param] = pd.to_numeric(df[self.column_param], downcast=self.downcast)\n",
    "        return df"
   ]
  },
  {
   "cell_type": "code",
   "execution_count": 13,
   "metadata": {},
   "outputs": [],
   "source": [
    "InsTransforms = InsolverTransforms(InsDataFrame.get_data(), [\n",
    "    TransformAge('DrivAge', 18, 75),\n",
    "    TransformExp('LicAge', 57),\n",
    "    TransformMapValues('Gender', {'Male':0, 'Female':1}),\n",
    "    TransformMapValues('MariStat', {'Other':0, 'Alone':1}),\n",
    "    TransformSocioCateg('SocioCateg'),\n",
    "    TransformAgeGender('DrivAge', 'Gender', 'Age_m', 'Age_f', age_default=18, gender_male=0, gender_female=1),\n",
    "    TransformPolynomizer('Age_m'),\n",
    "    TransformPolynomizer('Age_f'),\n",
    "    # TransformToNumeric('VehAge'),\n",
    "    # T.TransformVehAge('VehAge', 20),\n",
    "    ])"
   ]
  },
  {
   "cell_type": "code",
   "execution_count": 14,
   "metadata": {},
   "outputs": [
    {
     "data": {
      "text/plain": [
       "[<insolver.InsolverTransforms.TransformAge at 0x239f13c7108>,\n",
       " <insolver.InsolverTransforms.TransformExp at 0x239f13f6908>,\n",
       " <insolver.InsolverTransforms.TransformMapValues at 0x239f13f6c88>,\n",
       " <insolver.InsolverTransforms.TransformMapValues at 0x239f13f6b88>,\n",
       " <__main__.TransformSocioCateg at 0x239f13f6d48>,\n",
       " <insolver.InsolverTransforms.TransformAgeGender at 0x239f13f6d88>,\n",
       " <insolver.InsolverTransforms.TransformPolynomizer at 0x239f13f6dc8>,\n",
       " <insolver.InsolverTransforms.TransformPolynomizer at 0x239f13f6e08>]"
      ]
     },
     "execution_count": 14,
     "metadata": {},
     "output_type": "execute_result"
    }
   ],
   "source": [
    "InsTransforms.transforms"
   ]
  },
  {
   "cell_type": "code",
   "execution_count": 15,
   "metadata": {},
   "outputs": [
    {
     "data": {
      "text/plain": [
       "{'TransformSocioCateg': {'column_socio_categ': 'SocioCateg', 'priority': 0},\n",
       " 'TransformAge': {'age_max': 75,\n",
       "  'age_min': 18,\n",
       "  'column_driver_minage': 'DrivAge',\n",
       "  'priority': 1},\n",
       " 'TransformExp': {'column_driver_minexp': 'LicAge',\n",
       "  'exp_max': 57,\n",
       "  'priority': 1},\n",
       " 'TransformMapValues': {'column_param': 'MariStat',\n",
       "  'dictionary': {'Other': 0, 'Alone': 1},\n",
       "  'priority': 1},\n",
       " 'TransformAgeGender': {'age_default': 18,\n",
       "  'column_age': 'DrivAge',\n",
       "  'column_age_f': 'Age_f',\n",
       "  'column_age_m': 'Age_m',\n",
       "  'column_gender': 'Gender',\n",
       "  'gender_female': 1,\n",
       "  'gender_male': 0,\n",
       "  'priority': 2},\n",
       " 'TransformPolynomizer': {'column_param': 'Age_f', 'n': 2, 'priority': 3}}"
      ]
     },
     "execution_count": 15,
     "metadata": {},
     "output_type": "execute_result"
    }
   ],
   "source": [
    "InsTransforms.transform()"
   ]
  },
  {
   "cell_type": "code",
   "execution_count": 16,
   "metadata": {},
   "outputs": [
    {
     "data": {
      "text/html": [
       "<div>\n",
       "<style scoped>\n",
       "    .dataframe tbody tr th:only-of-type {\n",
       "        vertical-align: middle;\n",
       "    }\n",
       "\n",
       "    .dataframe tbody tr th {\n",
       "        vertical-align: top;\n",
       "    }\n",
       "\n",
       "    .dataframe thead th {\n",
       "        text-align: right;\n",
       "    }\n",
       "</style>\n",
       "<table border=\"1\" class=\"dataframe\">\n",
       "  <thead>\n",
       "    <tr style=\"text-align: right;\">\n",
       "      <th></th>\n",
       "      <th>Exposure</th>\n",
       "      <th>LicAge</th>\n",
       "      <th>RecordBeg</th>\n",
       "      <th>RecordEnd</th>\n",
       "      <th>Gender</th>\n",
       "      <th>MariStat</th>\n",
       "      <th>SocioCateg</th>\n",
       "      <th>VehUsage</th>\n",
       "      <th>DrivAge</th>\n",
       "      <th>HasKmLimit</th>\n",
       "      <th>...</th>\n",
       "      <th>ClaimNbNonResp</th>\n",
       "      <th>ClaimNbParking</th>\n",
       "      <th>ClaimNbFireTheft</th>\n",
       "      <th>ClaimNbWindscreen</th>\n",
       "      <th>OutUseNb</th>\n",
       "      <th>RiskArea</th>\n",
       "      <th>Age_m</th>\n",
       "      <th>Age_f</th>\n",
       "      <th>Age_m_2</th>\n",
       "      <th>Age_f_2</th>\n",
       "    </tr>\n",
       "  </thead>\n",
       "  <tbody>\n",
       "    <tr>\n",
       "      <th>145813</th>\n",
       "      <td>0.617</td>\n",
       "      <td>11</td>\n",
       "      <td>2004-05-19</td>\n",
       "      <td>NaN</td>\n",
       "      <td>0</td>\n",
       "      <td>0</td>\n",
       "      <td>CSP6</td>\n",
       "      <td>Private</td>\n",
       "      <td>68</td>\n",
       "      <td>0</td>\n",
       "      <td>...</td>\n",
       "      <td>0.0</td>\n",
       "      <td>1.0</td>\n",
       "      <td>0.0</td>\n",
       "      <td>1.0</td>\n",
       "      <td>0.0</td>\n",
       "      <td>4.0</td>\n",
       "      <td>68</td>\n",
       "      <td>18</td>\n",
       "      <td>4624</td>\n",
       "      <td>324</td>\n",
       "    </tr>\n",
       "    <tr>\n",
       "      <th>145814</th>\n",
       "      <td>0.761</td>\n",
       "      <td>6</td>\n",
       "      <td>2004-01-01</td>\n",
       "      <td>2004-10-05</td>\n",
       "      <td>1</td>\n",
       "      <td>1</td>\n",
       "      <td>CSP5</td>\n",
       "      <td>Private+trip to office</td>\n",
       "      <td>47</td>\n",
       "      <td>0</td>\n",
       "      <td>...</td>\n",
       "      <td>1.0</td>\n",
       "      <td>0.0</td>\n",
       "      <td>0.0</td>\n",
       "      <td>0.0</td>\n",
       "      <td>0.0</td>\n",
       "      <td>6.0</td>\n",
       "      <td>18</td>\n",
       "      <td>47</td>\n",
       "      <td>324</td>\n",
       "      <td>2209</td>\n",
       "    </tr>\n",
       "    <tr>\n",
       "      <th>145833</th>\n",
       "      <td>0.023</td>\n",
       "      <td>5</td>\n",
       "      <td>2004-10-23</td>\n",
       "      <td>2004-11-01</td>\n",
       "      <td>0</td>\n",
       "      <td>0</td>\n",
       "      <td>CSP5</td>\n",
       "      <td>Private+trip to office</td>\n",
       "      <td>49</td>\n",
       "      <td>0</td>\n",
       "      <td>...</td>\n",
       "      <td>1.0</td>\n",
       "      <td>0.0</td>\n",
       "      <td>0.0</td>\n",
       "      <td>0.0</td>\n",
       "      <td>2.0</td>\n",
       "      <td>8.0</td>\n",
       "      <td>49</td>\n",
       "      <td>18</td>\n",
       "      <td>2401</td>\n",
       "      <td>324</td>\n",
       "    </tr>\n",
       "    <tr>\n",
       "      <th>145845</th>\n",
       "      <td>0.833</td>\n",
       "      <td>10</td>\n",
       "      <td>2004-01-01</td>\n",
       "      <td>2004-11-01</td>\n",
       "      <td>0</td>\n",
       "      <td>0</td>\n",
       "      <td>CSP6</td>\n",
       "      <td>Private</td>\n",
       "      <td>75</td>\n",
       "      <td>0</td>\n",
       "      <td>...</td>\n",
       "      <td>0.0</td>\n",
       "      <td>0.0</td>\n",
       "      <td>0.0</td>\n",
       "      <td>0.0</td>\n",
       "      <td>0.0</td>\n",
       "      <td>9.0</td>\n",
       "      <td>75</td>\n",
       "      <td>18</td>\n",
       "      <td>5625</td>\n",
       "      <td>324</td>\n",
       "    </tr>\n",
       "    <tr>\n",
       "      <th>145846</th>\n",
       "      <td>0.957</td>\n",
       "      <td>5</td>\n",
       "      <td>2004-01-01</td>\n",
       "      <td>2004-12-16</td>\n",
       "      <td>1</td>\n",
       "      <td>0</td>\n",
       "      <td>CSP5</td>\n",
       "      <td>Private+trip to office</td>\n",
       "      <td>49</td>\n",
       "      <td>0</td>\n",
       "      <td>...</td>\n",
       "      <td>0.0</td>\n",
       "      <td>0.0</td>\n",
       "      <td>0.0</td>\n",
       "      <td>1.0</td>\n",
       "      <td>0.0</td>\n",
       "      <td>8.0</td>\n",
       "      <td>18</td>\n",
       "      <td>49</td>\n",
       "      <td>324</td>\n",
       "      <td>2401</td>\n",
       "    </tr>\n",
       "    <tr>\n",
       "      <th>145850</th>\n",
       "      <td>0.611</td>\n",
       "      <td>10</td>\n",
       "      <td>2004-05-21</td>\n",
       "      <td>NaN</td>\n",
       "      <td>0</td>\n",
       "      <td>0</td>\n",
       "      <td>CSP6</td>\n",
       "      <td>Private</td>\n",
       "      <td>68</td>\n",
       "      <td>1</td>\n",
       "      <td>...</td>\n",
       "      <td>0.0</td>\n",
       "      <td>0.0</td>\n",
       "      <td>0.0</td>\n",
       "      <td>0.0</td>\n",
       "      <td>0.0</td>\n",
       "      <td>10.0</td>\n",
       "      <td>68</td>\n",
       "      <td>18</td>\n",
       "      <td>4624</td>\n",
       "      <td>324</td>\n",
       "    </tr>\n",
       "    <tr>\n",
       "      <th>145863</th>\n",
       "      <td>0.482</td>\n",
       "      <td>6</td>\n",
       "      <td>2004-01-01</td>\n",
       "      <td>2004-06-25</td>\n",
       "      <td>1</td>\n",
       "      <td>0</td>\n",
       "      <td>CSP1</td>\n",
       "      <td>Professional</td>\n",
       "      <td>48</td>\n",
       "      <td>0</td>\n",
       "      <td>...</td>\n",
       "      <td>0.0</td>\n",
       "      <td>1.0</td>\n",
       "      <td>0.0</td>\n",
       "      <td>1.0</td>\n",
       "      <td>0.0</td>\n",
       "      <td>9.0</td>\n",
       "      <td>18</td>\n",
       "      <td>48</td>\n",
       "      <td>324</td>\n",
       "      <td>2304</td>\n",
       "    </tr>\n",
       "  </tbody>\n",
       "</table>\n",
       "<p>7 rows × 25 columns</p>\n",
       "</div>"
      ],
      "text/plain": [
       "        Exposure  LicAge   RecordBeg   RecordEnd  Gender  MariStat SocioCateg  \\\n",
       "145813     0.617      11  2004-05-19         NaN       0         0       CSP6   \n",
       "145814     0.761       6  2004-01-01  2004-10-05       1         1       CSP5   \n",
       "145833     0.023       5  2004-10-23  2004-11-01       0         0       CSP5   \n",
       "145845     0.833      10  2004-01-01  2004-11-01       0         0       CSP6   \n",
       "145846     0.957       5  2004-01-01  2004-12-16       1         0       CSP5   \n",
       "145850     0.611      10  2004-05-21         NaN       0         0       CSP6   \n",
       "145863     0.482       6  2004-01-01  2004-06-25       1         0       CSP1   \n",
       "\n",
       "                      VehUsage  DrivAge  HasKmLimit  ...  ClaimNbNonResp  \\\n",
       "145813                 Private       68           0  ...             0.0   \n",
       "145814  Private+trip to office       47           0  ...             1.0   \n",
       "145833  Private+trip to office       49           0  ...             1.0   \n",
       "145845                 Private       75           0  ...             0.0   \n",
       "145846  Private+trip to office       49           0  ...             0.0   \n",
       "145850                 Private       68           1  ...             0.0   \n",
       "145863            Professional       48           0  ...             0.0   \n",
       "\n",
       "        ClaimNbParking  ClaimNbFireTheft  ClaimNbWindscreen  OutUseNb  \\\n",
       "145813             1.0               0.0                1.0       0.0   \n",
       "145814             0.0               0.0                0.0       0.0   \n",
       "145833             0.0               0.0                0.0       2.0   \n",
       "145845             0.0               0.0                0.0       0.0   \n",
       "145846             0.0               0.0                1.0       0.0   \n",
       "145850             0.0               0.0                0.0       0.0   \n",
       "145863             1.0               0.0                1.0       0.0   \n",
       "\n",
       "        RiskArea  Age_m  Age_f  Age_m_2  Age_f_2  \n",
       "145813       4.0     68     18     4624      324  \n",
       "145814       6.0     18     47      324     2209  \n",
       "145833       8.0     49     18     2401      324  \n",
       "145845       9.0     75     18     5625      324  \n",
       "145846       8.0     18     49      324     2401  \n",
       "145850      10.0     68     18     4624      324  \n",
       "145863       9.0     18     48      324     2304  \n",
       "\n",
       "[7 rows x 25 columns]"
      ]
     },
     "execution_count": 16,
     "metadata": {},
     "output_type": "execute_result"
    }
   ],
   "source": [
    "InsTransforms.head(7)"
   ]
  },
  {
   "cell_type": "code",
   "execution_count": 17,
   "metadata": {},
   "outputs": [
    {
     "name": "stdout",
     "output_type": "stream",
     "text": [
      "<class 'pandas.core.frame.DataFrame'>\n",
      "Int64Index: 15532 entries, 145813 to 310976\n",
      "Data columns (total 25 columns):\n",
      " #   Column             Non-Null Count  Dtype  \n",
      "---  ------             --------------  -----  \n",
      " 0   Exposure           15532 non-null  float64\n",
      " 1   LicAge             15532 non-null  int64  \n",
      " 2   RecordBeg          15532 non-null  object \n",
      " 3   RecordEnd          8168 non-null   object \n",
      " 4   Gender             15532 non-null  int64  \n",
      " 5   MariStat           15532 non-null  int64  \n",
      " 6   SocioCateg         15532 non-null  object \n",
      " 7   VehUsage           15532 non-null  object \n",
      " 8   DrivAge            15532 non-null  int64  \n",
      " 9   HasKmLimit         15532 non-null  int64  \n",
      " 10  BonusMalus         15532 non-null  int64  \n",
      " 11  ClaimAmount        15532 non-null  float64\n",
      " 12  ClaimInd           15532 non-null  int64  \n",
      " 13  Dataset            15532 non-null  int64  \n",
      " 14  ClaimNbResp        15532 non-null  float64\n",
      " 15  ClaimNbNonResp     15532 non-null  float64\n",
      " 16  ClaimNbParking     15532 non-null  float64\n",
      " 17  ClaimNbFireTheft   15532 non-null  float64\n",
      " 18  ClaimNbWindscreen  15532 non-null  float64\n",
      " 19  OutUseNb           15532 non-null  float64\n",
      " 20  RiskArea           15532 non-null  float64\n",
      " 21  Age_m              15532 non-null  int64  \n",
      " 22  Age_f              15532 non-null  int64  \n",
      " 23  Age_m_2            15532 non-null  int64  \n",
      " 24  Age_f_2            15532 non-null  int64  \n",
      "dtypes: float64(9), int64(12), object(4)\n",
      "memory usage: 3.1+ MB\n"
     ]
    }
   ],
   "source": [
    "InsTransforms.info()"
   ]
  },
  {
   "cell_type": "code",
   "execution_count": 18,
   "metadata": {},
   "outputs": [
    {
     "data": {
      "text/plain": [
       "{'type': 'InsolverDataFrame',\n",
       " 'len': 15532,\n",
       " 'columns': [{'name': 'Exposure', 'dtype': dtype('float64'), 'use': 'unknown'},\n",
       "  {'name': 'LicAge', 'dtype': dtype('int64'), 'use': 'unknown'},\n",
       "  {'name': 'RecordBeg', 'dtype': dtype('O'), 'use': 'unknown'},\n",
       "  {'name': 'RecordEnd', 'dtype': dtype('O'), 'use': 'unknown'},\n",
       "  {'name': 'Gender', 'dtype': dtype('int64'), 'use': 'unknown'},\n",
       "  {'name': 'MariStat', 'dtype': dtype('int64'), 'use': 'unknown'},\n",
       "  {'name': 'SocioCateg', 'dtype': dtype('O'), 'use': 'unknown'},\n",
       "  {'name': 'VehUsage', 'dtype': dtype('O'), 'use': 'unknown'},\n",
       "  {'name': 'DrivAge', 'dtype': dtype('int64'), 'use': 'unknown'},\n",
       "  {'name': 'HasKmLimit', 'dtype': dtype('int64'), 'use': 'unknown'},\n",
       "  {'name': 'BonusMalus', 'dtype': dtype('int64'), 'use': 'unknown'},\n",
       "  {'name': 'ClaimAmount', 'dtype': dtype('float64'), 'use': 'unknown'},\n",
       "  {'name': 'ClaimInd', 'dtype': dtype('int64'), 'use': 'unknown'},\n",
       "  {'name': 'Dataset', 'dtype': dtype('int64'), 'use': 'unknown'},\n",
       "  {'name': 'ClaimNbResp', 'dtype': dtype('float64'), 'use': 'unknown'},\n",
       "  {'name': 'ClaimNbNonResp', 'dtype': dtype('float64'), 'use': 'unknown'},\n",
       "  {'name': 'ClaimNbParking', 'dtype': dtype('float64'), 'use': 'unknown'},\n",
       "  {'name': 'ClaimNbFireTheft', 'dtype': dtype('float64'), 'use': 'unknown'},\n",
       "  {'name': 'ClaimNbWindscreen', 'dtype': dtype('float64'), 'use': 'unknown'},\n",
       "  {'name': 'OutUseNb', 'dtype': dtype('float64'), 'use': 'unknown'},\n",
       "  {'name': 'RiskArea', 'dtype': dtype('float64'), 'use': 'unknown'},\n",
       "  {'name': 'Age_m', 'dtype': dtype('int64'), 'use': 'unknown'},\n",
       "  {'name': 'Age_f', 'dtype': dtype('int64'), 'use': 'unknown'},\n",
       "  {'name': 'Age_m_2', 'dtype': dtype('int64'), 'use': 'unknown'},\n",
       "  {'name': 'Age_f_2', 'dtype': dtype('int64'), 'use': 'unknown'}]}"
      ]
     },
     "execution_count": 18,
     "metadata": {},
     "output_type": "execute_result"
    }
   ],
   "source": [
    "InsTransforms.get_meta_info()"
   ]
  },
  {
   "cell_type": "code",
   "execution_count": 19,
   "metadata": {},
   "outputs": [],
   "source": [
    "train, valid, test = InsTransforms.split_frame(val_size=0.15, test_size=0.15, random_state=0, shuffle=True)"
   ]
  },
  {
   "cell_type": "code",
   "execution_count": 20,
   "metadata": {},
   "outputs": [],
   "source": [
    "features = ['LicAge', 'Gender', 'MariStat', 'DrivAge', 'HasKmLimit', 'BonusMalus', 'RiskArea',\n",
    "            'Age_m', 'Age_f', 'Age_m_2', 'Age_f_2']\n",
    "target = 'ClaimAmount'"
   ]
  },
  {
   "cell_type": "code",
   "execution_count": 21,
   "metadata": {},
   "outputs": [
    {
     "name": "stdout",
     "output_type": "stream",
     "text": [
      "Checking whether there is an H2O instance running at http://localhost:54321 ..... not found.\n",
      "Attempting to start a local H2O server...\n",
      "; Java HotSpot(TM) Client VM (build 25.251-b08, mixed mode, sharing)\n"
     ]
    },
    {
     "name": "stderr",
     "output_type": "stream",
     "text": [
      "  You have a 32-bit version of Java. H2O works best with 64-bit Java.\n",
      "  Please download the latest 64-bit Java SE JDK from Oracle.\n",
      "\n"
     ]
    },
    {
     "name": "stdout",
     "output_type": "stream",
     "text": [
      "  Starting server from c:\\users\\thinkpad\\pycharmprojects\\ms-insurancescoring\\venv\\lib\\site-packages\\h2o\\backend\\bin\\h2o.jar\n",
      "  Ice root: C:\\Users\\Thinkpad\\AppData\\Local\\Temp\\tmppvt37roc\n",
      "  JVM stdout: C:\\Users\\Thinkpad\\AppData\\Local\\Temp\\tmppvt37roc\\h2o_Thinkpad_started_from_python.out\n",
      "  JVM stderr: C:\\Users\\Thinkpad\\AppData\\Local\\Temp\\tmppvt37roc\\h2o_Thinkpad_started_from_python.err\n",
      "  Server is running at http://127.0.0.1:54321\n",
      "Connecting to H2O server at http://127.0.0.1:54321 ... successful.\n"
     ]
    },
    {
     "data": {
      "text/html": [
       "<div style=\"overflow:auto\"><table style=\"width:50%\"><tr><td>H2O_cluster_uptime:</td>\n",
       "<td>04 secs</td></tr>\n",
       "<tr><td>H2O_cluster_timezone:</td>\n",
       "<td>Europe/Moscow</td></tr>\n",
       "<tr><td>H2O_data_parsing_timezone:</td>\n",
       "<td>UTC</td></tr>\n",
       "<tr><td>H2O_cluster_version:</td>\n",
       "<td>3.30.1.2</td></tr>\n",
       "<tr><td>H2O_cluster_version_age:</td>\n",
       "<td>11 days </td></tr>\n",
       "<tr><td>H2O_cluster_name:</td>\n",
       "<td>H2O_from_python_Thinkpad_2hjc2d</td></tr>\n",
       "<tr><td>H2O_cluster_total_nodes:</td>\n",
       "<td>1</td></tr>\n",
       "<tr><td>H2O_cluster_free_memory:</td>\n",
       "<td>247.5 Mb</td></tr>\n",
       "<tr><td>H2O_cluster_total_cores:</td>\n",
       "<td>4</td></tr>\n",
       "<tr><td>H2O_cluster_allowed_cores:</td>\n",
       "<td>4</td></tr>\n",
       "<tr><td>H2O_cluster_status:</td>\n",
       "<td>accepting new members, healthy</td></tr>\n",
       "<tr><td>H2O_connection_url:</td>\n",
       "<td>http://127.0.0.1:54321</td></tr>\n",
       "<tr><td>H2O_connection_proxy:</td>\n",
       "<td>{\"http\": null, \"https\": null}</td></tr>\n",
       "<tr><td>H2O_internal_security:</td>\n",
       "<td>False</td></tr>\n",
       "<tr><td>H2O_API_Extensions:</td>\n",
       "<td>Amazon S3, Algos, AutoML, Core V3, TargetEncoder, Core V4</td></tr>\n",
       "<tr><td>Python_version:</td>\n",
       "<td>3.7.6 final</td></tr></table></div>"
      ],
      "text/plain": [
       "--------------------------  ---------------------------------------------------------\n",
       "H2O_cluster_uptime:         04 secs\n",
       "H2O_cluster_timezone:       Europe/Moscow\n",
       "H2O_data_parsing_timezone:  UTC\n",
       "H2O_cluster_version:        3.30.1.2\n",
       "H2O_cluster_version_age:    11 days\n",
       "H2O_cluster_name:           H2O_from_python_Thinkpad_2hjc2d\n",
       "H2O_cluster_total_nodes:    1\n",
       "H2O_cluster_free_memory:    247.5 Mb\n",
       "H2O_cluster_total_cores:    4\n",
       "H2O_cluster_allowed_cores:  4\n",
       "H2O_cluster_status:         accepting new members, healthy\n",
       "H2O_connection_url:         http://127.0.0.1:54321\n",
       "H2O_connection_proxy:       {\"http\": null, \"https\": null}\n",
       "H2O_internal_security:      False\n",
       "H2O_API_Extensions:         Amazon S3, Algos, AutoML, Core V3, TargetEncoder, Core V4\n",
       "Python_version:             3.7.6 final\n",
       "--------------------------  ---------------------------------------------------------"
      ]
     },
     "metadata": {},
     "output_type": "display_data"
    }
   ],
   "source": [
    "iglm = InsolverGLMWrapper()"
   ]
  },
  {
   "cell_type": "code",
   "execution_count": 22,
   "metadata": {},
   "outputs": [
    {
     "name": "stdout",
     "output_type": "stream",
     "text": [
      "Parse progress: |█████████████████████████████████████████████████████████| 100%\n",
      "Parse progress: |█████████████████████████████████████████████████████████| 100%\n"
     ]
    }
   ],
   "source": [
    "iglm.model_init(train, valid, family='gamma', link='log')"
   ]
  },
  {
   "cell_type": "code",
   "execution_count": 23,
   "metadata": {},
   "outputs": [],
   "source": [
    "params = {'lambda': [1, 0.5, 0.1, 0.01, 0.001, 0.0001, 0.00001, 0],\n",
    "          'alpha': [i * 0.1 for i in range(0, 11)]}"
   ]
  },
  {
   "cell_type": "code",
   "execution_count": 24,
   "metadata": {},
   "outputs": [
    {
     "name": "stdout",
     "output_type": "stream",
     "text": [
      "glm Grid Build progress: |████████████████████████████████████████████████| 100%\n"
     ]
    }
   ],
   "source": [
    "iglm.grid_search_cv(features, target, params, search_criteria={'strategy': \"Cartesian\"})\n",
    "# iglm.fit(features, target, train, valid)"
   ]
  },
  {
   "cell_type": "code",
   "execution_count": 25,
   "metadata": {},
   "outputs": [
    {
     "name": "stdout",
     "output_type": "stream",
     "text": [
      "Parse progress: |█████████████████████████████████████████████████████████| 100%\n",
      "glm prediction progress: |████████████████████████████████████████████████| 100%\n"
     ]
    }
   ],
   "source": [
    "predict_glm = iglm.predict(test)"
   ]
  },
  {
   "cell_type": "code",
   "execution_count": 26,
   "metadata": {},
   "outputs": [],
   "source": [
    "iglm.save_model('glm')"
   ]
  },
  {
   "cell_type": "code",
   "execution_count": 27,
   "metadata": {},
   "outputs": [],
   "source": [
    "igbm = InsolverGradientBoostingWrapper(algorithm='xgboost', task='regression')"
   ]
  },
  {
   "cell_type": "code",
   "execution_count": 28,
   "metadata": {},
   "outputs": [],
   "source": [
    "space_xgboost = {\"objective\": 'reg:gamma',\n",
    "                 \"max_depth\": hp.choice('max_depth', [5, 8, 10, 12, 15]),\n",
    "                 \"min_child_weight\": hp.uniform('min_child_weight', 0, 50),\n",
    "                 \"subsample\": hp.uniform('subsample', 0.5, 1),\n",
    "                 \"colsample_bytree\": hp.uniform('colsample_bytree', 0.5, 1),\n",
    "                 \"alpha\": hp.uniform('alpha', 0, 1),\n",
    "                 \"lambda\": hp.uniform('lambda', 0, 1),\n",
    "                 \"eta\": hp.uniform('eta', 0.01, 1),\n",
    "                 \"gamma\": hp.uniform('gamma', 0.01, 1000),\n",
    "                 \"tree_method\": 'hist'}"
   ]
  },
  {
   "cell_type": "code",
   "execution_count": 29,
   "metadata": {},
   "outputs": [],
   "source": [
    "cv_par = {'num_boost_round': 250,\n",
    "          'nfold': 3,\n",
    "          'early_stopping_rounds': 20,\n",
    "          'seed': 0,\n",
    "          'shuffle': True,\n",
    "          'stratified': False}"
   ]
  },
  {
   "cell_type": "code",
   "execution_count": 30,
   "metadata": {},
   "outputs": [],
   "source": [
    "x_train, y_train = train[features], train[target]\n",
    "x_valid, y_valid = valid[features], valid[target]\n",
    "x_test, y_test = test[features], test[target]"
   ]
  },
  {
   "cell_type": "code",
   "execution_count": 31,
   "metadata": {},
   "outputs": [
    {
     "name": "stdout",
     "output_type": "stream",
     "text": [
      "100%|█████████████████████████████████████████████████████████████████████████████████████████████████████████| 250/250 [07:41<00:00,  1.85s/trial, best loss: 8.629924333333333]\n"
     ]
    }
   ],
   "source": [
    "igbm.hyperopt_cv(x_train, y_train, space_xgboost, cv_par, max_evals=250)"
   ]
  },
  {
   "cell_type": "code",
   "execution_count": 32,
   "metadata": {},
   "outputs": [],
   "source": [
    "igbm.model_init()"
   ]
  },
  {
   "cell_type": "code",
   "execution_count": 33,
   "metadata": {},
   "outputs": [
    {
     "name": "stdout",
     "output_type": "stream",
     "text": [
      "[23:13:30] WARNING: C:\\Users\\Administrator\\workspace\\xgboost-win64_release_1.2.0\\src\\learner.cc:516: \n",
      "Parameters: { early_stopping_rounds } might not be used.\n",
      "\n",
      "  This may not be accurate due to some parameters are only used in language bindings but\n",
      "  passed down to XGBoost core.  Or some parameters are not used but slip through this\n",
      "  verification. Please open an issue if you find above cases.\n",
      "\n",
      "\n"
     ]
    }
   ],
   "source": [
    "igbm.fit(x_train, y_train)"
   ]
  },
  {
   "cell_type": "code",
   "execution_count": 34,
   "metadata": {},
   "outputs": [],
   "source": [
    "predict_gbm1 = igbm.predict(x_test)"
   ]
  },
  {
   "cell_type": "code",
   "execution_count": 35,
   "metadata": {},
   "outputs": [],
   "source": [
    "igbm.fit_booster(x_train, y_train, core_params={'evals': [((x_train, y_train), 'train'),\n",
    "                                                          ((x_valid, y_valid), 'valid')],\n",
    "                                                'verbose_eval': False})"
   ]
  },
  {
   "cell_type": "code",
   "execution_count": 36,
   "metadata": {},
   "outputs": [],
   "source": [
    "predict_gbm2 = igbm.predict_booster(x_test)"
   ]
  },
  {
   "cell_type": "code",
   "execution_count": 37,
   "metadata": {},
   "outputs": [
    {
     "data": {
      "image/png": "[encoded data removed]",
      "text/plain": [
       "<Figure size 432x288 with 1 Axes>"
      ]
     },
     "metadata": {
      "needs_background": "light"
     },
     "output_type": "display_data"
    }
   ],
   "source": [
    "plt.plot(predict_glm)\n",
    "plt.plot(predict_gbm1)\n",
    "plt.plot(predict_gbm2)\n",
    "plt.show()"
   ]
  },
  {
   "cell_type": "code",
   "execution_count": null,
   "metadata": {},
   "outputs": [],
   "source": []
  }
 ],
 "metadata": {
  "kernelspec": {
   "display_name": "Python 3",
   "language": "python",
   "name": "python3"
  },
  "language_info": {
   "codemirror_mode": {
    "name": "ipython",
    "version": 3
   },
   "file_extension": ".py",
   "mimetype": "text/x-python",
   "name": "python",
   "nbconvert_exporter": "python",
   "pygments_lexer": "ipython3",
   "version": "3.7.6"
  }
 },
 "nbformat": 4,
 "nbformat_minor": 4
}
