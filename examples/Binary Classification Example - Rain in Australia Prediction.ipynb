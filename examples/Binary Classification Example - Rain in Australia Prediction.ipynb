{
 "cells": [
  {
   "cell_type": "code",
   "execution_count": 3,
   "metadata": {},
   "outputs": [],
   "source": [
    "import warnings\n",
    "warnings.filterwarnings('ignore')"
   ]
  },
  {
   "cell_type": "code",
   "execution_count": 60,
   "metadata": {},
   "outputs": [],
   "source": [
    "import numpy as np\n",
    "import pandas as pd\n",
    "import matplotlib.pyplot as plt\n",
    "import seaborn as sns\n",
    "from sklearn.model_selection import train_test_split, cross_val_score\n",
    "from sklearn.metrics import accuracy_score, f1_score"
   ]
  },
  {
   "cell_type": "code",
   "execution_count": 89,
   "metadata": {},
   "outputs": [],
   "source": [
    "from insolver.frame import InsolverDataFrame\n",
    "from insolver.transforms import InsolverTransform\n",
    "from insolver.transforms import (\n",
    "    AutoFillNATransforms,\n",
    "    OneHotEncoderTransforms,\n",
    "    TransformMapValues\n",
    ")\n",
    "from insolver.wrappers import InsolverGLMWrapper, InsolverGBMWrapper\n",
    "from insolver.model_tools import ModelMetricsCompare"
   ]
  },
  {
   "cell_type": "markdown",
   "metadata": {},
   "source": [
    "# Rain in Australia\n",
    "This dataset contains about 10 years of daily weather observations from many locations across Australia. RainTomorrow is the target variable to predict. "
   ]
  },
  {
   "cell_type": "markdown",
   "metadata": {},
   "source": [
    "## InsolverDataFrame\n",
    "InsolverDataFrame is an updated pandas dataframe with additional functionality."
   ]
  },
  {
   "cell_type": "code",
   "execution_count": 21,
   "metadata": {},
   "outputs": [],
   "source": [
    "#https://www.kaggle.com/jsphyg/weather-dataset-rattle-package\n",
    "dataset = InsolverDataFrame(pd.read_csv(\"data/weatherAUS.csv\"))"
   ]
  },
  {
   "cell_type": "code",
   "execution_count": 22,
   "metadata": {
    "scrolled": true
   },
   "outputs": [
    {
     "data": {
      "text/html": [
       "<div>\n",
       "<style scoped>\n",
       "    .dataframe tbody tr th:only-of-type {\n",
       "        vertical-align: middle;\n",
       "    }\n",
       "\n",
       "    .dataframe tbody tr th {\n",
       "        vertical-align: top;\n",
       "    }\n",
       "\n",
       "    .dataframe thead th {\n",
       "        text-align: right;\n",
       "    }\n",
       "</style>\n",
       "<table border=\"1\" class=\"dataframe\">\n",
       "  <thead>\n",
       "    <tr style=\"text-align: right;\">\n",
       "      <th></th>\n",
       "      <th>Date</th>\n",
       "      <th>Location</th>\n",
       "      <th>MinTemp</th>\n",
       "      <th>MaxTemp</th>\n",
       "      <th>Rainfall</th>\n",
       "      <th>Evaporation</th>\n",
       "      <th>Sunshine</th>\n",
       "      <th>WindGustDir</th>\n",
       "      <th>WindGustSpeed</th>\n",
       "      <th>WindDir9am</th>\n",
       "      <th>...</th>\n",
       "      <th>Humidity9am</th>\n",
       "      <th>Humidity3pm</th>\n",
       "      <th>Pressure9am</th>\n",
       "      <th>Pressure3pm</th>\n",
       "      <th>Cloud9am</th>\n",
       "      <th>Cloud3pm</th>\n",
       "      <th>Temp9am</th>\n",
       "      <th>Temp3pm</th>\n",
       "      <th>RainToday</th>\n",
       "      <th>RainTomorrow</th>\n",
       "    </tr>\n",
       "  </thead>\n",
       "  <tbody>\n",
       "    <tr>\n",
       "      <th>0</th>\n",
       "      <td>2008-12-01</td>\n",
       "      <td>Albury</td>\n",
       "      <td>13.4</td>\n",
       "      <td>22.9</td>\n",
       "      <td>0.6</td>\n",
       "      <td>NaN</td>\n",
       "      <td>NaN</td>\n",
       "      <td>W</td>\n",
       "      <td>44.0</td>\n",
       "      <td>W</td>\n",
       "      <td>...</td>\n",
       "      <td>71.0</td>\n",
       "      <td>22.0</td>\n",
       "      <td>1007.7</td>\n",
       "      <td>1007.1</td>\n",
       "      <td>8.0</td>\n",
       "      <td>NaN</td>\n",
       "      <td>16.9</td>\n",
       "      <td>21.8</td>\n",
       "      <td>No</td>\n",
       "      <td>No</td>\n",
       "    </tr>\n",
       "    <tr>\n",
       "      <th>1</th>\n",
       "      <td>2008-12-02</td>\n",
       "      <td>Albury</td>\n",
       "      <td>7.4</td>\n",
       "      <td>25.1</td>\n",
       "      <td>0.0</td>\n",
       "      <td>NaN</td>\n",
       "      <td>NaN</td>\n",
       "      <td>WNW</td>\n",
       "      <td>44.0</td>\n",
       "      <td>NNW</td>\n",
       "      <td>...</td>\n",
       "      <td>44.0</td>\n",
       "      <td>25.0</td>\n",
       "      <td>1010.6</td>\n",
       "      <td>1007.8</td>\n",
       "      <td>NaN</td>\n",
       "      <td>NaN</td>\n",
       "      <td>17.2</td>\n",
       "      <td>24.3</td>\n",
       "      <td>No</td>\n",
       "      <td>No</td>\n",
       "    </tr>\n",
       "    <tr>\n",
       "      <th>2</th>\n",
       "      <td>2008-12-03</td>\n",
       "      <td>Albury</td>\n",
       "      <td>12.9</td>\n",
       "      <td>25.7</td>\n",
       "      <td>0.0</td>\n",
       "      <td>NaN</td>\n",
       "      <td>NaN</td>\n",
       "      <td>WSW</td>\n",
       "      <td>46.0</td>\n",
       "      <td>W</td>\n",
       "      <td>...</td>\n",
       "      <td>38.0</td>\n",
       "      <td>30.0</td>\n",
       "      <td>1007.6</td>\n",
       "      <td>1008.7</td>\n",
       "      <td>NaN</td>\n",
       "      <td>2.0</td>\n",
       "      <td>21.0</td>\n",
       "      <td>23.2</td>\n",
       "      <td>No</td>\n",
       "      <td>No</td>\n",
       "    </tr>\n",
       "    <tr>\n",
       "      <th>3</th>\n",
       "      <td>2008-12-04</td>\n",
       "      <td>Albury</td>\n",
       "      <td>9.2</td>\n",
       "      <td>28.0</td>\n",
       "      <td>0.0</td>\n",
       "      <td>NaN</td>\n",
       "      <td>NaN</td>\n",
       "      <td>NE</td>\n",
       "      <td>24.0</td>\n",
       "      <td>SE</td>\n",
       "      <td>...</td>\n",
       "      <td>45.0</td>\n",
       "      <td>16.0</td>\n",
       "      <td>1017.6</td>\n",
       "      <td>1012.8</td>\n",
       "      <td>NaN</td>\n",
       "      <td>NaN</td>\n",
       "      <td>18.1</td>\n",
       "      <td>26.5</td>\n",
       "      <td>No</td>\n",
       "      <td>No</td>\n",
       "    </tr>\n",
       "    <tr>\n",
       "      <th>4</th>\n",
       "      <td>2008-12-05</td>\n",
       "      <td>Albury</td>\n",
       "      <td>17.5</td>\n",
       "      <td>32.3</td>\n",
       "      <td>1.0</td>\n",
       "      <td>NaN</td>\n",
       "      <td>NaN</td>\n",
       "      <td>W</td>\n",
       "      <td>41.0</td>\n",
       "      <td>ENE</td>\n",
       "      <td>...</td>\n",
       "      <td>82.0</td>\n",
       "      <td>33.0</td>\n",
       "      <td>1010.8</td>\n",
       "      <td>1006.0</td>\n",
       "      <td>7.0</td>\n",
       "      <td>8.0</td>\n",
       "      <td>17.8</td>\n",
       "      <td>29.7</td>\n",
       "      <td>No</td>\n",
       "      <td>No</td>\n",
       "    </tr>\n",
       "  </tbody>\n",
       "</table>\n",
       "<p>5 rows × 23 columns</p>\n",
       "</div>"
      ],
      "text/plain": [
       "         Date Location  MinTemp  MaxTemp  Rainfall  Evaporation  Sunshine  \\\n",
       "0  2008-12-01   Albury     13.4     22.9       0.6          NaN       NaN   \n",
       "1  2008-12-02   Albury      7.4     25.1       0.0          NaN       NaN   \n",
       "2  2008-12-03   Albury     12.9     25.7       0.0          NaN       NaN   \n",
       "3  2008-12-04   Albury      9.2     28.0       0.0          NaN       NaN   \n",
       "4  2008-12-05   Albury     17.5     32.3       1.0          NaN       NaN   \n",
       "\n",
       "  WindGustDir  WindGustSpeed WindDir9am  ... Humidity9am  Humidity3pm  \\\n",
       "0           W           44.0          W  ...        71.0         22.0   \n",
       "1         WNW           44.0        NNW  ...        44.0         25.0   \n",
       "2         WSW           46.0          W  ...        38.0         30.0   \n",
       "3          NE           24.0         SE  ...        45.0         16.0   \n",
       "4           W           41.0        ENE  ...        82.0         33.0   \n",
       "\n",
       "   Pressure9am  Pressure3pm  Cloud9am  Cloud3pm  Temp9am  Temp3pm  RainToday  \\\n",
       "0       1007.7       1007.1       8.0       NaN     16.9     21.8         No   \n",
       "1       1010.6       1007.8       NaN       NaN     17.2     24.3         No   \n",
       "2       1007.6       1008.7       NaN       2.0     21.0     23.2         No   \n",
       "3       1017.6       1012.8       NaN       NaN     18.1     26.5         No   \n",
       "4       1010.8       1006.0       7.0       8.0     17.8     29.7         No   \n",
       "\n",
       "   RainTomorrow  \n",
       "0            No  \n",
       "1            No  \n",
       "2            No  \n",
       "3            No  \n",
       "4            No  \n",
       "\n",
       "[5 rows x 23 columns]"
      ]
     },
     "execution_count": 22,
     "metadata": {},
     "output_type": "execute_result"
    }
   ],
   "source": [
    "dataset.head()"
   ]
  },
  {
   "cell_type": "markdown",
   "metadata": {},
   "source": [
    "**Getting information about dataset with InsolverDataFrame.**"
   ]
  },
  {
   "cell_type": "code",
   "execution_count": 9,
   "metadata": {
    "scrolled": false
   },
   "outputs": [
    {
     "name": "stdout",
     "output_type": "stream",
     "text": [
      "<class 'insolver.frame.frame.InsolverDataFrame'>\n",
      "RangeIndex: 145460 entries, 0 to 145459\n",
      "Data columns (total 23 columns):\n",
      " #   Column         Non-Null Count   Dtype  \n",
      "---  ------         --------------   -----  \n",
      " 0   Date           145460 non-null  object \n",
      " 1   Location       145460 non-null  object \n",
      " 2   MinTemp        143975 non-null  float64\n",
      " 3   MaxTemp        144199 non-null  float64\n",
      " 4   Rainfall       142199 non-null  float64\n",
      " 5   Evaporation    82670 non-null   float64\n",
      " 6   Sunshine       75625 non-null   float64\n",
      " 7   WindGustDir    135134 non-null  object \n",
      " 8   WindGustSpeed  135197 non-null  float64\n",
      " 9   WindDir9am     134894 non-null  object \n",
      " 10  WindDir3pm     141232 non-null  object \n",
      " 11  WindSpeed9am   143693 non-null  float64\n",
      " 12  WindSpeed3pm   142398 non-null  float64\n",
      " 13  Humidity9am    142806 non-null  float64\n",
      " 14  Humidity3pm    140953 non-null  float64\n",
      " 15  Pressure9am    130395 non-null  float64\n",
      " 16  Pressure3pm    130432 non-null  float64\n",
      " 17  Cloud9am       89572 non-null   float64\n",
      " 18  Cloud3pm       86102 non-null   float64\n",
      " 19  Temp9am        143693 non-null  float64\n",
      " 20  Temp3pm        141851 non-null  float64\n",
      " 21  RainToday      142199 non-null  object \n",
      " 22  RainTomorrow   142193 non-null  object \n",
      "dtypes: float64(16), object(7)\n",
      "memory usage: 25.5+ MB\n"
     ]
    }
   ],
   "source": [
    "dataset.info()"
   ]
  },
  {
   "cell_type": "code",
   "execution_count": 10,
   "metadata": {},
   "outputs": [
    {
     "data": {
      "text/plain": [
       "{'type': 'InsolverDataFrame',\n",
       " 'len': 145460,\n",
       " 'columns': [{'name': 'Date', 'dtype': dtype('O'), 'use': 'unknown'},\n",
       "  {'name': 'Location', 'dtype': dtype('O'), 'use': 'unknown'},\n",
       "  {'name': 'MinTemp', 'dtype': dtype('float64'), 'use': 'unknown'},\n",
       "  {'name': 'MaxTemp', 'dtype': dtype('float64'), 'use': 'unknown'},\n",
       "  {'name': 'Rainfall', 'dtype': dtype('float64'), 'use': 'unknown'},\n",
       "  {'name': 'Evaporation', 'dtype': dtype('float64'), 'use': 'unknown'},\n",
       "  {'name': 'Sunshine', 'dtype': dtype('float64'), 'use': 'unknown'},\n",
       "  {'name': 'WindGustDir', 'dtype': dtype('O'), 'use': 'unknown'},\n",
       "  {'name': 'WindGustSpeed', 'dtype': dtype('float64'), 'use': 'unknown'},\n",
       "  {'name': 'WindDir9am', 'dtype': dtype('O'), 'use': 'unknown'},\n",
       "  {'name': 'WindDir3pm', 'dtype': dtype('O'), 'use': 'unknown'},\n",
       "  {'name': 'WindSpeed9am', 'dtype': dtype('float64'), 'use': 'unknown'},\n",
       "  {'name': 'WindSpeed3pm', 'dtype': dtype('float64'), 'use': 'unknown'},\n",
       "  {'name': 'Humidity9am', 'dtype': dtype('float64'), 'use': 'unknown'},\n",
       "  {'name': 'Humidity3pm', 'dtype': dtype('float64'), 'use': 'unknown'},\n",
       "  {'name': 'Pressure9am', 'dtype': dtype('float64'), 'use': 'unknown'},\n",
       "  {'name': 'Pressure3pm', 'dtype': dtype('float64'), 'use': 'unknown'},\n",
       "  {'name': 'Cloud9am', 'dtype': dtype('float64'), 'use': 'unknown'},\n",
       "  {'name': 'Cloud3pm', 'dtype': dtype('float64'), 'use': 'unknown'},\n",
       "  {'name': 'Temp9am', 'dtype': dtype('float64'), 'use': 'unknown'},\n",
       "  {'name': 'Temp3pm', 'dtype': dtype('float64'), 'use': 'unknown'},\n",
       "  {'name': 'RainToday', 'dtype': dtype('O'), 'use': 'unknown'},\n",
       "  {'name': 'RainTomorrow', 'dtype': dtype('O'), 'use': 'unknown'}]}"
      ]
     },
     "execution_count": 10,
     "metadata": {},
     "output_type": "execute_result"
    }
   ],
   "source": [
    "dataset.get_meta_info()"
   ]
  },
  {
   "cell_type": "markdown",
   "metadata": {},
   "source": [
    "**Dataset shape**"
   ]
  },
  {
   "cell_type": "code",
   "execution_count": 11,
   "metadata": {},
   "outputs": [
    {
     "data": {
      "text/plain": [
       "(145460, 23)"
      ]
     },
     "execution_count": 11,
     "metadata": {},
     "output_type": "execute_result"
    }
   ],
   "source": [
    "dataset.shape"
   ]
  },
  {
   "cell_type": "markdown",
   "metadata": {},
   "source": [
    "## Explore RainTomorrow target variable "
   ]
  },
  {
   "cell_type": "markdown",
   "metadata": {},
   "source": [
    "**Check for null values**"
   ]
  },
  {
   "cell_type": "code",
   "execution_count": 23,
   "metadata": {},
   "outputs": [
    {
     "data": {
      "text/plain": [
       "3267"
      ]
     },
     "execution_count": 23,
     "metadata": {},
     "output_type": "execute_result"
    }
   ],
   "source": [
    "dataset['RainTomorrow'].isnull().sum()"
   ]
  },
  {
   "cell_type": "markdown",
   "metadata": {},
   "source": [
    "**Let's delete all raws with null values**"
   ]
  },
  {
   "cell_type": "code",
   "execution_count": 24,
   "metadata": {},
   "outputs": [
    {
     "name": "stdout",
     "output_type": "stream",
     "text": [
      "3267\n"
     ]
    }
   ],
   "source": [
    "dataset_nan = dataset.iloc[dataset[dataset['RainTomorrow'].isnull()].index]\n",
    "print(len(dataset_nan))\n",
    "dataset = dataset.drop(dataset[dataset['RainTomorrow'].isnull()].index)"
   ]
  },
  {
   "cell_type": "markdown",
   "metadata": {},
   "source": [
    "**Unique values count**"
   ]
  },
  {
   "cell_type": "code",
   "execution_count": 15,
   "metadata": {},
   "outputs": [
    {
     "data": {
      "text/plain": [
       "array(['No', 'Yes'], dtype=object)"
      ]
     },
     "execution_count": 15,
     "metadata": {},
     "output_type": "execute_result"
    }
   ],
   "source": [
    "dataset['RainTomorrow'].unique()"
   ]
  },
  {
   "cell_type": "markdown",
   "metadata": {},
   "source": [
    "**Distribution of values**"
   ]
  },
  {
   "cell_type": "code",
   "execution_count": 16,
   "metadata": {},
   "outputs": [
    {
     "data": {
      "text/plain": [
       "No     110316\n",
       "Yes     31877\n",
       "Name: RainTomorrow, dtype: int64"
      ]
     },
     "execution_count": 16,
     "metadata": {},
     "output_type": "execute_result"
    }
   ],
   "source": [
    "dataset['RainTomorrow'].value_counts()"
   ]
  },
  {
   "cell_type": "markdown",
   "metadata": {},
   "source": [
    "## Explore all variables"
   ]
  },
  {
   "cell_type": "markdown",
   "metadata": {},
   "source": [
    "**Let's delete Date and Location variables**"
   ]
  },
  {
   "cell_type": "code",
   "execution_count": 25,
   "metadata": {},
   "outputs": [
    {
     "data": {
      "text/html": [
       "<div>\n",
       "<style scoped>\n",
       "    .dataframe tbody tr th:only-of-type {\n",
       "        vertical-align: middle;\n",
       "    }\n",
       "\n",
       "    .dataframe tbody tr th {\n",
       "        vertical-align: top;\n",
       "    }\n",
       "\n",
       "    .dataframe thead th {\n",
       "        text-align: right;\n",
       "    }\n",
       "</style>\n",
       "<table border=\"1\" class=\"dataframe\">\n",
       "  <thead>\n",
       "    <tr style=\"text-align: right;\">\n",
       "      <th></th>\n",
       "      <th>MinTemp</th>\n",
       "      <th>MaxTemp</th>\n",
       "      <th>Rainfall</th>\n",
       "      <th>Evaporation</th>\n",
       "      <th>Sunshine</th>\n",
       "      <th>WindGustDir</th>\n",
       "      <th>WindGustSpeed</th>\n",
       "      <th>WindDir9am</th>\n",
       "      <th>WindDir3pm</th>\n",
       "      <th>WindSpeed9am</th>\n",
       "      <th>...</th>\n",
       "      <th>Humidity9am</th>\n",
       "      <th>Humidity3pm</th>\n",
       "      <th>Pressure9am</th>\n",
       "      <th>Pressure3pm</th>\n",
       "      <th>Cloud9am</th>\n",
       "      <th>Cloud3pm</th>\n",
       "      <th>Temp9am</th>\n",
       "      <th>Temp3pm</th>\n",
       "      <th>RainToday</th>\n",
       "      <th>RainTomorrow</th>\n",
       "    </tr>\n",
       "  </thead>\n",
       "  <tbody>\n",
       "    <tr>\n",
       "      <th>0</th>\n",
       "      <td>13.4</td>\n",
       "      <td>22.9</td>\n",
       "      <td>0.6</td>\n",
       "      <td>NaN</td>\n",
       "      <td>NaN</td>\n",
       "      <td>W</td>\n",
       "      <td>44.0</td>\n",
       "      <td>W</td>\n",
       "      <td>WNW</td>\n",
       "      <td>20.0</td>\n",
       "      <td>...</td>\n",
       "      <td>71.0</td>\n",
       "      <td>22.0</td>\n",
       "      <td>1007.7</td>\n",
       "      <td>1007.1</td>\n",
       "      <td>8.0</td>\n",
       "      <td>NaN</td>\n",
       "      <td>16.9</td>\n",
       "      <td>21.8</td>\n",
       "      <td>No</td>\n",
       "      <td>No</td>\n",
       "    </tr>\n",
       "    <tr>\n",
       "      <th>1</th>\n",
       "      <td>7.4</td>\n",
       "      <td>25.1</td>\n",
       "      <td>0.0</td>\n",
       "      <td>NaN</td>\n",
       "      <td>NaN</td>\n",
       "      <td>WNW</td>\n",
       "      <td>44.0</td>\n",
       "      <td>NNW</td>\n",
       "      <td>WSW</td>\n",
       "      <td>4.0</td>\n",
       "      <td>...</td>\n",
       "      <td>44.0</td>\n",
       "      <td>25.0</td>\n",
       "      <td>1010.6</td>\n",
       "      <td>1007.8</td>\n",
       "      <td>NaN</td>\n",
       "      <td>NaN</td>\n",
       "      <td>17.2</td>\n",
       "      <td>24.3</td>\n",
       "      <td>No</td>\n",
       "      <td>No</td>\n",
       "    </tr>\n",
       "    <tr>\n",
       "      <th>2</th>\n",
       "      <td>12.9</td>\n",
       "      <td>25.7</td>\n",
       "      <td>0.0</td>\n",
       "      <td>NaN</td>\n",
       "      <td>NaN</td>\n",
       "      <td>WSW</td>\n",
       "      <td>46.0</td>\n",
       "      <td>W</td>\n",
       "      <td>WSW</td>\n",
       "      <td>19.0</td>\n",
       "      <td>...</td>\n",
       "      <td>38.0</td>\n",
       "      <td>30.0</td>\n",
       "      <td>1007.6</td>\n",
       "      <td>1008.7</td>\n",
       "      <td>NaN</td>\n",
       "      <td>2.0</td>\n",
       "      <td>21.0</td>\n",
       "      <td>23.2</td>\n",
       "      <td>No</td>\n",
       "      <td>No</td>\n",
       "    </tr>\n",
       "    <tr>\n",
       "      <th>3</th>\n",
       "      <td>9.2</td>\n",
       "      <td>28.0</td>\n",
       "      <td>0.0</td>\n",
       "      <td>NaN</td>\n",
       "      <td>NaN</td>\n",
       "      <td>NE</td>\n",
       "      <td>24.0</td>\n",
       "      <td>SE</td>\n",
       "      <td>E</td>\n",
       "      <td>11.0</td>\n",
       "      <td>...</td>\n",
       "      <td>45.0</td>\n",
       "      <td>16.0</td>\n",
       "      <td>1017.6</td>\n",
       "      <td>1012.8</td>\n",
       "      <td>NaN</td>\n",
       "      <td>NaN</td>\n",
       "      <td>18.1</td>\n",
       "      <td>26.5</td>\n",
       "      <td>No</td>\n",
       "      <td>No</td>\n",
       "    </tr>\n",
       "    <tr>\n",
       "      <th>4</th>\n",
       "      <td>17.5</td>\n",
       "      <td>32.3</td>\n",
       "      <td>1.0</td>\n",
       "      <td>NaN</td>\n",
       "      <td>NaN</td>\n",
       "      <td>W</td>\n",
       "      <td>41.0</td>\n",
       "      <td>ENE</td>\n",
       "      <td>NW</td>\n",
       "      <td>7.0</td>\n",
       "      <td>...</td>\n",
       "      <td>82.0</td>\n",
       "      <td>33.0</td>\n",
       "      <td>1010.8</td>\n",
       "      <td>1006.0</td>\n",
       "      <td>7.0</td>\n",
       "      <td>8.0</td>\n",
       "      <td>17.8</td>\n",
       "      <td>29.7</td>\n",
       "      <td>No</td>\n",
       "      <td>No</td>\n",
       "    </tr>\n",
       "  </tbody>\n",
       "</table>\n",
       "<p>5 rows × 21 columns</p>\n",
       "</div>"
      ],
      "text/plain": [
       "   MinTemp  MaxTemp  Rainfall  Evaporation  Sunshine WindGustDir  \\\n",
       "0     13.4     22.9       0.6          NaN       NaN           W   \n",
       "1      7.4     25.1       0.0          NaN       NaN         WNW   \n",
       "2     12.9     25.7       0.0          NaN       NaN         WSW   \n",
       "3      9.2     28.0       0.0          NaN       NaN          NE   \n",
       "4     17.5     32.3       1.0          NaN       NaN           W   \n",
       "\n",
       "   WindGustSpeed WindDir9am WindDir3pm  WindSpeed9am  ...  Humidity9am  \\\n",
       "0           44.0          W        WNW          20.0  ...         71.0   \n",
       "1           44.0        NNW        WSW           4.0  ...         44.0   \n",
       "2           46.0          W        WSW          19.0  ...         38.0   \n",
       "3           24.0         SE          E          11.0  ...         45.0   \n",
       "4           41.0        ENE         NW           7.0  ...         82.0   \n",
       "\n",
       "   Humidity3pm  Pressure9am  Pressure3pm  Cloud9am  Cloud3pm  Temp9am  \\\n",
       "0         22.0       1007.7       1007.1       8.0       NaN     16.9   \n",
       "1         25.0       1010.6       1007.8       NaN       NaN     17.2   \n",
       "2         30.0       1007.6       1008.7       NaN       2.0     21.0   \n",
       "3         16.0       1017.6       1012.8       NaN       NaN     18.1   \n",
       "4         33.0       1010.8       1006.0       7.0       8.0     17.8   \n",
       "\n",
       "   Temp3pm  RainToday RainTomorrow  \n",
       "0     21.8         No           No  \n",
       "1     24.3         No           No  \n",
       "2     23.2         No           No  \n",
       "3     26.5         No           No  \n",
       "4     29.7         No           No  \n",
       "\n",
       "[5 rows x 21 columns]"
      ]
     },
     "execution_count": 25,
     "metadata": {},
     "output_type": "execute_result"
    }
   ],
   "source": [
    "dataset.pop('Date')\n",
    "dataset.pop('Location')\n",
    "dataset.head()"
   ]
  },
  {
   "cell_type": "code",
   "execution_count": 26,
   "metadata": {},
   "outputs": [
    {
     "data": {
      "text/plain": [
       "Index(['MinTemp', 'MaxTemp', 'Rainfall', 'Evaporation', 'Sunshine',\n",
       "       'WindGustDir', 'WindGustSpeed', 'WindDir9am', 'WindDir3pm',\n",
       "       'WindSpeed9am', 'WindSpeed3pm', 'Humidity9am', 'Humidity3pm',\n",
       "       'Pressure9am', 'Pressure3pm', 'Cloud9am', 'Cloud3pm', 'Temp9am',\n",
       "       'Temp3pm', 'RainToday', 'RainTomorrow'],\n",
       "      dtype='object')"
      ]
     },
     "execution_count": 26,
     "metadata": {},
     "output_type": "execute_result"
    }
   ],
   "source": [
    "columns = dataset.columns\n",
    "columns"
   ]
  },
  {
   "cell_type": "markdown",
   "metadata": {},
   "source": [
    "**Check for null values**"
   ]
  },
  {
   "cell_type": "code",
   "execution_count": 27,
   "metadata": {},
   "outputs": [
    {
     "data": {
      "text/plain": [
       "MinTemp            637\n",
       "MaxTemp            322\n",
       "Rainfall          1406\n",
       "Evaporation      60843\n",
       "Sunshine         67816\n",
       "WindGustDir       9330\n",
       "WindGustSpeed     9270\n",
       "WindDir9am       10013\n",
       "WindDir3pm        3778\n",
       "WindSpeed9am      1348\n",
       "WindSpeed3pm      2630\n",
       "Humidity9am       1774\n",
       "Humidity3pm       3610\n",
       "Pressure9am      14014\n",
       "Pressure3pm      13981\n",
       "Cloud9am         53657\n",
       "Cloud3pm         57094\n",
       "Temp9am            904\n",
       "Temp3pm           2726\n",
       "RainToday         1406\n",
       "RainTomorrow         0\n",
       "dtype: int64"
      ]
     },
     "execution_count": 27,
     "metadata": {},
     "output_type": "execute_result"
    }
   ],
   "source": [
    "dataset.isnull().sum()"
   ]
  },
  {
   "cell_type": "markdown",
   "metadata": {},
   "source": [
    "**Count of categorical variables**"
   ]
  },
  {
   "cell_type": "code",
   "execution_count": 28,
   "metadata": {},
   "outputs": [
    {
     "name": "stdout",
     "output_type": "stream",
     "text": [
      "Датасет содержит 5 качественных переменных:\n",
      " ['WindGustDir', 'WindDir9am', 'WindDir3pm', 'RainToday', 'RainTomorrow']\n"
     ]
    }
   ],
   "source": [
    "categorical = [var for var in columns if dataset[var].dtype=='object']\n",
    "print('Датасет содержит', len(categorical), 'качественных переменных:\\n', categorical)"
   ]
  },
  {
   "cell_type": "markdown",
   "metadata": {},
   "source": [
    "**Frequency count of categorical variables**"
   ]
  },
  {
   "cell_type": "code",
   "execution_count": 32,
   "metadata": {
    "scrolled": true
   },
   "outputs": [
    {
     "name": "stdout",
     "output_type": "stream",
     "text": [
      "W      9780\n",
      "SE     9309\n",
      "E      9071\n",
      "N      9033\n",
      "SSE    8993\n",
      "S      8949\n",
      "WSW    8901\n",
      "SW     8797\n",
      "SSW    8610\n",
      "WNW    8066\n",
      "NW     8003\n",
      "ENE    7992\n",
      "ESE    7305\n",
      "NE     7060\n",
      "NNW    6561\n",
      "NNE    6433\n",
      "Name: WindGustDir, dtype: int64 \n",
      "\n",
      "N      11393\n",
      "SE      9162\n",
      "E       9024\n",
      "SSE     8966\n",
      "NW      8552\n",
      "S       8493\n",
      "W       8260\n",
      "SW      8237\n",
      "NNE     7948\n",
      "NNW     7840\n",
      "ENE     7735\n",
      "ESE     7558\n",
      "NE      7527\n",
      "SSW     7448\n",
      "WNW     7194\n",
      "WSW     6843\n",
      "Name: WindDir9am, dtype: int64 \n",
      "\n",
      "SE     10663\n",
      "W       9911\n",
      "S       9598\n",
      "WSW     9329\n",
      "SW      9182\n",
      "SSE     9142\n",
      "N       8667\n",
      "WNW     8656\n",
      "NW      8468\n",
      "ESE     8382\n",
      "E       8342\n",
      "NE      8164\n",
      "SSW     8010\n",
      "NNW     7733\n",
      "ENE     7724\n",
      "NNE     6444\n",
      "Name: WindDir3pm, dtype: int64 \n",
      "\n",
      "No     109332\n",
      "Yes     31455\n",
      "Name: RainToday, dtype: int64 \n",
      "\n",
      "No     110316\n",
      "Yes     31877\n",
      "Name: RainTomorrow, dtype: int64 \n",
      "\n"
     ]
    }
   ],
   "source": [
    "for cat in categorical:\n",
    "    print(dataset[cat].value_counts(), '\\n')"
   ]
  },
  {
   "cell_type": "markdown",
   "metadata": {},
   "source": [
    "**Count of numerical variables**"
   ]
  },
  {
   "cell_type": "code",
   "execution_count": 29,
   "metadata": {},
   "outputs": [
    {
     "name": "stdout",
     "output_type": "stream",
     "text": [
      "Датасет содержит 16 количественных переменных:\n",
      " ['MinTemp', 'MaxTemp', 'Rainfall', 'Evaporation', 'Sunshine', 'WindGustSpeed', 'WindSpeed9am', 'WindSpeed3pm', 'Humidity9am', 'Humidity3pm', 'Pressure9am', 'Pressure3pm', 'Cloud9am', 'Cloud3pm', 'Temp9am', 'Temp3pm']\n"
     ]
    }
   ],
   "source": [
    "numerical = [var for var in columns if dataset[var].dtype=='float64']\n",
    "print('Датасет содержит', len(numerical), 'количественных переменных:\\n', numerical)"
   ]
  },
  {
   "cell_type": "markdown",
   "metadata": {},
   "source": [
    "## InsolverTransform\n",
    "Transformations allow you to preprocess data using functions from insolver.transforms. There are several different transformations available such as:\n",
    "- TransformExp,\n",
    "- InsolverTransform,\n",
    "- TransformAge,\n",
    "- TransformMapValues,\n",
    "- TransformPolynomizer,\n",
    "- TransformAgeGender.\n",
    "\n",
    "Also you can use other transformations to preprocess data:\n",
    "- AutoFillNATransforms allows to fill NA values in dataset,\n",
    "- OneHotEncoderTransforms based on sklearn’s OneHotEncoder,\n",
    "- EncoderTransforms based on sklearn’s LabelEncoder."
   ]
  },
  {
   "cell_type": "code",
   "execution_count": 38,
   "metadata": {},
   "outputs": [],
   "source": [
    "dataset_transformed = InsolverTransform(dataset, [\n",
    "    TransformMapValues('RainTomorrow', {'Yes' : 1, 'No' : 0}),\n",
    "    TransformMapValues('RainToday', {'Yes' : 1, 'No' : 0}),\n",
    "    OneHotEncoderTransforms(['WindGustDir', 'WindDir9am', 'WindDir3pm']),\n",
    "    AutoFillNATransforms(), #Автозаполнение нулевых значений\n",
    "])"
   ]
  },
  {
   "cell_type": "code",
   "execution_count": 39,
   "metadata": {},
   "outputs": [],
   "source": [
    "dataset_transformed.ins_transform();"
   ]
  },
  {
   "cell_type": "code",
   "execution_count": 40,
   "metadata": {},
   "outputs": [
    {
     "data": {
      "text/html": [
       "<div>\n",
       "<style scoped>\n",
       "    .dataframe tbody tr th:only-of-type {\n",
       "        vertical-align: middle;\n",
       "    }\n",
       "\n",
       "    .dataframe tbody tr th {\n",
       "        vertical-align: top;\n",
       "    }\n",
       "\n",
       "    .dataframe thead th {\n",
       "        text-align: right;\n",
       "    }\n",
       "</style>\n",
       "<table border=\"1\" class=\"dataframe\">\n",
       "  <thead>\n",
       "    <tr style=\"text-align: right;\">\n",
       "      <th></th>\n",
       "      <th>MinTemp</th>\n",
       "      <th>MaxTemp</th>\n",
       "      <th>Rainfall</th>\n",
       "      <th>Evaporation</th>\n",
       "      <th>Sunshine</th>\n",
       "      <th>WindGustSpeed</th>\n",
       "      <th>WindSpeed9am</th>\n",
       "      <th>WindSpeed3pm</th>\n",
       "      <th>Humidity9am</th>\n",
       "      <th>Humidity3pm</th>\n",
       "      <th>...</th>\n",
       "      <th>WindDir3pm_NW</th>\n",
       "      <th>WindDir3pm_S</th>\n",
       "      <th>WindDir3pm_SE</th>\n",
       "      <th>WindDir3pm_SSE</th>\n",
       "      <th>WindDir3pm_SSW</th>\n",
       "      <th>WindDir3pm_SW</th>\n",
       "      <th>WindDir3pm_W</th>\n",
       "      <th>WindDir3pm_WNW</th>\n",
       "      <th>WindDir3pm_WSW</th>\n",
       "      <th>WindDir3pm_nan</th>\n",
       "    </tr>\n",
       "  </thead>\n",
       "  <tbody>\n",
       "    <tr>\n",
       "      <th>0</th>\n",
       "      <td>13.4</td>\n",
       "      <td>22.9</td>\n",
       "      <td>0.6</td>\n",
       "      <td>4.8</td>\n",
       "      <td>8.5</td>\n",
       "      <td>44.0</td>\n",
       "      <td>20.0</td>\n",
       "      <td>24.0</td>\n",
       "      <td>71.0</td>\n",
       "      <td>22.0</td>\n",
       "      <td>...</td>\n",
       "      <td>0.0</td>\n",
       "      <td>0.0</td>\n",
       "      <td>0.0</td>\n",
       "      <td>0.0</td>\n",
       "      <td>0.0</td>\n",
       "      <td>0.0</td>\n",
       "      <td>0.0</td>\n",
       "      <td>1.0</td>\n",
       "      <td>0.0</td>\n",
       "      <td>0.0</td>\n",
       "    </tr>\n",
       "    <tr>\n",
       "      <th>1</th>\n",
       "      <td>7.4</td>\n",
       "      <td>25.1</td>\n",
       "      <td>0.0</td>\n",
       "      <td>4.8</td>\n",
       "      <td>8.5</td>\n",
       "      <td>44.0</td>\n",
       "      <td>4.0</td>\n",
       "      <td>22.0</td>\n",
       "      <td>44.0</td>\n",
       "      <td>25.0</td>\n",
       "      <td>...</td>\n",
       "      <td>0.0</td>\n",
       "      <td>0.0</td>\n",
       "      <td>0.0</td>\n",
       "      <td>0.0</td>\n",
       "      <td>0.0</td>\n",
       "      <td>0.0</td>\n",
       "      <td>0.0</td>\n",
       "      <td>0.0</td>\n",
       "      <td>1.0</td>\n",
       "      <td>0.0</td>\n",
       "    </tr>\n",
       "    <tr>\n",
       "      <th>2</th>\n",
       "      <td>12.9</td>\n",
       "      <td>25.7</td>\n",
       "      <td>0.0</td>\n",
       "      <td>4.8</td>\n",
       "      <td>8.5</td>\n",
       "      <td>46.0</td>\n",
       "      <td>19.0</td>\n",
       "      <td>26.0</td>\n",
       "      <td>38.0</td>\n",
       "      <td>30.0</td>\n",
       "      <td>...</td>\n",
       "      <td>0.0</td>\n",
       "      <td>0.0</td>\n",
       "      <td>0.0</td>\n",
       "      <td>0.0</td>\n",
       "      <td>0.0</td>\n",
       "      <td>0.0</td>\n",
       "      <td>0.0</td>\n",
       "      <td>0.0</td>\n",
       "      <td>1.0</td>\n",
       "      <td>0.0</td>\n",
       "    </tr>\n",
       "    <tr>\n",
       "      <th>3</th>\n",
       "      <td>9.2</td>\n",
       "      <td>28.0</td>\n",
       "      <td>0.0</td>\n",
       "      <td>4.8</td>\n",
       "      <td>8.5</td>\n",
       "      <td>24.0</td>\n",
       "      <td>11.0</td>\n",
       "      <td>9.0</td>\n",
       "      <td>45.0</td>\n",
       "      <td>16.0</td>\n",
       "      <td>...</td>\n",
       "      <td>0.0</td>\n",
       "      <td>0.0</td>\n",
       "      <td>0.0</td>\n",
       "      <td>0.0</td>\n",
       "      <td>0.0</td>\n",
       "      <td>0.0</td>\n",
       "      <td>0.0</td>\n",
       "      <td>0.0</td>\n",
       "      <td>0.0</td>\n",
       "      <td>0.0</td>\n",
       "    </tr>\n",
       "    <tr>\n",
       "      <th>4</th>\n",
       "      <td>17.5</td>\n",
       "      <td>32.3</td>\n",
       "      <td>1.0</td>\n",
       "      <td>4.8</td>\n",
       "      <td>8.5</td>\n",
       "      <td>41.0</td>\n",
       "      <td>7.0</td>\n",
       "      <td>20.0</td>\n",
       "      <td>82.0</td>\n",
       "      <td>33.0</td>\n",
       "      <td>...</td>\n",
       "      <td>1.0</td>\n",
       "      <td>0.0</td>\n",
       "      <td>0.0</td>\n",
       "      <td>0.0</td>\n",
       "      <td>0.0</td>\n",
       "      <td>0.0</td>\n",
       "      <td>0.0</td>\n",
       "      <td>0.0</td>\n",
       "      <td>0.0</td>\n",
       "      <td>0.0</td>\n",
       "    </tr>\n",
       "    <tr>\n",
       "      <th>...</th>\n",
       "      <td>...</td>\n",
       "      <td>...</td>\n",
       "      <td>...</td>\n",
       "      <td>...</td>\n",
       "      <td>...</td>\n",
       "      <td>...</td>\n",
       "      <td>...</td>\n",
       "      <td>...</td>\n",
       "      <td>...</td>\n",
       "      <td>...</td>\n",
       "      <td>...</td>\n",
       "      <td>...</td>\n",
       "      <td>...</td>\n",
       "      <td>...</td>\n",
       "      <td>...</td>\n",
       "      <td>...</td>\n",
       "      <td>...</td>\n",
       "      <td>...</td>\n",
       "      <td>...</td>\n",
       "      <td>...</td>\n",
       "      <td>...</td>\n",
       "    </tr>\n",
       "    <tr>\n",
       "      <th>145454</th>\n",
       "      <td>3.5</td>\n",
       "      <td>21.8</td>\n",
       "      <td>0.0</td>\n",
       "      <td>4.8</td>\n",
       "      <td>8.5</td>\n",
       "      <td>31.0</td>\n",
       "      <td>15.0</td>\n",
       "      <td>13.0</td>\n",
       "      <td>59.0</td>\n",
       "      <td>27.0</td>\n",
       "      <td>...</td>\n",
       "      <td>0.0</td>\n",
       "      <td>0.0</td>\n",
       "      <td>0.0</td>\n",
       "      <td>0.0</td>\n",
       "      <td>0.0</td>\n",
       "      <td>0.0</td>\n",
       "      <td>0.0</td>\n",
       "      <td>0.0</td>\n",
       "      <td>0.0</td>\n",
       "      <td>0.0</td>\n",
       "    </tr>\n",
       "    <tr>\n",
       "      <th>145455</th>\n",
       "      <td>2.8</td>\n",
       "      <td>23.4</td>\n",
       "      <td>0.0</td>\n",
       "      <td>4.8</td>\n",
       "      <td>8.5</td>\n",
       "      <td>31.0</td>\n",
       "      <td>13.0</td>\n",
       "      <td>11.0</td>\n",
       "      <td>51.0</td>\n",
       "      <td>24.0</td>\n",
       "      <td>...</td>\n",
       "      <td>0.0</td>\n",
       "      <td>0.0</td>\n",
       "      <td>0.0</td>\n",
       "      <td>0.0</td>\n",
       "      <td>0.0</td>\n",
       "      <td>0.0</td>\n",
       "      <td>0.0</td>\n",
       "      <td>0.0</td>\n",
       "      <td>0.0</td>\n",
       "      <td>0.0</td>\n",
       "    </tr>\n",
       "    <tr>\n",
       "      <th>145456</th>\n",
       "      <td>3.6</td>\n",
       "      <td>25.3</td>\n",
       "      <td>0.0</td>\n",
       "      <td>4.8</td>\n",
       "      <td>8.5</td>\n",
       "      <td>22.0</td>\n",
       "      <td>13.0</td>\n",
       "      <td>9.0</td>\n",
       "      <td>56.0</td>\n",
       "      <td>21.0</td>\n",
       "      <td>...</td>\n",
       "      <td>0.0</td>\n",
       "      <td>0.0</td>\n",
       "      <td>0.0</td>\n",
       "      <td>0.0</td>\n",
       "      <td>0.0</td>\n",
       "      <td>0.0</td>\n",
       "      <td>0.0</td>\n",
       "      <td>0.0</td>\n",
       "      <td>0.0</td>\n",
       "      <td>0.0</td>\n",
       "    </tr>\n",
       "    <tr>\n",
       "      <th>145457</th>\n",
       "      <td>5.4</td>\n",
       "      <td>26.9</td>\n",
       "      <td>0.0</td>\n",
       "      <td>4.8</td>\n",
       "      <td>8.5</td>\n",
       "      <td>37.0</td>\n",
       "      <td>9.0</td>\n",
       "      <td>9.0</td>\n",
       "      <td>53.0</td>\n",
       "      <td>24.0</td>\n",
       "      <td>...</td>\n",
       "      <td>0.0</td>\n",
       "      <td>0.0</td>\n",
       "      <td>0.0</td>\n",
       "      <td>0.0</td>\n",
       "      <td>0.0</td>\n",
       "      <td>0.0</td>\n",
       "      <td>0.0</td>\n",
       "      <td>0.0</td>\n",
       "      <td>0.0</td>\n",
       "      <td>0.0</td>\n",
       "    </tr>\n",
       "    <tr>\n",
       "      <th>145458</th>\n",
       "      <td>7.8</td>\n",
       "      <td>27.0</td>\n",
       "      <td>0.0</td>\n",
       "      <td>4.8</td>\n",
       "      <td>8.5</td>\n",
       "      <td>28.0</td>\n",
       "      <td>13.0</td>\n",
       "      <td>7.0</td>\n",
       "      <td>51.0</td>\n",
       "      <td>24.0</td>\n",
       "      <td>...</td>\n",
       "      <td>0.0</td>\n",
       "      <td>0.0</td>\n",
       "      <td>0.0</td>\n",
       "      <td>0.0</td>\n",
       "      <td>0.0</td>\n",
       "      <td>0.0</td>\n",
       "      <td>0.0</td>\n",
       "      <td>0.0</td>\n",
       "      <td>0.0</td>\n",
       "      <td>0.0</td>\n",
       "    </tr>\n",
       "  </tbody>\n",
       "</table>\n",
       "<p>142193 rows × 69 columns</p>\n",
       "</div>"
      ],
      "text/plain": [
       "        MinTemp  MaxTemp  Rainfall  Evaporation  Sunshine  WindGustSpeed  \\\n",
       "0          13.4     22.9       0.6          4.8       8.5           44.0   \n",
       "1           7.4     25.1       0.0          4.8       8.5           44.0   \n",
       "2          12.9     25.7       0.0          4.8       8.5           46.0   \n",
       "3           9.2     28.0       0.0          4.8       8.5           24.0   \n",
       "4          17.5     32.3       1.0          4.8       8.5           41.0   \n",
       "...         ...      ...       ...          ...       ...            ...   \n",
       "145454      3.5     21.8       0.0          4.8       8.5           31.0   \n",
       "145455      2.8     23.4       0.0          4.8       8.5           31.0   \n",
       "145456      3.6     25.3       0.0          4.8       8.5           22.0   \n",
       "145457      5.4     26.9       0.0          4.8       8.5           37.0   \n",
       "145458      7.8     27.0       0.0          4.8       8.5           28.0   \n",
       "\n",
       "        WindSpeed9am  WindSpeed3pm  Humidity9am  Humidity3pm  ...  \\\n",
       "0               20.0          24.0         71.0         22.0  ...   \n",
       "1                4.0          22.0         44.0         25.0  ...   \n",
       "2               19.0          26.0         38.0         30.0  ...   \n",
       "3               11.0           9.0         45.0         16.0  ...   \n",
       "4                7.0          20.0         82.0         33.0  ...   \n",
       "...              ...           ...          ...          ...  ...   \n",
       "145454          15.0          13.0         59.0         27.0  ...   \n",
       "145455          13.0          11.0         51.0         24.0  ...   \n",
       "145456          13.0           9.0         56.0         21.0  ...   \n",
       "145457           9.0           9.0         53.0         24.0  ...   \n",
       "145458          13.0           7.0         51.0         24.0  ...   \n",
       "\n",
       "        WindDir3pm_NW  WindDir3pm_S  WindDir3pm_SE  WindDir3pm_SSE  \\\n",
       "0                 0.0           0.0            0.0             0.0   \n",
       "1                 0.0           0.0            0.0             0.0   \n",
       "2                 0.0           0.0            0.0             0.0   \n",
       "3                 0.0           0.0            0.0             0.0   \n",
       "4                 1.0           0.0            0.0             0.0   \n",
       "...               ...           ...            ...             ...   \n",
       "145454            0.0           0.0            0.0             0.0   \n",
       "145455            0.0           0.0            0.0             0.0   \n",
       "145456            0.0           0.0            0.0             0.0   \n",
       "145457            0.0           0.0            0.0             0.0   \n",
       "145458            0.0           0.0            0.0             0.0   \n",
       "\n",
       "        WindDir3pm_SSW  WindDir3pm_SW  WindDir3pm_W  WindDir3pm_WNW  \\\n",
       "0                  0.0            0.0           0.0             1.0   \n",
       "1                  0.0            0.0           0.0             0.0   \n",
       "2                  0.0            0.0           0.0             0.0   \n",
       "3                  0.0            0.0           0.0             0.0   \n",
       "4                  0.0            0.0           0.0             0.0   \n",
       "...                ...            ...           ...             ...   \n",
       "145454             0.0            0.0           0.0             0.0   \n",
       "145455             0.0            0.0           0.0             0.0   \n",
       "145456             0.0            0.0           0.0             0.0   \n",
       "145457             0.0            0.0           0.0             0.0   \n",
       "145458             0.0            0.0           0.0             0.0   \n",
       "\n",
       "        WindDir3pm_WSW  WindDir3pm_nan  \n",
       "0                  0.0             0.0  \n",
       "1                  1.0             0.0  \n",
       "2                  1.0             0.0  \n",
       "3                  0.0             0.0  \n",
       "4                  0.0             0.0  \n",
       "...                ...             ...  \n",
       "145454             0.0             0.0  \n",
       "145455             0.0             0.0  \n",
       "145456             0.0             0.0  \n",
       "145457             0.0             0.0  \n",
       "145458             0.0             0.0  \n",
       "\n",
       "[142193 rows x 69 columns]"
      ]
     },
     "execution_count": 40,
     "metadata": {},
     "output_type": "execute_result"
    }
   ],
   "source": [
    "dataset_transformed"
   ]
  },
  {
   "cell_type": "code",
   "execution_count": 46,
   "metadata": {},
   "outputs": [
    {
     "name": "stdout",
     "output_type": "stream",
     "text": [
      "<class 'insolver.transforms.InsolverTransformMain.InsolverTransform'>\n",
      "Int64Index: 142193 entries, 0 to 145458\n",
      "Data columns (total 69 columns):\n",
      " #   Column           Non-Null Count   Dtype  \n",
      "---  ------           --------------   -----  \n",
      " 0   MinTemp          142193 non-null  float64\n",
      " 1   MaxTemp          142193 non-null  float64\n",
      " 2   Rainfall         142193 non-null  float64\n",
      " 3   Evaporation      142193 non-null  float64\n",
      " 4   Sunshine         142193 non-null  float64\n",
      " 5   WindGustSpeed    142193 non-null  float64\n",
      " 6   WindSpeed9am     142193 non-null  float64\n",
      " 7   WindSpeed3pm     142193 non-null  float64\n",
      " 8   Humidity9am      142193 non-null  float64\n",
      " 9   Humidity3pm      142193 non-null  float64\n",
      " 10  Pressure9am      142193 non-null  float64\n",
      " 11  Pressure3pm      142193 non-null  float64\n",
      " 12  Cloud9am         142193 non-null  float64\n",
      " 13  Cloud3pm         142193 non-null  float64\n",
      " 14  Temp9am          142193 non-null  float64\n",
      " 15  Temp3pm          142193 non-null  float64\n",
      " 16  RainToday        142193 non-null  float64\n",
      " 17  RainTomorrow     142193 non-null  int64  \n",
      " 18  WindGustDir_E    142193 non-null  float64\n",
      " 19  WindGustDir_ENE  142193 non-null  float64\n",
      " 20  WindGustDir_ESE  142193 non-null  float64\n",
      " 21  WindGustDir_N    142193 non-null  float64\n",
      " 22  WindGustDir_NE   142193 non-null  float64\n",
      " 23  WindGustDir_NNE  142193 non-null  float64\n",
      " 24  WindGustDir_NNW  142193 non-null  float64\n",
      " 25  WindGustDir_NW   142193 non-null  float64\n",
      " 26  WindGustDir_S    142193 non-null  float64\n",
      " 27  WindGustDir_SE   142193 non-null  float64\n",
      " 28  WindGustDir_SSE  142193 non-null  float64\n",
      " 29  WindGustDir_SSW  142193 non-null  float64\n",
      " 30  WindGustDir_SW   142193 non-null  float64\n",
      " 31  WindGustDir_W    142193 non-null  float64\n",
      " 32  WindGustDir_WNW  142193 non-null  float64\n",
      " 33  WindGustDir_WSW  142193 non-null  float64\n",
      " 34  WindGustDir_nan  142193 non-null  float64\n",
      " 35  WindDir9am_E     142193 non-null  float64\n",
      " 36  WindDir9am_ENE   142193 non-null  float64\n",
      " 37  WindDir9am_ESE   142193 non-null  float64\n",
      " 38  WindDir9am_N     142193 non-null  float64\n",
      " 39  WindDir9am_NE    142193 non-null  float64\n",
      " 40  WindDir9am_NNE   142193 non-null  float64\n",
      " 41  WindDir9am_NNW   142193 non-null  float64\n",
      " 42  WindDir9am_NW    142193 non-null  float64\n",
      " 43  WindDir9am_S     142193 non-null  float64\n",
      " 44  WindDir9am_SE    142193 non-null  float64\n",
      " 45  WindDir9am_SSE   142193 non-null  float64\n",
      " 46  WindDir9am_SSW   142193 non-null  float64\n",
      " 47  WindDir9am_SW    142193 non-null  float64\n",
      " 48  WindDir9am_W     142193 non-null  float64\n",
      " 49  WindDir9am_WNW   142193 non-null  float64\n",
      " 50  WindDir9am_WSW   142193 non-null  float64\n",
      " 51  WindDir9am_nan   142193 non-null  float64\n",
      " 52  WindDir3pm_E     142193 non-null  float64\n",
      " 53  WindDir3pm_ENE   142193 non-null  float64\n",
      " 54  WindDir3pm_ESE   142193 non-null  float64\n",
      " 55  WindDir3pm_N     142193 non-null  float64\n",
      " 56  WindDir3pm_NE    142193 non-null  float64\n",
      " 57  WindDir3pm_NNE   142193 non-null  float64\n",
      " 58  WindDir3pm_NNW   142193 non-null  float64\n",
      " 59  WindDir3pm_NW    142193 non-null  float64\n",
      " 60  WindDir3pm_S     142193 non-null  float64\n",
      " 61  WindDir3pm_SE    142193 non-null  float64\n",
      " 62  WindDir3pm_SSE   142193 non-null  float64\n",
      " 63  WindDir3pm_SSW   142193 non-null  float64\n",
      " 64  WindDir3pm_SW    142193 non-null  float64\n",
      " 65  WindDir3pm_W     142193 non-null  float64\n",
      " 66  WindDir3pm_WNW   142193 non-null  float64\n",
      " 67  WindDir3pm_WSW   142193 non-null  float64\n",
      " 68  WindDir3pm_nan   142193 non-null  float64\n",
      "dtypes: float64(68), int64(1)\n",
      "memory usage: 80.0 MB\n"
     ]
    }
   ],
   "source": [
    "dataset_transformed.info()"
   ]
  },
  {
   "cell_type": "markdown",
   "metadata": {},
   "source": [
    "## Model Wrappers\n",
    "Model wrappers allow you to perform some model fitting routines using a unified interface across different backend packages. Currently model wrappers implement **Generalized Linear Models** (scikit-learn, h2o) and **Gradient Boosting Machines** (xgboost, lightgbm, catboost)."
   ]
  },
  {
   "cell_type": "code",
   "execution_count": 48,
   "metadata": {},
   "outputs": [],
   "source": [
    "x, y = dataset_transformed.drop('RainTomorrow', axis=1), dataset_transformed['RainTomorrow']"
   ]
  },
  {
   "cell_type": "code",
   "execution_count": 51,
   "metadata": {},
   "outputs": [],
   "source": [
    "X_train, X_test, y_train, y_test = train_test_split(x, y, random_state=5)"
   ]
  },
  {
   "cell_type": "code",
   "execution_count": 71,
   "metadata": {},
   "outputs": [],
   "source": [
    "def acc_score(y_true, y_pred, **kwargs):\n",
    "    return accuracy_score(y_true, (y_pred > 0.5).astype(int), **kwargs)\n",
    "\n",
    "def f1_metric(y_true, y_pred, **kwargs):\n",
    "    return f1_score(y_true, (y_pred > 0.5).astype(int), **kwargs)"
   ]
  },
  {
   "cell_type": "code",
   "execution_count": 70,
   "metadata": {},
   "outputs": [],
   "source": [
    "def show_results(model, x, y, categorical_features=False):\n",
    "\n",
    "    X_train, X_test, y_train, y_test = train_test_split(x, y, random_state=5)\n",
    "    model.fit(X_train, y_train)\n",
    "    model_pred = model.predict(X_test)\n",
    "    \n",
    "    print('\\nAccuracy: {:.4f}'.format(acc_score(y_test, model_pred)))\n",
    "    print('F1: {:.4f}'.format(f1_metric(y_test, model_pred)))\n",
    "          \n",
    "    return model"
   ]
  },
  {
   "cell_type": "markdown",
   "metadata": {},
   "source": [
    "### Generalized Linear Model\n",
    "InsolverGLMWrapper implements Generalized Linear Models with support of h2o and scikit-learn packages.\n",
    "\n",
    "GLM using sklearn backend uses the functionality of TweedieRegressor class from scikit-learn. \n",
    "\n",
    "GLM using h2o backend uses the functionality of H2OGeneralizedLinearEstimator class from H2O.\n"
   ]
  },
  {
   "cell_type": "code",
   "execution_count": 72,
   "metadata": {},
   "outputs": [
    {
     "name": "stdout",
     "output_type": "stream",
     "text": [
      "\n",
      "Accuracy: 0.8163\n",
      "F1: 0.3617\n"
     ]
    }
   ],
   "source": [
    "iglm = show_results(InsolverGLMWrapper(backend='sklearn', family=0, standardize=True), x, y)"
   ]
  },
  {
   "cell_type": "markdown",
   "metadata": {},
   "source": [
    "### Gradient Boosting Machines\n",
    "InsolverGLMWrapper implements Gradient Boosting Machines with support of xgboost, lightgbm and catboost packages."
   ]
  },
  {
   "cell_type": "code",
   "execution_count": 84,
   "metadata": {},
   "outputs": [
    {
     "name": "stdout",
     "output_type": "stream",
     "text": [
      "\n",
      "Accuracy: 0.8525\n",
      "F1: 0.6119\n",
      "Wall time: 870 ms\n"
     ]
    }
   ],
   "source": [
    "%%time\n",
    "igbm = show_results(InsolverGBMWrapper(backend='lightgbm', task='class', n_estimators=100), x, y)"
   ]
  },
  {
   "cell_type": "code",
   "execution_count": 83,
   "metadata": {
    "scrolled": true
   },
   "outputs": [
    {
     "name": "stdout",
     "output_type": "stream",
     "text": [
      "Learning rate set to 0.5\n",
      "0:\tlearn: 0.4573183\ttotal: 19.1ms\tremaining: 1.89s\n",
      "1:\tlearn: 0.3956301\ttotal: 38.2ms\tremaining: 1.87s\n",
      "2:\tlearn: 0.3769076\ttotal: 60.7ms\tremaining: 1.96s\n",
      "3:\tlearn: 0.3687478\ttotal: 84.9ms\tremaining: 2.04s\n",
      "4:\tlearn: 0.3651504\ttotal: 109ms\tremaining: 2.08s\n",
      "5:\tlearn: 0.3623612\ttotal: 136ms\tremaining: 2.13s\n",
      "6:\tlearn: 0.3605683\ttotal: 160ms\tremaining: 2.13s\n",
      "7:\tlearn: 0.3578497\ttotal: 185ms\tremaining: 2.13s\n",
      "8:\tlearn: 0.3565878\ttotal: 209ms\tremaining: 2.11s\n",
      "9:\tlearn: 0.3554087\ttotal: 234ms\tremaining: 2.1s\n",
      "10:\tlearn: 0.3543774\ttotal: 263ms\tremaining: 2.13s\n",
      "11:\tlearn: 0.3533168\ttotal: 288ms\tremaining: 2.11s\n",
      "12:\tlearn: 0.3525711\ttotal: 312ms\tremaining: 2.09s\n",
      "13:\tlearn: 0.3513443\ttotal: 336ms\tremaining: 2.07s\n",
      "14:\tlearn: 0.3504766\ttotal: 356ms\tremaining: 2.02s\n",
      "15:\tlearn: 0.3498145\ttotal: 375ms\tremaining: 1.97s\n",
      "16:\tlearn: 0.3486915\ttotal: 395ms\tremaining: 1.93s\n",
      "17:\tlearn: 0.3478749\ttotal: 416ms\tremaining: 1.9s\n",
      "18:\tlearn: 0.3470966\ttotal: 437ms\tremaining: 1.86s\n",
      "19:\tlearn: 0.3467340\ttotal: 456ms\tremaining: 1.82s\n",
      "20:\tlearn: 0.3461004\ttotal: 477ms\tremaining: 1.8s\n",
      "21:\tlearn: 0.3456264\ttotal: 496ms\tremaining: 1.76s\n",
      "22:\tlearn: 0.3445560\ttotal: 514ms\tremaining: 1.72s\n",
      "23:\tlearn: 0.3438556\ttotal: 533ms\tremaining: 1.69s\n",
      "24:\tlearn: 0.3430084\ttotal: 552ms\tremaining: 1.66s\n",
      "25:\tlearn: 0.3422070\ttotal: 572ms\tremaining: 1.63s\n",
      "26:\tlearn: 0.3415650\ttotal: 591ms\tremaining: 1.6s\n",
      "27:\tlearn: 0.3409962\ttotal: 611ms\tremaining: 1.57s\n",
      "28:\tlearn: 0.3401656\ttotal: 631ms\tremaining: 1.54s\n",
      "29:\tlearn: 0.3396568\ttotal: 650ms\tremaining: 1.52s\n",
      "30:\tlearn: 0.3390603\ttotal: 670ms\tremaining: 1.49s\n",
      "31:\tlearn: 0.3385817\ttotal: 690ms\tremaining: 1.47s\n",
      "32:\tlearn: 0.3381218\ttotal: 710ms\tremaining: 1.44s\n",
      "33:\tlearn: 0.3375052\ttotal: 729ms\tremaining: 1.42s\n",
      "34:\tlearn: 0.3367617\ttotal: 751ms\tremaining: 1.39s\n",
      "35:\tlearn: 0.3361174\ttotal: 771ms\tremaining: 1.37s\n",
      "36:\tlearn: 0.3357114\ttotal: 791ms\tremaining: 1.35s\n",
      "37:\tlearn: 0.3351094\ttotal: 811ms\tremaining: 1.32s\n",
      "38:\tlearn: 0.3345709\ttotal: 832ms\tremaining: 1.3s\n",
      "39:\tlearn: 0.3340519\ttotal: 854ms\tremaining: 1.28s\n",
      "40:\tlearn: 0.3335962\ttotal: 873ms\tremaining: 1.25s\n",
      "41:\tlearn: 0.3331716\ttotal: 892ms\tremaining: 1.23s\n",
      "42:\tlearn: 0.3326918\ttotal: 912ms\tremaining: 1.21s\n",
      "43:\tlearn: 0.3322209\ttotal: 937ms\tremaining: 1.19s\n",
      "44:\tlearn: 0.3316099\ttotal: 959ms\tremaining: 1.17s\n",
      "45:\tlearn: 0.3312407\ttotal: 981ms\tremaining: 1.15s\n",
      "46:\tlearn: 0.3309523\ttotal: 1s\tremaining: 1.13s\n",
      "47:\tlearn: 0.3305001\ttotal: 1.02s\tremaining: 1.11s\n",
      "48:\tlearn: 0.3299720\ttotal: 1.05s\tremaining: 1.09s\n",
      "49:\tlearn: 0.3295637\ttotal: 1.07s\tremaining: 1.07s\n",
      "50:\tlearn: 0.3291779\ttotal: 1.09s\tremaining: 1.05s\n",
      "51:\tlearn: 0.3285511\ttotal: 1.11s\tremaining: 1.03s\n",
      "52:\tlearn: 0.3280287\ttotal: 1.14s\tremaining: 1.01s\n",
      "53:\tlearn: 0.3274742\ttotal: 1.16s\tremaining: 986ms\n",
      "54:\tlearn: 0.3269660\ttotal: 1.18s\tremaining: 963ms\n",
      "55:\tlearn: 0.3265856\ttotal: 1.2s\tremaining: 941ms\n",
      "56:\tlearn: 0.3261266\ttotal: 1.22s\tremaining: 919ms\n",
      "57:\tlearn: 0.3257292\ttotal: 1.24s\tremaining: 898ms\n",
      "58:\tlearn: 0.3253099\ttotal: 1.26s\tremaining: 877ms\n",
      "59:\tlearn: 0.3249419\ttotal: 1.28s\tremaining: 853ms\n",
      "60:\tlearn: 0.3245985\ttotal: 1.3s\tremaining: 831ms\n",
      "61:\tlearn: 0.3241506\ttotal: 1.32s\tremaining: 811ms\n",
      "62:\tlearn: 0.3237834\ttotal: 1.34s\tremaining: 789ms\n",
      "63:\tlearn: 0.3233259\ttotal: 1.36s\tremaining: 768ms\n",
      "64:\tlearn: 0.3228591\ttotal: 1.39s\tremaining: 746ms\n",
      "65:\tlearn: 0.3225234\ttotal: 1.4s\tremaining: 723ms\n",
      "66:\tlearn: 0.3222316\ttotal: 1.42s\tremaining: 701ms\n",
      "67:\tlearn: 0.3219020\ttotal: 1.44s\tremaining: 680ms\n",
      "68:\tlearn: 0.3216202\ttotal: 1.46s\tremaining: 657ms\n",
      "69:\tlearn: 0.3213542\ttotal: 1.48s\tremaining: 635ms\n",
      "70:\tlearn: 0.3208813\ttotal: 1.5s\tremaining: 613ms\n",
      "71:\tlearn: 0.3205135\ttotal: 1.52s\tremaining: 592ms\n",
      "72:\tlearn: 0.3200307\ttotal: 1.54s\tremaining: 571ms\n",
      "73:\tlearn: 0.3197984\ttotal: 1.56s\tremaining: 549ms\n",
      "74:\tlearn: 0.3193001\ttotal: 1.58s\tremaining: 527ms\n",
      "75:\tlearn: 0.3189966\ttotal: 1.6s\tremaining: 506ms\n",
      "76:\tlearn: 0.3186201\ttotal: 1.62s\tremaining: 484ms\n",
      "77:\tlearn: 0.3181814\ttotal: 1.64s\tremaining: 463ms\n",
      "78:\tlearn: 0.3176006\ttotal: 1.66s\tremaining: 441ms\n",
      "79:\tlearn: 0.3172009\ttotal: 1.68s\tremaining: 420ms\n",
      "80:\tlearn: 0.3168659\ttotal: 1.7s\tremaining: 399ms\n",
      "81:\tlearn: 0.3165652\ttotal: 1.72s\tremaining: 377ms\n",
      "82:\tlearn: 0.3162179\ttotal: 1.74s\tremaining: 357ms\n",
      "83:\tlearn: 0.3158836\ttotal: 1.76s\tremaining: 336ms\n",
      "84:\tlearn: 0.3155627\ttotal: 1.78s\tremaining: 314ms\n",
      "85:\tlearn: 0.3152184\ttotal: 1.8s\tremaining: 294ms\n",
      "86:\tlearn: 0.3148294\ttotal: 1.83s\tremaining: 273ms\n",
      "87:\tlearn: 0.3144442\ttotal: 1.85s\tremaining: 252ms\n",
      "88:\tlearn: 0.3140852\ttotal: 1.87s\tremaining: 231ms\n",
      "89:\tlearn: 0.3138215\ttotal: 1.89s\tremaining: 210ms\n",
      "90:\tlearn: 0.3134615\ttotal: 1.91s\tremaining: 189ms\n",
      "91:\tlearn: 0.3132480\ttotal: 1.93s\tremaining: 168ms\n",
      "92:\tlearn: 0.3130287\ttotal: 1.95s\tremaining: 147ms\n",
      "93:\tlearn: 0.3126314\ttotal: 1.97s\tremaining: 126ms\n",
      "94:\tlearn: 0.3122345\ttotal: 1.99s\tremaining: 105ms\n",
      "95:\tlearn: 0.3120146\ttotal: 2.01s\tremaining: 83.7ms\n",
      "96:\tlearn: 0.3116705\ttotal: 2.03s\tremaining: 62.8ms\n",
      "97:\tlearn: 0.3113113\ttotal: 2.05s\tremaining: 41.8ms\n",
      "98:\tlearn: 0.3110017\ttotal: 2.07s\tremaining: 20.9ms\n",
      "99:\tlearn: 0.3107912\ttotal: 2.09s\tremaining: 0us\n",
      "\n",
      "Accuracy: 0.8520\n",
      "F1: 0.6141\n",
      "Wall time: 2.45 s\n"
     ]
    }
   ],
   "source": [
    "%%time\n",
    "\n",
    "igbm2 = show_results(InsolverGBMWrapper(backend='catboost', task='class', n_estimators=100), x, y)"
   ]
  },
  {
   "cell_type": "code",
   "execution_count": 81,
   "metadata": {},
   "outputs": [
    {
     "name": "stdout",
     "output_type": "stream",
     "text": [
      "\n",
      "Accuracy: 0.8527\n",
      "F1: 0.6084\n",
      "Wall time: 6.77 s\n"
     ]
    }
   ],
   "source": [
    "%%time\n",
    "igbm3 = show_results(InsolverGBMWrapper(backend='xgboost', task='class', n_estimators=100), x, y)"
   ]
  },
  {
   "cell_type": "markdown",
   "metadata": {},
   "source": [
    "## SHAP feature importance\n",
    "Method for shap values calculation and corresponding plot of feature importances. \n",
    "\n",
    "SHAP (SHapley Additive exPlanations) is a game theoretic approach to explain the output of any machine learning model. It connects optimal credit allocation with local explanations using the classic Shapley values from game theory and their related extensions."
   ]
  },
  {
   "cell_type": "code",
   "execution_count": 87,
   "metadata": {},
   "outputs": [
    {
     "data": {
      "image/png": "[encoded data removed]",
      "text/plain": [
       "<Figure size 576x684 with 1 Axes>"
      ]
     },
     "metadata": {
      "needs_background": "light"
     },
     "output_type": "display_data"
    }
   ],
   "source": [
    "igbm.shap(X_test, show=True);"
   ]
  },
  {
   "cell_type": "markdown",
   "metadata": {},
   "source": [
    "## Model Comparison\n",
    "ModelMetricsCompare allows you to compare created models using your metrics."
   ]
  },
  {
   "cell_type": "code",
   "execution_count": 91,
   "metadata": {},
   "outputs": [],
   "source": [
    "mc = ModelMetricsCompare(X_test, y_test, source=[igbm, igbm2, igbm3],\n",
    "                         metrics=[accuracy_score, f1_score])"
   ]
  },
  {
   "cell_type": "code",
   "execution_count": 92,
   "metadata": {
    "scrolled": false
   },
   "outputs": [
    {
     "name": "stdout",
     "output_type": "stream",
     "text": [
      "Model comparison statistics:\n"
     ]
    },
    {
     "data": {
      "text/html": [
       "<div>\n",
       "<style scoped>\n",
       "    .dataframe tbody tr th:only-of-type {\n",
       "        vertical-align: middle;\n",
       "    }\n",
       "\n",
       "    .dataframe tbody tr th {\n",
       "        vertical-align: top;\n",
       "    }\n",
       "\n",
       "    .dataframe thead th {\n",
       "        text-align: right;\n",
       "    }\n",
       "</style>\n",
       "<table border=\"1\" class=\"dataframe\">\n",
       "  <thead>\n",
       "    <tr style=\"text-align: right;\">\n",
       "      <th></th>\n",
       "      <th>Algo</th>\n",
       "      <th>Backend</th>\n",
       "      <th>Mean</th>\n",
       "      <th>Variance</th>\n",
       "      <th>St. Dev.</th>\n",
       "      <th>Min</th>\n",
       "      <th>Q1</th>\n",
       "      <th>Median</th>\n",
       "      <th>Q3</th>\n",
       "      <th>Max</th>\n",
       "    </tr>\n",
       "  </thead>\n",
       "  <tbody>\n",
       "    <tr>\n",
       "      <th>Actual</th>\n",
       "      <td>-</td>\n",
       "      <td>-</td>\n",
       "      <td>0.224394</td>\n",
       "      <td>0.174042</td>\n",
       "      <td>0.417183</td>\n",
       "      <td>0</td>\n",
       "      <td>0.0</td>\n",
       "      <td>0.0</td>\n",
       "      <td>0.0</td>\n",
       "      <td>1</td>\n",
       "    </tr>\n",
       "    <tr>\n",
       "      <th>0</th>\n",
       "      <td>GBM</td>\n",
       "      <td>Lightgbm</td>\n",
       "      <td>0.155616</td>\n",
       "      <td>0.131400</td>\n",
       "      <td>0.362491</td>\n",
       "      <td>0</td>\n",
       "      <td>0.0</td>\n",
       "      <td>0.0</td>\n",
       "      <td>0.0</td>\n",
       "      <td>1</td>\n",
       "    </tr>\n",
       "    <tr>\n",
       "      <th>1</th>\n",
       "      <td>GBM</td>\n",
       "      <td>Catboost</td>\n",
       "      <td>0.159273</td>\n",
       "      <td>0.133905</td>\n",
       "      <td>0.365931</td>\n",
       "      <td>0</td>\n",
       "      <td>0.0</td>\n",
       "      <td>0.0</td>\n",
       "      <td>0.0</td>\n",
       "      <td>1</td>\n",
       "    </tr>\n",
       "    <tr>\n",
       "      <th>2</th>\n",
       "      <td>GBM</td>\n",
       "      <td>Xgboost</td>\n",
       "      <td>0.151790</td>\n",
       "      <td>0.128750</td>\n",
       "      <td>0.358818</td>\n",
       "      <td>0</td>\n",
       "      <td>0.0</td>\n",
       "      <td>0.0</td>\n",
       "      <td>0.0</td>\n",
       "      <td>1</td>\n",
       "    </tr>\n",
       "  </tbody>\n",
       "</table>\n",
       "</div>"
      ],
      "text/plain": [
       "       Algo   Backend      Mean  Variance  St. Dev.  Min   Q1  Median   Q3  \\\n",
       "Actual    -         -  0.224394  0.174042  0.417183    0  0.0     0.0  0.0   \n",
       "0       GBM  Lightgbm  0.155616  0.131400  0.362491    0  0.0     0.0  0.0   \n",
       "1       GBM  Catboost  0.159273  0.133905  0.365931    0  0.0     0.0  0.0   \n",
       "2       GBM   Xgboost  0.151790  0.128750  0.358818    0  0.0     0.0  0.0   \n",
       "\n",
       "        Max  \n",
       "Actual    1  \n",
       "0         1  \n",
       "1         1  \n",
       "2         1  "
      ]
     },
     "metadata": {},
     "output_type": "display_data"
    },
    {
     "name": "stdout",
     "output_type": "stream",
     "text": [
      "\n",
      "Models comparison metrics:\n"
     ]
    },
    {
     "data": {
      "text/html": [
       "<div>\n",
       "<style scoped>\n",
       "    .dataframe tbody tr th:only-of-type {\n",
       "        vertical-align: middle;\n",
       "    }\n",
       "\n",
       "    .dataframe tbody tr th {\n",
       "        vertical-align: top;\n",
       "    }\n",
       "\n",
       "    .dataframe thead th {\n",
       "        text-align: right;\n",
       "    }\n",
       "</style>\n",
       "<table border=\"1\" class=\"dataframe\">\n",
       "  <thead>\n",
       "    <tr style=\"text-align: right;\">\n",
       "      <th></th>\n",
       "      <th>Algo</th>\n",
       "      <th>Backend</th>\n",
       "      <th>accuracy score</th>\n",
       "      <th>f1 score</th>\n",
       "    </tr>\n",
       "  </thead>\n",
       "  <tbody>\n",
       "    <tr>\n",
       "      <th>0</th>\n",
       "      <td>GBM</td>\n",
       "      <td>Lightgbm</td>\n",
       "      <td>0.852513</td>\n",
       "      <td>0.611888</td>\n",
       "    </tr>\n",
       "    <tr>\n",
       "      <th>1</th>\n",
       "      <td>GBM</td>\n",
       "      <td>Catboost</td>\n",
       "      <td>0.851951</td>\n",
       "      <td>0.614121</td>\n",
       "    </tr>\n",
       "    <tr>\n",
       "      <th>2</th>\n",
       "      <td>GBM</td>\n",
       "      <td>Xgboost</td>\n",
       "      <td>0.852682</td>\n",
       "      <td>0.608390</td>\n",
       "    </tr>\n",
       "  </tbody>\n",
       "</table>\n",
       "</div>"
      ],
      "text/plain": [
       "  Algo   Backend  accuracy score  f1 score\n",
       "0  GBM  Lightgbm        0.852513  0.611888\n",
       "1  GBM  Catboost        0.851951  0.614121\n",
       "2  GBM   Xgboost        0.852682  0.608390"
      ]
     },
     "metadata": {},
     "output_type": "display_data"
    },
    {
     "data": {
      "text/plain": []
     },
     "execution_count": 92,
     "metadata": {},
     "output_type": "execute_result"
    }
   ],
   "source": [
    "mc"
   ]
  }
 ],
 "metadata": {
  "kernelspec": {
   "display_name": "Python 3",
   "language": "python",
   "name": "python3"
  },
  "language_info": {
   "codemirror_mode": {
    "name": "ipython",
    "version": 3
   },
   "file_extension": ".py",
   "mimetype": "text/x-python",
   "name": "python",
   "nbconvert_exporter": "python",
   "pygments_lexer": "ipython3",
   "version": "3.7.4"
  },
  "toc": {
   "base_numbering": 1,
   "nav_menu": {},
   "number_sections": false,
   "sideBar": true,
   "skip_h1_title": false,
   "title_cell": "Table of Contents",
   "title_sidebar": "Contents",
   "toc_cell": false,
   "toc_position": {
    "height": "calc(100% - 180px)",
    "left": "10px",
    "top": "150px",
    "width": "384px"
   },
   "toc_section_display": true,
   "toc_window_display": false
  }
 },
 "nbformat": 4,
 "nbformat_minor": 2
}
