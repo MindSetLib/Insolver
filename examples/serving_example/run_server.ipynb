{
 "cells": [
  {
   "cell_type": "markdown",
   "metadata": {},
   "source": [
    "# Run ML server "
   ]
  },
  {
   "cell_type": "code",
   "execution_count": null,
   "metadata": {},
   "outputs": [
    {
     "name": "stdout",
     "output_type": "stream",
     "text": [
      "[2021-01-14 12:08:59 +0300] [205522] [INFO] Starting gunicorn 20.0.4\n",
      "[2021-01-14 12:08:59 +0300] [205522] [INFO] Listening at: http://127.0.0.10:5000 (205522)\n",
      "[2021-01-14 12:08:59 +0300] [205522] [INFO] Using worker: uvicorn.workers.UvicornWorker\n",
      "[2021-01-14 12:08:59 +0300] [205524] [INFO] Booting worker with pid: 205524\n",
      "[2021-01-14 12:09:08 +0300] [205524] [INFO] Started server process [205524]\n",
      "[2021-01-14 12:09:08 +0300] [205524] [INFO] Waiting for application startup.\n",
      "[2021-01-14 12:09:08 +0300] [205524] [INFO] Application startup complete.\n"
     ]
    }
   ],
   "source": [
    "!insolver_serving -model insolver_glm_h2o_1610467176142 -transforms transforms.pkl -service fastapi -ip 127.0.0.10 -port 5000"
   ]
  },
  {
   "cell_type": "code",
   "execution_count": null,
   "metadata": {},
   "outputs": [],
   "source": []
  }
 ],
 "metadata": {
  "kernelspec": {
   "display_name": "Python 3",
   "language": "python",
   "name": "python3"
  },
  "language_info": {
   "codemirror_mode": {
    "name": "ipython",
    "version": 3
   },
   "file_extension": ".py",
   "mimetype": "text/x-python",
   "name": "python",
   "nbconvert_exporter": "python",
   "pygments_lexer": "ipython3",
   "version": "3.8.5"
  }
 },
 "nbformat": 4,
 "nbformat_minor": 4
}
