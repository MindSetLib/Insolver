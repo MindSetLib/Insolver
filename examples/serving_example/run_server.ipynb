{
 "cells": [
  {
   "cell_type": "markdown",
   "metadata": {},
   "source": [
    "# Run ML server "
   ]
  },
  {
   "cell_type": "markdown",
   "metadata": {},
   "source": [
    "Serving runs under Linux. It will not work under Windows."
   ]
  },
  {
   "cell_type": "code",
   "execution_count": 1,
   "metadata": {},
   "outputs": [
    {
     "name": "stdout",
     "output_type": "stream",
     "text": [
      "2021-12-07 17:58:53.408504: I tensorflow/stream_executor/platform/default/dso_loader.cc:49] Successfully opened dynamic library libcudart.so.10.1\n",
      "insolver_glm_h2o_1610467176142\n",
      "transforms.pkl\n",
      "[2021-12-07 17:58:56 +0000] [5779] [INFO] Starting gunicorn 20.0.4\n",
      "[2021-12-07 17:58:56 +0000] [5779] [INFO] Listening at: http://127.0.0.10:5000 (5779)\n",
      "[2021-12-07 17:58:56 +0000] [5779] [INFO] Using worker: uvicorn.workers.UvicornWorker\n",
      "[2021-12-07 17:58:56 +0000] [5781] [INFO] Booting worker with pid: 5781\n",
      "2021-12-07 17:59:00.015499: I tensorflow/stream_executor/platform/default/dso_loader.cc:49] Successfully opened dynamic library libcudart.so.10.1\n",
      "[2021-12-07 17:59:03 +0000] [5781] [INFO] Started server process [5781]\n",
      "[2021-12-07 17:59:03 +0000] [5781] [INFO] Waiting for application startup.\n",
      "[2021-12-07 17:59:03 +0000] [5781] [INFO] Application startup complete.\n",
      "\u001b[0m"
     ]
    }
   ],
   "source": [
    "!insolver_serving -model insolver_glm_h2o_1610467176142 -transforms transforms.pkl -service fastapi -ip 127.0.0.10 -port 5000"
   ]
  }
 ],
 "metadata": {
  "kernelspec": {
   "display_name": "Python 3",
   "language": "python",
   "name": "python3"
  },
  "language_info": {
   "codemirror_mode": {
    "name": "ipython",
    "version": 3
   },
   "file_extension": ".py",
   "mimetype": "text/x-python",
   "name": "python",
   "nbconvert_exporter": "python",
   "pygments_lexer": "ipython3",
   "version": "3.8.10"
  }
 },
 "nbformat": 4,
 "nbformat_minor": 4
}
