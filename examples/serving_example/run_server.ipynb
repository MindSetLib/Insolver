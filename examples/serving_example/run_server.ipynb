{
 "cells": [
  {
   "cell_type": "markdown",
   "metadata": {},
   "source": [
    "# Run ML server "
   ]
  },
  {
   "cell_type": "code",
   "execution_count": null,
   "metadata": {},
   "outputs": [
    {
     "name": "stdout",
     "output_type": "stream",
     "text": [
      "[2021-01-13 17:11:02 +0300] [143397] [INFO] Starting gunicorn 20.0.4\n",
      "[2021-01-13 17:11:02 +0300] [143397] [INFO] Listening at: http://0.0.0.0:8000 (143397)\n",
      "[2021-01-13 17:11:02 +0300] [143397] [INFO] Using worker: uvicorn.workers.UvicornWorker\n",
      "[2021-01-13 17:11:02 +0300] [143399] [INFO] Booting worker with pid: 143399\n",
      "[2021-01-13 17:11:10 +0300] [143399] [INFO] Started server process [143399]\n",
      "[2021-01-13 17:11:10 +0300] [143399] [INFO] Waiting for application startup.\n",
      "[2021-01-13 17:11:10 +0300] [143399] [INFO] Application startup complete.\n"
     ]
    }
   ],
   "source": [
    "!insolver_serving -model insolver_glm_h2o_1610467176142 -transforms transforms.pkl -service fastapi"
   ]
  },
  {
   "cell_type": "code",
   "execution_count": null,
   "metadata": {},
   "outputs": [],
   "source": []
  }
 ],
 "metadata": {
  "kernelspec": {
   "display_name": "Python 3",
   "language": "python",
   "name": "python3"
  },
  "language_info": {
   "codemirror_mode": {
    "name": "ipython",
    "version": 3
   },
   "file_extension": ".py",
   "mimetype": "text/x-python",
   "name": "python",
   "nbconvert_exporter": "python",
   "pygments_lexer": "ipython3",
   "version": "3.8.5"
  }
 },
 "nbformat": 4,
 "nbformat_minor": 4
}
