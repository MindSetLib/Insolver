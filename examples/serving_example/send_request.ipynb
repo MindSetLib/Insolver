{
 "cells": [
  {
   "cell_type": "markdown",
   "metadata": {},
   "source": [
    "# Request example to ML server"
   ]
  },
  {
   "cell_type": "code",
   "execution_count": 1,
   "metadata": {},
   "outputs": [],
   "source": [
    "import json\n",
    "import requests\n",
    "import pandas as pd\n",
    "\n",
    "from insolver import InsolverDataFrame\n",
    "from insolver.model_tools import download_dataset"
   ]
  },
  {
   "cell_type": "code",
   "execution_count": 2,
   "metadata": {},
   "outputs": [],
   "source": [
    "download_dataset('US_Accidents')\n",
    "df = pd.read_csv('./datasets/US_Accidents_June20.csv', low_memory=False)\n",
    "InsDataFrame = InsolverDataFrame(df)"
   ]
  },
  {
   "cell_type": "code",
   "execution_count": 3,
   "metadata": {},
   "outputs": [
    {
     "data": {
      "text/plain": [
       "{'df': {'ID': {'0': 'A-1'},\n",
       "  'Source': {'0': 'MapQuest'},\n",
       "  'TMC': {'0': 201.0},\n",
       "  'Severity': {'0': 3},\n",
       "  'Start_Time': {'0': '2016-02-08 05:46:00'},\n",
       "  'End_Time': {'0': '2016-02-08 11:00:00'},\n",
       "  'Start_Lat': {'0': 39.865147},\n",
       "  'Start_Lng': {'0': -84.058723},\n",
       "  'End_Lat': {'0': None},\n",
       "  'End_Lng': {'0': None},\n",
       "  'Distance(mi)': {'0': 0.01},\n",
       "  'Description': {'0': 'Right lane blocked due to accident on I-70 Eastbound at Exit 41 OH-235 State Route 4.'},\n",
       "  'Number': {'0': None},\n",
       "  'Street': {'0': 'I-70 E'},\n",
       "  'Side': {'0': 'R'},\n",
       "  'City': {'0': 'Dayton'},\n",
       "  'County': {'0': 'Montgomery'},\n",
       "  'State': {'0': 'OH'},\n",
       "  'Zipcode': {'0': '45424'},\n",
       "  'Country': {'0': 'US'},\n",
       "  'Timezone': {'0': 'US/Eastern'},\n",
       "  'Airport_Code': {'0': 'KFFO'},\n",
       "  'Weather_Timestamp': {'0': '2016-02-08 05:58:00'},\n",
       "  'Temperature(F)': {'0': 36.9},\n",
       "  'Wind_Chill(F)': {'0': None},\n",
       "  'Humidity(%)': {'0': 91.0},\n",
       "  'Pressure(in)': {'0': 29.68},\n",
       "  'Visibility(mi)': {'0': 10.0},\n",
       "  'Wind_Direction': {'0': 'Calm'},\n",
       "  'Wind_Speed(mph)': {'0': None},\n",
       "  'Precipitation(in)': {'0': 0.02},\n",
       "  'Weather_Condition': {'0': 'Light Rain'},\n",
       "  'Amenity': {'0': False},\n",
       "  'Bump': {'0': False},\n",
       "  'Crossing': {'0': False},\n",
       "  'Give_Way': {'0': False},\n",
       "  'Junction': {'0': False},\n",
       "  'No_Exit': {'0': False},\n",
       "  'Railway': {'0': False},\n",
       "  'Roundabout': {'0': False},\n",
       "  'Station': {'0': False},\n",
       "  'Stop': {'0': False},\n",
       "  'Traffic_Calming': {'0': False},\n",
       "  'Traffic_Signal': {'0': False},\n",
       "  'Turning_Loop': {'0': False},\n",
       "  'Sunrise_Sunset': {'0': 'Night'},\n",
       "  'Civil_Twilight': {'0': 'Night'},\n",
       "  'Nautical_Twilight': {'0': 'Night'},\n",
       "  'Astronomical_Twilight': {'0': 'Night'}}}"
      ]
     },
     "execution_count": 3,
     "metadata": {},
     "output_type": "execute_result"
    }
   ],
   "source": [
    "# request_data = InsDataFrame.sample_request() # if we need random sample request\n",
    "request_data = {'df': json.loads(InsDataFrame.iloc[[0]].to_json())} # if we need fixed request\n",
    "request_data"
   ]
  },
  {
   "cell_type": "code",
   "execution_count": 4,
   "metadata": {},
   "outputs": [],
   "source": [
    "ip = '127.0.0.10'\n",
    "port = 5000\n",
    "response = requests.post(f'http://{ip}:{port}/predict', json=request_data)"
   ]
  },
  {
   "cell_type": "code",
   "execution_count": 5,
   "metadata": {},
   "outputs": [
    {
     "data": {
      "text/plain": [
       "{'predicted': [1252.3979838884422]}"
      ]
     },
     "execution_count": 6,
     "metadata": {},
     "output_type": "execute_result"
    }
   ],
   "source": [
    "response.json()"
   ]
  }
 ],
 "metadata": {
  "kernelspec": {
   "display_name": "Python 3",
   "language": "python",
   "name": "python3"
  },
  "language_info": {
   "codemirror_mode": {
    "name": "ipython",
    "version": 3
   },
   "file_extension": ".py",
   "mimetype": "text/x-python",
   "name": "python",
   "nbconvert_exporter": "python",
   "pygments_lexer": "ipython3",
   "version": "3.8.10"
  }
 },
 "nbformat": 4,
 "nbformat_minor": 4
}
