{
 "cells": [
  {
   "cell_type": "markdown",
   "metadata": {},
   "source": [
    "# Request example to ML server"
   ]
  },
  {
   "cell_type": "code",
   "execution_count": 1,
   "metadata": {},
   "outputs": [],
   "source": [
    "import json\n",
    "import requests\n",
    "import pandas as pd\n",
    "\n",
    "from insolver import InsolverDataFrame\n",
    "from insolver.model_tools import download_dataset"
   ]
  },
  {
   "cell_type": "code",
   "execution_count": 2,
   "metadata": {},
   "outputs": [],
   "source": [
    "download_dataset('US_Accidents')\n",
    "df = pd.read_csv('./datasets/US_Accidents_June20.csv', low_memory=False)\n",
    "InsDataFrame = InsolverDataFrame(df)"
   ]
  },
  {
   "cell_type": "code",
   "execution_count": 3,
   "metadata": {},
   "outputs": [
    {
     "data": {
      "text/plain": [
       "{'df': {'ID': 'A-1',\n",
       "  'Source': 'MapQuest',\n",
       "  'TMC': 201.0,\n",
       "  'Severity': 3,\n",
       "  'Start_Time': '2016-02-08 05:46:00',\n",
       "  'End_Time': '2016-02-08 11:00:00',\n",
       "  'Start_Lat': 39.865147,\n",
       "  'Start_Lng': -84.058723,\n",
       "  'End_Lat': None,\n",
       "  'End_Lng': None,\n",
       "  'Distance(mi)': 0.01,\n",
       "  'Description': 'Right lane blocked due to accident on I-70 Eastbound at Exit 41 OH-235 State Route 4.',\n",
       "  'Number': None,\n",
       "  'Street': 'I-70 E',\n",
       "  'Side': 'R',\n",
       "  'City': 'Dayton',\n",
       "  'County': 'Montgomery',\n",
       "  'State': 'OH',\n",
       "  'Zipcode': '45424',\n",
       "  'Country': 'US',\n",
       "  'Timezone': 'US/Eastern',\n",
       "  'Airport_Code': 'KFFO',\n",
       "  'Weather_Timestamp': '2016-02-08 05:58:00',\n",
       "  'Temperature(F)': 36.9,\n",
       "  'Wind_Chill(F)': None,\n",
       "  'Humidity(%)': 91.0,\n",
       "  'Pressure(in)': 29.68,\n",
       "  'Visibility(mi)': 10.0,\n",
       "  'Wind_Direction': 'Calm',\n",
       "  'Wind_Speed(mph)': None,\n",
       "  'Precipitation(in)': 0.02,\n",
       "  'Weather_Condition': 'Light Rain',\n",
       "  'Amenity': False,\n",
       "  'Bump': False,\n",
       "  'Crossing': False,\n",
       "  'Give_Way': False,\n",
       "  'Junction': False,\n",
       "  'No_Exit': False,\n",
       "  'Railway': False,\n",
       "  'Roundabout': False,\n",
       "  'Station': False,\n",
       "  'Stop': False,\n",
       "  'Traffic_Calming': False,\n",
       "  'Traffic_Signal': False,\n",
       "  'Turning_Loop': False,\n",
       "  'Sunrise_Sunset': 'Night',\n",
       "  'Civil_Twilight': 'Night',\n",
       "  'Nautical_Twilight': 'Night',\n",
       "  'Astronomical_Twilight': 'Night'}}"
      ]
     },
     "execution_count": 3,
     "metadata": {},
     "output_type": "execute_result"
    }
   ],
   "source": [
    "# request_data = InsDataFrame.sample_request() # if we need random sample request\n",
    "request_data = {'df': json.loads(InsDataFrame.iloc[0].to_json())}  # if we need fixed request\n",
    "request_data"
   ]
  },
  {
   "cell_type": "code",
   "execution_count": 4,
   "metadata": {},
   "outputs": [],
   "source": [
    "ip = '127.0.0.10'\n",
    "port = 5000\n",
    "response = requests.post(f'http://{ip}:{port}/predict', json=request_data)"
   ]
  },
  {
   "cell_type": "code",
   "execution_count": 5,
   "metadata": {},
   "outputs": [
    {
     "data": {
      "text/plain": [
       "{'predicted': [1252.3979838884422]}"
      ]
     },
     "execution_count": 6,
     "metadata": {},
     "output_type": "execute_result"
    }
   ],
   "source": [
    "response.json()"
   ]
  }
 ],
 "metadata": {
  "kernelspec": {
   "display_name": "Python 3 (ipykernel)",
   "language": "python",
   "name": "python3"
  },
  "language_info": {
   "codemirror_mode": {
    "name": "ipython",
    "version": 3
   },
   "file_extension": ".py",
   "mimetype": "text/x-python",
   "name": "python",
   "nbconvert_exporter": "python",
   "pygments_lexer": "ipython3",
   "version": "3.9.6"
  }
 },
 "nbformat": 4,
 "nbformat_minor": 4
}
