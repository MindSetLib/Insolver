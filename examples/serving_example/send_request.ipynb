{
 "cells": [
  {
   "cell_type": "markdown",
   "metadata": {},
   "source": [
    "# Request example to ML server"
   ]
  },
  {
   "cell_type": "code",
   "execution_count": 1,
   "metadata": {},
   "outputs": [],
   "source": [
    "import requests"
   ]
  },
  {
   "cell_type": "code",
   "execution_count": 2,
   "metadata": {},
   "outputs": [],
   "source": [
    "request_json = {\n",
    "    \"df\": {\n",
    "        \"Temperature(F)\": {\n",
    "            \"755001\": 52\n",
    "        },\n",
    "        \"Humidity(%)\": {\n",
    "            \"755001\": 44\n",
    "        },\n",
    "        \"Pressure(in)\": {\n",
    "            \"755001\": 29.71\n",
    "        },\n",
    "        \"Visibility(mi)\": {\n",
    "            \"755001\": 10\n",
    "        },\n",
    "        \"Wind_Direction\": {\n",
    "            \"755001\": \"NNW\"\n",
    "        },\n",
    "        \"Wind_Speed(mph)\": {\n",
    "            \"755001\": 5\n",
    "        },\n",
    "        \"Weather_Condition\": {\n",
    "            \"755001\": \"Partly Cloudy\"\n",
    "        },\n",
    "        \"Amenity\": {\n",
    "            \"755001\": 0\n",
    "        },\n",
    "        \"Bump\": {\n",
    "            \"755001\": 0\n",
    "        },\n",
    "        \"Crossing\": {\n",
    "            \"755001\": 0\n",
    "        },\n",
    "        \"Give_Way\": {\n",
    "            \"755001\": 0\n",
    "        },\n",
    "        \"Junction\": {\n",
    "            \"755001\": 0\n",
    "        },\n",
    "        \"No_Exit\": {\n",
    "            \"755001\": 0\n",
    "        },\n",
    "        \"Railway\": {\n",
    "            \"755001\": 0\n",
    "        },\n",
    "        \"Roundabout\": {\n",
    "            \"755001\": 0\n",
    "        },\n",
    "        \"Station\": {\n",
    "            \"755001\": 0\n",
    "        },\n",
    "        \"Stop\": {\n",
    "            \"755001\": 0\n",
    "        },\n",
    "        \"Traffic_Calming\": {\n",
    "            \"755001\": 0\n",
    "        },\n",
    "        \"Traffic_Signal\": {\n",
    "            \"755001\": 0\n",
    "        },\n",
    "        \"Turning_Loop\": {\n",
    "            \"755001\": 0\n",
    "        },\n",
    "        \"Sunrise_Sunset\": {\n",
    "            \"755001\": \"Day\"\n",
    "        },\n",
    "        \"Civil_Twilight\": {\n",
    "            \"755001\": \"Day\"\n",
    "        },\n",
    "        \"Nautical_Twilight\": {\n",
    "            \"755001\": \"Day\"\n",
    "        },\n",
    "        \"Astronomical_Twilight\": {\n",
    "            \"755001\": \"Day\"\n",
    "        }\n",
    "    }\n",
    "}"
   ]
  },
  {
   "cell_type": "code",
   "execution_count": 3,
   "metadata": {},
   "outputs": [],
   "source": [
    "ip = '127.0.0.10'\n",
    "port = 5000\n",
    "response = requests.post(f'http://{ip}:{port}/predict', json=request_json)"
   ]
  },
  {
   "cell_type": "code",
   "execution_count": 4,
   "metadata": {},
   "outputs": [
    {
     "data": {
      "text/plain": [
       "{'predicted': [1252.3979838884422]}"
      ]
     },
     "execution_count": 4,
     "metadata": {},
     "output_type": "execute_result"
    }
   ],
   "source": [
    "response.json()"
   ]
  },
  {
   "cell_type": "code",
   "execution_count": null,
   "metadata": {},
   "outputs": [],
   "source": []
  }
 ],
 "metadata": {
  "kernelspec": {
   "display_name": "Python 3",
   "language": "python",
   "name": "python3"
  },
  "language_info": {
   "codemirror_mode": {
    "name": "ipython",
    "version": 3
   },
   "file_extension": ".py",
   "mimetype": "text/x-python",
   "name": "python",
   "nbconvert_exporter": "python",
   "pygments_lexer": "ipython3",
   "version": "3.8.5"
  }
 },
 "nbformat": 4,
 "nbformat_minor": 4
}
