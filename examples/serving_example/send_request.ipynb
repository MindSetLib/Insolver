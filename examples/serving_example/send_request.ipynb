{
 "cells": [
  {
   "cell_type": "markdown",
   "metadata": {},
   "source": [
    "# Request example to ML server"
   ]
  },
  {
   "cell_type": "code",
   "execution_count": 1,
   "metadata": {},
   "outputs": [],
   "source": [
    "import requests\n",
    "import pandas as pd\n",
    "\n",
    "from insolver import InsolverDataFrame"
   ]
  },
  {
   "cell_type": "code",
   "execution_count": 2,
   "metadata": {},
   "outputs": [],
   "source": [
    "df = pd.read_csv('../datasets/US_Accidents_June20.csv', low_memory=False)\n",
    "InsDataFrame = InsolverDataFrame(df)"
   ]
  },
  {
   "cell_type": "code",
   "execution_count": 3,
   "metadata": {},
   "outputs": [
    {
     "data": {
      "text/plain": [
       "{'df': {'ID': {'713016': 'A-713038'},\n",
       "  'Source': {'713016': 'MapQuest-Bing'},\n",
       "  'TMC': {'713016': 201.0},\n",
       "  'Severity': {'713016': 2},\n",
       "  'Start_Time': {'713016': '2020-02-13 09:13:53'},\n",
       "  'End_Time': {'713016': '2020-02-13 10:42:18'},\n",
       "  'Start_Lat': {'713016': 45.037285},\n",
       "  'Start_Lng': {'713016': -93.017372},\n",
       "  'End_Lat': {'713016': None},\n",
       "  'End_Lng': {'713016': None},\n",
       "  'Distance(mi)': {'713016': 0.0},\n",
       "  'Description': {'713016': 'Accident on I-694 Eastbound at Exit 50 CR-65 White Bear Ave.'},\n",
       "  'Number': {'713016': None},\n",
       "  'Street': {'713016': 'I-694 W'},\n",
       "  'Side': {'713016': 'R'},\n",
       "  'City': {'713016': 'Saint Paul'},\n",
       "  'County': {'713016': 'Ramsey'},\n",
       "  'State': {'713016': 'MN'},\n",
       "  'Zipcode': {'713016': '55110'},\n",
       "  'Country': {'713016': 'US'},\n",
       "  'Timezone': {'713016': 'US/Central'},\n",
       "  'Airport_Code': {'713016': 'K21D'},\n",
       "  'Weather_Timestamp': {'713016': '2020-02-13 09:15:00'},\n",
       "  'Temperature(F)': {'713016': -9.0},\n",
       "  'Wind_Chill(F)': {'713016': -26.0},\n",
       "  'Humidity(%)': {'713016': 59.0},\n",
       "  'Pressure(in)': {'713016': 29.37},\n",
       "  'Visibility(mi)': {'713016': 10.0},\n",
       "  'Wind_Direction': {'713016': 'NNW'},\n",
       "  'Wind_Speed(mph)': {'713016': 8.0},\n",
       "  'Precipitation(in)': {'713016': 0.0},\n",
       "  'Weather_Condition': {'713016': 'Fair'},\n",
       "  'Amenity': {'713016': False},\n",
       "  'Bump': {'713016': False},\n",
       "  'Crossing': {'713016': False},\n",
       "  'Give_Way': {'713016': False},\n",
       "  'Junction': {'713016': False},\n",
       "  'No_Exit': {'713016': False},\n",
       "  'Railway': {'713016': False},\n",
       "  'Roundabout': {'713016': False},\n",
       "  'Station': {'713016': False},\n",
       "  'Stop': {'713016': False},\n",
       "  'Traffic_Calming': {'713016': False},\n",
       "  'Traffic_Signal': {'713016': False},\n",
       "  'Turning_Loop': {'713016': False},\n",
       "  'Sunrise_Sunset': {'713016': 'Day'},\n",
       "  'Civil_Twilight': {'713016': 'Day'},\n",
       "  'Nautical_Twilight': {'713016': 'Day'},\n",
       "  'Astronomical_Twilight': {'713016': 'Day'}}}"
      ]
     },
     "execution_count": 3,
     "metadata": {},
     "output_type": "execute_result"
    }
   ],
   "source": [
    "request_data = InsDataFrame.sample_request()\n",
    "request_data"
   ]
  },
  {
   "cell_type": "code",
   "execution_count": 4,
   "metadata": {},
   "outputs": [],
   "source": [
    "ip = '127.0.0.10'\n",
    "port = 5000\n",
    "response = requests.post(f'http://{ip}:{port}/predict', json=request_data)"
   ]
  },
  {
   "cell_type": "code",
   "execution_count": 5,
   "metadata": {},
   "outputs": [
    {
     "data": {
      "text/plain": [
       "{'predicted': [1252.3979838884422]}"
      ]
     },
     "execution_count": 5,
     "metadata": {},
     "output_type": "execute_result"
    }
   ],
   "source": [
    "response.json()"
   ]
  },
  {
   "cell_type": "code",
   "execution_count": null,
   "metadata": {},
   "outputs": [],
   "source": []
  }
 ],
 "metadata": {
  "kernelspec": {
   "display_name": "Python 3",
   "language": "python",
   "name": "python3"
  },
  "language_info": {
   "codemirror_mode": {
    "name": "ipython",
    "version": 3
   },
   "file_extension": ".py",
   "mimetype": "text/x-python",
   "name": "python",
   "nbconvert_exporter": "python",
   "pygments_lexer": "ipython3",
   "version": "3.8.5"
  }
 },
 "nbformat": 4,
 "nbformat_minor": 4
}
